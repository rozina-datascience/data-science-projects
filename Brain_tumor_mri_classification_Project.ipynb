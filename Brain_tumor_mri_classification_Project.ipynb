{
  "nbformat": 4,
  "nbformat_minor": 0,
  "metadata": {
    "colab": {
      "provenance": []
    },
    "kernelspec": {
      "name": "python3",
      "display_name": "Python 3"
    },
    "language_info": {
      "name": "python"
    }
  },
  "cells": [
    {
      "cell_type": "markdown",
      "source": [
        "GitHub Repository link:\n",
        "https://github.com/rozina-datascience/Brain-tumor-mri-classification\n",
        "\n",
        "GitHub Profile link:\n",
        "https://github.com/rozina-datascience\n"
      ],
      "metadata": {
        "id": "Ywzy84BIuBIM"
      }
    },
    {
      "cell_type": "markdown",
      "source": [
        "# ✅ Deliverables Summary\n",
        "\n",
        "| Deliverable     | Description                                    |\n",
        "| --------------- | ---------------------------------------------- |\n",
        "| ✅ `.h5` models  | `best_custom_cnn.h5`, `best_transfer_model.h5` |\n",
        "| ✅ Streamlit App | `app.py`                                       |\n",
        "| ✅ Python Code   | All below steps                                |\n",
        "| ✅ Evaluation    | Accuracy, loss, plots                          |\n",
        "| ✅ GitHub        | Upload all code + README                       |\n",
        "| ✅ Modular Code  | Well-commented & clean                         |\n"
      ],
      "metadata": {
        "id": "7GtTytxhxZBz"
      }
    },
    {
      "cell_type": "code",
      "source": [
        "!pip install streamlit\n",
        "!pip install tensorflow"
      ],
      "metadata": {
        "colab": {
          "base_uri": "https://localhost:8080/"
        },
        "id": "xc2YxjTTJoxw",
        "outputId": "2b2a2b55-a61e-449a-8de5-ecb029698025"
      },
      "execution_count": 46,
      "outputs": [
        {
          "output_type": "stream",
          "name": "stdout",
          "text": [
            "Requirement already satisfied: streamlit in /usr/local/lib/python3.11/dist-packages (1.47.0)\n",
            "Requirement already satisfied: altair<6,>=4.0 in /usr/local/lib/python3.11/dist-packages (from streamlit) (5.5.0)\n",
            "Requirement already satisfied: blinker<2,>=1.5.0 in /usr/local/lib/python3.11/dist-packages (from streamlit) (1.9.0)\n",
            "Requirement already satisfied: cachetools<7,>=4.0 in /usr/local/lib/python3.11/dist-packages (from streamlit) (5.5.2)\n",
            "Requirement already satisfied: click<9,>=7.0 in /usr/local/lib/python3.11/dist-packages (from streamlit) (8.2.1)\n",
            "Requirement already satisfied: numpy<3,>=1.23 in /usr/local/lib/python3.11/dist-packages (from streamlit) (2.0.2)\n",
            "Requirement already satisfied: packaging<26,>=20 in /usr/local/lib/python3.11/dist-packages (from streamlit) (25.0)\n",
            "Requirement already satisfied: pandas<3,>=1.4.0 in /usr/local/lib/python3.11/dist-packages (from streamlit) (2.2.2)\n",
            "Requirement already satisfied: pillow<12,>=7.1.0 in /usr/local/lib/python3.11/dist-packages (from streamlit) (11.3.0)\n",
            "Requirement already satisfied: protobuf<7,>=3.20 in /usr/local/lib/python3.11/dist-packages (from streamlit) (5.29.5)\n",
            "Requirement already satisfied: pyarrow>=7.0 in /usr/local/lib/python3.11/dist-packages (from streamlit) (18.1.0)\n",
            "Requirement already satisfied: requests<3,>=2.27 in /usr/local/lib/python3.11/dist-packages (from streamlit) (2.32.3)\n",
            "Requirement already satisfied: tenacity<10,>=8.1.0 in /usr/local/lib/python3.11/dist-packages (from streamlit) (8.5.0)\n",
            "Requirement already satisfied: toml<2,>=0.10.1 in /usr/local/lib/python3.11/dist-packages (from streamlit) (0.10.2)\n",
            "Requirement already satisfied: typing-extensions<5,>=4.4.0 in /usr/local/lib/python3.11/dist-packages (from streamlit) (4.14.1)\n",
            "Requirement already satisfied: watchdog<7,>=2.1.5 in /usr/local/lib/python3.11/dist-packages (from streamlit) (6.0.0)\n",
            "Requirement already satisfied: gitpython!=3.1.19,<4,>=3.0.7 in /usr/local/lib/python3.11/dist-packages (from streamlit) (3.1.44)\n",
            "Requirement already satisfied: pydeck<1,>=0.8.0b4 in /usr/local/lib/python3.11/dist-packages (from streamlit) (0.9.1)\n",
            "Requirement already satisfied: tornado!=6.5.0,<7,>=6.0.3 in /usr/local/lib/python3.11/dist-packages (from streamlit) (6.4.2)\n",
            "Requirement already satisfied: jinja2 in /usr/local/lib/python3.11/dist-packages (from altair<6,>=4.0->streamlit) (3.1.6)\n",
            "Requirement already satisfied: jsonschema>=3.0 in /usr/local/lib/python3.11/dist-packages (from altair<6,>=4.0->streamlit) (4.25.0)\n",
            "Requirement already satisfied: narwhals>=1.14.2 in /usr/local/lib/python3.11/dist-packages (from altair<6,>=4.0->streamlit) (1.48.0)\n",
            "Requirement already satisfied: gitdb<5,>=4.0.1 in /usr/local/lib/python3.11/dist-packages (from gitpython!=3.1.19,<4,>=3.0.7->streamlit) (4.0.12)\n",
            "Requirement already satisfied: python-dateutil>=2.8.2 in /usr/local/lib/python3.11/dist-packages (from pandas<3,>=1.4.0->streamlit) (2.9.0.post0)\n",
            "Requirement already satisfied: pytz>=2020.1 in /usr/local/lib/python3.11/dist-packages (from pandas<3,>=1.4.0->streamlit) (2025.2)\n",
            "Requirement already satisfied: tzdata>=2022.7 in /usr/local/lib/python3.11/dist-packages (from pandas<3,>=1.4.0->streamlit) (2025.2)\n",
            "Requirement already satisfied: charset-normalizer<4,>=2 in /usr/local/lib/python3.11/dist-packages (from requests<3,>=2.27->streamlit) (3.4.2)\n",
            "Requirement already satisfied: idna<4,>=2.5 in /usr/local/lib/python3.11/dist-packages (from requests<3,>=2.27->streamlit) (3.10)\n",
            "Requirement already satisfied: urllib3<3,>=1.21.1 in /usr/local/lib/python3.11/dist-packages (from requests<3,>=2.27->streamlit) (2.5.0)\n",
            "Requirement already satisfied: certifi>=2017.4.17 in /usr/local/lib/python3.11/dist-packages (from requests<3,>=2.27->streamlit) (2025.7.14)\n",
            "Requirement already satisfied: smmap<6,>=3.0.1 in /usr/local/lib/python3.11/dist-packages (from gitdb<5,>=4.0.1->gitpython!=3.1.19,<4,>=3.0.7->streamlit) (5.0.2)\n",
            "Requirement already satisfied: MarkupSafe>=2.0 in /usr/local/lib/python3.11/dist-packages (from jinja2->altair<6,>=4.0->streamlit) (3.0.2)\n",
            "Requirement already satisfied: attrs>=22.2.0 in /usr/local/lib/python3.11/dist-packages (from jsonschema>=3.0->altair<6,>=4.0->streamlit) (25.3.0)\n",
            "Requirement already satisfied: jsonschema-specifications>=2023.03.6 in /usr/local/lib/python3.11/dist-packages (from jsonschema>=3.0->altair<6,>=4.0->streamlit) (2025.4.1)\n",
            "Requirement already satisfied: referencing>=0.28.4 in /usr/local/lib/python3.11/dist-packages (from jsonschema>=3.0->altair<6,>=4.0->streamlit) (0.36.2)\n",
            "Requirement already satisfied: rpds-py>=0.7.1 in /usr/local/lib/python3.11/dist-packages (from jsonschema>=3.0->altair<6,>=4.0->streamlit) (0.26.0)\n",
            "Requirement already satisfied: six>=1.5 in /usr/local/lib/python3.11/dist-packages (from python-dateutil>=2.8.2->pandas<3,>=1.4.0->streamlit) (1.17.0)\n",
            "Requirement already satisfied: tensorflow in /usr/local/lib/python3.11/dist-packages (2.18.0)\n",
            "Requirement already satisfied: absl-py>=1.0.0 in /usr/local/lib/python3.11/dist-packages (from tensorflow) (1.4.0)\n",
            "Requirement already satisfied: astunparse>=1.6.0 in /usr/local/lib/python3.11/dist-packages (from tensorflow) (1.6.3)\n",
            "Requirement already satisfied: flatbuffers>=24.3.25 in /usr/local/lib/python3.11/dist-packages (from tensorflow) (25.2.10)\n",
            "Requirement already satisfied: gast!=0.5.0,!=0.5.1,!=0.5.2,>=0.2.1 in /usr/local/lib/python3.11/dist-packages (from tensorflow) (0.6.0)\n",
            "Requirement already satisfied: google-pasta>=0.1.1 in /usr/local/lib/python3.11/dist-packages (from tensorflow) (0.2.0)\n",
            "Requirement already satisfied: libclang>=13.0.0 in /usr/local/lib/python3.11/dist-packages (from tensorflow) (18.1.1)\n",
            "Requirement already satisfied: opt-einsum>=2.3.2 in /usr/local/lib/python3.11/dist-packages (from tensorflow) (3.4.0)\n",
            "Requirement already satisfied: packaging in /usr/local/lib/python3.11/dist-packages (from tensorflow) (25.0)\n",
            "Requirement already satisfied: protobuf!=4.21.0,!=4.21.1,!=4.21.2,!=4.21.3,!=4.21.4,!=4.21.5,<6.0.0dev,>=3.20.3 in /usr/local/lib/python3.11/dist-packages (from tensorflow) (5.29.5)\n",
            "Requirement already satisfied: requests<3,>=2.21.0 in /usr/local/lib/python3.11/dist-packages (from tensorflow) (2.32.3)\n",
            "Requirement already satisfied: setuptools in /usr/local/lib/python3.11/dist-packages (from tensorflow) (75.2.0)\n",
            "Requirement already satisfied: six>=1.12.0 in /usr/local/lib/python3.11/dist-packages (from tensorflow) (1.17.0)\n",
            "Requirement already satisfied: termcolor>=1.1.0 in /usr/local/lib/python3.11/dist-packages (from tensorflow) (3.1.0)\n",
            "Requirement already satisfied: typing-extensions>=3.6.6 in /usr/local/lib/python3.11/dist-packages (from tensorflow) (4.14.1)\n",
            "Requirement already satisfied: wrapt>=1.11.0 in /usr/local/lib/python3.11/dist-packages (from tensorflow) (1.17.2)\n",
            "Requirement already satisfied: grpcio<2.0,>=1.24.3 in /usr/local/lib/python3.11/dist-packages (from tensorflow) (1.73.1)\n",
            "Requirement already satisfied: tensorboard<2.19,>=2.18 in /usr/local/lib/python3.11/dist-packages (from tensorflow) (2.18.0)\n",
            "Requirement already satisfied: keras>=3.5.0 in /usr/local/lib/python3.11/dist-packages (from tensorflow) (3.8.0)\n",
            "Requirement already satisfied: numpy<2.1.0,>=1.26.0 in /usr/local/lib/python3.11/dist-packages (from tensorflow) (2.0.2)\n",
            "Requirement already satisfied: h5py>=3.11.0 in /usr/local/lib/python3.11/dist-packages (from tensorflow) (3.14.0)\n",
            "Requirement already satisfied: ml-dtypes<0.5.0,>=0.4.0 in /usr/local/lib/python3.11/dist-packages (from tensorflow) (0.4.1)\n",
            "Requirement already satisfied: tensorflow-io-gcs-filesystem>=0.23.1 in /usr/local/lib/python3.11/dist-packages (from tensorflow) (0.37.1)\n",
            "Requirement already satisfied: wheel<1.0,>=0.23.0 in /usr/local/lib/python3.11/dist-packages (from astunparse>=1.6.0->tensorflow) (0.45.1)\n",
            "Requirement already satisfied: rich in /usr/local/lib/python3.11/dist-packages (from keras>=3.5.0->tensorflow) (13.9.4)\n",
            "Requirement already satisfied: namex in /usr/local/lib/python3.11/dist-packages (from keras>=3.5.0->tensorflow) (0.1.0)\n",
            "Requirement already satisfied: optree in /usr/local/lib/python3.11/dist-packages (from keras>=3.5.0->tensorflow) (0.16.0)\n",
            "Requirement already satisfied: charset-normalizer<4,>=2 in /usr/local/lib/python3.11/dist-packages (from requests<3,>=2.21.0->tensorflow) (3.4.2)\n",
            "Requirement already satisfied: idna<4,>=2.5 in /usr/local/lib/python3.11/dist-packages (from requests<3,>=2.21.0->tensorflow) (3.10)\n",
            "Requirement already satisfied: urllib3<3,>=1.21.1 in /usr/local/lib/python3.11/dist-packages (from requests<3,>=2.21.0->tensorflow) (2.5.0)\n",
            "Requirement already satisfied: certifi>=2017.4.17 in /usr/local/lib/python3.11/dist-packages (from requests<3,>=2.21.0->tensorflow) (2025.7.14)\n",
            "Requirement already satisfied: markdown>=2.6.8 in /usr/local/lib/python3.11/dist-packages (from tensorboard<2.19,>=2.18->tensorflow) (3.8.2)\n",
            "Requirement already satisfied: tensorboard-data-server<0.8.0,>=0.7.0 in /usr/local/lib/python3.11/dist-packages (from tensorboard<2.19,>=2.18->tensorflow) (0.7.2)\n",
            "Requirement already satisfied: werkzeug>=1.0.1 in /usr/local/lib/python3.11/dist-packages (from tensorboard<2.19,>=2.18->tensorflow) (3.1.3)\n",
            "Requirement already satisfied: MarkupSafe>=2.1.1 in /usr/local/lib/python3.11/dist-packages (from werkzeug>=1.0.1->tensorboard<2.19,>=2.18->tensorflow) (3.0.2)\n",
            "Requirement already satisfied: markdown-it-py>=2.2.0 in /usr/local/lib/python3.11/dist-packages (from rich->keras>=3.5.0->tensorflow) (3.0.0)\n",
            "Requirement already satisfied: pygments<3.0.0,>=2.13.0 in /usr/local/lib/python3.11/dist-packages (from rich->keras>=3.5.0->tensorflow) (2.19.2)\n",
            "Requirement already satisfied: mdurl~=0.1 in /usr/local/lib/python3.11/dist-packages (from markdown-it-py>=2.2.0->rich->keras>=3.5.0->tensorflow) (0.1.2)\n"
          ]
        }
      ]
    },
    {
      "cell_type": "code",
      "source": [
        "import zipfile\n",
        "import os\n",
        "\n",
        "with zipfile.ZipFile(\"/content/archive.zip\", 'r') as zip_ref:\n",
        "    zip_ref.extractall(\"dataset\")  # You can rename this if needed\n",
        "\n",
        "# Check the folder structure\n",
        "os.listdir(\"dataset\")\n"
      ],
      "metadata": {
        "colab": {
          "base_uri": "https://localhost:8080/"
        },
        "id": "pNjZ_huE1XOc",
        "outputId": "276fb3f1-9167-412b-8334-e50342d1c05b"
      },
      "execution_count": 4,
      "outputs": [
        {
          "output_type": "execute_result",
          "data": {
            "text/plain": [
              "['Testing', 'Training']"
            ]
          },
          "metadata": {},
          "execution_count": 4
        }
      ]
    },
    {
      "cell_type": "code",
      "source": [
        "# Explore full structure\n",
        "for root, dirs, files in os.walk(\"dataset\"):\n",
        "    print(root)\n"
      ],
      "metadata": {
        "colab": {
          "base_uri": "https://localhost:8080/"
        },
        "id": "zNtg2ifa22ii",
        "outputId": "eb10f397-c3a3-4336-855c-5eed8bb4d8c4"
      },
      "execution_count": 8,
      "outputs": [
        {
          "output_type": "stream",
          "name": "stdout",
          "text": [
            "dataset\n",
            "dataset/Testing\n",
            "dataset/Testing/notumor\n",
            "dataset/Testing/pituitary\n",
            "dataset/Testing/meningioma\n",
            "dataset/Testing/glioma\n",
            "dataset/Training\n",
            "dataset/Training/notumor\n",
            "dataset/Training/pituitary\n",
            "dataset/Training/meningioma\n",
            "dataset/Training/glioma\n"
          ]
        }
      ]
    },
    {
      "cell_type": "code",
      "source": [
        "import os\n",
        "\n",
        "train_dir = 'dataset/Training'\n",
        "test_dir = 'dataset/Testing'\n",
        "\n",
        "for category in os.listdir(train_dir):\n",
        "    print(f\"{category}: {len(os.listdir(os.path.join(train_dir, category)))} training images\")\n"
      ],
      "metadata": {
        "colab": {
          "base_uri": "https://localhost:8080/"
        },
        "id": "CACGFzYy5HHm",
        "outputId": "399e5265-e442-445f-d5bd-8353c3326a98"
      },
      "execution_count": 13,
      "outputs": [
        {
          "output_type": "stream",
          "name": "stdout",
          "text": [
            "notumor: 1595 training images\n",
            "pituitary: 1457 training images\n",
            "meningioma: 1339 training images\n",
            "glioma: 1321 training images\n"
          ]
        }
      ]
    },
    {
      "cell_type": "code",
      "source": [
        "from tensorflow.keras.preprocessing.image import ImageDataGenerator\n",
        "\n",
        "# Image dimensions\n",
        "IMG_SIZE = (224, 224)\n",
        "BATCH_SIZE = 32\n",
        "\n",
        "train_datagen = ImageDataGenerator(\n",
        "    rescale=1./255,\n",
        "    rotation_range=10,\n",
        "    zoom_range=0.1,\n",
        "    width_shift_range=0.1,\n",
        "    height_shift_range=0.1,\n",
        "    horizontal_flip=True\n",
        ")\n",
        "\n",
        "test_datagen = ImageDataGenerator(rescale=1./255)\n",
        "\n",
        "train_generator = train_datagen.flow_from_directory(\n",
        "    train_dir,\n",
        "    target_size=IMG_SIZE,\n",
        "    batch_size=BATCH_SIZE,\n",
        "    class_mode='categorical'\n",
        ")\n",
        "\n",
        "test_generator = test_datagen.flow_from_directory(\n",
        "    test_dir,\n",
        "    target_size=IMG_SIZE,\n",
        "    batch_size=BATCH_SIZE,\n",
        "    class_mode='categorical'\n",
        ")\n"
      ],
      "metadata": {
        "colab": {
          "base_uri": "https://localhost:8080/"
        },
        "id": "u59JA37-5QSX",
        "outputId": "6853ddb3-a034-4da0-cef9-6a94e11cc098"
      },
      "execution_count": 14,
      "outputs": [
        {
          "output_type": "stream",
          "name": "stdout",
          "text": [
            "Found 5712 images belonging to 4 classes.\n",
            "Found 1311 images belonging to 4 classes.\n"
          ]
        }
      ]
    },
    {
      "cell_type": "code",
      "source": [
        "from tensorflow.keras.models import Sequential\n",
        "from tensorflow.keras.layers import Conv2D, MaxPooling2D, Flatten, Dense, Dropout, BatchNormalization\n",
        "\n",
        "cnn_model = Sequential([\n",
        "    Conv2D(32, (3, 3), activation='relu', input_shape=(224, 224, 3)),\n",
        "    MaxPooling2D(2, 2),\n",
        "    BatchNormalization(),\n",
        "\n",
        "    Conv2D(64, (3, 3), activation='relu'),\n",
        "    MaxPooling2D(2, 2),\n",
        "    BatchNormalization(),\n",
        "\n",
        "    Conv2D(128, (3, 3), activation='relu'),\n",
        "    MaxPooling2D(2, 2),\n",
        "    BatchNormalization(),\n",
        "\n",
        "    Flatten(),\n",
        "    Dense(128, activation='relu'),\n",
        "    Dropout(0.5),\n",
        "    Dense(4, activation='softmax')  # 4 classes\n",
        "])\n",
        "\n",
        "cnn_model.compile(optimizer='adam', loss='categorical_crossentropy', metrics=['accuracy'])\n",
        "cnn_model.summary()\n"
      ],
      "metadata": {
        "colab": {
          "base_uri": "https://localhost:8080/",
          "height": 601
        },
        "id": "j8XaOXCE5cuh",
        "outputId": "cadf1f85-9542-433b-ceab-a73ccab23571"
      },
      "execution_count": 15,
      "outputs": [
        {
          "output_type": "display_data",
          "data": {
            "text/plain": [
              "\u001b[1mModel: \"sequential_1\"\u001b[0m\n"
            ],
            "text/html": [
              "<pre style=\"white-space:pre;overflow-x:auto;line-height:normal;font-family:Menlo,'DejaVu Sans Mono',consolas,'Courier New',monospace\"><span style=\"font-weight: bold\">Model: \"sequential_1\"</span>\n",
              "</pre>\n"
            ]
          },
          "metadata": {}
        },
        {
          "output_type": "display_data",
          "data": {
            "text/plain": [
              "┏━━━━━━━━━━━━━━━━━━━━━━━━━━━━━━━━━┳━━━━━━━━━━━━━━━━━━━━━━━━┳━━━━━━━━━━━━━━━┓\n",
              "┃\u001b[1m \u001b[0m\u001b[1mLayer (type)                   \u001b[0m\u001b[1m \u001b[0m┃\u001b[1m \u001b[0m\u001b[1mOutput Shape          \u001b[0m\u001b[1m \u001b[0m┃\u001b[1m \u001b[0m\u001b[1m      Param #\u001b[0m\u001b[1m \u001b[0m┃\n",
              "┡━━━━━━━━━━━━━━━━━━━━━━━━━━━━━━━━━╇━━━━━━━━━━━━━━━━━━━━━━━━╇━━━━━━━━━━━━━━━┩\n",
              "│ conv2d_3 (\u001b[38;5;33mConv2D\u001b[0m)               │ (\u001b[38;5;45mNone\u001b[0m, \u001b[38;5;34m222\u001b[0m, \u001b[38;5;34m222\u001b[0m, \u001b[38;5;34m32\u001b[0m)   │           \u001b[38;5;34m896\u001b[0m │\n",
              "├─────────────────────────────────┼────────────────────────┼───────────────┤\n",
              "│ max_pooling2d_3 (\u001b[38;5;33mMaxPooling2D\u001b[0m)  │ (\u001b[38;5;45mNone\u001b[0m, \u001b[38;5;34m111\u001b[0m, \u001b[38;5;34m111\u001b[0m, \u001b[38;5;34m32\u001b[0m)   │             \u001b[38;5;34m0\u001b[0m │\n",
              "├─────────────────────────────────┼────────────────────────┼───────────────┤\n",
              "│ batch_normalization             │ (\u001b[38;5;45mNone\u001b[0m, \u001b[38;5;34m111\u001b[0m, \u001b[38;5;34m111\u001b[0m, \u001b[38;5;34m32\u001b[0m)   │           \u001b[38;5;34m128\u001b[0m │\n",
              "│ (\u001b[38;5;33mBatchNormalization\u001b[0m)            │                        │               │\n",
              "├─────────────────────────────────┼────────────────────────┼───────────────┤\n",
              "│ conv2d_4 (\u001b[38;5;33mConv2D\u001b[0m)               │ (\u001b[38;5;45mNone\u001b[0m, \u001b[38;5;34m109\u001b[0m, \u001b[38;5;34m109\u001b[0m, \u001b[38;5;34m64\u001b[0m)   │        \u001b[38;5;34m18,496\u001b[0m │\n",
              "├─────────────────────────────────┼────────────────────────┼───────────────┤\n",
              "│ max_pooling2d_4 (\u001b[38;5;33mMaxPooling2D\u001b[0m)  │ (\u001b[38;5;45mNone\u001b[0m, \u001b[38;5;34m54\u001b[0m, \u001b[38;5;34m54\u001b[0m, \u001b[38;5;34m64\u001b[0m)     │             \u001b[38;5;34m0\u001b[0m │\n",
              "├─────────────────────────────────┼────────────────────────┼───────────────┤\n",
              "│ batch_normalization_1           │ (\u001b[38;5;45mNone\u001b[0m, \u001b[38;5;34m54\u001b[0m, \u001b[38;5;34m54\u001b[0m, \u001b[38;5;34m64\u001b[0m)     │           \u001b[38;5;34m256\u001b[0m │\n",
              "│ (\u001b[38;5;33mBatchNormalization\u001b[0m)            │                        │               │\n",
              "├─────────────────────────────────┼────────────────────────┼───────────────┤\n",
              "│ conv2d_5 (\u001b[38;5;33mConv2D\u001b[0m)               │ (\u001b[38;5;45mNone\u001b[0m, \u001b[38;5;34m52\u001b[0m, \u001b[38;5;34m52\u001b[0m, \u001b[38;5;34m128\u001b[0m)    │        \u001b[38;5;34m73,856\u001b[0m │\n",
              "├─────────────────────────────────┼────────────────────────┼───────────────┤\n",
              "│ max_pooling2d_5 (\u001b[38;5;33mMaxPooling2D\u001b[0m)  │ (\u001b[38;5;45mNone\u001b[0m, \u001b[38;5;34m26\u001b[0m, \u001b[38;5;34m26\u001b[0m, \u001b[38;5;34m128\u001b[0m)    │             \u001b[38;5;34m0\u001b[0m │\n",
              "├─────────────────────────────────┼────────────────────────┼───────────────┤\n",
              "│ batch_normalization_2           │ (\u001b[38;5;45mNone\u001b[0m, \u001b[38;5;34m26\u001b[0m, \u001b[38;5;34m26\u001b[0m, \u001b[38;5;34m128\u001b[0m)    │           \u001b[38;5;34m512\u001b[0m │\n",
              "│ (\u001b[38;5;33mBatchNormalization\u001b[0m)            │                        │               │\n",
              "├─────────────────────────────────┼────────────────────────┼───────────────┤\n",
              "│ flatten_1 (\u001b[38;5;33mFlatten\u001b[0m)             │ (\u001b[38;5;45mNone\u001b[0m, \u001b[38;5;34m86528\u001b[0m)          │             \u001b[38;5;34m0\u001b[0m │\n",
              "├─────────────────────────────────┼────────────────────────┼───────────────┤\n",
              "│ dense_2 (\u001b[38;5;33mDense\u001b[0m)                 │ (\u001b[38;5;45mNone\u001b[0m, \u001b[38;5;34m128\u001b[0m)            │    \u001b[38;5;34m11,075,712\u001b[0m │\n",
              "├─────────────────────────────────┼────────────────────────┼───────────────┤\n",
              "│ dropout_1 (\u001b[38;5;33mDropout\u001b[0m)             │ (\u001b[38;5;45mNone\u001b[0m, \u001b[38;5;34m128\u001b[0m)            │             \u001b[38;5;34m0\u001b[0m │\n",
              "├─────────────────────────────────┼────────────────────────┼───────────────┤\n",
              "│ dense_3 (\u001b[38;5;33mDense\u001b[0m)                 │ (\u001b[38;5;45mNone\u001b[0m, \u001b[38;5;34m4\u001b[0m)              │           \u001b[38;5;34m516\u001b[0m │\n",
              "└─────────────────────────────────┴────────────────────────┴───────────────┘\n"
            ],
            "text/html": [
              "<pre style=\"white-space:pre;overflow-x:auto;line-height:normal;font-family:Menlo,'DejaVu Sans Mono',consolas,'Courier New',monospace\">┏━━━━━━━━━━━━━━━━━━━━━━━━━━━━━━━━━┳━━━━━━━━━━━━━━━━━━━━━━━━┳━━━━━━━━━━━━━━━┓\n",
              "┃<span style=\"font-weight: bold\"> Layer (type)                    </span>┃<span style=\"font-weight: bold\"> Output Shape           </span>┃<span style=\"font-weight: bold\">       Param # </span>┃\n",
              "┡━━━━━━━━━━━━━━━━━━━━━━━━━━━━━━━━━╇━━━━━━━━━━━━━━━━━━━━━━━━╇━━━━━━━━━━━━━━━┩\n",
              "│ conv2d_3 (<span style=\"color: #0087ff; text-decoration-color: #0087ff\">Conv2D</span>)               │ (<span style=\"color: #00d7ff; text-decoration-color: #00d7ff\">None</span>, <span style=\"color: #00af00; text-decoration-color: #00af00\">222</span>, <span style=\"color: #00af00; text-decoration-color: #00af00\">222</span>, <span style=\"color: #00af00; text-decoration-color: #00af00\">32</span>)   │           <span style=\"color: #00af00; text-decoration-color: #00af00\">896</span> │\n",
              "├─────────────────────────────────┼────────────────────────┼───────────────┤\n",
              "│ max_pooling2d_3 (<span style=\"color: #0087ff; text-decoration-color: #0087ff\">MaxPooling2D</span>)  │ (<span style=\"color: #00d7ff; text-decoration-color: #00d7ff\">None</span>, <span style=\"color: #00af00; text-decoration-color: #00af00\">111</span>, <span style=\"color: #00af00; text-decoration-color: #00af00\">111</span>, <span style=\"color: #00af00; text-decoration-color: #00af00\">32</span>)   │             <span style=\"color: #00af00; text-decoration-color: #00af00\">0</span> │\n",
              "├─────────────────────────────────┼────────────────────────┼───────────────┤\n",
              "│ batch_normalization             │ (<span style=\"color: #00d7ff; text-decoration-color: #00d7ff\">None</span>, <span style=\"color: #00af00; text-decoration-color: #00af00\">111</span>, <span style=\"color: #00af00; text-decoration-color: #00af00\">111</span>, <span style=\"color: #00af00; text-decoration-color: #00af00\">32</span>)   │           <span style=\"color: #00af00; text-decoration-color: #00af00\">128</span> │\n",
              "│ (<span style=\"color: #0087ff; text-decoration-color: #0087ff\">BatchNormalization</span>)            │                        │               │\n",
              "├─────────────────────────────────┼────────────────────────┼───────────────┤\n",
              "│ conv2d_4 (<span style=\"color: #0087ff; text-decoration-color: #0087ff\">Conv2D</span>)               │ (<span style=\"color: #00d7ff; text-decoration-color: #00d7ff\">None</span>, <span style=\"color: #00af00; text-decoration-color: #00af00\">109</span>, <span style=\"color: #00af00; text-decoration-color: #00af00\">109</span>, <span style=\"color: #00af00; text-decoration-color: #00af00\">64</span>)   │        <span style=\"color: #00af00; text-decoration-color: #00af00\">18,496</span> │\n",
              "├─────────────────────────────────┼────────────────────────┼───────────────┤\n",
              "│ max_pooling2d_4 (<span style=\"color: #0087ff; text-decoration-color: #0087ff\">MaxPooling2D</span>)  │ (<span style=\"color: #00d7ff; text-decoration-color: #00d7ff\">None</span>, <span style=\"color: #00af00; text-decoration-color: #00af00\">54</span>, <span style=\"color: #00af00; text-decoration-color: #00af00\">54</span>, <span style=\"color: #00af00; text-decoration-color: #00af00\">64</span>)     │             <span style=\"color: #00af00; text-decoration-color: #00af00\">0</span> │\n",
              "├─────────────────────────────────┼────────────────────────┼───────────────┤\n",
              "│ batch_normalization_1           │ (<span style=\"color: #00d7ff; text-decoration-color: #00d7ff\">None</span>, <span style=\"color: #00af00; text-decoration-color: #00af00\">54</span>, <span style=\"color: #00af00; text-decoration-color: #00af00\">54</span>, <span style=\"color: #00af00; text-decoration-color: #00af00\">64</span>)     │           <span style=\"color: #00af00; text-decoration-color: #00af00\">256</span> │\n",
              "│ (<span style=\"color: #0087ff; text-decoration-color: #0087ff\">BatchNormalization</span>)            │                        │               │\n",
              "├─────────────────────────────────┼────────────────────────┼───────────────┤\n",
              "│ conv2d_5 (<span style=\"color: #0087ff; text-decoration-color: #0087ff\">Conv2D</span>)               │ (<span style=\"color: #00d7ff; text-decoration-color: #00d7ff\">None</span>, <span style=\"color: #00af00; text-decoration-color: #00af00\">52</span>, <span style=\"color: #00af00; text-decoration-color: #00af00\">52</span>, <span style=\"color: #00af00; text-decoration-color: #00af00\">128</span>)    │        <span style=\"color: #00af00; text-decoration-color: #00af00\">73,856</span> │\n",
              "├─────────────────────────────────┼────────────────────────┼───────────────┤\n",
              "│ max_pooling2d_5 (<span style=\"color: #0087ff; text-decoration-color: #0087ff\">MaxPooling2D</span>)  │ (<span style=\"color: #00d7ff; text-decoration-color: #00d7ff\">None</span>, <span style=\"color: #00af00; text-decoration-color: #00af00\">26</span>, <span style=\"color: #00af00; text-decoration-color: #00af00\">26</span>, <span style=\"color: #00af00; text-decoration-color: #00af00\">128</span>)    │             <span style=\"color: #00af00; text-decoration-color: #00af00\">0</span> │\n",
              "├─────────────────────────────────┼────────────────────────┼───────────────┤\n",
              "│ batch_normalization_2           │ (<span style=\"color: #00d7ff; text-decoration-color: #00d7ff\">None</span>, <span style=\"color: #00af00; text-decoration-color: #00af00\">26</span>, <span style=\"color: #00af00; text-decoration-color: #00af00\">26</span>, <span style=\"color: #00af00; text-decoration-color: #00af00\">128</span>)    │           <span style=\"color: #00af00; text-decoration-color: #00af00\">512</span> │\n",
              "│ (<span style=\"color: #0087ff; text-decoration-color: #0087ff\">BatchNormalization</span>)            │                        │               │\n",
              "├─────────────────────────────────┼────────────────────────┼───────────────┤\n",
              "│ flatten_1 (<span style=\"color: #0087ff; text-decoration-color: #0087ff\">Flatten</span>)             │ (<span style=\"color: #00d7ff; text-decoration-color: #00d7ff\">None</span>, <span style=\"color: #00af00; text-decoration-color: #00af00\">86528</span>)          │             <span style=\"color: #00af00; text-decoration-color: #00af00\">0</span> │\n",
              "├─────────────────────────────────┼────────────────────────┼───────────────┤\n",
              "│ dense_2 (<span style=\"color: #0087ff; text-decoration-color: #0087ff\">Dense</span>)                 │ (<span style=\"color: #00d7ff; text-decoration-color: #00d7ff\">None</span>, <span style=\"color: #00af00; text-decoration-color: #00af00\">128</span>)            │    <span style=\"color: #00af00; text-decoration-color: #00af00\">11,075,712</span> │\n",
              "├─────────────────────────────────┼────────────────────────┼───────────────┤\n",
              "│ dropout_1 (<span style=\"color: #0087ff; text-decoration-color: #0087ff\">Dropout</span>)             │ (<span style=\"color: #00d7ff; text-decoration-color: #00d7ff\">None</span>, <span style=\"color: #00af00; text-decoration-color: #00af00\">128</span>)            │             <span style=\"color: #00af00; text-decoration-color: #00af00\">0</span> │\n",
              "├─────────────────────────────────┼────────────────────────┼───────────────┤\n",
              "│ dense_3 (<span style=\"color: #0087ff; text-decoration-color: #0087ff\">Dense</span>)                 │ (<span style=\"color: #00d7ff; text-decoration-color: #00d7ff\">None</span>, <span style=\"color: #00af00; text-decoration-color: #00af00\">4</span>)              │           <span style=\"color: #00af00; text-decoration-color: #00af00\">516</span> │\n",
              "└─────────────────────────────────┴────────────────────────┴───────────────┘\n",
              "</pre>\n"
            ]
          },
          "metadata": {}
        },
        {
          "output_type": "display_data",
          "data": {
            "text/plain": [
              "\u001b[1m Total params: \u001b[0m\u001b[38;5;34m11,170,372\u001b[0m (42.61 MB)\n"
            ],
            "text/html": [
              "<pre style=\"white-space:pre;overflow-x:auto;line-height:normal;font-family:Menlo,'DejaVu Sans Mono',consolas,'Courier New',monospace\"><span style=\"font-weight: bold\"> Total params: </span><span style=\"color: #00af00; text-decoration-color: #00af00\">11,170,372</span> (42.61 MB)\n",
              "</pre>\n"
            ]
          },
          "metadata": {}
        },
        {
          "output_type": "display_data",
          "data": {
            "text/plain": [
              "\u001b[1m Trainable params: \u001b[0m\u001b[38;5;34m11,169,924\u001b[0m (42.61 MB)\n"
            ],
            "text/html": [
              "<pre style=\"white-space:pre;overflow-x:auto;line-height:normal;font-family:Menlo,'DejaVu Sans Mono',consolas,'Courier New',monospace\"><span style=\"font-weight: bold\"> Trainable params: </span><span style=\"color: #00af00; text-decoration-color: #00af00\">11,169,924</span> (42.61 MB)\n",
              "</pre>\n"
            ]
          },
          "metadata": {}
        },
        {
          "output_type": "display_data",
          "data": {
            "text/plain": [
              "\u001b[1m Non-trainable params: \u001b[0m\u001b[38;5;34m448\u001b[0m (1.75 KB)\n"
            ],
            "text/html": [
              "<pre style=\"white-space:pre;overflow-x:auto;line-height:normal;font-family:Menlo,'DejaVu Sans Mono',consolas,'Courier New',monospace\"><span style=\"font-weight: bold\"> Non-trainable params: </span><span style=\"color: #00af00; text-decoration-color: #00af00\">448</span> (1.75 KB)\n",
              "</pre>\n"
            ]
          },
          "metadata": {}
        }
      ]
    },
    {
      "cell_type": "code",
      "source": [
        "from tensorflow.keras.applications import MobileNetV2\n",
        "from tensorflow.keras.models import Model\n",
        "from tensorflow.keras.layers import GlobalAveragePooling2D, Dense, Dropout\n",
        "\n",
        "base_model = MobileNetV2(weights='imagenet', include_top=False, input_shape=(224, 224, 3))\n",
        "base_model.trainable = False  # Freeze base\n",
        "\n",
        "x = base_model.output\n",
        "x = GlobalAveragePooling2D()(x)\n",
        "x = Dropout(0.3)(x)\n",
        "output = Dense(4, activation='softmax')(x)\n",
        "\n",
        "transfer_model = Model(inputs=base_model.input, outputs=output)\n",
        "transfer_model.compile(optimizer='adam', loss='categorical_crossentropy', metrics=['accuracy'])\n",
        "transfer_model.summary()\n"
      ],
      "metadata": {
        "colab": {
          "base_uri": "https://localhost:8080/",
          "height": 1000
        },
        "id": "oWqwPAVe532A",
        "outputId": "3100cbc8-f465-4add-db0e-0508be3d4936"
      },
      "execution_count": 16,
      "outputs": [
        {
          "output_type": "stream",
          "name": "stdout",
          "text": [
            "Downloading data from https://storage.googleapis.com/tensorflow/keras-applications/mobilenet_v2/mobilenet_v2_weights_tf_dim_ordering_tf_kernels_1.0_224_no_top.h5\n",
            "\u001b[1m9406464/9406464\u001b[0m \u001b[32m━━━━━━━━━━━━━━━━━━━━\u001b[0m\u001b[37m\u001b[0m \u001b[1m0s\u001b[0m 0us/step\n"
          ]
        },
        {
          "output_type": "display_data",
          "data": {
            "text/plain": [
              "\u001b[1mModel: \"functional_2\"\u001b[0m\n"
            ],
            "text/html": [
              "<pre style=\"white-space:pre;overflow-x:auto;line-height:normal;font-family:Menlo,'DejaVu Sans Mono',consolas,'Courier New',monospace\"><span style=\"font-weight: bold\">Model: \"functional_2\"</span>\n",
              "</pre>\n"
            ]
          },
          "metadata": {}
        },
        {
          "output_type": "display_data",
          "data": {
            "text/plain": [
              "┏━━━━━━━━━━━━━━━━━━━━━┳━━━━━━━━━━━━━━━━━━━┳━━━━━━━━━━━━┳━━━━━━━━━━━━━━━━━━━┓\n",
              "┃\u001b[1m \u001b[0m\u001b[1mLayer (type)       \u001b[0m\u001b[1m \u001b[0m┃\u001b[1m \u001b[0m\u001b[1mOutput Shape     \u001b[0m\u001b[1m \u001b[0m┃\u001b[1m \u001b[0m\u001b[1m   Param #\u001b[0m\u001b[1m \u001b[0m┃\u001b[1m \u001b[0m\u001b[1mConnected to     \u001b[0m\u001b[1m \u001b[0m┃\n",
              "┡━━━━━━━━━━━━━━━━━━━━━╇━━━━━━━━━━━━━━━━━━━╇━━━━━━━━━━━━╇━━━━━━━━━━━━━━━━━━━┩\n",
              "│ input_layer_2       │ (\u001b[38;5;45mNone\u001b[0m, \u001b[38;5;34m224\u001b[0m, \u001b[38;5;34m224\u001b[0m,  │          \u001b[38;5;34m0\u001b[0m │ -                 │\n",
              "│ (\u001b[38;5;33mInputLayer\u001b[0m)        │ \u001b[38;5;34m3\u001b[0m)                │            │                   │\n",
              "├─────────────────────┼───────────────────┼────────────┼───────────────────┤\n",
              "│ Conv1 (\u001b[38;5;33mConv2D\u001b[0m)      │ (\u001b[38;5;45mNone\u001b[0m, \u001b[38;5;34m112\u001b[0m, \u001b[38;5;34m112\u001b[0m,  │        \u001b[38;5;34m864\u001b[0m │ input_layer_2[\u001b[38;5;34m0\u001b[0m]… │\n",
              "│                     │ \u001b[38;5;34m32\u001b[0m)               │            │                   │\n",
              "├─────────────────────┼───────────────────┼────────────┼───────────────────┤\n",
              "│ bn_Conv1            │ (\u001b[38;5;45mNone\u001b[0m, \u001b[38;5;34m112\u001b[0m, \u001b[38;5;34m112\u001b[0m,  │        \u001b[38;5;34m128\u001b[0m │ Conv1[\u001b[38;5;34m0\u001b[0m][\u001b[38;5;34m0\u001b[0m]       │\n",
              "│ (\u001b[38;5;33mBatchNormalizatio…\u001b[0m │ \u001b[38;5;34m32\u001b[0m)               │            │                   │\n",
              "├─────────────────────┼───────────────────┼────────────┼───────────────────┤\n",
              "│ Conv1_relu (\u001b[38;5;33mReLU\u001b[0m)   │ (\u001b[38;5;45mNone\u001b[0m, \u001b[38;5;34m112\u001b[0m, \u001b[38;5;34m112\u001b[0m,  │          \u001b[38;5;34m0\u001b[0m │ bn_Conv1[\u001b[38;5;34m0\u001b[0m][\u001b[38;5;34m0\u001b[0m]    │\n",
              "│                     │ \u001b[38;5;34m32\u001b[0m)               │            │                   │\n",
              "├─────────────────────┼───────────────────┼────────────┼───────────────────┤\n",
              "│ expanded_conv_dept… │ (\u001b[38;5;45mNone\u001b[0m, \u001b[38;5;34m112\u001b[0m, \u001b[38;5;34m112\u001b[0m,  │        \u001b[38;5;34m288\u001b[0m │ Conv1_relu[\u001b[38;5;34m0\u001b[0m][\u001b[38;5;34m0\u001b[0m]  │\n",
              "│ (\u001b[38;5;33mDepthwiseConv2D\u001b[0m)   │ \u001b[38;5;34m32\u001b[0m)               │            │                   │\n",
              "├─────────────────────┼───────────────────┼────────────┼───────────────────┤\n",
              "│ expanded_conv_dept… │ (\u001b[38;5;45mNone\u001b[0m, \u001b[38;5;34m112\u001b[0m, \u001b[38;5;34m112\u001b[0m,  │        \u001b[38;5;34m128\u001b[0m │ expanded_conv_de… │\n",
              "│ (\u001b[38;5;33mBatchNormalizatio…\u001b[0m │ \u001b[38;5;34m32\u001b[0m)               │            │                   │\n",
              "├─────────────────────┼───────────────────┼────────────┼───────────────────┤\n",
              "│ expanded_conv_dept… │ (\u001b[38;5;45mNone\u001b[0m, \u001b[38;5;34m112\u001b[0m, \u001b[38;5;34m112\u001b[0m,  │          \u001b[38;5;34m0\u001b[0m │ expanded_conv_de… │\n",
              "│ (\u001b[38;5;33mReLU\u001b[0m)              │ \u001b[38;5;34m32\u001b[0m)               │            │                   │\n",
              "├─────────────────────┼───────────────────┼────────────┼───────────────────┤\n",
              "│ expanded_conv_proj… │ (\u001b[38;5;45mNone\u001b[0m, \u001b[38;5;34m112\u001b[0m, \u001b[38;5;34m112\u001b[0m,  │        \u001b[38;5;34m512\u001b[0m │ expanded_conv_de… │\n",
              "│ (\u001b[38;5;33mConv2D\u001b[0m)            │ \u001b[38;5;34m16\u001b[0m)               │            │                   │\n",
              "├─────────────────────┼───────────────────┼────────────┼───────────────────┤\n",
              "│ expanded_conv_proj… │ (\u001b[38;5;45mNone\u001b[0m, \u001b[38;5;34m112\u001b[0m, \u001b[38;5;34m112\u001b[0m,  │         \u001b[38;5;34m64\u001b[0m │ expanded_conv_pr… │\n",
              "│ (\u001b[38;5;33mBatchNormalizatio…\u001b[0m │ \u001b[38;5;34m16\u001b[0m)               │            │                   │\n",
              "├─────────────────────┼───────────────────┼────────────┼───────────────────┤\n",
              "│ block_1_expand      │ (\u001b[38;5;45mNone\u001b[0m, \u001b[38;5;34m112\u001b[0m, \u001b[38;5;34m112\u001b[0m,  │      \u001b[38;5;34m1,536\u001b[0m │ expanded_conv_pr… │\n",
              "│ (\u001b[38;5;33mConv2D\u001b[0m)            │ \u001b[38;5;34m96\u001b[0m)               │            │                   │\n",
              "├─────────────────────┼───────────────────┼────────────┼───────────────────┤\n",
              "│ block_1_expand_BN   │ (\u001b[38;5;45mNone\u001b[0m, \u001b[38;5;34m112\u001b[0m, \u001b[38;5;34m112\u001b[0m,  │        \u001b[38;5;34m384\u001b[0m │ block_1_expand[\u001b[38;5;34m0\u001b[0m… │\n",
              "│ (\u001b[38;5;33mBatchNormalizatio…\u001b[0m │ \u001b[38;5;34m96\u001b[0m)               │            │                   │\n",
              "├─────────────────────┼───────────────────┼────────────┼───────────────────┤\n",
              "│ block_1_expand_relu │ (\u001b[38;5;45mNone\u001b[0m, \u001b[38;5;34m112\u001b[0m, \u001b[38;5;34m112\u001b[0m,  │          \u001b[38;5;34m0\u001b[0m │ block_1_expand_B… │\n",
              "│ (\u001b[38;5;33mReLU\u001b[0m)              │ \u001b[38;5;34m96\u001b[0m)               │            │                   │\n",
              "├─────────────────────┼───────────────────┼────────────┼───────────────────┤\n",
              "│ block_1_pad         │ (\u001b[38;5;45mNone\u001b[0m, \u001b[38;5;34m113\u001b[0m, \u001b[38;5;34m113\u001b[0m,  │          \u001b[38;5;34m0\u001b[0m │ block_1_expand_r… │\n",
              "│ (\u001b[38;5;33mZeroPadding2D\u001b[0m)     │ \u001b[38;5;34m96\u001b[0m)               │            │                   │\n",
              "├─────────────────────┼───────────────────┼────────────┼───────────────────┤\n",
              "│ block_1_depthwise   │ (\u001b[38;5;45mNone\u001b[0m, \u001b[38;5;34m56\u001b[0m, \u001b[38;5;34m56\u001b[0m,    │        \u001b[38;5;34m864\u001b[0m │ block_1_pad[\u001b[38;5;34m0\u001b[0m][\u001b[38;5;34m0\u001b[0m] │\n",
              "│ (\u001b[38;5;33mDepthwiseConv2D\u001b[0m)   │ \u001b[38;5;34m96\u001b[0m)               │            │                   │\n",
              "├─────────────────────┼───────────────────┼────────────┼───────────────────┤\n",
              "│ block_1_depthwise_… │ (\u001b[38;5;45mNone\u001b[0m, \u001b[38;5;34m56\u001b[0m, \u001b[38;5;34m56\u001b[0m,    │        \u001b[38;5;34m384\u001b[0m │ block_1_depthwis… │\n",
              "│ (\u001b[38;5;33mBatchNormalizatio…\u001b[0m │ \u001b[38;5;34m96\u001b[0m)               │            │                   │\n",
              "├─────────────────────┼───────────────────┼────────────┼───────────────────┤\n",
              "│ block_1_depthwise_… │ (\u001b[38;5;45mNone\u001b[0m, \u001b[38;5;34m56\u001b[0m, \u001b[38;5;34m56\u001b[0m,    │          \u001b[38;5;34m0\u001b[0m │ block_1_depthwis… │\n",
              "│ (\u001b[38;5;33mReLU\u001b[0m)              │ \u001b[38;5;34m96\u001b[0m)               │            │                   │\n",
              "├─────────────────────┼───────────────────┼────────────┼───────────────────┤\n",
              "│ block_1_project     │ (\u001b[38;5;45mNone\u001b[0m, \u001b[38;5;34m56\u001b[0m, \u001b[38;5;34m56\u001b[0m,    │      \u001b[38;5;34m2,304\u001b[0m │ block_1_depthwis… │\n",
              "│ (\u001b[38;5;33mConv2D\u001b[0m)            │ \u001b[38;5;34m24\u001b[0m)               │            │                   │\n",
              "├─────────────────────┼───────────────────┼────────────┼───────────────────┤\n",
              "│ block_1_project_BN  │ (\u001b[38;5;45mNone\u001b[0m, \u001b[38;5;34m56\u001b[0m, \u001b[38;5;34m56\u001b[0m,    │         \u001b[38;5;34m96\u001b[0m │ block_1_project[\u001b[38;5;34m…\u001b[0m │\n",
              "│ (\u001b[38;5;33mBatchNormalizatio…\u001b[0m │ \u001b[38;5;34m24\u001b[0m)               │            │                   │\n",
              "├─────────────────────┼───────────────────┼────────────┼───────────────────┤\n",
              "│ block_2_expand      │ (\u001b[38;5;45mNone\u001b[0m, \u001b[38;5;34m56\u001b[0m, \u001b[38;5;34m56\u001b[0m,    │      \u001b[38;5;34m3,456\u001b[0m │ block_1_project_… │\n",
              "│ (\u001b[38;5;33mConv2D\u001b[0m)            │ \u001b[38;5;34m144\u001b[0m)              │            │                   │\n",
              "├─────────────────────┼───────────────────┼────────────┼───────────────────┤\n",
              "│ block_2_expand_BN   │ (\u001b[38;5;45mNone\u001b[0m, \u001b[38;5;34m56\u001b[0m, \u001b[38;5;34m56\u001b[0m,    │        \u001b[38;5;34m576\u001b[0m │ block_2_expand[\u001b[38;5;34m0\u001b[0m… │\n",
              "│ (\u001b[38;5;33mBatchNormalizatio…\u001b[0m │ \u001b[38;5;34m144\u001b[0m)              │            │                   │\n",
              "├─────────────────────┼───────────────────┼────────────┼───────────────────┤\n",
              "│ block_2_expand_relu │ (\u001b[38;5;45mNone\u001b[0m, \u001b[38;5;34m56\u001b[0m, \u001b[38;5;34m56\u001b[0m,    │          \u001b[38;5;34m0\u001b[0m │ block_2_expand_B… │\n",
              "│ (\u001b[38;5;33mReLU\u001b[0m)              │ \u001b[38;5;34m144\u001b[0m)              │            │                   │\n",
              "├─────────────────────┼───────────────────┼────────────┼───────────────────┤\n",
              "│ block_2_depthwise   │ (\u001b[38;5;45mNone\u001b[0m, \u001b[38;5;34m56\u001b[0m, \u001b[38;5;34m56\u001b[0m,    │      \u001b[38;5;34m1,296\u001b[0m │ block_2_expand_r… │\n",
              "│ (\u001b[38;5;33mDepthwiseConv2D\u001b[0m)   │ \u001b[38;5;34m144\u001b[0m)              │            │                   │\n",
              "├─────────────────────┼───────────────────┼────────────┼───────────────────┤\n",
              "│ block_2_depthwise_… │ (\u001b[38;5;45mNone\u001b[0m, \u001b[38;5;34m56\u001b[0m, \u001b[38;5;34m56\u001b[0m,    │        \u001b[38;5;34m576\u001b[0m │ block_2_depthwis… │\n",
              "│ (\u001b[38;5;33mBatchNormalizatio…\u001b[0m │ \u001b[38;5;34m144\u001b[0m)              │            │                   │\n",
              "├─────────────────────┼───────────────────┼────────────┼───────────────────┤\n",
              "│ block_2_depthwise_… │ (\u001b[38;5;45mNone\u001b[0m, \u001b[38;5;34m56\u001b[0m, \u001b[38;5;34m56\u001b[0m,    │          \u001b[38;5;34m0\u001b[0m │ block_2_depthwis… │\n",
              "│ (\u001b[38;5;33mReLU\u001b[0m)              │ \u001b[38;5;34m144\u001b[0m)              │            │                   │\n",
              "├─────────────────────┼───────────────────┼────────────┼───────────────────┤\n",
              "│ block_2_project     │ (\u001b[38;5;45mNone\u001b[0m, \u001b[38;5;34m56\u001b[0m, \u001b[38;5;34m56\u001b[0m,    │      \u001b[38;5;34m3,456\u001b[0m │ block_2_depthwis… │\n",
              "│ (\u001b[38;5;33mConv2D\u001b[0m)            │ \u001b[38;5;34m24\u001b[0m)               │            │                   │\n",
              "├─────────────────────┼───────────────────┼────────────┼───────────────────┤\n",
              "│ block_2_project_BN  │ (\u001b[38;5;45mNone\u001b[0m, \u001b[38;5;34m56\u001b[0m, \u001b[38;5;34m56\u001b[0m,    │         \u001b[38;5;34m96\u001b[0m │ block_2_project[\u001b[38;5;34m…\u001b[0m │\n",
              "│ (\u001b[38;5;33mBatchNormalizatio…\u001b[0m │ \u001b[38;5;34m24\u001b[0m)               │            │                   │\n",
              "├─────────────────────┼───────────────────┼────────────┼───────────────────┤\n",
              "│ block_2_add (\u001b[38;5;33mAdd\u001b[0m)   │ (\u001b[38;5;45mNone\u001b[0m, \u001b[38;5;34m56\u001b[0m, \u001b[38;5;34m56\u001b[0m,    │          \u001b[38;5;34m0\u001b[0m │ block_1_project_… │\n",
              "│                     │ \u001b[38;5;34m24\u001b[0m)               │            │ block_2_project_… │\n",
              "├─────────────────────┼───────────────────┼────────────┼───────────────────┤\n",
              "│ block_3_expand      │ (\u001b[38;5;45mNone\u001b[0m, \u001b[38;5;34m56\u001b[0m, \u001b[38;5;34m56\u001b[0m,    │      \u001b[38;5;34m3,456\u001b[0m │ block_2_add[\u001b[38;5;34m0\u001b[0m][\u001b[38;5;34m0\u001b[0m] │\n",
              "│ (\u001b[38;5;33mConv2D\u001b[0m)            │ \u001b[38;5;34m144\u001b[0m)              │            │                   │\n",
              "├─────────────────────┼───────────────────┼────────────┼───────────────────┤\n",
              "│ block_3_expand_BN   │ (\u001b[38;5;45mNone\u001b[0m, \u001b[38;5;34m56\u001b[0m, \u001b[38;5;34m56\u001b[0m,    │        \u001b[38;5;34m576\u001b[0m │ block_3_expand[\u001b[38;5;34m0\u001b[0m… │\n",
              "│ (\u001b[38;5;33mBatchNormalizatio…\u001b[0m │ \u001b[38;5;34m144\u001b[0m)              │            │                   │\n",
              "├─────────────────────┼───────────────────┼────────────┼───────────────────┤\n",
              "│ block_3_expand_relu │ (\u001b[38;5;45mNone\u001b[0m, \u001b[38;5;34m56\u001b[0m, \u001b[38;5;34m56\u001b[0m,    │          \u001b[38;5;34m0\u001b[0m │ block_3_expand_B… │\n",
              "│ (\u001b[38;5;33mReLU\u001b[0m)              │ \u001b[38;5;34m144\u001b[0m)              │            │                   │\n",
              "├─────────────────────┼───────────────────┼────────────┼───────────────────┤\n",
              "│ block_3_pad         │ (\u001b[38;5;45mNone\u001b[0m, \u001b[38;5;34m57\u001b[0m, \u001b[38;5;34m57\u001b[0m,    │          \u001b[38;5;34m0\u001b[0m │ block_3_expand_r… │\n",
              "│ (\u001b[38;5;33mZeroPadding2D\u001b[0m)     │ \u001b[38;5;34m144\u001b[0m)              │            │                   │\n",
              "├─────────────────────┼───────────────────┼────────────┼───────────────────┤\n",
              "│ block_3_depthwise   │ (\u001b[38;5;45mNone\u001b[0m, \u001b[38;5;34m28\u001b[0m, \u001b[38;5;34m28\u001b[0m,    │      \u001b[38;5;34m1,296\u001b[0m │ block_3_pad[\u001b[38;5;34m0\u001b[0m][\u001b[38;5;34m0\u001b[0m] │\n",
              "│ (\u001b[38;5;33mDepthwiseConv2D\u001b[0m)   │ \u001b[38;5;34m144\u001b[0m)              │            │                   │\n",
              "├─────────────────────┼───────────────────┼────────────┼───────────────────┤\n",
              "│ block_3_depthwise_… │ (\u001b[38;5;45mNone\u001b[0m, \u001b[38;5;34m28\u001b[0m, \u001b[38;5;34m28\u001b[0m,    │        \u001b[38;5;34m576\u001b[0m │ block_3_depthwis… │\n",
              "│ (\u001b[38;5;33mBatchNormalizatio…\u001b[0m │ \u001b[38;5;34m144\u001b[0m)              │            │                   │\n",
              "├─────────────────────┼───────────────────┼────────────┼───────────────────┤\n",
              "│ block_3_depthwise_… │ (\u001b[38;5;45mNone\u001b[0m, \u001b[38;5;34m28\u001b[0m, \u001b[38;5;34m28\u001b[0m,    │          \u001b[38;5;34m0\u001b[0m │ block_3_depthwis… │\n",
              "│ (\u001b[38;5;33mReLU\u001b[0m)              │ \u001b[38;5;34m144\u001b[0m)              │            │                   │\n",
              "├─────────────────────┼───────────────────┼────────────┼───────────────────┤\n",
              "│ block_3_project     │ (\u001b[38;5;45mNone\u001b[0m, \u001b[38;5;34m28\u001b[0m, \u001b[38;5;34m28\u001b[0m,    │      \u001b[38;5;34m4,608\u001b[0m │ block_3_depthwis… │\n",
              "│ (\u001b[38;5;33mConv2D\u001b[0m)            │ \u001b[38;5;34m32\u001b[0m)               │            │                   │\n",
              "├─────────────────────┼───────────────────┼────────────┼───────────────────┤\n",
              "│ block_3_project_BN  │ (\u001b[38;5;45mNone\u001b[0m, \u001b[38;5;34m28\u001b[0m, \u001b[38;5;34m28\u001b[0m,    │        \u001b[38;5;34m128\u001b[0m │ block_3_project[\u001b[38;5;34m…\u001b[0m │\n",
              "│ (\u001b[38;5;33mBatchNormalizatio…\u001b[0m │ \u001b[38;5;34m32\u001b[0m)               │            │                   │\n",
              "├─────────────────────┼───────────────────┼────────────┼───────────────────┤\n",
              "│ block_4_expand      │ (\u001b[38;5;45mNone\u001b[0m, \u001b[38;5;34m28\u001b[0m, \u001b[38;5;34m28\u001b[0m,    │      \u001b[38;5;34m6,144\u001b[0m │ block_3_project_… │\n",
              "│ (\u001b[38;5;33mConv2D\u001b[0m)            │ \u001b[38;5;34m192\u001b[0m)              │            │                   │\n",
              "├─────────────────────┼───────────────────┼────────────┼───────────────────┤\n",
              "│ block_4_expand_BN   │ (\u001b[38;5;45mNone\u001b[0m, \u001b[38;5;34m28\u001b[0m, \u001b[38;5;34m28\u001b[0m,    │        \u001b[38;5;34m768\u001b[0m │ block_4_expand[\u001b[38;5;34m0\u001b[0m… │\n",
              "│ (\u001b[38;5;33mBatchNormalizatio…\u001b[0m │ \u001b[38;5;34m192\u001b[0m)              │            │                   │\n",
              "├─────────────────────┼───────────────────┼────────────┼───────────────────┤\n",
              "│ block_4_expand_relu │ (\u001b[38;5;45mNone\u001b[0m, \u001b[38;5;34m28\u001b[0m, \u001b[38;5;34m28\u001b[0m,    │          \u001b[38;5;34m0\u001b[0m │ block_4_expand_B… │\n",
              "│ (\u001b[38;5;33mReLU\u001b[0m)              │ \u001b[38;5;34m192\u001b[0m)              │            │                   │\n",
              "├─────────────────────┼───────────────────┼────────────┼───────────────────┤\n",
              "│ block_4_depthwise   │ (\u001b[38;5;45mNone\u001b[0m, \u001b[38;5;34m28\u001b[0m, \u001b[38;5;34m28\u001b[0m,    │      \u001b[38;5;34m1,728\u001b[0m │ block_4_expand_r… │\n",
              "│ (\u001b[38;5;33mDepthwiseConv2D\u001b[0m)   │ \u001b[38;5;34m192\u001b[0m)              │            │                   │\n",
              "├─────────────────────┼───────────────────┼────────────┼───────────────────┤\n",
              "│ block_4_depthwise_… │ (\u001b[38;5;45mNone\u001b[0m, \u001b[38;5;34m28\u001b[0m, \u001b[38;5;34m28\u001b[0m,    │        \u001b[38;5;34m768\u001b[0m │ block_4_depthwis… │\n",
              "│ (\u001b[38;5;33mBatchNormalizatio…\u001b[0m │ \u001b[38;5;34m192\u001b[0m)              │            │                   │\n",
              "├─────────────────────┼───────────────────┼────────────┼───────────────────┤\n",
              "│ block_4_depthwise_… │ (\u001b[38;5;45mNone\u001b[0m, \u001b[38;5;34m28\u001b[0m, \u001b[38;5;34m28\u001b[0m,    │          \u001b[38;5;34m0\u001b[0m │ block_4_depthwis… │\n",
              "│ (\u001b[38;5;33mReLU\u001b[0m)              │ \u001b[38;5;34m192\u001b[0m)              │            │                   │\n",
              "├─────────────────────┼───────────────────┼────────────┼───────────────────┤\n",
              "│ block_4_project     │ (\u001b[38;5;45mNone\u001b[0m, \u001b[38;5;34m28\u001b[0m, \u001b[38;5;34m28\u001b[0m,    │      \u001b[38;5;34m6,144\u001b[0m │ block_4_depthwis… │\n",
              "│ (\u001b[38;5;33mConv2D\u001b[0m)            │ \u001b[38;5;34m32\u001b[0m)               │            │                   │\n",
              "├─────────────────────┼───────────────────┼────────────┼───────────────────┤\n",
              "│ block_4_project_BN  │ (\u001b[38;5;45mNone\u001b[0m, \u001b[38;5;34m28\u001b[0m, \u001b[38;5;34m28\u001b[0m,    │        \u001b[38;5;34m128\u001b[0m │ block_4_project[\u001b[38;5;34m…\u001b[0m │\n",
              "│ (\u001b[38;5;33mBatchNormalizatio…\u001b[0m │ \u001b[38;5;34m32\u001b[0m)               │            │                   │\n",
              "├─────────────────────┼───────────────────┼────────────┼───────────────────┤\n",
              "│ block_4_add (\u001b[38;5;33mAdd\u001b[0m)   │ (\u001b[38;5;45mNone\u001b[0m, \u001b[38;5;34m28\u001b[0m, \u001b[38;5;34m28\u001b[0m,    │          \u001b[38;5;34m0\u001b[0m │ block_3_project_… │\n",
              "│                     │ \u001b[38;5;34m32\u001b[0m)               │            │ block_4_project_… │\n",
              "├─────────────────────┼───────────────────┼────────────┼───────────────────┤\n",
              "│ block_5_expand      │ (\u001b[38;5;45mNone\u001b[0m, \u001b[38;5;34m28\u001b[0m, \u001b[38;5;34m28\u001b[0m,    │      \u001b[38;5;34m6,144\u001b[0m │ block_4_add[\u001b[38;5;34m0\u001b[0m][\u001b[38;5;34m0\u001b[0m] │\n",
              "│ (\u001b[38;5;33mConv2D\u001b[0m)            │ \u001b[38;5;34m192\u001b[0m)              │            │                   │\n",
              "├─────────────────────┼───────────────────┼────────────┼───────────────────┤\n",
              "│ block_5_expand_BN   │ (\u001b[38;5;45mNone\u001b[0m, \u001b[38;5;34m28\u001b[0m, \u001b[38;5;34m28\u001b[0m,    │        \u001b[38;5;34m768\u001b[0m │ block_5_expand[\u001b[38;5;34m0\u001b[0m… │\n",
              "│ (\u001b[38;5;33mBatchNormalizatio…\u001b[0m │ \u001b[38;5;34m192\u001b[0m)              │            │                   │\n",
              "├─────────────────────┼───────────────────┼────────────┼───────────────────┤\n",
              "│ block_5_expand_relu │ (\u001b[38;5;45mNone\u001b[0m, \u001b[38;5;34m28\u001b[0m, \u001b[38;5;34m28\u001b[0m,    │          \u001b[38;5;34m0\u001b[0m │ block_5_expand_B… │\n",
              "│ (\u001b[38;5;33mReLU\u001b[0m)              │ \u001b[38;5;34m192\u001b[0m)              │            │                   │\n",
              "├─────────────────────┼───────────────────┼────────────┼───────────────────┤\n",
              "│ block_5_depthwise   │ (\u001b[38;5;45mNone\u001b[0m, \u001b[38;5;34m28\u001b[0m, \u001b[38;5;34m28\u001b[0m,    │      \u001b[38;5;34m1,728\u001b[0m │ block_5_expand_r… │\n",
              "│ (\u001b[38;5;33mDepthwiseConv2D\u001b[0m)   │ \u001b[38;5;34m192\u001b[0m)              │            │                   │\n",
              "├─────────────────────┼───────────────────┼────────────┼───────────────────┤\n",
              "│ block_5_depthwise_… │ (\u001b[38;5;45mNone\u001b[0m, \u001b[38;5;34m28\u001b[0m, \u001b[38;5;34m28\u001b[0m,    │        \u001b[38;5;34m768\u001b[0m │ block_5_depthwis… │\n",
              "│ (\u001b[38;5;33mBatchNormalizatio…\u001b[0m │ \u001b[38;5;34m192\u001b[0m)              │            │                   │\n",
              "├─────────────────────┼───────────────────┼────────────┼───────────────────┤\n",
              "│ block_5_depthwise_… │ (\u001b[38;5;45mNone\u001b[0m, \u001b[38;5;34m28\u001b[0m, \u001b[38;5;34m28\u001b[0m,    │          \u001b[38;5;34m0\u001b[0m │ block_5_depthwis… │\n",
              "│ (\u001b[38;5;33mReLU\u001b[0m)              │ \u001b[38;5;34m192\u001b[0m)              │            │                   │\n",
              "├─────────────────────┼───────────────────┼────────────┼───────────────────┤\n",
              "│ block_5_project     │ (\u001b[38;5;45mNone\u001b[0m, \u001b[38;5;34m28\u001b[0m, \u001b[38;5;34m28\u001b[0m,    │      \u001b[38;5;34m6,144\u001b[0m │ block_5_depthwis… │\n",
              "│ (\u001b[38;5;33mConv2D\u001b[0m)            │ \u001b[38;5;34m32\u001b[0m)               │            │                   │\n",
              "├─────────────────────┼───────────────────┼────────────┼───────────────────┤\n",
              "│ block_5_project_BN  │ (\u001b[38;5;45mNone\u001b[0m, \u001b[38;5;34m28\u001b[0m, \u001b[38;5;34m28\u001b[0m,    │        \u001b[38;5;34m128\u001b[0m │ block_5_project[\u001b[38;5;34m…\u001b[0m │\n",
              "│ (\u001b[38;5;33mBatchNormalizatio…\u001b[0m │ \u001b[38;5;34m32\u001b[0m)               │            │                   │\n",
              "├─────────────────────┼───────────────────┼────────────┼───────────────────┤\n",
              "│ block_5_add (\u001b[38;5;33mAdd\u001b[0m)   │ (\u001b[38;5;45mNone\u001b[0m, \u001b[38;5;34m28\u001b[0m, \u001b[38;5;34m28\u001b[0m,    │          \u001b[38;5;34m0\u001b[0m │ block_4_add[\u001b[38;5;34m0\u001b[0m][\u001b[38;5;34m0\u001b[0m… │\n",
              "│                     │ \u001b[38;5;34m32\u001b[0m)               │            │ block_5_project_… │\n",
              "├─────────────────────┼───────────────────┼────────────┼───────────────────┤\n",
              "│ block_6_expand      │ (\u001b[38;5;45mNone\u001b[0m, \u001b[38;5;34m28\u001b[0m, \u001b[38;5;34m28\u001b[0m,    │      \u001b[38;5;34m6,144\u001b[0m │ block_5_add[\u001b[38;5;34m0\u001b[0m][\u001b[38;5;34m0\u001b[0m] │\n",
              "│ (\u001b[38;5;33mConv2D\u001b[0m)            │ \u001b[38;5;34m192\u001b[0m)              │            │                   │\n",
              "├─────────────────────┼───────────────────┼────────────┼───────────────────┤\n",
              "│ block_6_expand_BN   │ (\u001b[38;5;45mNone\u001b[0m, \u001b[38;5;34m28\u001b[0m, \u001b[38;5;34m28\u001b[0m,    │        \u001b[38;5;34m768\u001b[0m │ block_6_expand[\u001b[38;5;34m0\u001b[0m… │\n",
              "│ (\u001b[38;5;33mBatchNormalizatio…\u001b[0m │ \u001b[38;5;34m192\u001b[0m)              │            │                   │\n",
              "├─────────────────────┼───────────────────┼────────────┼───────────────────┤\n",
              "│ block_6_expand_relu │ (\u001b[38;5;45mNone\u001b[0m, \u001b[38;5;34m28\u001b[0m, \u001b[38;5;34m28\u001b[0m,    │          \u001b[38;5;34m0\u001b[0m │ block_6_expand_B… │\n",
              "│ (\u001b[38;5;33mReLU\u001b[0m)              │ \u001b[38;5;34m192\u001b[0m)              │            │                   │\n",
              "├─────────────────────┼───────────────────┼────────────┼───────────────────┤\n",
              "│ block_6_pad         │ (\u001b[38;5;45mNone\u001b[0m, \u001b[38;5;34m29\u001b[0m, \u001b[38;5;34m29\u001b[0m,    │          \u001b[38;5;34m0\u001b[0m │ block_6_expand_r… │\n",
              "│ (\u001b[38;5;33mZeroPadding2D\u001b[0m)     │ \u001b[38;5;34m192\u001b[0m)              │            │                   │\n",
              "├─────────────────────┼───────────────────┼────────────┼───────────────────┤\n",
              "│ block_6_depthwise   │ (\u001b[38;5;45mNone\u001b[0m, \u001b[38;5;34m14\u001b[0m, \u001b[38;5;34m14\u001b[0m,    │      \u001b[38;5;34m1,728\u001b[0m │ block_6_pad[\u001b[38;5;34m0\u001b[0m][\u001b[38;5;34m0\u001b[0m] │\n",
              "│ (\u001b[38;5;33mDepthwiseConv2D\u001b[0m)   │ \u001b[38;5;34m192\u001b[0m)              │            │                   │\n",
              "├─────────────────────┼───────────────────┼────────────┼───────────────────┤\n",
              "│ block_6_depthwise_… │ (\u001b[38;5;45mNone\u001b[0m, \u001b[38;5;34m14\u001b[0m, \u001b[38;5;34m14\u001b[0m,    │        \u001b[38;5;34m768\u001b[0m │ block_6_depthwis… │\n",
              "│ (\u001b[38;5;33mBatchNormalizatio…\u001b[0m │ \u001b[38;5;34m192\u001b[0m)              │            │                   │\n",
              "├─────────────────────┼───────────────────┼────────────┼───────────────────┤\n",
              "│ block_6_depthwise_… │ (\u001b[38;5;45mNone\u001b[0m, \u001b[38;5;34m14\u001b[0m, \u001b[38;5;34m14\u001b[0m,    │          \u001b[38;5;34m0\u001b[0m │ block_6_depthwis… │\n",
              "│ (\u001b[38;5;33mReLU\u001b[0m)              │ \u001b[38;5;34m192\u001b[0m)              │            │                   │\n",
              "├─────────────────────┼───────────────────┼────────────┼───────────────────┤\n",
              "│ block_6_project     │ (\u001b[38;5;45mNone\u001b[0m, \u001b[38;5;34m14\u001b[0m, \u001b[38;5;34m14\u001b[0m,    │     \u001b[38;5;34m12,288\u001b[0m │ block_6_depthwis… │\n",
              "│ (\u001b[38;5;33mConv2D\u001b[0m)            │ \u001b[38;5;34m64\u001b[0m)               │            │                   │\n",
              "├─────────────────────┼───────────────────┼────────────┼───────────────────┤\n",
              "│ block_6_project_BN  │ (\u001b[38;5;45mNone\u001b[0m, \u001b[38;5;34m14\u001b[0m, \u001b[38;5;34m14\u001b[0m,    │        \u001b[38;5;34m256\u001b[0m │ block_6_project[\u001b[38;5;34m…\u001b[0m │\n",
              "│ (\u001b[38;5;33mBatchNormalizatio…\u001b[0m │ \u001b[38;5;34m64\u001b[0m)               │            │                   │\n",
              "├─────────────────────┼───────────────────┼────────────┼───────────────────┤\n",
              "│ block_7_expand      │ (\u001b[38;5;45mNone\u001b[0m, \u001b[38;5;34m14\u001b[0m, \u001b[38;5;34m14\u001b[0m,    │     \u001b[38;5;34m24,576\u001b[0m │ block_6_project_… │\n",
              "│ (\u001b[38;5;33mConv2D\u001b[0m)            │ \u001b[38;5;34m384\u001b[0m)              │            │                   │\n",
              "├─────────────────────┼───────────────────┼────────────┼───────────────────┤\n",
              "│ block_7_expand_BN   │ (\u001b[38;5;45mNone\u001b[0m, \u001b[38;5;34m14\u001b[0m, \u001b[38;5;34m14\u001b[0m,    │      \u001b[38;5;34m1,536\u001b[0m │ block_7_expand[\u001b[38;5;34m0\u001b[0m… │\n",
              "│ (\u001b[38;5;33mBatchNormalizatio…\u001b[0m │ \u001b[38;5;34m384\u001b[0m)              │            │                   │\n",
              "├─────────────────────┼───────────────────┼────────────┼───────────────────┤\n",
              "│ block_7_expand_relu │ (\u001b[38;5;45mNone\u001b[0m, \u001b[38;5;34m14\u001b[0m, \u001b[38;5;34m14\u001b[0m,    │          \u001b[38;5;34m0\u001b[0m │ block_7_expand_B… │\n",
              "│ (\u001b[38;5;33mReLU\u001b[0m)              │ \u001b[38;5;34m384\u001b[0m)              │            │                   │\n",
              "├─────────────────────┼───────────────────┼────────────┼───────────────────┤\n",
              "│ block_7_depthwise   │ (\u001b[38;5;45mNone\u001b[0m, \u001b[38;5;34m14\u001b[0m, \u001b[38;5;34m14\u001b[0m,    │      \u001b[38;5;34m3,456\u001b[0m │ block_7_expand_r… │\n",
              "│ (\u001b[38;5;33mDepthwiseConv2D\u001b[0m)   │ \u001b[38;5;34m384\u001b[0m)              │            │                   │\n",
              "├─────────────────────┼───────────────────┼────────────┼───────────────────┤\n",
              "│ block_7_depthwise_… │ (\u001b[38;5;45mNone\u001b[0m, \u001b[38;5;34m14\u001b[0m, \u001b[38;5;34m14\u001b[0m,    │      \u001b[38;5;34m1,536\u001b[0m │ block_7_depthwis… │\n",
              "│ (\u001b[38;5;33mBatchNormalizatio…\u001b[0m │ \u001b[38;5;34m384\u001b[0m)              │            │                   │\n",
              "├─────────────────────┼───────────────────┼────────────┼───────────────────┤\n",
              "│ block_7_depthwise_… │ (\u001b[38;5;45mNone\u001b[0m, \u001b[38;5;34m14\u001b[0m, \u001b[38;5;34m14\u001b[0m,    │          \u001b[38;5;34m0\u001b[0m │ block_7_depthwis… │\n",
              "│ (\u001b[38;5;33mReLU\u001b[0m)              │ \u001b[38;5;34m384\u001b[0m)              │            │                   │\n",
              "├─────────────────────┼───────────────────┼────────────┼───────────────────┤\n",
              "│ block_7_project     │ (\u001b[38;5;45mNone\u001b[0m, \u001b[38;5;34m14\u001b[0m, \u001b[38;5;34m14\u001b[0m,    │     \u001b[38;5;34m24,576\u001b[0m │ block_7_depthwis… │\n",
              "│ (\u001b[38;5;33mConv2D\u001b[0m)            │ \u001b[38;5;34m64\u001b[0m)               │            │                   │\n",
              "├─────────────────────┼───────────────────┼────────────┼───────────────────┤\n",
              "│ block_7_project_BN  │ (\u001b[38;5;45mNone\u001b[0m, \u001b[38;5;34m14\u001b[0m, \u001b[38;5;34m14\u001b[0m,    │        \u001b[38;5;34m256\u001b[0m │ block_7_project[\u001b[38;5;34m…\u001b[0m │\n",
              "│ (\u001b[38;5;33mBatchNormalizatio…\u001b[0m │ \u001b[38;5;34m64\u001b[0m)               │            │                   │\n",
              "├─────────────────────┼───────────────────┼────────────┼───────────────────┤\n",
              "│ block_7_add (\u001b[38;5;33mAdd\u001b[0m)   │ (\u001b[38;5;45mNone\u001b[0m, \u001b[38;5;34m14\u001b[0m, \u001b[38;5;34m14\u001b[0m,    │          \u001b[38;5;34m0\u001b[0m │ block_6_project_… │\n",
              "│                     │ \u001b[38;5;34m64\u001b[0m)               │            │ block_7_project_… │\n",
              "├─────────────────────┼───────────────────┼────────────┼───────────────────┤\n",
              "│ block_8_expand      │ (\u001b[38;5;45mNone\u001b[0m, \u001b[38;5;34m14\u001b[0m, \u001b[38;5;34m14\u001b[0m,    │     \u001b[38;5;34m24,576\u001b[0m │ block_7_add[\u001b[38;5;34m0\u001b[0m][\u001b[38;5;34m0\u001b[0m] │\n",
              "│ (\u001b[38;5;33mConv2D\u001b[0m)            │ \u001b[38;5;34m384\u001b[0m)              │            │                   │\n",
              "├─────────────────────┼───────────────────┼────────────┼───────────────────┤\n",
              "│ block_8_expand_BN   │ (\u001b[38;5;45mNone\u001b[0m, \u001b[38;5;34m14\u001b[0m, \u001b[38;5;34m14\u001b[0m,    │      \u001b[38;5;34m1,536\u001b[0m │ block_8_expand[\u001b[38;5;34m0\u001b[0m… │\n",
              "│ (\u001b[38;5;33mBatchNormalizatio…\u001b[0m │ \u001b[38;5;34m384\u001b[0m)              │            │                   │\n",
              "├─────────────────────┼───────────────────┼────────────┼───────────────────┤\n",
              "│ block_8_expand_relu │ (\u001b[38;5;45mNone\u001b[0m, \u001b[38;5;34m14\u001b[0m, \u001b[38;5;34m14\u001b[0m,    │          \u001b[38;5;34m0\u001b[0m │ block_8_expand_B… │\n",
              "│ (\u001b[38;5;33mReLU\u001b[0m)              │ \u001b[38;5;34m384\u001b[0m)              │            │                   │\n",
              "├─────────────────────┼───────────────────┼────────────┼───────────────────┤\n",
              "│ block_8_depthwise   │ (\u001b[38;5;45mNone\u001b[0m, \u001b[38;5;34m14\u001b[0m, \u001b[38;5;34m14\u001b[0m,    │      \u001b[38;5;34m3,456\u001b[0m │ block_8_expand_r… │\n",
              "│ (\u001b[38;5;33mDepthwiseConv2D\u001b[0m)   │ \u001b[38;5;34m384\u001b[0m)              │            │                   │\n",
              "├─────────────────────┼───────────────────┼────────────┼───────────────────┤\n",
              "│ block_8_depthwise_… │ (\u001b[38;5;45mNone\u001b[0m, \u001b[38;5;34m14\u001b[0m, \u001b[38;5;34m14\u001b[0m,    │      \u001b[38;5;34m1,536\u001b[0m │ block_8_depthwis… │\n",
              "│ (\u001b[38;5;33mBatchNormalizatio…\u001b[0m │ \u001b[38;5;34m384\u001b[0m)              │            │                   │\n",
              "├─────────────────────┼───────────────────┼────────────┼───────────────────┤\n",
              "│ block_8_depthwise_… │ (\u001b[38;5;45mNone\u001b[0m, \u001b[38;5;34m14\u001b[0m, \u001b[38;5;34m14\u001b[0m,    │          \u001b[38;5;34m0\u001b[0m │ block_8_depthwis… │\n",
              "│ (\u001b[38;5;33mReLU\u001b[0m)              │ \u001b[38;5;34m384\u001b[0m)              │            │                   │\n",
              "├─────────────────────┼───────────────────┼────────────┼───────────────────┤\n",
              "│ block_8_project     │ (\u001b[38;5;45mNone\u001b[0m, \u001b[38;5;34m14\u001b[0m, \u001b[38;5;34m14\u001b[0m,    │     \u001b[38;5;34m24,576\u001b[0m │ block_8_depthwis… │\n",
              "│ (\u001b[38;5;33mConv2D\u001b[0m)            │ \u001b[38;5;34m64\u001b[0m)               │            │                   │\n",
              "├─────────────────────┼───────────────────┼────────────┼───────────────────┤\n",
              "│ block_8_project_BN  │ (\u001b[38;5;45mNone\u001b[0m, \u001b[38;5;34m14\u001b[0m, \u001b[38;5;34m14\u001b[0m,    │        \u001b[38;5;34m256\u001b[0m │ block_8_project[\u001b[38;5;34m…\u001b[0m │\n",
              "│ (\u001b[38;5;33mBatchNormalizatio…\u001b[0m │ \u001b[38;5;34m64\u001b[0m)               │            │                   │\n",
              "├─────────────────────┼───────────────────┼────────────┼───────────────────┤\n",
              "│ block_8_add (\u001b[38;5;33mAdd\u001b[0m)   │ (\u001b[38;5;45mNone\u001b[0m, \u001b[38;5;34m14\u001b[0m, \u001b[38;5;34m14\u001b[0m,    │          \u001b[38;5;34m0\u001b[0m │ block_7_add[\u001b[38;5;34m0\u001b[0m][\u001b[38;5;34m0\u001b[0m… │\n",
              "│                     │ \u001b[38;5;34m64\u001b[0m)               │            │ block_8_project_… │\n",
              "├─────────────────────┼───────────────────┼────────────┼───────────────────┤\n",
              "│ block_9_expand      │ (\u001b[38;5;45mNone\u001b[0m, \u001b[38;5;34m14\u001b[0m, \u001b[38;5;34m14\u001b[0m,    │     \u001b[38;5;34m24,576\u001b[0m │ block_8_add[\u001b[38;5;34m0\u001b[0m][\u001b[38;5;34m0\u001b[0m] │\n",
              "│ (\u001b[38;5;33mConv2D\u001b[0m)            │ \u001b[38;5;34m384\u001b[0m)              │            │                   │\n",
              "├─────────────────────┼───────────────────┼────────────┼───────────────────┤\n",
              "│ block_9_expand_BN   │ (\u001b[38;5;45mNone\u001b[0m, \u001b[38;5;34m14\u001b[0m, \u001b[38;5;34m14\u001b[0m,    │      \u001b[38;5;34m1,536\u001b[0m │ block_9_expand[\u001b[38;5;34m0\u001b[0m… │\n",
              "│ (\u001b[38;5;33mBatchNormalizatio…\u001b[0m │ \u001b[38;5;34m384\u001b[0m)              │            │                   │\n",
              "├─────────────────────┼───────────────────┼────────────┼───────────────────┤\n",
              "│ block_9_expand_relu │ (\u001b[38;5;45mNone\u001b[0m, \u001b[38;5;34m14\u001b[0m, \u001b[38;5;34m14\u001b[0m,    │          \u001b[38;5;34m0\u001b[0m │ block_9_expand_B… │\n",
              "│ (\u001b[38;5;33mReLU\u001b[0m)              │ \u001b[38;5;34m384\u001b[0m)              │            │                   │\n",
              "├─────────────────────┼───────────────────┼────────────┼───────────────────┤\n",
              "│ block_9_depthwise   │ (\u001b[38;5;45mNone\u001b[0m, \u001b[38;5;34m14\u001b[0m, \u001b[38;5;34m14\u001b[0m,    │      \u001b[38;5;34m3,456\u001b[0m │ block_9_expand_r… │\n",
              "│ (\u001b[38;5;33mDepthwiseConv2D\u001b[0m)   │ \u001b[38;5;34m384\u001b[0m)              │            │                   │\n",
              "├─────────────────────┼───────────────────┼────────────┼───────────────────┤\n",
              "│ block_9_depthwise_… │ (\u001b[38;5;45mNone\u001b[0m, \u001b[38;5;34m14\u001b[0m, \u001b[38;5;34m14\u001b[0m,    │      \u001b[38;5;34m1,536\u001b[0m │ block_9_depthwis… │\n",
              "│ (\u001b[38;5;33mBatchNormalizatio…\u001b[0m │ \u001b[38;5;34m384\u001b[0m)              │            │                   │\n",
              "├─────────────────────┼───────────────────┼────────────┼───────────────────┤\n",
              "│ block_9_depthwise_… │ (\u001b[38;5;45mNone\u001b[0m, \u001b[38;5;34m14\u001b[0m, \u001b[38;5;34m14\u001b[0m,    │          \u001b[38;5;34m0\u001b[0m │ block_9_depthwis… │\n",
              "│ (\u001b[38;5;33mReLU\u001b[0m)              │ \u001b[38;5;34m384\u001b[0m)              │            │                   │\n",
              "├─────────────────────┼───────────────────┼────────────┼───────────────────┤\n",
              "│ block_9_project     │ (\u001b[38;5;45mNone\u001b[0m, \u001b[38;5;34m14\u001b[0m, \u001b[38;5;34m14\u001b[0m,    │     \u001b[38;5;34m24,576\u001b[0m │ block_9_depthwis… │\n",
              "│ (\u001b[38;5;33mConv2D\u001b[0m)            │ \u001b[38;5;34m64\u001b[0m)               │            │                   │\n",
              "├─────────────────────┼───────────────────┼────────────┼───────────────────┤\n",
              "│ block_9_project_BN  │ (\u001b[38;5;45mNone\u001b[0m, \u001b[38;5;34m14\u001b[0m, \u001b[38;5;34m14\u001b[0m,    │        \u001b[38;5;34m256\u001b[0m │ block_9_project[\u001b[38;5;34m…\u001b[0m │\n",
              "│ (\u001b[38;5;33mBatchNormalizatio…\u001b[0m │ \u001b[38;5;34m64\u001b[0m)               │            │                   │\n",
              "├─────────────────────┼───────────────────┼────────────┼───────────────────┤\n",
              "│ block_9_add (\u001b[38;5;33mAdd\u001b[0m)   │ (\u001b[38;5;45mNone\u001b[0m, \u001b[38;5;34m14\u001b[0m, \u001b[38;5;34m14\u001b[0m,    │          \u001b[38;5;34m0\u001b[0m │ block_8_add[\u001b[38;5;34m0\u001b[0m][\u001b[38;5;34m0\u001b[0m… │\n",
              "│                     │ \u001b[38;5;34m64\u001b[0m)               │            │ block_9_project_… │\n",
              "├─────────────────────┼───────────────────┼────────────┼───────────────────┤\n",
              "│ block_10_expand     │ (\u001b[38;5;45mNone\u001b[0m, \u001b[38;5;34m14\u001b[0m, \u001b[38;5;34m14\u001b[0m,    │     \u001b[38;5;34m24,576\u001b[0m │ block_9_add[\u001b[38;5;34m0\u001b[0m][\u001b[38;5;34m0\u001b[0m] │\n",
              "│ (\u001b[38;5;33mConv2D\u001b[0m)            │ \u001b[38;5;34m384\u001b[0m)              │            │                   │\n",
              "├─────────────────────┼───────────────────┼────────────┼───────────────────┤\n",
              "│ block_10_expand_BN  │ (\u001b[38;5;45mNone\u001b[0m, \u001b[38;5;34m14\u001b[0m, \u001b[38;5;34m14\u001b[0m,    │      \u001b[38;5;34m1,536\u001b[0m │ block_10_expand[\u001b[38;5;34m…\u001b[0m │\n",
              "│ (\u001b[38;5;33mBatchNormalizatio…\u001b[0m │ \u001b[38;5;34m384\u001b[0m)              │            │                   │\n",
              "├─────────────────────┼───────────────────┼────────────┼───────────────────┤\n",
              "│ block_10_expand_re… │ (\u001b[38;5;45mNone\u001b[0m, \u001b[38;5;34m14\u001b[0m, \u001b[38;5;34m14\u001b[0m,    │          \u001b[38;5;34m0\u001b[0m │ block_10_expand_… │\n",
              "│ (\u001b[38;5;33mReLU\u001b[0m)              │ \u001b[38;5;34m384\u001b[0m)              │            │                   │\n",
              "├─────────────────────┼───────────────────┼────────────┼───────────────────┤\n",
              "│ block_10_depthwise  │ (\u001b[38;5;45mNone\u001b[0m, \u001b[38;5;34m14\u001b[0m, \u001b[38;5;34m14\u001b[0m,    │      \u001b[38;5;34m3,456\u001b[0m │ block_10_expand_… │\n",
              "│ (\u001b[38;5;33mDepthwiseConv2D\u001b[0m)   │ \u001b[38;5;34m384\u001b[0m)              │            │                   │\n",
              "├─────────────────────┼───────────────────┼────────────┼───────────────────┤\n",
              "│ block_10_depthwise… │ (\u001b[38;5;45mNone\u001b[0m, \u001b[38;5;34m14\u001b[0m, \u001b[38;5;34m14\u001b[0m,    │      \u001b[38;5;34m1,536\u001b[0m │ block_10_depthwi… │\n",
              "│ (\u001b[38;5;33mBatchNormalizatio…\u001b[0m │ \u001b[38;5;34m384\u001b[0m)              │            │                   │\n",
              "├─────────────────────┼───────────────────┼────────────┼───────────────────┤\n",
              "│ block_10_depthwise… │ (\u001b[38;5;45mNone\u001b[0m, \u001b[38;5;34m14\u001b[0m, \u001b[38;5;34m14\u001b[0m,    │          \u001b[38;5;34m0\u001b[0m │ block_10_depthwi… │\n",
              "│ (\u001b[38;5;33mReLU\u001b[0m)              │ \u001b[38;5;34m384\u001b[0m)              │            │                   │\n",
              "├─────────────────────┼───────────────────┼────────────┼───────────────────┤\n",
              "│ block_10_project    │ (\u001b[38;5;45mNone\u001b[0m, \u001b[38;5;34m14\u001b[0m, \u001b[38;5;34m14\u001b[0m,    │     \u001b[38;5;34m36,864\u001b[0m │ block_10_depthwi… │\n",
              "│ (\u001b[38;5;33mConv2D\u001b[0m)            │ \u001b[38;5;34m96\u001b[0m)               │            │                   │\n",
              "├─────────────────────┼───────────────────┼────────────┼───────────────────┤\n",
              "│ block_10_project_BN │ (\u001b[38;5;45mNone\u001b[0m, \u001b[38;5;34m14\u001b[0m, \u001b[38;5;34m14\u001b[0m,    │        \u001b[38;5;34m384\u001b[0m │ block_10_project… │\n",
              "│ (\u001b[38;5;33mBatchNormalizatio…\u001b[0m │ \u001b[38;5;34m96\u001b[0m)               │            │                   │\n",
              "├─────────────────────┼───────────────────┼────────────┼───────────────────┤\n",
              "│ block_11_expand     │ (\u001b[38;5;45mNone\u001b[0m, \u001b[38;5;34m14\u001b[0m, \u001b[38;5;34m14\u001b[0m,    │     \u001b[38;5;34m55,296\u001b[0m │ block_10_project… │\n",
              "│ (\u001b[38;5;33mConv2D\u001b[0m)            │ \u001b[38;5;34m576\u001b[0m)              │            │                   │\n",
              "├─────────────────────┼───────────────────┼────────────┼───────────────────┤\n",
              "│ block_11_expand_BN  │ (\u001b[38;5;45mNone\u001b[0m, \u001b[38;5;34m14\u001b[0m, \u001b[38;5;34m14\u001b[0m,    │      \u001b[38;5;34m2,304\u001b[0m │ block_11_expand[\u001b[38;5;34m…\u001b[0m │\n",
              "│ (\u001b[38;5;33mBatchNormalizatio…\u001b[0m │ \u001b[38;5;34m576\u001b[0m)              │            │                   │\n",
              "├─────────────────────┼───────────────────┼────────────┼───────────────────┤\n",
              "│ block_11_expand_re… │ (\u001b[38;5;45mNone\u001b[0m, \u001b[38;5;34m14\u001b[0m, \u001b[38;5;34m14\u001b[0m,    │          \u001b[38;5;34m0\u001b[0m │ block_11_expand_… │\n",
              "│ (\u001b[38;5;33mReLU\u001b[0m)              │ \u001b[38;5;34m576\u001b[0m)              │            │                   │\n",
              "├─────────────────────┼───────────────────┼────────────┼───────────────────┤\n",
              "│ block_11_depthwise  │ (\u001b[38;5;45mNone\u001b[0m, \u001b[38;5;34m14\u001b[0m, \u001b[38;5;34m14\u001b[0m,    │      \u001b[38;5;34m5,184\u001b[0m │ block_11_expand_… │\n",
              "│ (\u001b[38;5;33mDepthwiseConv2D\u001b[0m)   │ \u001b[38;5;34m576\u001b[0m)              │            │                   │\n",
              "├─────────────────────┼───────────────────┼────────────┼───────────────────┤\n",
              "│ block_11_depthwise… │ (\u001b[38;5;45mNone\u001b[0m, \u001b[38;5;34m14\u001b[0m, \u001b[38;5;34m14\u001b[0m,    │      \u001b[38;5;34m2,304\u001b[0m │ block_11_depthwi… │\n",
              "│ (\u001b[38;5;33mBatchNormalizatio…\u001b[0m │ \u001b[38;5;34m576\u001b[0m)              │            │                   │\n",
              "├─────────────────────┼───────────────────┼────────────┼───────────────────┤\n",
              "│ block_11_depthwise… │ (\u001b[38;5;45mNone\u001b[0m, \u001b[38;5;34m14\u001b[0m, \u001b[38;5;34m14\u001b[0m,    │          \u001b[38;5;34m0\u001b[0m │ block_11_depthwi… │\n",
              "│ (\u001b[38;5;33mReLU\u001b[0m)              │ \u001b[38;5;34m576\u001b[0m)              │            │                   │\n",
              "├─────────────────────┼───────────────────┼────────────┼───────────────────┤\n",
              "│ block_11_project    │ (\u001b[38;5;45mNone\u001b[0m, \u001b[38;5;34m14\u001b[0m, \u001b[38;5;34m14\u001b[0m,    │     \u001b[38;5;34m55,296\u001b[0m │ block_11_depthwi… │\n",
              "│ (\u001b[38;5;33mConv2D\u001b[0m)            │ \u001b[38;5;34m96\u001b[0m)               │            │                   │\n",
              "├─────────────────────┼───────────────────┼────────────┼───────────────────┤\n",
              "│ block_11_project_BN │ (\u001b[38;5;45mNone\u001b[0m, \u001b[38;5;34m14\u001b[0m, \u001b[38;5;34m14\u001b[0m,    │        \u001b[38;5;34m384\u001b[0m │ block_11_project… │\n",
              "│ (\u001b[38;5;33mBatchNormalizatio…\u001b[0m │ \u001b[38;5;34m96\u001b[0m)               │            │                   │\n",
              "├─────────────────────┼───────────────────┼────────────┼───────────────────┤\n",
              "│ block_11_add (\u001b[38;5;33mAdd\u001b[0m)  │ (\u001b[38;5;45mNone\u001b[0m, \u001b[38;5;34m14\u001b[0m, \u001b[38;5;34m14\u001b[0m,    │          \u001b[38;5;34m0\u001b[0m │ block_10_project… │\n",
              "│                     │ \u001b[38;5;34m96\u001b[0m)               │            │ block_11_project… │\n",
              "├─────────────────────┼───────────────────┼────────────┼───────────────────┤\n",
              "│ block_12_expand     │ (\u001b[38;5;45mNone\u001b[0m, \u001b[38;5;34m14\u001b[0m, \u001b[38;5;34m14\u001b[0m,    │     \u001b[38;5;34m55,296\u001b[0m │ block_11_add[\u001b[38;5;34m0\u001b[0m][\u001b[38;5;34m…\u001b[0m │\n",
              "│ (\u001b[38;5;33mConv2D\u001b[0m)            │ \u001b[38;5;34m576\u001b[0m)              │            │                   │\n",
              "├─────────────────────┼───────────────────┼────────────┼───────────────────┤\n",
              "│ block_12_expand_BN  │ (\u001b[38;5;45mNone\u001b[0m, \u001b[38;5;34m14\u001b[0m, \u001b[38;5;34m14\u001b[0m,    │      \u001b[38;5;34m2,304\u001b[0m │ block_12_expand[\u001b[38;5;34m…\u001b[0m │\n",
              "│ (\u001b[38;5;33mBatchNormalizatio…\u001b[0m │ \u001b[38;5;34m576\u001b[0m)              │            │                   │\n",
              "├─────────────────────┼───────────────────┼────────────┼───────────────────┤\n",
              "│ block_12_expand_re… │ (\u001b[38;5;45mNone\u001b[0m, \u001b[38;5;34m14\u001b[0m, \u001b[38;5;34m14\u001b[0m,    │          \u001b[38;5;34m0\u001b[0m │ block_12_expand_… │\n",
              "│ (\u001b[38;5;33mReLU\u001b[0m)              │ \u001b[38;5;34m576\u001b[0m)              │            │                   │\n",
              "├─────────────────────┼───────────────────┼────────────┼───────────────────┤\n",
              "│ block_12_depthwise  │ (\u001b[38;5;45mNone\u001b[0m, \u001b[38;5;34m14\u001b[0m, \u001b[38;5;34m14\u001b[0m,    │      \u001b[38;5;34m5,184\u001b[0m │ block_12_expand_… │\n",
              "│ (\u001b[38;5;33mDepthwiseConv2D\u001b[0m)   │ \u001b[38;5;34m576\u001b[0m)              │            │                   │\n",
              "├─────────────────────┼───────────────────┼────────────┼───────────────────┤\n",
              "│ block_12_depthwise… │ (\u001b[38;5;45mNone\u001b[0m, \u001b[38;5;34m14\u001b[0m, \u001b[38;5;34m14\u001b[0m,    │      \u001b[38;5;34m2,304\u001b[0m │ block_12_depthwi… │\n",
              "│ (\u001b[38;5;33mBatchNormalizatio…\u001b[0m │ \u001b[38;5;34m576\u001b[0m)              │            │                   │\n",
              "├─────────────────────┼───────────────────┼────────────┼───────────────────┤\n",
              "│ block_12_depthwise… │ (\u001b[38;5;45mNone\u001b[0m, \u001b[38;5;34m14\u001b[0m, \u001b[38;5;34m14\u001b[0m,    │          \u001b[38;5;34m0\u001b[0m │ block_12_depthwi… │\n",
              "│ (\u001b[38;5;33mReLU\u001b[0m)              │ \u001b[38;5;34m576\u001b[0m)              │            │                   │\n",
              "├─────────────────────┼───────────────────┼────────────┼───────────────────┤\n",
              "│ block_12_project    │ (\u001b[38;5;45mNone\u001b[0m, \u001b[38;5;34m14\u001b[0m, \u001b[38;5;34m14\u001b[0m,    │     \u001b[38;5;34m55,296\u001b[0m │ block_12_depthwi… │\n",
              "│ (\u001b[38;5;33mConv2D\u001b[0m)            │ \u001b[38;5;34m96\u001b[0m)               │            │                   │\n",
              "├─────────────────────┼───────────────────┼────────────┼───────────────────┤\n",
              "│ block_12_project_BN │ (\u001b[38;5;45mNone\u001b[0m, \u001b[38;5;34m14\u001b[0m, \u001b[38;5;34m14\u001b[0m,    │        \u001b[38;5;34m384\u001b[0m │ block_12_project… │\n",
              "│ (\u001b[38;5;33mBatchNormalizatio…\u001b[0m │ \u001b[38;5;34m96\u001b[0m)               │            │                   │\n",
              "├─────────────────────┼───────────────────┼────────────┼───────────────────┤\n",
              "│ block_12_add (\u001b[38;5;33mAdd\u001b[0m)  │ (\u001b[38;5;45mNone\u001b[0m, \u001b[38;5;34m14\u001b[0m, \u001b[38;5;34m14\u001b[0m,    │          \u001b[38;5;34m0\u001b[0m │ block_11_add[\u001b[38;5;34m0\u001b[0m][\u001b[38;5;34m…\u001b[0m │\n",
              "│                     │ \u001b[38;5;34m96\u001b[0m)               │            │ block_12_project… │\n",
              "├─────────────────────┼───────────────────┼────────────┼───────────────────┤\n",
              "│ block_13_expand     │ (\u001b[38;5;45mNone\u001b[0m, \u001b[38;5;34m14\u001b[0m, \u001b[38;5;34m14\u001b[0m,    │     \u001b[38;5;34m55,296\u001b[0m │ block_12_add[\u001b[38;5;34m0\u001b[0m][\u001b[38;5;34m…\u001b[0m │\n",
              "│ (\u001b[38;5;33mConv2D\u001b[0m)            │ \u001b[38;5;34m576\u001b[0m)              │            │                   │\n",
              "├─────────────────────┼───────────────────┼────────────┼───────────────────┤\n",
              "│ block_13_expand_BN  │ (\u001b[38;5;45mNone\u001b[0m, \u001b[38;5;34m14\u001b[0m, \u001b[38;5;34m14\u001b[0m,    │      \u001b[38;5;34m2,304\u001b[0m │ block_13_expand[\u001b[38;5;34m…\u001b[0m │\n",
              "│ (\u001b[38;5;33mBatchNormalizatio…\u001b[0m │ \u001b[38;5;34m576\u001b[0m)              │            │                   │\n",
              "├─────────────────────┼───────────────────┼────────────┼───────────────────┤\n",
              "│ block_13_expand_re… │ (\u001b[38;5;45mNone\u001b[0m, \u001b[38;5;34m14\u001b[0m, \u001b[38;5;34m14\u001b[0m,    │          \u001b[38;5;34m0\u001b[0m │ block_13_expand_… │\n",
              "│ (\u001b[38;5;33mReLU\u001b[0m)              │ \u001b[38;5;34m576\u001b[0m)              │            │                   │\n",
              "├─────────────────────┼───────────────────┼────────────┼───────────────────┤\n",
              "│ block_13_pad        │ (\u001b[38;5;45mNone\u001b[0m, \u001b[38;5;34m15\u001b[0m, \u001b[38;5;34m15\u001b[0m,    │          \u001b[38;5;34m0\u001b[0m │ block_13_expand_… │\n",
              "│ (\u001b[38;5;33mZeroPadding2D\u001b[0m)     │ \u001b[38;5;34m576\u001b[0m)              │            │                   │\n",
              "├─────────────────────┼───────────────────┼────────────┼───────────────────┤\n",
              "│ block_13_depthwise  │ (\u001b[38;5;45mNone\u001b[0m, \u001b[38;5;34m7\u001b[0m, \u001b[38;5;34m7\u001b[0m, \u001b[38;5;34m576\u001b[0m) │      \u001b[38;5;34m5,184\u001b[0m │ block_13_pad[\u001b[38;5;34m0\u001b[0m][\u001b[38;5;34m…\u001b[0m │\n",
              "│ (\u001b[38;5;33mDepthwiseConv2D\u001b[0m)   │                   │            │                   │\n",
              "├─────────────────────┼───────────────────┼────────────┼───────────────────┤\n",
              "│ block_13_depthwise… │ (\u001b[38;5;45mNone\u001b[0m, \u001b[38;5;34m7\u001b[0m, \u001b[38;5;34m7\u001b[0m, \u001b[38;5;34m576\u001b[0m) │      \u001b[38;5;34m2,304\u001b[0m │ block_13_depthwi… │\n",
              "│ (\u001b[38;5;33mBatchNormalizatio…\u001b[0m │                   │            │                   │\n",
              "├─────────────────────┼───────────────────┼────────────┼───────────────────┤\n",
              "│ block_13_depthwise… │ (\u001b[38;5;45mNone\u001b[0m, \u001b[38;5;34m7\u001b[0m, \u001b[38;5;34m7\u001b[0m, \u001b[38;5;34m576\u001b[0m) │          \u001b[38;5;34m0\u001b[0m │ block_13_depthwi… │\n",
              "│ (\u001b[38;5;33mReLU\u001b[0m)              │                   │            │                   │\n",
              "├─────────────────────┼───────────────────┼────────────┼───────────────────┤\n",
              "│ block_13_project    │ (\u001b[38;5;45mNone\u001b[0m, \u001b[38;5;34m7\u001b[0m, \u001b[38;5;34m7\u001b[0m, \u001b[38;5;34m160\u001b[0m) │     \u001b[38;5;34m92,160\u001b[0m │ block_13_depthwi… │\n",
              "│ (\u001b[38;5;33mConv2D\u001b[0m)            │                   │            │                   │\n",
              "├─────────────────────┼───────────────────┼────────────┼───────────────────┤\n",
              "│ block_13_project_BN │ (\u001b[38;5;45mNone\u001b[0m, \u001b[38;5;34m7\u001b[0m, \u001b[38;5;34m7\u001b[0m, \u001b[38;5;34m160\u001b[0m) │        \u001b[38;5;34m640\u001b[0m │ block_13_project… │\n",
              "│ (\u001b[38;5;33mBatchNormalizatio…\u001b[0m │                   │            │                   │\n",
              "├─────────────────────┼───────────────────┼────────────┼───────────────────┤\n",
              "│ block_14_expand     │ (\u001b[38;5;45mNone\u001b[0m, \u001b[38;5;34m7\u001b[0m, \u001b[38;5;34m7\u001b[0m, \u001b[38;5;34m960\u001b[0m) │    \u001b[38;5;34m153,600\u001b[0m │ block_13_project… │\n",
              "│ (\u001b[38;5;33mConv2D\u001b[0m)            │                   │            │                   │\n",
              "├─────────────────────┼───────────────────┼────────────┼───────────────────┤\n",
              "│ block_14_expand_BN  │ (\u001b[38;5;45mNone\u001b[0m, \u001b[38;5;34m7\u001b[0m, \u001b[38;5;34m7\u001b[0m, \u001b[38;5;34m960\u001b[0m) │      \u001b[38;5;34m3,840\u001b[0m │ block_14_expand[\u001b[38;5;34m…\u001b[0m │\n",
              "│ (\u001b[38;5;33mBatchNormalizatio…\u001b[0m │                   │            │                   │\n",
              "├─────────────────────┼───────────────────┼────────────┼───────────────────┤\n",
              "│ block_14_expand_re… │ (\u001b[38;5;45mNone\u001b[0m, \u001b[38;5;34m7\u001b[0m, \u001b[38;5;34m7\u001b[0m, \u001b[38;5;34m960\u001b[0m) │          \u001b[38;5;34m0\u001b[0m │ block_14_expand_… │\n",
              "│ (\u001b[38;5;33mReLU\u001b[0m)              │                   │            │                   │\n",
              "├─────────────────────┼───────────────────┼────────────┼───────────────────┤\n",
              "│ block_14_depthwise  │ (\u001b[38;5;45mNone\u001b[0m, \u001b[38;5;34m7\u001b[0m, \u001b[38;5;34m7\u001b[0m, \u001b[38;5;34m960\u001b[0m) │      \u001b[38;5;34m8,640\u001b[0m │ block_14_expand_… │\n",
              "│ (\u001b[38;5;33mDepthwiseConv2D\u001b[0m)   │                   │            │                   │\n",
              "├─────────────────────┼───────────────────┼────────────┼───────────────────┤\n",
              "│ block_14_depthwise… │ (\u001b[38;5;45mNone\u001b[0m, \u001b[38;5;34m7\u001b[0m, \u001b[38;5;34m7\u001b[0m, \u001b[38;5;34m960\u001b[0m) │      \u001b[38;5;34m3,840\u001b[0m │ block_14_depthwi… │\n",
              "│ (\u001b[38;5;33mBatchNormalizatio…\u001b[0m │                   │            │                   │\n",
              "├─────────────────────┼───────────────────┼────────────┼───────────────────┤\n",
              "│ block_14_depthwise… │ (\u001b[38;5;45mNone\u001b[0m, \u001b[38;5;34m7\u001b[0m, \u001b[38;5;34m7\u001b[0m, \u001b[38;5;34m960\u001b[0m) │          \u001b[38;5;34m0\u001b[0m │ block_14_depthwi… │\n",
              "│ (\u001b[38;5;33mReLU\u001b[0m)              │                   │            │                   │\n",
              "├─────────────────────┼───────────────────┼────────────┼───────────────────┤\n",
              "│ block_14_project    │ (\u001b[38;5;45mNone\u001b[0m, \u001b[38;5;34m7\u001b[0m, \u001b[38;5;34m7\u001b[0m, \u001b[38;5;34m160\u001b[0m) │    \u001b[38;5;34m153,600\u001b[0m │ block_14_depthwi… │\n",
              "│ (\u001b[38;5;33mConv2D\u001b[0m)            │                   │            │                   │\n",
              "├─────────────────────┼───────────────────┼────────────┼───────────────────┤\n",
              "│ block_14_project_BN │ (\u001b[38;5;45mNone\u001b[0m, \u001b[38;5;34m7\u001b[0m, \u001b[38;5;34m7\u001b[0m, \u001b[38;5;34m160\u001b[0m) │        \u001b[38;5;34m640\u001b[0m │ block_14_project… │\n",
              "│ (\u001b[38;5;33mBatchNormalizatio…\u001b[0m │                   │            │                   │\n",
              "├─────────────────────┼───────────────────┼────────────┼───────────────────┤\n",
              "│ block_14_add (\u001b[38;5;33mAdd\u001b[0m)  │ (\u001b[38;5;45mNone\u001b[0m, \u001b[38;5;34m7\u001b[0m, \u001b[38;5;34m7\u001b[0m, \u001b[38;5;34m160\u001b[0m) │          \u001b[38;5;34m0\u001b[0m │ block_13_project… │\n",
              "│                     │                   │            │ block_14_project… │\n",
              "├─────────────────────┼───────────────────┼────────────┼───────────────────┤\n",
              "│ block_15_expand     │ (\u001b[38;5;45mNone\u001b[0m, \u001b[38;5;34m7\u001b[0m, \u001b[38;5;34m7\u001b[0m, \u001b[38;5;34m960\u001b[0m) │    \u001b[38;5;34m153,600\u001b[0m │ block_14_add[\u001b[38;5;34m0\u001b[0m][\u001b[38;5;34m…\u001b[0m │\n",
              "│ (\u001b[38;5;33mConv2D\u001b[0m)            │                   │            │                   │\n",
              "├─────────────────────┼───────────────────┼────────────┼───────────────────┤\n",
              "│ block_15_expand_BN  │ (\u001b[38;5;45mNone\u001b[0m, \u001b[38;5;34m7\u001b[0m, \u001b[38;5;34m7\u001b[0m, \u001b[38;5;34m960\u001b[0m) │      \u001b[38;5;34m3,840\u001b[0m │ block_15_expand[\u001b[38;5;34m…\u001b[0m │\n",
              "│ (\u001b[38;5;33mBatchNormalizatio…\u001b[0m │                   │            │                   │\n",
              "├─────────────────────┼───────────────────┼────────────┼───────────────────┤\n",
              "│ block_15_expand_re… │ (\u001b[38;5;45mNone\u001b[0m, \u001b[38;5;34m7\u001b[0m, \u001b[38;5;34m7\u001b[0m, \u001b[38;5;34m960\u001b[0m) │          \u001b[38;5;34m0\u001b[0m │ block_15_expand_… │\n",
              "│ (\u001b[38;5;33mReLU\u001b[0m)              │                   │            │                   │\n",
              "├─────────────────────┼───────────────────┼────────────┼───────────────────┤\n",
              "│ block_15_depthwise  │ (\u001b[38;5;45mNone\u001b[0m, \u001b[38;5;34m7\u001b[0m, \u001b[38;5;34m7\u001b[0m, \u001b[38;5;34m960\u001b[0m) │      \u001b[38;5;34m8,640\u001b[0m │ block_15_expand_… │\n",
              "│ (\u001b[38;5;33mDepthwiseConv2D\u001b[0m)   │                   │            │                   │\n",
              "├─────────────────────┼───────────────────┼────────────┼───────────────────┤\n",
              "│ block_15_depthwise… │ (\u001b[38;5;45mNone\u001b[0m, \u001b[38;5;34m7\u001b[0m, \u001b[38;5;34m7\u001b[0m, \u001b[38;5;34m960\u001b[0m) │      \u001b[38;5;34m3,840\u001b[0m │ block_15_depthwi… │\n",
              "│ (\u001b[38;5;33mBatchNormalizatio…\u001b[0m │                   │            │                   │\n",
              "├─────────────────────┼───────────────────┼────────────┼───────────────────┤\n",
              "│ block_15_depthwise… │ (\u001b[38;5;45mNone\u001b[0m, \u001b[38;5;34m7\u001b[0m, \u001b[38;5;34m7\u001b[0m, \u001b[38;5;34m960\u001b[0m) │          \u001b[38;5;34m0\u001b[0m │ block_15_depthwi… │\n",
              "│ (\u001b[38;5;33mReLU\u001b[0m)              │                   │            │                   │\n",
              "├─────────────────────┼───────────────────┼────────────┼───────────────────┤\n",
              "│ block_15_project    │ (\u001b[38;5;45mNone\u001b[0m, \u001b[38;5;34m7\u001b[0m, \u001b[38;5;34m7\u001b[0m, \u001b[38;5;34m160\u001b[0m) │    \u001b[38;5;34m153,600\u001b[0m │ block_15_depthwi… │\n",
              "│ (\u001b[38;5;33mConv2D\u001b[0m)            │                   │            │                   │\n",
              "├─────────────────────┼───────────────────┼────────────┼───────────────────┤\n",
              "│ block_15_project_BN │ (\u001b[38;5;45mNone\u001b[0m, \u001b[38;5;34m7\u001b[0m, \u001b[38;5;34m7\u001b[0m, \u001b[38;5;34m160\u001b[0m) │        \u001b[38;5;34m640\u001b[0m │ block_15_project… │\n",
              "│ (\u001b[38;5;33mBatchNormalizatio…\u001b[0m │                   │            │                   │\n",
              "├─────────────────────┼───────────────────┼────────────┼───────────────────┤\n",
              "│ block_15_add (\u001b[38;5;33mAdd\u001b[0m)  │ (\u001b[38;5;45mNone\u001b[0m, \u001b[38;5;34m7\u001b[0m, \u001b[38;5;34m7\u001b[0m, \u001b[38;5;34m160\u001b[0m) │          \u001b[38;5;34m0\u001b[0m │ block_14_add[\u001b[38;5;34m0\u001b[0m][\u001b[38;5;34m…\u001b[0m │\n",
              "│                     │                   │            │ block_15_project… │\n",
              "├─────────────────────┼───────────────────┼────────────┼───────────────────┤\n",
              "│ block_16_expand     │ (\u001b[38;5;45mNone\u001b[0m, \u001b[38;5;34m7\u001b[0m, \u001b[38;5;34m7\u001b[0m, \u001b[38;5;34m960\u001b[0m) │    \u001b[38;5;34m153,600\u001b[0m │ block_15_add[\u001b[38;5;34m0\u001b[0m][\u001b[38;5;34m…\u001b[0m │\n",
              "│ (\u001b[38;5;33mConv2D\u001b[0m)            │                   │            │                   │\n",
              "├─────────────────────┼───────────────────┼────────────┼───────────────────┤\n",
              "│ block_16_expand_BN  │ (\u001b[38;5;45mNone\u001b[0m, \u001b[38;5;34m7\u001b[0m, \u001b[38;5;34m7\u001b[0m, \u001b[38;5;34m960\u001b[0m) │      \u001b[38;5;34m3,840\u001b[0m │ block_16_expand[\u001b[38;5;34m…\u001b[0m │\n",
              "│ (\u001b[38;5;33mBatchNormalizatio…\u001b[0m │                   │            │                   │\n",
              "├─────────────────────┼───────────────────┼────────────┼───────────────────┤\n",
              "│ block_16_expand_re… │ (\u001b[38;5;45mNone\u001b[0m, \u001b[38;5;34m7\u001b[0m, \u001b[38;5;34m7\u001b[0m, \u001b[38;5;34m960\u001b[0m) │          \u001b[38;5;34m0\u001b[0m │ block_16_expand_… │\n",
              "│ (\u001b[38;5;33mReLU\u001b[0m)              │                   │            │                   │\n",
              "├─────────────────────┼───────────────────┼────────────┼───────────────────┤\n",
              "│ block_16_depthwise  │ (\u001b[38;5;45mNone\u001b[0m, \u001b[38;5;34m7\u001b[0m, \u001b[38;5;34m7\u001b[0m, \u001b[38;5;34m960\u001b[0m) │      \u001b[38;5;34m8,640\u001b[0m │ block_16_expand_… │\n",
              "│ (\u001b[38;5;33mDepthwiseConv2D\u001b[0m)   │                   │            │                   │\n",
              "├─────────────────────┼───────────────────┼────────────┼───────────────────┤\n",
              "│ block_16_depthwise… │ (\u001b[38;5;45mNone\u001b[0m, \u001b[38;5;34m7\u001b[0m, \u001b[38;5;34m7\u001b[0m, \u001b[38;5;34m960\u001b[0m) │      \u001b[38;5;34m3,840\u001b[0m │ block_16_depthwi… │\n",
              "│ (\u001b[38;5;33mBatchNormalizatio…\u001b[0m │                   │            │                   │\n",
              "├─────────────────────┼───────────────────┼────────────┼───────────────────┤\n",
              "│ block_16_depthwise… │ (\u001b[38;5;45mNone\u001b[0m, \u001b[38;5;34m7\u001b[0m, \u001b[38;5;34m7\u001b[0m, \u001b[38;5;34m960\u001b[0m) │          \u001b[38;5;34m0\u001b[0m │ block_16_depthwi… │\n",
              "│ (\u001b[38;5;33mReLU\u001b[0m)              │                   │            │                   │\n",
              "├─────────────────────┼───────────────────┼────────────┼───────────────────┤\n",
              "│ block_16_project    │ (\u001b[38;5;45mNone\u001b[0m, \u001b[38;5;34m7\u001b[0m, \u001b[38;5;34m7\u001b[0m, \u001b[38;5;34m320\u001b[0m) │    \u001b[38;5;34m307,200\u001b[0m │ block_16_depthwi… │\n",
              "│ (\u001b[38;5;33mConv2D\u001b[0m)            │                   │            │                   │\n",
              "├─────────────────────┼───────────────────┼────────────┼───────────────────┤\n",
              "│ block_16_project_BN │ (\u001b[38;5;45mNone\u001b[0m, \u001b[38;5;34m7\u001b[0m, \u001b[38;5;34m7\u001b[0m, \u001b[38;5;34m320\u001b[0m) │      \u001b[38;5;34m1,280\u001b[0m │ block_16_project… │\n",
              "│ (\u001b[38;5;33mBatchNormalizatio…\u001b[0m │                   │            │                   │\n",
              "├─────────────────────┼───────────────────┼────────────┼───────────────────┤\n",
              "│ Conv_1 (\u001b[38;5;33mConv2D\u001b[0m)     │ (\u001b[38;5;45mNone\u001b[0m, \u001b[38;5;34m7\u001b[0m, \u001b[38;5;34m7\u001b[0m,      │    \u001b[38;5;34m409,600\u001b[0m │ block_16_project… │\n",
              "│                     │ \u001b[38;5;34m1280\u001b[0m)             │            │                   │\n",
              "├─────────────────────┼───────────────────┼────────────┼───────────────────┤\n",
              "│ Conv_1_bn           │ (\u001b[38;5;45mNone\u001b[0m, \u001b[38;5;34m7\u001b[0m, \u001b[38;5;34m7\u001b[0m,      │      \u001b[38;5;34m5,120\u001b[0m │ Conv_1[\u001b[38;5;34m0\u001b[0m][\u001b[38;5;34m0\u001b[0m]      │\n",
              "│ (\u001b[38;5;33mBatchNormalizatio…\u001b[0m │ \u001b[38;5;34m1280\u001b[0m)             │            │                   │\n",
              "├─────────────────────┼───────────────────┼────────────┼───────────────────┤\n",
              "│ out_relu (\u001b[38;5;33mReLU\u001b[0m)     │ (\u001b[38;5;45mNone\u001b[0m, \u001b[38;5;34m7\u001b[0m, \u001b[38;5;34m7\u001b[0m,      │          \u001b[38;5;34m0\u001b[0m │ Conv_1_bn[\u001b[38;5;34m0\u001b[0m][\u001b[38;5;34m0\u001b[0m]   │\n",
              "│                     │ \u001b[38;5;34m1280\u001b[0m)             │            │                   │\n",
              "├─────────────────────┼───────────────────┼────────────┼───────────────────┤\n",
              "│ global_average_poo… │ (\u001b[38;5;45mNone\u001b[0m, \u001b[38;5;34m1280\u001b[0m)      │          \u001b[38;5;34m0\u001b[0m │ out_relu[\u001b[38;5;34m0\u001b[0m][\u001b[38;5;34m0\u001b[0m]    │\n",
              "│ (\u001b[38;5;33mGlobalAveragePool…\u001b[0m │                   │            │                   │\n",
              "├─────────────────────┼───────────────────┼────────────┼───────────────────┤\n",
              "│ dropout_2 (\u001b[38;5;33mDropout\u001b[0m) │ (\u001b[38;5;45mNone\u001b[0m, \u001b[38;5;34m1280\u001b[0m)      │          \u001b[38;5;34m0\u001b[0m │ global_average_p… │\n",
              "├─────────────────────┼───────────────────┼────────────┼───────────────────┤\n",
              "│ dense_4 (\u001b[38;5;33mDense\u001b[0m)     │ (\u001b[38;5;45mNone\u001b[0m, \u001b[38;5;34m4\u001b[0m)         │      \u001b[38;5;34m5,124\u001b[0m │ dropout_2[\u001b[38;5;34m0\u001b[0m][\u001b[38;5;34m0\u001b[0m]   │\n",
              "└─────────────────────┴───────────────────┴────────────┴───────────────────┘\n"
            ],
            "text/html": [
              "<pre style=\"white-space:pre;overflow-x:auto;line-height:normal;font-family:Menlo,'DejaVu Sans Mono',consolas,'Courier New',monospace\">┏━━━━━━━━━━━━━━━━━━━━━┳━━━━━━━━━━━━━━━━━━━┳━━━━━━━━━━━━┳━━━━━━━━━━━━━━━━━━━┓\n",
              "┃<span style=\"font-weight: bold\"> Layer (type)        </span>┃<span style=\"font-weight: bold\"> Output Shape      </span>┃<span style=\"font-weight: bold\">    Param # </span>┃<span style=\"font-weight: bold\"> Connected to      </span>┃\n",
              "┡━━━━━━━━━━━━━━━━━━━━━╇━━━━━━━━━━━━━━━━━━━╇━━━━━━━━━━━━╇━━━━━━━━━━━━━━━━━━━┩\n",
              "│ input_layer_2       │ (<span style=\"color: #00d7ff; text-decoration-color: #00d7ff\">None</span>, <span style=\"color: #00af00; text-decoration-color: #00af00\">224</span>, <span style=\"color: #00af00; text-decoration-color: #00af00\">224</span>,  │          <span style=\"color: #00af00; text-decoration-color: #00af00\">0</span> │ -                 │\n",
              "│ (<span style=\"color: #0087ff; text-decoration-color: #0087ff\">InputLayer</span>)        │ <span style=\"color: #00af00; text-decoration-color: #00af00\">3</span>)                │            │                   │\n",
              "├─────────────────────┼───────────────────┼────────────┼───────────────────┤\n",
              "│ Conv1 (<span style=\"color: #0087ff; text-decoration-color: #0087ff\">Conv2D</span>)      │ (<span style=\"color: #00d7ff; text-decoration-color: #00d7ff\">None</span>, <span style=\"color: #00af00; text-decoration-color: #00af00\">112</span>, <span style=\"color: #00af00; text-decoration-color: #00af00\">112</span>,  │        <span style=\"color: #00af00; text-decoration-color: #00af00\">864</span> │ input_layer_2[<span style=\"color: #00af00; text-decoration-color: #00af00\">0</span>]… │\n",
              "│                     │ <span style=\"color: #00af00; text-decoration-color: #00af00\">32</span>)               │            │                   │\n",
              "├─────────────────────┼───────────────────┼────────────┼───────────────────┤\n",
              "│ bn_Conv1            │ (<span style=\"color: #00d7ff; text-decoration-color: #00d7ff\">None</span>, <span style=\"color: #00af00; text-decoration-color: #00af00\">112</span>, <span style=\"color: #00af00; text-decoration-color: #00af00\">112</span>,  │        <span style=\"color: #00af00; text-decoration-color: #00af00\">128</span> │ Conv1[<span style=\"color: #00af00; text-decoration-color: #00af00\">0</span>][<span style=\"color: #00af00; text-decoration-color: #00af00\">0</span>]       │\n",
              "│ (<span style=\"color: #0087ff; text-decoration-color: #0087ff\">BatchNormalizatio…</span> │ <span style=\"color: #00af00; text-decoration-color: #00af00\">32</span>)               │            │                   │\n",
              "├─────────────────────┼───────────────────┼────────────┼───────────────────┤\n",
              "│ Conv1_relu (<span style=\"color: #0087ff; text-decoration-color: #0087ff\">ReLU</span>)   │ (<span style=\"color: #00d7ff; text-decoration-color: #00d7ff\">None</span>, <span style=\"color: #00af00; text-decoration-color: #00af00\">112</span>, <span style=\"color: #00af00; text-decoration-color: #00af00\">112</span>,  │          <span style=\"color: #00af00; text-decoration-color: #00af00\">0</span> │ bn_Conv1[<span style=\"color: #00af00; text-decoration-color: #00af00\">0</span>][<span style=\"color: #00af00; text-decoration-color: #00af00\">0</span>]    │\n",
              "│                     │ <span style=\"color: #00af00; text-decoration-color: #00af00\">32</span>)               │            │                   │\n",
              "├─────────────────────┼───────────────────┼────────────┼───────────────────┤\n",
              "│ expanded_conv_dept… │ (<span style=\"color: #00d7ff; text-decoration-color: #00d7ff\">None</span>, <span style=\"color: #00af00; text-decoration-color: #00af00\">112</span>, <span style=\"color: #00af00; text-decoration-color: #00af00\">112</span>,  │        <span style=\"color: #00af00; text-decoration-color: #00af00\">288</span> │ Conv1_relu[<span style=\"color: #00af00; text-decoration-color: #00af00\">0</span>][<span style=\"color: #00af00; text-decoration-color: #00af00\">0</span>]  │\n",
              "│ (<span style=\"color: #0087ff; text-decoration-color: #0087ff\">DepthwiseConv2D</span>)   │ <span style=\"color: #00af00; text-decoration-color: #00af00\">32</span>)               │            │                   │\n",
              "├─────────────────────┼───────────────────┼────────────┼───────────────────┤\n",
              "│ expanded_conv_dept… │ (<span style=\"color: #00d7ff; text-decoration-color: #00d7ff\">None</span>, <span style=\"color: #00af00; text-decoration-color: #00af00\">112</span>, <span style=\"color: #00af00; text-decoration-color: #00af00\">112</span>,  │        <span style=\"color: #00af00; text-decoration-color: #00af00\">128</span> │ expanded_conv_de… │\n",
              "│ (<span style=\"color: #0087ff; text-decoration-color: #0087ff\">BatchNormalizatio…</span> │ <span style=\"color: #00af00; text-decoration-color: #00af00\">32</span>)               │            │                   │\n",
              "├─────────────────────┼───────────────────┼────────────┼───────────────────┤\n",
              "│ expanded_conv_dept… │ (<span style=\"color: #00d7ff; text-decoration-color: #00d7ff\">None</span>, <span style=\"color: #00af00; text-decoration-color: #00af00\">112</span>, <span style=\"color: #00af00; text-decoration-color: #00af00\">112</span>,  │          <span style=\"color: #00af00; text-decoration-color: #00af00\">0</span> │ expanded_conv_de… │\n",
              "│ (<span style=\"color: #0087ff; text-decoration-color: #0087ff\">ReLU</span>)              │ <span style=\"color: #00af00; text-decoration-color: #00af00\">32</span>)               │            │                   │\n",
              "├─────────────────────┼───────────────────┼────────────┼───────────────────┤\n",
              "│ expanded_conv_proj… │ (<span style=\"color: #00d7ff; text-decoration-color: #00d7ff\">None</span>, <span style=\"color: #00af00; text-decoration-color: #00af00\">112</span>, <span style=\"color: #00af00; text-decoration-color: #00af00\">112</span>,  │        <span style=\"color: #00af00; text-decoration-color: #00af00\">512</span> │ expanded_conv_de… │\n",
              "│ (<span style=\"color: #0087ff; text-decoration-color: #0087ff\">Conv2D</span>)            │ <span style=\"color: #00af00; text-decoration-color: #00af00\">16</span>)               │            │                   │\n",
              "├─────────────────────┼───────────────────┼────────────┼───────────────────┤\n",
              "│ expanded_conv_proj… │ (<span style=\"color: #00d7ff; text-decoration-color: #00d7ff\">None</span>, <span style=\"color: #00af00; text-decoration-color: #00af00\">112</span>, <span style=\"color: #00af00; text-decoration-color: #00af00\">112</span>,  │         <span style=\"color: #00af00; text-decoration-color: #00af00\">64</span> │ expanded_conv_pr… │\n",
              "│ (<span style=\"color: #0087ff; text-decoration-color: #0087ff\">BatchNormalizatio…</span> │ <span style=\"color: #00af00; text-decoration-color: #00af00\">16</span>)               │            │                   │\n",
              "├─────────────────────┼───────────────────┼────────────┼───────────────────┤\n",
              "│ block_1_expand      │ (<span style=\"color: #00d7ff; text-decoration-color: #00d7ff\">None</span>, <span style=\"color: #00af00; text-decoration-color: #00af00\">112</span>, <span style=\"color: #00af00; text-decoration-color: #00af00\">112</span>,  │      <span style=\"color: #00af00; text-decoration-color: #00af00\">1,536</span> │ expanded_conv_pr… │\n",
              "│ (<span style=\"color: #0087ff; text-decoration-color: #0087ff\">Conv2D</span>)            │ <span style=\"color: #00af00; text-decoration-color: #00af00\">96</span>)               │            │                   │\n",
              "├─────────────────────┼───────────────────┼────────────┼───────────────────┤\n",
              "│ block_1_expand_BN   │ (<span style=\"color: #00d7ff; text-decoration-color: #00d7ff\">None</span>, <span style=\"color: #00af00; text-decoration-color: #00af00\">112</span>, <span style=\"color: #00af00; text-decoration-color: #00af00\">112</span>,  │        <span style=\"color: #00af00; text-decoration-color: #00af00\">384</span> │ block_1_expand[<span style=\"color: #00af00; text-decoration-color: #00af00\">0</span>… │\n",
              "│ (<span style=\"color: #0087ff; text-decoration-color: #0087ff\">BatchNormalizatio…</span> │ <span style=\"color: #00af00; text-decoration-color: #00af00\">96</span>)               │            │                   │\n",
              "├─────────────────────┼───────────────────┼────────────┼───────────────────┤\n",
              "│ block_1_expand_relu │ (<span style=\"color: #00d7ff; text-decoration-color: #00d7ff\">None</span>, <span style=\"color: #00af00; text-decoration-color: #00af00\">112</span>, <span style=\"color: #00af00; text-decoration-color: #00af00\">112</span>,  │          <span style=\"color: #00af00; text-decoration-color: #00af00\">0</span> │ block_1_expand_B… │\n",
              "│ (<span style=\"color: #0087ff; text-decoration-color: #0087ff\">ReLU</span>)              │ <span style=\"color: #00af00; text-decoration-color: #00af00\">96</span>)               │            │                   │\n",
              "├─────────────────────┼───────────────────┼────────────┼───────────────────┤\n",
              "│ block_1_pad         │ (<span style=\"color: #00d7ff; text-decoration-color: #00d7ff\">None</span>, <span style=\"color: #00af00; text-decoration-color: #00af00\">113</span>, <span style=\"color: #00af00; text-decoration-color: #00af00\">113</span>,  │          <span style=\"color: #00af00; text-decoration-color: #00af00\">0</span> │ block_1_expand_r… │\n",
              "│ (<span style=\"color: #0087ff; text-decoration-color: #0087ff\">ZeroPadding2D</span>)     │ <span style=\"color: #00af00; text-decoration-color: #00af00\">96</span>)               │            │                   │\n",
              "├─────────────────────┼───────────────────┼────────────┼───────────────────┤\n",
              "│ block_1_depthwise   │ (<span style=\"color: #00d7ff; text-decoration-color: #00d7ff\">None</span>, <span style=\"color: #00af00; text-decoration-color: #00af00\">56</span>, <span style=\"color: #00af00; text-decoration-color: #00af00\">56</span>,    │        <span style=\"color: #00af00; text-decoration-color: #00af00\">864</span> │ block_1_pad[<span style=\"color: #00af00; text-decoration-color: #00af00\">0</span>][<span style=\"color: #00af00; text-decoration-color: #00af00\">0</span>] │\n",
              "│ (<span style=\"color: #0087ff; text-decoration-color: #0087ff\">DepthwiseConv2D</span>)   │ <span style=\"color: #00af00; text-decoration-color: #00af00\">96</span>)               │            │                   │\n",
              "├─────────────────────┼───────────────────┼────────────┼───────────────────┤\n",
              "│ block_1_depthwise_… │ (<span style=\"color: #00d7ff; text-decoration-color: #00d7ff\">None</span>, <span style=\"color: #00af00; text-decoration-color: #00af00\">56</span>, <span style=\"color: #00af00; text-decoration-color: #00af00\">56</span>,    │        <span style=\"color: #00af00; text-decoration-color: #00af00\">384</span> │ block_1_depthwis… │\n",
              "│ (<span style=\"color: #0087ff; text-decoration-color: #0087ff\">BatchNormalizatio…</span> │ <span style=\"color: #00af00; text-decoration-color: #00af00\">96</span>)               │            │                   │\n",
              "├─────────────────────┼───────────────────┼────────────┼───────────────────┤\n",
              "│ block_1_depthwise_… │ (<span style=\"color: #00d7ff; text-decoration-color: #00d7ff\">None</span>, <span style=\"color: #00af00; text-decoration-color: #00af00\">56</span>, <span style=\"color: #00af00; text-decoration-color: #00af00\">56</span>,    │          <span style=\"color: #00af00; text-decoration-color: #00af00\">0</span> │ block_1_depthwis… │\n",
              "│ (<span style=\"color: #0087ff; text-decoration-color: #0087ff\">ReLU</span>)              │ <span style=\"color: #00af00; text-decoration-color: #00af00\">96</span>)               │            │                   │\n",
              "├─────────────────────┼───────────────────┼────────────┼───────────────────┤\n",
              "│ block_1_project     │ (<span style=\"color: #00d7ff; text-decoration-color: #00d7ff\">None</span>, <span style=\"color: #00af00; text-decoration-color: #00af00\">56</span>, <span style=\"color: #00af00; text-decoration-color: #00af00\">56</span>,    │      <span style=\"color: #00af00; text-decoration-color: #00af00\">2,304</span> │ block_1_depthwis… │\n",
              "│ (<span style=\"color: #0087ff; text-decoration-color: #0087ff\">Conv2D</span>)            │ <span style=\"color: #00af00; text-decoration-color: #00af00\">24</span>)               │            │                   │\n",
              "├─────────────────────┼───────────────────┼────────────┼───────────────────┤\n",
              "│ block_1_project_BN  │ (<span style=\"color: #00d7ff; text-decoration-color: #00d7ff\">None</span>, <span style=\"color: #00af00; text-decoration-color: #00af00\">56</span>, <span style=\"color: #00af00; text-decoration-color: #00af00\">56</span>,    │         <span style=\"color: #00af00; text-decoration-color: #00af00\">96</span> │ block_1_project[<span style=\"color: #00af00; text-decoration-color: #00af00\">…</span> │\n",
              "│ (<span style=\"color: #0087ff; text-decoration-color: #0087ff\">BatchNormalizatio…</span> │ <span style=\"color: #00af00; text-decoration-color: #00af00\">24</span>)               │            │                   │\n",
              "├─────────────────────┼───────────────────┼────────────┼───────────────────┤\n",
              "│ block_2_expand      │ (<span style=\"color: #00d7ff; text-decoration-color: #00d7ff\">None</span>, <span style=\"color: #00af00; text-decoration-color: #00af00\">56</span>, <span style=\"color: #00af00; text-decoration-color: #00af00\">56</span>,    │      <span style=\"color: #00af00; text-decoration-color: #00af00\">3,456</span> │ block_1_project_… │\n",
              "│ (<span style=\"color: #0087ff; text-decoration-color: #0087ff\">Conv2D</span>)            │ <span style=\"color: #00af00; text-decoration-color: #00af00\">144</span>)              │            │                   │\n",
              "├─────────────────────┼───────────────────┼────────────┼───────────────────┤\n",
              "│ block_2_expand_BN   │ (<span style=\"color: #00d7ff; text-decoration-color: #00d7ff\">None</span>, <span style=\"color: #00af00; text-decoration-color: #00af00\">56</span>, <span style=\"color: #00af00; text-decoration-color: #00af00\">56</span>,    │        <span style=\"color: #00af00; text-decoration-color: #00af00\">576</span> │ block_2_expand[<span style=\"color: #00af00; text-decoration-color: #00af00\">0</span>… │\n",
              "│ (<span style=\"color: #0087ff; text-decoration-color: #0087ff\">BatchNormalizatio…</span> │ <span style=\"color: #00af00; text-decoration-color: #00af00\">144</span>)              │            │                   │\n",
              "├─────────────────────┼───────────────────┼────────────┼───────────────────┤\n",
              "│ block_2_expand_relu │ (<span style=\"color: #00d7ff; text-decoration-color: #00d7ff\">None</span>, <span style=\"color: #00af00; text-decoration-color: #00af00\">56</span>, <span style=\"color: #00af00; text-decoration-color: #00af00\">56</span>,    │          <span style=\"color: #00af00; text-decoration-color: #00af00\">0</span> │ block_2_expand_B… │\n",
              "│ (<span style=\"color: #0087ff; text-decoration-color: #0087ff\">ReLU</span>)              │ <span style=\"color: #00af00; text-decoration-color: #00af00\">144</span>)              │            │                   │\n",
              "├─────────────────────┼───────────────────┼────────────┼───────────────────┤\n",
              "│ block_2_depthwise   │ (<span style=\"color: #00d7ff; text-decoration-color: #00d7ff\">None</span>, <span style=\"color: #00af00; text-decoration-color: #00af00\">56</span>, <span style=\"color: #00af00; text-decoration-color: #00af00\">56</span>,    │      <span style=\"color: #00af00; text-decoration-color: #00af00\">1,296</span> │ block_2_expand_r… │\n",
              "│ (<span style=\"color: #0087ff; text-decoration-color: #0087ff\">DepthwiseConv2D</span>)   │ <span style=\"color: #00af00; text-decoration-color: #00af00\">144</span>)              │            │                   │\n",
              "├─────────────────────┼───────────────────┼────────────┼───────────────────┤\n",
              "│ block_2_depthwise_… │ (<span style=\"color: #00d7ff; text-decoration-color: #00d7ff\">None</span>, <span style=\"color: #00af00; text-decoration-color: #00af00\">56</span>, <span style=\"color: #00af00; text-decoration-color: #00af00\">56</span>,    │        <span style=\"color: #00af00; text-decoration-color: #00af00\">576</span> │ block_2_depthwis… │\n",
              "│ (<span style=\"color: #0087ff; text-decoration-color: #0087ff\">BatchNormalizatio…</span> │ <span style=\"color: #00af00; text-decoration-color: #00af00\">144</span>)              │            │                   │\n",
              "├─────────────────────┼───────────────────┼────────────┼───────────────────┤\n",
              "│ block_2_depthwise_… │ (<span style=\"color: #00d7ff; text-decoration-color: #00d7ff\">None</span>, <span style=\"color: #00af00; text-decoration-color: #00af00\">56</span>, <span style=\"color: #00af00; text-decoration-color: #00af00\">56</span>,    │          <span style=\"color: #00af00; text-decoration-color: #00af00\">0</span> │ block_2_depthwis… │\n",
              "│ (<span style=\"color: #0087ff; text-decoration-color: #0087ff\">ReLU</span>)              │ <span style=\"color: #00af00; text-decoration-color: #00af00\">144</span>)              │            │                   │\n",
              "├─────────────────────┼───────────────────┼────────────┼───────────────────┤\n",
              "│ block_2_project     │ (<span style=\"color: #00d7ff; text-decoration-color: #00d7ff\">None</span>, <span style=\"color: #00af00; text-decoration-color: #00af00\">56</span>, <span style=\"color: #00af00; text-decoration-color: #00af00\">56</span>,    │      <span style=\"color: #00af00; text-decoration-color: #00af00\">3,456</span> │ block_2_depthwis… │\n",
              "│ (<span style=\"color: #0087ff; text-decoration-color: #0087ff\">Conv2D</span>)            │ <span style=\"color: #00af00; text-decoration-color: #00af00\">24</span>)               │            │                   │\n",
              "├─────────────────────┼───────────────────┼────────────┼───────────────────┤\n",
              "│ block_2_project_BN  │ (<span style=\"color: #00d7ff; text-decoration-color: #00d7ff\">None</span>, <span style=\"color: #00af00; text-decoration-color: #00af00\">56</span>, <span style=\"color: #00af00; text-decoration-color: #00af00\">56</span>,    │         <span style=\"color: #00af00; text-decoration-color: #00af00\">96</span> │ block_2_project[<span style=\"color: #00af00; text-decoration-color: #00af00\">…</span> │\n",
              "│ (<span style=\"color: #0087ff; text-decoration-color: #0087ff\">BatchNormalizatio…</span> │ <span style=\"color: #00af00; text-decoration-color: #00af00\">24</span>)               │            │                   │\n",
              "├─────────────────────┼───────────────────┼────────────┼───────────────────┤\n",
              "│ block_2_add (<span style=\"color: #0087ff; text-decoration-color: #0087ff\">Add</span>)   │ (<span style=\"color: #00d7ff; text-decoration-color: #00d7ff\">None</span>, <span style=\"color: #00af00; text-decoration-color: #00af00\">56</span>, <span style=\"color: #00af00; text-decoration-color: #00af00\">56</span>,    │          <span style=\"color: #00af00; text-decoration-color: #00af00\">0</span> │ block_1_project_… │\n",
              "│                     │ <span style=\"color: #00af00; text-decoration-color: #00af00\">24</span>)               │            │ block_2_project_… │\n",
              "├─────────────────────┼───────────────────┼────────────┼───────────────────┤\n",
              "│ block_3_expand      │ (<span style=\"color: #00d7ff; text-decoration-color: #00d7ff\">None</span>, <span style=\"color: #00af00; text-decoration-color: #00af00\">56</span>, <span style=\"color: #00af00; text-decoration-color: #00af00\">56</span>,    │      <span style=\"color: #00af00; text-decoration-color: #00af00\">3,456</span> │ block_2_add[<span style=\"color: #00af00; text-decoration-color: #00af00\">0</span>][<span style=\"color: #00af00; text-decoration-color: #00af00\">0</span>] │\n",
              "│ (<span style=\"color: #0087ff; text-decoration-color: #0087ff\">Conv2D</span>)            │ <span style=\"color: #00af00; text-decoration-color: #00af00\">144</span>)              │            │                   │\n",
              "├─────────────────────┼───────────────────┼────────────┼───────────────────┤\n",
              "│ block_3_expand_BN   │ (<span style=\"color: #00d7ff; text-decoration-color: #00d7ff\">None</span>, <span style=\"color: #00af00; text-decoration-color: #00af00\">56</span>, <span style=\"color: #00af00; text-decoration-color: #00af00\">56</span>,    │        <span style=\"color: #00af00; text-decoration-color: #00af00\">576</span> │ block_3_expand[<span style=\"color: #00af00; text-decoration-color: #00af00\">0</span>… │\n",
              "│ (<span style=\"color: #0087ff; text-decoration-color: #0087ff\">BatchNormalizatio…</span> │ <span style=\"color: #00af00; text-decoration-color: #00af00\">144</span>)              │            │                   │\n",
              "├─────────────────────┼───────────────────┼────────────┼───────────────────┤\n",
              "│ block_3_expand_relu │ (<span style=\"color: #00d7ff; text-decoration-color: #00d7ff\">None</span>, <span style=\"color: #00af00; text-decoration-color: #00af00\">56</span>, <span style=\"color: #00af00; text-decoration-color: #00af00\">56</span>,    │          <span style=\"color: #00af00; text-decoration-color: #00af00\">0</span> │ block_3_expand_B… │\n",
              "│ (<span style=\"color: #0087ff; text-decoration-color: #0087ff\">ReLU</span>)              │ <span style=\"color: #00af00; text-decoration-color: #00af00\">144</span>)              │            │                   │\n",
              "├─────────────────────┼───────────────────┼────────────┼───────────────────┤\n",
              "│ block_3_pad         │ (<span style=\"color: #00d7ff; text-decoration-color: #00d7ff\">None</span>, <span style=\"color: #00af00; text-decoration-color: #00af00\">57</span>, <span style=\"color: #00af00; text-decoration-color: #00af00\">57</span>,    │          <span style=\"color: #00af00; text-decoration-color: #00af00\">0</span> │ block_3_expand_r… │\n",
              "│ (<span style=\"color: #0087ff; text-decoration-color: #0087ff\">ZeroPadding2D</span>)     │ <span style=\"color: #00af00; text-decoration-color: #00af00\">144</span>)              │            │                   │\n",
              "├─────────────────────┼───────────────────┼────────────┼───────────────────┤\n",
              "│ block_3_depthwise   │ (<span style=\"color: #00d7ff; text-decoration-color: #00d7ff\">None</span>, <span style=\"color: #00af00; text-decoration-color: #00af00\">28</span>, <span style=\"color: #00af00; text-decoration-color: #00af00\">28</span>,    │      <span style=\"color: #00af00; text-decoration-color: #00af00\">1,296</span> │ block_3_pad[<span style=\"color: #00af00; text-decoration-color: #00af00\">0</span>][<span style=\"color: #00af00; text-decoration-color: #00af00\">0</span>] │\n",
              "│ (<span style=\"color: #0087ff; text-decoration-color: #0087ff\">DepthwiseConv2D</span>)   │ <span style=\"color: #00af00; text-decoration-color: #00af00\">144</span>)              │            │                   │\n",
              "├─────────────────────┼───────────────────┼────────────┼───────────────────┤\n",
              "│ block_3_depthwise_… │ (<span style=\"color: #00d7ff; text-decoration-color: #00d7ff\">None</span>, <span style=\"color: #00af00; text-decoration-color: #00af00\">28</span>, <span style=\"color: #00af00; text-decoration-color: #00af00\">28</span>,    │        <span style=\"color: #00af00; text-decoration-color: #00af00\">576</span> │ block_3_depthwis… │\n",
              "│ (<span style=\"color: #0087ff; text-decoration-color: #0087ff\">BatchNormalizatio…</span> │ <span style=\"color: #00af00; text-decoration-color: #00af00\">144</span>)              │            │                   │\n",
              "├─────────────────────┼───────────────────┼────────────┼───────────────────┤\n",
              "│ block_3_depthwise_… │ (<span style=\"color: #00d7ff; text-decoration-color: #00d7ff\">None</span>, <span style=\"color: #00af00; text-decoration-color: #00af00\">28</span>, <span style=\"color: #00af00; text-decoration-color: #00af00\">28</span>,    │          <span style=\"color: #00af00; text-decoration-color: #00af00\">0</span> │ block_3_depthwis… │\n",
              "│ (<span style=\"color: #0087ff; text-decoration-color: #0087ff\">ReLU</span>)              │ <span style=\"color: #00af00; text-decoration-color: #00af00\">144</span>)              │            │                   │\n",
              "├─────────────────────┼───────────────────┼────────────┼───────────────────┤\n",
              "│ block_3_project     │ (<span style=\"color: #00d7ff; text-decoration-color: #00d7ff\">None</span>, <span style=\"color: #00af00; text-decoration-color: #00af00\">28</span>, <span style=\"color: #00af00; text-decoration-color: #00af00\">28</span>,    │      <span style=\"color: #00af00; text-decoration-color: #00af00\">4,608</span> │ block_3_depthwis… │\n",
              "│ (<span style=\"color: #0087ff; text-decoration-color: #0087ff\">Conv2D</span>)            │ <span style=\"color: #00af00; text-decoration-color: #00af00\">32</span>)               │            │                   │\n",
              "├─────────────────────┼───────────────────┼────────────┼───────────────────┤\n",
              "│ block_3_project_BN  │ (<span style=\"color: #00d7ff; text-decoration-color: #00d7ff\">None</span>, <span style=\"color: #00af00; text-decoration-color: #00af00\">28</span>, <span style=\"color: #00af00; text-decoration-color: #00af00\">28</span>,    │        <span style=\"color: #00af00; text-decoration-color: #00af00\">128</span> │ block_3_project[<span style=\"color: #00af00; text-decoration-color: #00af00\">…</span> │\n",
              "│ (<span style=\"color: #0087ff; text-decoration-color: #0087ff\">BatchNormalizatio…</span> │ <span style=\"color: #00af00; text-decoration-color: #00af00\">32</span>)               │            │                   │\n",
              "├─────────────────────┼───────────────────┼────────────┼───────────────────┤\n",
              "│ block_4_expand      │ (<span style=\"color: #00d7ff; text-decoration-color: #00d7ff\">None</span>, <span style=\"color: #00af00; text-decoration-color: #00af00\">28</span>, <span style=\"color: #00af00; text-decoration-color: #00af00\">28</span>,    │      <span style=\"color: #00af00; text-decoration-color: #00af00\">6,144</span> │ block_3_project_… │\n",
              "│ (<span style=\"color: #0087ff; text-decoration-color: #0087ff\">Conv2D</span>)            │ <span style=\"color: #00af00; text-decoration-color: #00af00\">192</span>)              │            │                   │\n",
              "├─────────────────────┼───────────────────┼────────────┼───────────────────┤\n",
              "│ block_4_expand_BN   │ (<span style=\"color: #00d7ff; text-decoration-color: #00d7ff\">None</span>, <span style=\"color: #00af00; text-decoration-color: #00af00\">28</span>, <span style=\"color: #00af00; text-decoration-color: #00af00\">28</span>,    │        <span style=\"color: #00af00; text-decoration-color: #00af00\">768</span> │ block_4_expand[<span style=\"color: #00af00; text-decoration-color: #00af00\">0</span>… │\n",
              "│ (<span style=\"color: #0087ff; text-decoration-color: #0087ff\">BatchNormalizatio…</span> │ <span style=\"color: #00af00; text-decoration-color: #00af00\">192</span>)              │            │                   │\n",
              "├─────────────────────┼───────────────────┼────────────┼───────────────────┤\n",
              "│ block_4_expand_relu │ (<span style=\"color: #00d7ff; text-decoration-color: #00d7ff\">None</span>, <span style=\"color: #00af00; text-decoration-color: #00af00\">28</span>, <span style=\"color: #00af00; text-decoration-color: #00af00\">28</span>,    │          <span style=\"color: #00af00; text-decoration-color: #00af00\">0</span> │ block_4_expand_B… │\n",
              "│ (<span style=\"color: #0087ff; text-decoration-color: #0087ff\">ReLU</span>)              │ <span style=\"color: #00af00; text-decoration-color: #00af00\">192</span>)              │            │                   │\n",
              "├─────────────────────┼───────────────────┼────────────┼───────────────────┤\n",
              "│ block_4_depthwise   │ (<span style=\"color: #00d7ff; text-decoration-color: #00d7ff\">None</span>, <span style=\"color: #00af00; text-decoration-color: #00af00\">28</span>, <span style=\"color: #00af00; text-decoration-color: #00af00\">28</span>,    │      <span style=\"color: #00af00; text-decoration-color: #00af00\">1,728</span> │ block_4_expand_r… │\n",
              "│ (<span style=\"color: #0087ff; text-decoration-color: #0087ff\">DepthwiseConv2D</span>)   │ <span style=\"color: #00af00; text-decoration-color: #00af00\">192</span>)              │            │                   │\n",
              "├─────────────────────┼───────────────────┼────────────┼───────────────────┤\n",
              "│ block_4_depthwise_… │ (<span style=\"color: #00d7ff; text-decoration-color: #00d7ff\">None</span>, <span style=\"color: #00af00; text-decoration-color: #00af00\">28</span>, <span style=\"color: #00af00; text-decoration-color: #00af00\">28</span>,    │        <span style=\"color: #00af00; text-decoration-color: #00af00\">768</span> │ block_4_depthwis… │\n",
              "│ (<span style=\"color: #0087ff; text-decoration-color: #0087ff\">BatchNormalizatio…</span> │ <span style=\"color: #00af00; text-decoration-color: #00af00\">192</span>)              │            │                   │\n",
              "├─────────────────────┼───────────────────┼────────────┼───────────────────┤\n",
              "│ block_4_depthwise_… │ (<span style=\"color: #00d7ff; text-decoration-color: #00d7ff\">None</span>, <span style=\"color: #00af00; text-decoration-color: #00af00\">28</span>, <span style=\"color: #00af00; text-decoration-color: #00af00\">28</span>,    │          <span style=\"color: #00af00; text-decoration-color: #00af00\">0</span> │ block_4_depthwis… │\n",
              "│ (<span style=\"color: #0087ff; text-decoration-color: #0087ff\">ReLU</span>)              │ <span style=\"color: #00af00; text-decoration-color: #00af00\">192</span>)              │            │                   │\n",
              "├─────────────────────┼───────────────────┼────────────┼───────────────────┤\n",
              "│ block_4_project     │ (<span style=\"color: #00d7ff; text-decoration-color: #00d7ff\">None</span>, <span style=\"color: #00af00; text-decoration-color: #00af00\">28</span>, <span style=\"color: #00af00; text-decoration-color: #00af00\">28</span>,    │      <span style=\"color: #00af00; text-decoration-color: #00af00\">6,144</span> │ block_4_depthwis… │\n",
              "│ (<span style=\"color: #0087ff; text-decoration-color: #0087ff\">Conv2D</span>)            │ <span style=\"color: #00af00; text-decoration-color: #00af00\">32</span>)               │            │                   │\n",
              "├─────────────────────┼───────────────────┼────────────┼───────────────────┤\n",
              "│ block_4_project_BN  │ (<span style=\"color: #00d7ff; text-decoration-color: #00d7ff\">None</span>, <span style=\"color: #00af00; text-decoration-color: #00af00\">28</span>, <span style=\"color: #00af00; text-decoration-color: #00af00\">28</span>,    │        <span style=\"color: #00af00; text-decoration-color: #00af00\">128</span> │ block_4_project[<span style=\"color: #00af00; text-decoration-color: #00af00\">…</span> │\n",
              "│ (<span style=\"color: #0087ff; text-decoration-color: #0087ff\">BatchNormalizatio…</span> │ <span style=\"color: #00af00; text-decoration-color: #00af00\">32</span>)               │            │                   │\n",
              "├─────────────────────┼───────────────────┼────────────┼───────────────────┤\n",
              "│ block_4_add (<span style=\"color: #0087ff; text-decoration-color: #0087ff\">Add</span>)   │ (<span style=\"color: #00d7ff; text-decoration-color: #00d7ff\">None</span>, <span style=\"color: #00af00; text-decoration-color: #00af00\">28</span>, <span style=\"color: #00af00; text-decoration-color: #00af00\">28</span>,    │          <span style=\"color: #00af00; text-decoration-color: #00af00\">0</span> │ block_3_project_… │\n",
              "│                     │ <span style=\"color: #00af00; text-decoration-color: #00af00\">32</span>)               │            │ block_4_project_… │\n",
              "├─────────────────────┼───────────────────┼────────────┼───────────────────┤\n",
              "│ block_5_expand      │ (<span style=\"color: #00d7ff; text-decoration-color: #00d7ff\">None</span>, <span style=\"color: #00af00; text-decoration-color: #00af00\">28</span>, <span style=\"color: #00af00; text-decoration-color: #00af00\">28</span>,    │      <span style=\"color: #00af00; text-decoration-color: #00af00\">6,144</span> │ block_4_add[<span style=\"color: #00af00; text-decoration-color: #00af00\">0</span>][<span style=\"color: #00af00; text-decoration-color: #00af00\">0</span>] │\n",
              "│ (<span style=\"color: #0087ff; text-decoration-color: #0087ff\">Conv2D</span>)            │ <span style=\"color: #00af00; text-decoration-color: #00af00\">192</span>)              │            │                   │\n",
              "├─────────────────────┼───────────────────┼────────────┼───────────────────┤\n",
              "│ block_5_expand_BN   │ (<span style=\"color: #00d7ff; text-decoration-color: #00d7ff\">None</span>, <span style=\"color: #00af00; text-decoration-color: #00af00\">28</span>, <span style=\"color: #00af00; text-decoration-color: #00af00\">28</span>,    │        <span style=\"color: #00af00; text-decoration-color: #00af00\">768</span> │ block_5_expand[<span style=\"color: #00af00; text-decoration-color: #00af00\">0</span>… │\n",
              "│ (<span style=\"color: #0087ff; text-decoration-color: #0087ff\">BatchNormalizatio…</span> │ <span style=\"color: #00af00; text-decoration-color: #00af00\">192</span>)              │            │                   │\n",
              "├─────────────────────┼───────────────────┼────────────┼───────────────────┤\n",
              "│ block_5_expand_relu │ (<span style=\"color: #00d7ff; text-decoration-color: #00d7ff\">None</span>, <span style=\"color: #00af00; text-decoration-color: #00af00\">28</span>, <span style=\"color: #00af00; text-decoration-color: #00af00\">28</span>,    │          <span style=\"color: #00af00; text-decoration-color: #00af00\">0</span> │ block_5_expand_B… │\n",
              "│ (<span style=\"color: #0087ff; text-decoration-color: #0087ff\">ReLU</span>)              │ <span style=\"color: #00af00; text-decoration-color: #00af00\">192</span>)              │            │                   │\n",
              "├─────────────────────┼───────────────────┼────────────┼───────────────────┤\n",
              "│ block_5_depthwise   │ (<span style=\"color: #00d7ff; text-decoration-color: #00d7ff\">None</span>, <span style=\"color: #00af00; text-decoration-color: #00af00\">28</span>, <span style=\"color: #00af00; text-decoration-color: #00af00\">28</span>,    │      <span style=\"color: #00af00; text-decoration-color: #00af00\">1,728</span> │ block_5_expand_r… │\n",
              "│ (<span style=\"color: #0087ff; text-decoration-color: #0087ff\">DepthwiseConv2D</span>)   │ <span style=\"color: #00af00; text-decoration-color: #00af00\">192</span>)              │            │                   │\n",
              "├─────────────────────┼───────────────────┼────────────┼───────────────────┤\n",
              "│ block_5_depthwise_… │ (<span style=\"color: #00d7ff; text-decoration-color: #00d7ff\">None</span>, <span style=\"color: #00af00; text-decoration-color: #00af00\">28</span>, <span style=\"color: #00af00; text-decoration-color: #00af00\">28</span>,    │        <span style=\"color: #00af00; text-decoration-color: #00af00\">768</span> │ block_5_depthwis… │\n",
              "│ (<span style=\"color: #0087ff; text-decoration-color: #0087ff\">BatchNormalizatio…</span> │ <span style=\"color: #00af00; text-decoration-color: #00af00\">192</span>)              │            │                   │\n",
              "├─────────────────────┼───────────────────┼────────────┼───────────────────┤\n",
              "│ block_5_depthwise_… │ (<span style=\"color: #00d7ff; text-decoration-color: #00d7ff\">None</span>, <span style=\"color: #00af00; text-decoration-color: #00af00\">28</span>, <span style=\"color: #00af00; text-decoration-color: #00af00\">28</span>,    │          <span style=\"color: #00af00; text-decoration-color: #00af00\">0</span> │ block_5_depthwis… │\n",
              "│ (<span style=\"color: #0087ff; text-decoration-color: #0087ff\">ReLU</span>)              │ <span style=\"color: #00af00; text-decoration-color: #00af00\">192</span>)              │            │                   │\n",
              "├─────────────────────┼───────────────────┼────────────┼───────────────────┤\n",
              "│ block_5_project     │ (<span style=\"color: #00d7ff; text-decoration-color: #00d7ff\">None</span>, <span style=\"color: #00af00; text-decoration-color: #00af00\">28</span>, <span style=\"color: #00af00; text-decoration-color: #00af00\">28</span>,    │      <span style=\"color: #00af00; text-decoration-color: #00af00\">6,144</span> │ block_5_depthwis… │\n",
              "│ (<span style=\"color: #0087ff; text-decoration-color: #0087ff\">Conv2D</span>)            │ <span style=\"color: #00af00; text-decoration-color: #00af00\">32</span>)               │            │                   │\n",
              "├─────────────────────┼───────────────────┼────────────┼───────────────────┤\n",
              "│ block_5_project_BN  │ (<span style=\"color: #00d7ff; text-decoration-color: #00d7ff\">None</span>, <span style=\"color: #00af00; text-decoration-color: #00af00\">28</span>, <span style=\"color: #00af00; text-decoration-color: #00af00\">28</span>,    │        <span style=\"color: #00af00; text-decoration-color: #00af00\">128</span> │ block_5_project[<span style=\"color: #00af00; text-decoration-color: #00af00\">…</span> │\n",
              "│ (<span style=\"color: #0087ff; text-decoration-color: #0087ff\">BatchNormalizatio…</span> │ <span style=\"color: #00af00; text-decoration-color: #00af00\">32</span>)               │            │                   │\n",
              "├─────────────────────┼───────────────────┼────────────┼───────────────────┤\n",
              "│ block_5_add (<span style=\"color: #0087ff; text-decoration-color: #0087ff\">Add</span>)   │ (<span style=\"color: #00d7ff; text-decoration-color: #00d7ff\">None</span>, <span style=\"color: #00af00; text-decoration-color: #00af00\">28</span>, <span style=\"color: #00af00; text-decoration-color: #00af00\">28</span>,    │          <span style=\"color: #00af00; text-decoration-color: #00af00\">0</span> │ block_4_add[<span style=\"color: #00af00; text-decoration-color: #00af00\">0</span>][<span style=\"color: #00af00; text-decoration-color: #00af00\">0</span>… │\n",
              "│                     │ <span style=\"color: #00af00; text-decoration-color: #00af00\">32</span>)               │            │ block_5_project_… │\n",
              "├─────────────────────┼───────────────────┼────────────┼───────────────────┤\n",
              "│ block_6_expand      │ (<span style=\"color: #00d7ff; text-decoration-color: #00d7ff\">None</span>, <span style=\"color: #00af00; text-decoration-color: #00af00\">28</span>, <span style=\"color: #00af00; text-decoration-color: #00af00\">28</span>,    │      <span style=\"color: #00af00; text-decoration-color: #00af00\">6,144</span> │ block_5_add[<span style=\"color: #00af00; text-decoration-color: #00af00\">0</span>][<span style=\"color: #00af00; text-decoration-color: #00af00\">0</span>] │\n",
              "│ (<span style=\"color: #0087ff; text-decoration-color: #0087ff\">Conv2D</span>)            │ <span style=\"color: #00af00; text-decoration-color: #00af00\">192</span>)              │            │                   │\n",
              "├─────────────────────┼───────────────────┼────────────┼───────────────────┤\n",
              "│ block_6_expand_BN   │ (<span style=\"color: #00d7ff; text-decoration-color: #00d7ff\">None</span>, <span style=\"color: #00af00; text-decoration-color: #00af00\">28</span>, <span style=\"color: #00af00; text-decoration-color: #00af00\">28</span>,    │        <span style=\"color: #00af00; text-decoration-color: #00af00\">768</span> │ block_6_expand[<span style=\"color: #00af00; text-decoration-color: #00af00\">0</span>… │\n",
              "│ (<span style=\"color: #0087ff; text-decoration-color: #0087ff\">BatchNormalizatio…</span> │ <span style=\"color: #00af00; text-decoration-color: #00af00\">192</span>)              │            │                   │\n",
              "├─────────────────────┼───────────────────┼────────────┼───────────────────┤\n",
              "│ block_6_expand_relu │ (<span style=\"color: #00d7ff; text-decoration-color: #00d7ff\">None</span>, <span style=\"color: #00af00; text-decoration-color: #00af00\">28</span>, <span style=\"color: #00af00; text-decoration-color: #00af00\">28</span>,    │          <span style=\"color: #00af00; text-decoration-color: #00af00\">0</span> │ block_6_expand_B… │\n",
              "│ (<span style=\"color: #0087ff; text-decoration-color: #0087ff\">ReLU</span>)              │ <span style=\"color: #00af00; text-decoration-color: #00af00\">192</span>)              │            │                   │\n",
              "├─────────────────────┼───────────────────┼────────────┼───────────────────┤\n",
              "│ block_6_pad         │ (<span style=\"color: #00d7ff; text-decoration-color: #00d7ff\">None</span>, <span style=\"color: #00af00; text-decoration-color: #00af00\">29</span>, <span style=\"color: #00af00; text-decoration-color: #00af00\">29</span>,    │          <span style=\"color: #00af00; text-decoration-color: #00af00\">0</span> │ block_6_expand_r… │\n",
              "│ (<span style=\"color: #0087ff; text-decoration-color: #0087ff\">ZeroPadding2D</span>)     │ <span style=\"color: #00af00; text-decoration-color: #00af00\">192</span>)              │            │                   │\n",
              "├─────────────────────┼───────────────────┼────────────┼───────────────────┤\n",
              "│ block_6_depthwise   │ (<span style=\"color: #00d7ff; text-decoration-color: #00d7ff\">None</span>, <span style=\"color: #00af00; text-decoration-color: #00af00\">14</span>, <span style=\"color: #00af00; text-decoration-color: #00af00\">14</span>,    │      <span style=\"color: #00af00; text-decoration-color: #00af00\">1,728</span> │ block_6_pad[<span style=\"color: #00af00; text-decoration-color: #00af00\">0</span>][<span style=\"color: #00af00; text-decoration-color: #00af00\">0</span>] │\n",
              "│ (<span style=\"color: #0087ff; text-decoration-color: #0087ff\">DepthwiseConv2D</span>)   │ <span style=\"color: #00af00; text-decoration-color: #00af00\">192</span>)              │            │                   │\n",
              "├─────────────────────┼───────────────────┼────────────┼───────────────────┤\n",
              "│ block_6_depthwise_… │ (<span style=\"color: #00d7ff; text-decoration-color: #00d7ff\">None</span>, <span style=\"color: #00af00; text-decoration-color: #00af00\">14</span>, <span style=\"color: #00af00; text-decoration-color: #00af00\">14</span>,    │        <span style=\"color: #00af00; text-decoration-color: #00af00\">768</span> │ block_6_depthwis… │\n",
              "│ (<span style=\"color: #0087ff; text-decoration-color: #0087ff\">BatchNormalizatio…</span> │ <span style=\"color: #00af00; text-decoration-color: #00af00\">192</span>)              │            │                   │\n",
              "├─────────────────────┼───────────────────┼────────────┼───────────────────┤\n",
              "│ block_6_depthwise_… │ (<span style=\"color: #00d7ff; text-decoration-color: #00d7ff\">None</span>, <span style=\"color: #00af00; text-decoration-color: #00af00\">14</span>, <span style=\"color: #00af00; text-decoration-color: #00af00\">14</span>,    │          <span style=\"color: #00af00; text-decoration-color: #00af00\">0</span> │ block_6_depthwis… │\n",
              "│ (<span style=\"color: #0087ff; text-decoration-color: #0087ff\">ReLU</span>)              │ <span style=\"color: #00af00; text-decoration-color: #00af00\">192</span>)              │            │                   │\n",
              "├─────────────────────┼───────────────────┼────────────┼───────────────────┤\n",
              "│ block_6_project     │ (<span style=\"color: #00d7ff; text-decoration-color: #00d7ff\">None</span>, <span style=\"color: #00af00; text-decoration-color: #00af00\">14</span>, <span style=\"color: #00af00; text-decoration-color: #00af00\">14</span>,    │     <span style=\"color: #00af00; text-decoration-color: #00af00\">12,288</span> │ block_6_depthwis… │\n",
              "│ (<span style=\"color: #0087ff; text-decoration-color: #0087ff\">Conv2D</span>)            │ <span style=\"color: #00af00; text-decoration-color: #00af00\">64</span>)               │            │                   │\n",
              "├─────────────────────┼───────────────────┼────────────┼───────────────────┤\n",
              "│ block_6_project_BN  │ (<span style=\"color: #00d7ff; text-decoration-color: #00d7ff\">None</span>, <span style=\"color: #00af00; text-decoration-color: #00af00\">14</span>, <span style=\"color: #00af00; text-decoration-color: #00af00\">14</span>,    │        <span style=\"color: #00af00; text-decoration-color: #00af00\">256</span> │ block_6_project[<span style=\"color: #00af00; text-decoration-color: #00af00\">…</span> │\n",
              "│ (<span style=\"color: #0087ff; text-decoration-color: #0087ff\">BatchNormalizatio…</span> │ <span style=\"color: #00af00; text-decoration-color: #00af00\">64</span>)               │            │                   │\n",
              "├─────────────────────┼───────────────────┼────────────┼───────────────────┤\n",
              "│ block_7_expand      │ (<span style=\"color: #00d7ff; text-decoration-color: #00d7ff\">None</span>, <span style=\"color: #00af00; text-decoration-color: #00af00\">14</span>, <span style=\"color: #00af00; text-decoration-color: #00af00\">14</span>,    │     <span style=\"color: #00af00; text-decoration-color: #00af00\">24,576</span> │ block_6_project_… │\n",
              "│ (<span style=\"color: #0087ff; text-decoration-color: #0087ff\">Conv2D</span>)            │ <span style=\"color: #00af00; text-decoration-color: #00af00\">384</span>)              │            │                   │\n",
              "├─────────────────────┼───────────────────┼────────────┼───────────────────┤\n",
              "│ block_7_expand_BN   │ (<span style=\"color: #00d7ff; text-decoration-color: #00d7ff\">None</span>, <span style=\"color: #00af00; text-decoration-color: #00af00\">14</span>, <span style=\"color: #00af00; text-decoration-color: #00af00\">14</span>,    │      <span style=\"color: #00af00; text-decoration-color: #00af00\">1,536</span> │ block_7_expand[<span style=\"color: #00af00; text-decoration-color: #00af00\">0</span>… │\n",
              "│ (<span style=\"color: #0087ff; text-decoration-color: #0087ff\">BatchNormalizatio…</span> │ <span style=\"color: #00af00; text-decoration-color: #00af00\">384</span>)              │            │                   │\n",
              "├─────────────────────┼───────────────────┼────────────┼───────────────────┤\n",
              "│ block_7_expand_relu │ (<span style=\"color: #00d7ff; text-decoration-color: #00d7ff\">None</span>, <span style=\"color: #00af00; text-decoration-color: #00af00\">14</span>, <span style=\"color: #00af00; text-decoration-color: #00af00\">14</span>,    │          <span style=\"color: #00af00; text-decoration-color: #00af00\">0</span> │ block_7_expand_B… │\n",
              "│ (<span style=\"color: #0087ff; text-decoration-color: #0087ff\">ReLU</span>)              │ <span style=\"color: #00af00; text-decoration-color: #00af00\">384</span>)              │            │                   │\n",
              "├─────────────────────┼───────────────────┼────────────┼───────────────────┤\n",
              "│ block_7_depthwise   │ (<span style=\"color: #00d7ff; text-decoration-color: #00d7ff\">None</span>, <span style=\"color: #00af00; text-decoration-color: #00af00\">14</span>, <span style=\"color: #00af00; text-decoration-color: #00af00\">14</span>,    │      <span style=\"color: #00af00; text-decoration-color: #00af00\">3,456</span> │ block_7_expand_r… │\n",
              "│ (<span style=\"color: #0087ff; text-decoration-color: #0087ff\">DepthwiseConv2D</span>)   │ <span style=\"color: #00af00; text-decoration-color: #00af00\">384</span>)              │            │                   │\n",
              "├─────────────────────┼───────────────────┼────────────┼───────────────────┤\n",
              "│ block_7_depthwise_… │ (<span style=\"color: #00d7ff; text-decoration-color: #00d7ff\">None</span>, <span style=\"color: #00af00; text-decoration-color: #00af00\">14</span>, <span style=\"color: #00af00; text-decoration-color: #00af00\">14</span>,    │      <span style=\"color: #00af00; text-decoration-color: #00af00\">1,536</span> │ block_7_depthwis… │\n",
              "│ (<span style=\"color: #0087ff; text-decoration-color: #0087ff\">BatchNormalizatio…</span> │ <span style=\"color: #00af00; text-decoration-color: #00af00\">384</span>)              │            │                   │\n",
              "├─────────────────────┼───────────────────┼────────────┼───────────────────┤\n",
              "│ block_7_depthwise_… │ (<span style=\"color: #00d7ff; text-decoration-color: #00d7ff\">None</span>, <span style=\"color: #00af00; text-decoration-color: #00af00\">14</span>, <span style=\"color: #00af00; text-decoration-color: #00af00\">14</span>,    │          <span style=\"color: #00af00; text-decoration-color: #00af00\">0</span> │ block_7_depthwis… │\n",
              "│ (<span style=\"color: #0087ff; text-decoration-color: #0087ff\">ReLU</span>)              │ <span style=\"color: #00af00; text-decoration-color: #00af00\">384</span>)              │            │                   │\n",
              "├─────────────────────┼───────────────────┼────────────┼───────────────────┤\n",
              "│ block_7_project     │ (<span style=\"color: #00d7ff; text-decoration-color: #00d7ff\">None</span>, <span style=\"color: #00af00; text-decoration-color: #00af00\">14</span>, <span style=\"color: #00af00; text-decoration-color: #00af00\">14</span>,    │     <span style=\"color: #00af00; text-decoration-color: #00af00\">24,576</span> │ block_7_depthwis… │\n",
              "│ (<span style=\"color: #0087ff; text-decoration-color: #0087ff\">Conv2D</span>)            │ <span style=\"color: #00af00; text-decoration-color: #00af00\">64</span>)               │            │                   │\n",
              "├─────────────────────┼───────────────────┼────────────┼───────────────────┤\n",
              "│ block_7_project_BN  │ (<span style=\"color: #00d7ff; text-decoration-color: #00d7ff\">None</span>, <span style=\"color: #00af00; text-decoration-color: #00af00\">14</span>, <span style=\"color: #00af00; text-decoration-color: #00af00\">14</span>,    │        <span style=\"color: #00af00; text-decoration-color: #00af00\">256</span> │ block_7_project[<span style=\"color: #00af00; text-decoration-color: #00af00\">…</span> │\n",
              "│ (<span style=\"color: #0087ff; text-decoration-color: #0087ff\">BatchNormalizatio…</span> │ <span style=\"color: #00af00; text-decoration-color: #00af00\">64</span>)               │            │                   │\n",
              "├─────────────────────┼───────────────────┼────────────┼───────────────────┤\n",
              "│ block_7_add (<span style=\"color: #0087ff; text-decoration-color: #0087ff\">Add</span>)   │ (<span style=\"color: #00d7ff; text-decoration-color: #00d7ff\">None</span>, <span style=\"color: #00af00; text-decoration-color: #00af00\">14</span>, <span style=\"color: #00af00; text-decoration-color: #00af00\">14</span>,    │          <span style=\"color: #00af00; text-decoration-color: #00af00\">0</span> │ block_6_project_… │\n",
              "│                     │ <span style=\"color: #00af00; text-decoration-color: #00af00\">64</span>)               │            │ block_7_project_… │\n",
              "├─────────────────────┼───────────────────┼────────────┼───────────────────┤\n",
              "│ block_8_expand      │ (<span style=\"color: #00d7ff; text-decoration-color: #00d7ff\">None</span>, <span style=\"color: #00af00; text-decoration-color: #00af00\">14</span>, <span style=\"color: #00af00; text-decoration-color: #00af00\">14</span>,    │     <span style=\"color: #00af00; text-decoration-color: #00af00\">24,576</span> │ block_7_add[<span style=\"color: #00af00; text-decoration-color: #00af00\">0</span>][<span style=\"color: #00af00; text-decoration-color: #00af00\">0</span>] │\n",
              "│ (<span style=\"color: #0087ff; text-decoration-color: #0087ff\">Conv2D</span>)            │ <span style=\"color: #00af00; text-decoration-color: #00af00\">384</span>)              │            │                   │\n",
              "├─────────────────────┼───────────────────┼────────────┼───────────────────┤\n",
              "│ block_8_expand_BN   │ (<span style=\"color: #00d7ff; text-decoration-color: #00d7ff\">None</span>, <span style=\"color: #00af00; text-decoration-color: #00af00\">14</span>, <span style=\"color: #00af00; text-decoration-color: #00af00\">14</span>,    │      <span style=\"color: #00af00; text-decoration-color: #00af00\">1,536</span> │ block_8_expand[<span style=\"color: #00af00; text-decoration-color: #00af00\">0</span>… │\n",
              "│ (<span style=\"color: #0087ff; text-decoration-color: #0087ff\">BatchNormalizatio…</span> │ <span style=\"color: #00af00; text-decoration-color: #00af00\">384</span>)              │            │                   │\n",
              "├─────────────────────┼───────────────────┼────────────┼───────────────────┤\n",
              "│ block_8_expand_relu │ (<span style=\"color: #00d7ff; text-decoration-color: #00d7ff\">None</span>, <span style=\"color: #00af00; text-decoration-color: #00af00\">14</span>, <span style=\"color: #00af00; text-decoration-color: #00af00\">14</span>,    │          <span style=\"color: #00af00; text-decoration-color: #00af00\">0</span> │ block_8_expand_B… │\n",
              "│ (<span style=\"color: #0087ff; text-decoration-color: #0087ff\">ReLU</span>)              │ <span style=\"color: #00af00; text-decoration-color: #00af00\">384</span>)              │            │                   │\n",
              "├─────────────────────┼───────────────────┼────────────┼───────────────────┤\n",
              "│ block_8_depthwise   │ (<span style=\"color: #00d7ff; text-decoration-color: #00d7ff\">None</span>, <span style=\"color: #00af00; text-decoration-color: #00af00\">14</span>, <span style=\"color: #00af00; text-decoration-color: #00af00\">14</span>,    │      <span style=\"color: #00af00; text-decoration-color: #00af00\">3,456</span> │ block_8_expand_r… │\n",
              "│ (<span style=\"color: #0087ff; text-decoration-color: #0087ff\">DepthwiseConv2D</span>)   │ <span style=\"color: #00af00; text-decoration-color: #00af00\">384</span>)              │            │                   │\n",
              "├─────────────────────┼───────────────────┼────────────┼───────────────────┤\n",
              "│ block_8_depthwise_… │ (<span style=\"color: #00d7ff; text-decoration-color: #00d7ff\">None</span>, <span style=\"color: #00af00; text-decoration-color: #00af00\">14</span>, <span style=\"color: #00af00; text-decoration-color: #00af00\">14</span>,    │      <span style=\"color: #00af00; text-decoration-color: #00af00\">1,536</span> │ block_8_depthwis… │\n",
              "│ (<span style=\"color: #0087ff; text-decoration-color: #0087ff\">BatchNormalizatio…</span> │ <span style=\"color: #00af00; text-decoration-color: #00af00\">384</span>)              │            │                   │\n",
              "├─────────────────────┼───────────────────┼────────────┼───────────────────┤\n",
              "│ block_8_depthwise_… │ (<span style=\"color: #00d7ff; text-decoration-color: #00d7ff\">None</span>, <span style=\"color: #00af00; text-decoration-color: #00af00\">14</span>, <span style=\"color: #00af00; text-decoration-color: #00af00\">14</span>,    │          <span style=\"color: #00af00; text-decoration-color: #00af00\">0</span> │ block_8_depthwis… │\n",
              "│ (<span style=\"color: #0087ff; text-decoration-color: #0087ff\">ReLU</span>)              │ <span style=\"color: #00af00; text-decoration-color: #00af00\">384</span>)              │            │                   │\n",
              "├─────────────────────┼───────────────────┼────────────┼───────────────────┤\n",
              "│ block_8_project     │ (<span style=\"color: #00d7ff; text-decoration-color: #00d7ff\">None</span>, <span style=\"color: #00af00; text-decoration-color: #00af00\">14</span>, <span style=\"color: #00af00; text-decoration-color: #00af00\">14</span>,    │     <span style=\"color: #00af00; text-decoration-color: #00af00\">24,576</span> │ block_8_depthwis… │\n",
              "│ (<span style=\"color: #0087ff; text-decoration-color: #0087ff\">Conv2D</span>)            │ <span style=\"color: #00af00; text-decoration-color: #00af00\">64</span>)               │            │                   │\n",
              "├─────────────────────┼───────────────────┼────────────┼───────────────────┤\n",
              "│ block_8_project_BN  │ (<span style=\"color: #00d7ff; text-decoration-color: #00d7ff\">None</span>, <span style=\"color: #00af00; text-decoration-color: #00af00\">14</span>, <span style=\"color: #00af00; text-decoration-color: #00af00\">14</span>,    │        <span style=\"color: #00af00; text-decoration-color: #00af00\">256</span> │ block_8_project[<span style=\"color: #00af00; text-decoration-color: #00af00\">…</span> │\n",
              "│ (<span style=\"color: #0087ff; text-decoration-color: #0087ff\">BatchNormalizatio…</span> │ <span style=\"color: #00af00; text-decoration-color: #00af00\">64</span>)               │            │                   │\n",
              "├─────────────────────┼───────────────────┼────────────┼───────────────────┤\n",
              "│ block_8_add (<span style=\"color: #0087ff; text-decoration-color: #0087ff\">Add</span>)   │ (<span style=\"color: #00d7ff; text-decoration-color: #00d7ff\">None</span>, <span style=\"color: #00af00; text-decoration-color: #00af00\">14</span>, <span style=\"color: #00af00; text-decoration-color: #00af00\">14</span>,    │          <span style=\"color: #00af00; text-decoration-color: #00af00\">0</span> │ block_7_add[<span style=\"color: #00af00; text-decoration-color: #00af00\">0</span>][<span style=\"color: #00af00; text-decoration-color: #00af00\">0</span>… │\n",
              "│                     │ <span style=\"color: #00af00; text-decoration-color: #00af00\">64</span>)               │            │ block_8_project_… │\n",
              "├─────────────────────┼───────────────────┼────────────┼───────────────────┤\n",
              "│ block_9_expand      │ (<span style=\"color: #00d7ff; text-decoration-color: #00d7ff\">None</span>, <span style=\"color: #00af00; text-decoration-color: #00af00\">14</span>, <span style=\"color: #00af00; text-decoration-color: #00af00\">14</span>,    │     <span style=\"color: #00af00; text-decoration-color: #00af00\">24,576</span> │ block_8_add[<span style=\"color: #00af00; text-decoration-color: #00af00\">0</span>][<span style=\"color: #00af00; text-decoration-color: #00af00\">0</span>] │\n",
              "│ (<span style=\"color: #0087ff; text-decoration-color: #0087ff\">Conv2D</span>)            │ <span style=\"color: #00af00; text-decoration-color: #00af00\">384</span>)              │            │                   │\n",
              "├─────────────────────┼───────────────────┼────────────┼───────────────────┤\n",
              "│ block_9_expand_BN   │ (<span style=\"color: #00d7ff; text-decoration-color: #00d7ff\">None</span>, <span style=\"color: #00af00; text-decoration-color: #00af00\">14</span>, <span style=\"color: #00af00; text-decoration-color: #00af00\">14</span>,    │      <span style=\"color: #00af00; text-decoration-color: #00af00\">1,536</span> │ block_9_expand[<span style=\"color: #00af00; text-decoration-color: #00af00\">0</span>… │\n",
              "│ (<span style=\"color: #0087ff; text-decoration-color: #0087ff\">BatchNormalizatio…</span> │ <span style=\"color: #00af00; text-decoration-color: #00af00\">384</span>)              │            │                   │\n",
              "├─────────────────────┼───────────────────┼────────────┼───────────────────┤\n",
              "│ block_9_expand_relu │ (<span style=\"color: #00d7ff; text-decoration-color: #00d7ff\">None</span>, <span style=\"color: #00af00; text-decoration-color: #00af00\">14</span>, <span style=\"color: #00af00; text-decoration-color: #00af00\">14</span>,    │          <span style=\"color: #00af00; text-decoration-color: #00af00\">0</span> │ block_9_expand_B… │\n",
              "│ (<span style=\"color: #0087ff; text-decoration-color: #0087ff\">ReLU</span>)              │ <span style=\"color: #00af00; text-decoration-color: #00af00\">384</span>)              │            │                   │\n",
              "├─────────────────────┼───────────────────┼────────────┼───────────────────┤\n",
              "│ block_9_depthwise   │ (<span style=\"color: #00d7ff; text-decoration-color: #00d7ff\">None</span>, <span style=\"color: #00af00; text-decoration-color: #00af00\">14</span>, <span style=\"color: #00af00; text-decoration-color: #00af00\">14</span>,    │      <span style=\"color: #00af00; text-decoration-color: #00af00\">3,456</span> │ block_9_expand_r… │\n",
              "│ (<span style=\"color: #0087ff; text-decoration-color: #0087ff\">DepthwiseConv2D</span>)   │ <span style=\"color: #00af00; text-decoration-color: #00af00\">384</span>)              │            │                   │\n",
              "├─────────────────────┼───────────────────┼────────────┼───────────────────┤\n",
              "│ block_9_depthwise_… │ (<span style=\"color: #00d7ff; text-decoration-color: #00d7ff\">None</span>, <span style=\"color: #00af00; text-decoration-color: #00af00\">14</span>, <span style=\"color: #00af00; text-decoration-color: #00af00\">14</span>,    │      <span style=\"color: #00af00; text-decoration-color: #00af00\">1,536</span> │ block_9_depthwis… │\n",
              "│ (<span style=\"color: #0087ff; text-decoration-color: #0087ff\">BatchNormalizatio…</span> │ <span style=\"color: #00af00; text-decoration-color: #00af00\">384</span>)              │            │                   │\n",
              "├─────────────────────┼───────────────────┼────────────┼───────────────────┤\n",
              "│ block_9_depthwise_… │ (<span style=\"color: #00d7ff; text-decoration-color: #00d7ff\">None</span>, <span style=\"color: #00af00; text-decoration-color: #00af00\">14</span>, <span style=\"color: #00af00; text-decoration-color: #00af00\">14</span>,    │          <span style=\"color: #00af00; text-decoration-color: #00af00\">0</span> │ block_9_depthwis… │\n",
              "│ (<span style=\"color: #0087ff; text-decoration-color: #0087ff\">ReLU</span>)              │ <span style=\"color: #00af00; text-decoration-color: #00af00\">384</span>)              │            │                   │\n",
              "├─────────────────────┼───────────────────┼────────────┼───────────────────┤\n",
              "│ block_9_project     │ (<span style=\"color: #00d7ff; text-decoration-color: #00d7ff\">None</span>, <span style=\"color: #00af00; text-decoration-color: #00af00\">14</span>, <span style=\"color: #00af00; text-decoration-color: #00af00\">14</span>,    │     <span style=\"color: #00af00; text-decoration-color: #00af00\">24,576</span> │ block_9_depthwis… │\n",
              "│ (<span style=\"color: #0087ff; text-decoration-color: #0087ff\">Conv2D</span>)            │ <span style=\"color: #00af00; text-decoration-color: #00af00\">64</span>)               │            │                   │\n",
              "├─────────────────────┼───────────────────┼────────────┼───────────────────┤\n",
              "│ block_9_project_BN  │ (<span style=\"color: #00d7ff; text-decoration-color: #00d7ff\">None</span>, <span style=\"color: #00af00; text-decoration-color: #00af00\">14</span>, <span style=\"color: #00af00; text-decoration-color: #00af00\">14</span>,    │        <span style=\"color: #00af00; text-decoration-color: #00af00\">256</span> │ block_9_project[<span style=\"color: #00af00; text-decoration-color: #00af00\">…</span> │\n",
              "│ (<span style=\"color: #0087ff; text-decoration-color: #0087ff\">BatchNormalizatio…</span> │ <span style=\"color: #00af00; text-decoration-color: #00af00\">64</span>)               │            │                   │\n",
              "├─────────────────────┼───────────────────┼────────────┼───────────────────┤\n",
              "│ block_9_add (<span style=\"color: #0087ff; text-decoration-color: #0087ff\">Add</span>)   │ (<span style=\"color: #00d7ff; text-decoration-color: #00d7ff\">None</span>, <span style=\"color: #00af00; text-decoration-color: #00af00\">14</span>, <span style=\"color: #00af00; text-decoration-color: #00af00\">14</span>,    │          <span style=\"color: #00af00; text-decoration-color: #00af00\">0</span> │ block_8_add[<span style=\"color: #00af00; text-decoration-color: #00af00\">0</span>][<span style=\"color: #00af00; text-decoration-color: #00af00\">0</span>… │\n",
              "│                     │ <span style=\"color: #00af00; text-decoration-color: #00af00\">64</span>)               │            │ block_9_project_… │\n",
              "├─────────────────────┼───────────────────┼────────────┼───────────────────┤\n",
              "│ block_10_expand     │ (<span style=\"color: #00d7ff; text-decoration-color: #00d7ff\">None</span>, <span style=\"color: #00af00; text-decoration-color: #00af00\">14</span>, <span style=\"color: #00af00; text-decoration-color: #00af00\">14</span>,    │     <span style=\"color: #00af00; text-decoration-color: #00af00\">24,576</span> │ block_9_add[<span style=\"color: #00af00; text-decoration-color: #00af00\">0</span>][<span style=\"color: #00af00; text-decoration-color: #00af00\">0</span>] │\n",
              "│ (<span style=\"color: #0087ff; text-decoration-color: #0087ff\">Conv2D</span>)            │ <span style=\"color: #00af00; text-decoration-color: #00af00\">384</span>)              │            │                   │\n",
              "├─────────────────────┼───────────────────┼────────────┼───────────────────┤\n",
              "│ block_10_expand_BN  │ (<span style=\"color: #00d7ff; text-decoration-color: #00d7ff\">None</span>, <span style=\"color: #00af00; text-decoration-color: #00af00\">14</span>, <span style=\"color: #00af00; text-decoration-color: #00af00\">14</span>,    │      <span style=\"color: #00af00; text-decoration-color: #00af00\">1,536</span> │ block_10_expand[<span style=\"color: #00af00; text-decoration-color: #00af00\">…</span> │\n",
              "│ (<span style=\"color: #0087ff; text-decoration-color: #0087ff\">BatchNormalizatio…</span> │ <span style=\"color: #00af00; text-decoration-color: #00af00\">384</span>)              │            │                   │\n",
              "├─────────────────────┼───────────────────┼────────────┼───────────────────┤\n",
              "│ block_10_expand_re… │ (<span style=\"color: #00d7ff; text-decoration-color: #00d7ff\">None</span>, <span style=\"color: #00af00; text-decoration-color: #00af00\">14</span>, <span style=\"color: #00af00; text-decoration-color: #00af00\">14</span>,    │          <span style=\"color: #00af00; text-decoration-color: #00af00\">0</span> │ block_10_expand_… │\n",
              "│ (<span style=\"color: #0087ff; text-decoration-color: #0087ff\">ReLU</span>)              │ <span style=\"color: #00af00; text-decoration-color: #00af00\">384</span>)              │            │                   │\n",
              "├─────────────────────┼───────────────────┼────────────┼───────────────────┤\n",
              "│ block_10_depthwise  │ (<span style=\"color: #00d7ff; text-decoration-color: #00d7ff\">None</span>, <span style=\"color: #00af00; text-decoration-color: #00af00\">14</span>, <span style=\"color: #00af00; text-decoration-color: #00af00\">14</span>,    │      <span style=\"color: #00af00; text-decoration-color: #00af00\">3,456</span> │ block_10_expand_… │\n",
              "│ (<span style=\"color: #0087ff; text-decoration-color: #0087ff\">DepthwiseConv2D</span>)   │ <span style=\"color: #00af00; text-decoration-color: #00af00\">384</span>)              │            │                   │\n",
              "├─────────────────────┼───────────────────┼────────────┼───────────────────┤\n",
              "│ block_10_depthwise… │ (<span style=\"color: #00d7ff; text-decoration-color: #00d7ff\">None</span>, <span style=\"color: #00af00; text-decoration-color: #00af00\">14</span>, <span style=\"color: #00af00; text-decoration-color: #00af00\">14</span>,    │      <span style=\"color: #00af00; text-decoration-color: #00af00\">1,536</span> │ block_10_depthwi… │\n",
              "│ (<span style=\"color: #0087ff; text-decoration-color: #0087ff\">BatchNormalizatio…</span> │ <span style=\"color: #00af00; text-decoration-color: #00af00\">384</span>)              │            │                   │\n",
              "├─────────────────────┼───────────────────┼────────────┼───────────────────┤\n",
              "│ block_10_depthwise… │ (<span style=\"color: #00d7ff; text-decoration-color: #00d7ff\">None</span>, <span style=\"color: #00af00; text-decoration-color: #00af00\">14</span>, <span style=\"color: #00af00; text-decoration-color: #00af00\">14</span>,    │          <span style=\"color: #00af00; text-decoration-color: #00af00\">0</span> │ block_10_depthwi… │\n",
              "│ (<span style=\"color: #0087ff; text-decoration-color: #0087ff\">ReLU</span>)              │ <span style=\"color: #00af00; text-decoration-color: #00af00\">384</span>)              │            │                   │\n",
              "├─────────────────────┼───────────────────┼────────────┼───────────────────┤\n",
              "│ block_10_project    │ (<span style=\"color: #00d7ff; text-decoration-color: #00d7ff\">None</span>, <span style=\"color: #00af00; text-decoration-color: #00af00\">14</span>, <span style=\"color: #00af00; text-decoration-color: #00af00\">14</span>,    │     <span style=\"color: #00af00; text-decoration-color: #00af00\">36,864</span> │ block_10_depthwi… │\n",
              "│ (<span style=\"color: #0087ff; text-decoration-color: #0087ff\">Conv2D</span>)            │ <span style=\"color: #00af00; text-decoration-color: #00af00\">96</span>)               │            │                   │\n",
              "├─────────────────────┼───────────────────┼────────────┼───────────────────┤\n",
              "│ block_10_project_BN │ (<span style=\"color: #00d7ff; text-decoration-color: #00d7ff\">None</span>, <span style=\"color: #00af00; text-decoration-color: #00af00\">14</span>, <span style=\"color: #00af00; text-decoration-color: #00af00\">14</span>,    │        <span style=\"color: #00af00; text-decoration-color: #00af00\">384</span> │ block_10_project… │\n",
              "│ (<span style=\"color: #0087ff; text-decoration-color: #0087ff\">BatchNormalizatio…</span> │ <span style=\"color: #00af00; text-decoration-color: #00af00\">96</span>)               │            │                   │\n",
              "├─────────────────────┼───────────────────┼────────────┼───────────────────┤\n",
              "│ block_11_expand     │ (<span style=\"color: #00d7ff; text-decoration-color: #00d7ff\">None</span>, <span style=\"color: #00af00; text-decoration-color: #00af00\">14</span>, <span style=\"color: #00af00; text-decoration-color: #00af00\">14</span>,    │     <span style=\"color: #00af00; text-decoration-color: #00af00\">55,296</span> │ block_10_project… │\n",
              "│ (<span style=\"color: #0087ff; text-decoration-color: #0087ff\">Conv2D</span>)            │ <span style=\"color: #00af00; text-decoration-color: #00af00\">576</span>)              │            │                   │\n",
              "├─────────────────────┼───────────────────┼────────────┼───────────────────┤\n",
              "│ block_11_expand_BN  │ (<span style=\"color: #00d7ff; text-decoration-color: #00d7ff\">None</span>, <span style=\"color: #00af00; text-decoration-color: #00af00\">14</span>, <span style=\"color: #00af00; text-decoration-color: #00af00\">14</span>,    │      <span style=\"color: #00af00; text-decoration-color: #00af00\">2,304</span> │ block_11_expand[<span style=\"color: #00af00; text-decoration-color: #00af00\">…</span> │\n",
              "│ (<span style=\"color: #0087ff; text-decoration-color: #0087ff\">BatchNormalizatio…</span> │ <span style=\"color: #00af00; text-decoration-color: #00af00\">576</span>)              │            │                   │\n",
              "├─────────────────────┼───────────────────┼────────────┼───────────────────┤\n",
              "│ block_11_expand_re… │ (<span style=\"color: #00d7ff; text-decoration-color: #00d7ff\">None</span>, <span style=\"color: #00af00; text-decoration-color: #00af00\">14</span>, <span style=\"color: #00af00; text-decoration-color: #00af00\">14</span>,    │          <span style=\"color: #00af00; text-decoration-color: #00af00\">0</span> │ block_11_expand_… │\n",
              "│ (<span style=\"color: #0087ff; text-decoration-color: #0087ff\">ReLU</span>)              │ <span style=\"color: #00af00; text-decoration-color: #00af00\">576</span>)              │            │                   │\n",
              "├─────────────────────┼───────────────────┼────────────┼───────────────────┤\n",
              "│ block_11_depthwise  │ (<span style=\"color: #00d7ff; text-decoration-color: #00d7ff\">None</span>, <span style=\"color: #00af00; text-decoration-color: #00af00\">14</span>, <span style=\"color: #00af00; text-decoration-color: #00af00\">14</span>,    │      <span style=\"color: #00af00; text-decoration-color: #00af00\">5,184</span> │ block_11_expand_… │\n",
              "│ (<span style=\"color: #0087ff; text-decoration-color: #0087ff\">DepthwiseConv2D</span>)   │ <span style=\"color: #00af00; text-decoration-color: #00af00\">576</span>)              │            │                   │\n",
              "├─────────────────────┼───────────────────┼────────────┼───────────────────┤\n",
              "│ block_11_depthwise… │ (<span style=\"color: #00d7ff; text-decoration-color: #00d7ff\">None</span>, <span style=\"color: #00af00; text-decoration-color: #00af00\">14</span>, <span style=\"color: #00af00; text-decoration-color: #00af00\">14</span>,    │      <span style=\"color: #00af00; text-decoration-color: #00af00\">2,304</span> │ block_11_depthwi… │\n",
              "│ (<span style=\"color: #0087ff; text-decoration-color: #0087ff\">BatchNormalizatio…</span> │ <span style=\"color: #00af00; text-decoration-color: #00af00\">576</span>)              │            │                   │\n",
              "├─────────────────────┼───────────────────┼────────────┼───────────────────┤\n",
              "│ block_11_depthwise… │ (<span style=\"color: #00d7ff; text-decoration-color: #00d7ff\">None</span>, <span style=\"color: #00af00; text-decoration-color: #00af00\">14</span>, <span style=\"color: #00af00; text-decoration-color: #00af00\">14</span>,    │          <span style=\"color: #00af00; text-decoration-color: #00af00\">0</span> │ block_11_depthwi… │\n",
              "│ (<span style=\"color: #0087ff; text-decoration-color: #0087ff\">ReLU</span>)              │ <span style=\"color: #00af00; text-decoration-color: #00af00\">576</span>)              │            │                   │\n",
              "├─────────────────────┼───────────────────┼────────────┼───────────────────┤\n",
              "│ block_11_project    │ (<span style=\"color: #00d7ff; text-decoration-color: #00d7ff\">None</span>, <span style=\"color: #00af00; text-decoration-color: #00af00\">14</span>, <span style=\"color: #00af00; text-decoration-color: #00af00\">14</span>,    │     <span style=\"color: #00af00; text-decoration-color: #00af00\">55,296</span> │ block_11_depthwi… │\n",
              "│ (<span style=\"color: #0087ff; text-decoration-color: #0087ff\">Conv2D</span>)            │ <span style=\"color: #00af00; text-decoration-color: #00af00\">96</span>)               │            │                   │\n",
              "├─────────────────────┼───────────────────┼────────────┼───────────────────┤\n",
              "│ block_11_project_BN │ (<span style=\"color: #00d7ff; text-decoration-color: #00d7ff\">None</span>, <span style=\"color: #00af00; text-decoration-color: #00af00\">14</span>, <span style=\"color: #00af00; text-decoration-color: #00af00\">14</span>,    │        <span style=\"color: #00af00; text-decoration-color: #00af00\">384</span> │ block_11_project… │\n",
              "│ (<span style=\"color: #0087ff; text-decoration-color: #0087ff\">BatchNormalizatio…</span> │ <span style=\"color: #00af00; text-decoration-color: #00af00\">96</span>)               │            │                   │\n",
              "├─────────────────────┼───────────────────┼────────────┼───────────────────┤\n",
              "│ block_11_add (<span style=\"color: #0087ff; text-decoration-color: #0087ff\">Add</span>)  │ (<span style=\"color: #00d7ff; text-decoration-color: #00d7ff\">None</span>, <span style=\"color: #00af00; text-decoration-color: #00af00\">14</span>, <span style=\"color: #00af00; text-decoration-color: #00af00\">14</span>,    │          <span style=\"color: #00af00; text-decoration-color: #00af00\">0</span> │ block_10_project… │\n",
              "│                     │ <span style=\"color: #00af00; text-decoration-color: #00af00\">96</span>)               │            │ block_11_project… │\n",
              "├─────────────────────┼───────────────────┼────────────┼───────────────────┤\n",
              "│ block_12_expand     │ (<span style=\"color: #00d7ff; text-decoration-color: #00d7ff\">None</span>, <span style=\"color: #00af00; text-decoration-color: #00af00\">14</span>, <span style=\"color: #00af00; text-decoration-color: #00af00\">14</span>,    │     <span style=\"color: #00af00; text-decoration-color: #00af00\">55,296</span> │ block_11_add[<span style=\"color: #00af00; text-decoration-color: #00af00\">0</span>][<span style=\"color: #00af00; text-decoration-color: #00af00\">…</span> │\n",
              "│ (<span style=\"color: #0087ff; text-decoration-color: #0087ff\">Conv2D</span>)            │ <span style=\"color: #00af00; text-decoration-color: #00af00\">576</span>)              │            │                   │\n",
              "├─────────────────────┼───────────────────┼────────────┼───────────────────┤\n",
              "│ block_12_expand_BN  │ (<span style=\"color: #00d7ff; text-decoration-color: #00d7ff\">None</span>, <span style=\"color: #00af00; text-decoration-color: #00af00\">14</span>, <span style=\"color: #00af00; text-decoration-color: #00af00\">14</span>,    │      <span style=\"color: #00af00; text-decoration-color: #00af00\">2,304</span> │ block_12_expand[<span style=\"color: #00af00; text-decoration-color: #00af00\">…</span> │\n",
              "│ (<span style=\"color: #0087ff; text-decoration-color: #0087ff\">BatchNormalizatio…</span> │ <span style=\"color: #00af00; text-decoration-color: #00af00\">576</span>)              │            │                   │\n",
              "├─────────────────────┼───────────────────┼────────────┼───────────────────┤\n",
              "│ block_12_expand_re… │ (<span style=\"color: #00d7ff; text-decoration-color: #00d7ff\">None</span>, <span style=\"color: #00af00; text-decoration-color: #00af00\">14</span>, <span style=\"color: #00af00; text-decoration-color: #00af00\">14</span>,    │          <span style=\"color: #00af00; text-decoration-color: #00af00\">0</span> │ block_12_expand_… │\n",
              "│ (<span style=\"color: #0087ff; text-decoration-color: #0087ff\">ReLU</span>)              │ <span style=\"color: #00af00; text-decoration-color: #00af00\">576</span>)              │            │                   │\n",
              "├─────────────────────┼───────────────────┼────────────┼───────────────────┤\n",
              "│ block_12_depthwise  │ (<span style=\"color: #00d7ff; text-decoration-color: #00d7ff\">None</span>, <span style=\"color: #00af00; text-decoration-color: #00af00\">14</span>, <span style=\"color: #00af00; text-decoration-color: #00af00\">14</span>,    │      <span style=\"color: #00af00; text-decoration-color: #00af00\">5,184</span> │ block_12_expand_… │\n",
              "│ (<span style=\"color: #0087ff; text-decoration-color: #0087ff\">DepthwiseConv2D</span>)   │ <span style=\"color: #00af00; text-decoration-color: #00af00\">576</span>)              │            │                   │\n",
              "├─────────────────────┼───────────────────┼────────────┼───────────────────┤\n",
              "│ block_12_depthwise… │ (<span style=\"color: #00d7ff; text-decoration-color: #00d7ff\">None</span>, <span style=\"color: #00af00; text-decoration-color: #00af00\">14</span>, <span style=\"color: #00af00; text-decoration-color: #00af00\">14</span>,    │      <span style=\"color: #00af00; text-decoration-color: #00af00\">2,304</span> │ block_12_depthwi… │\n",
              "│ (<span style=\"color: #0087ff; text-decoration-color: #0087ff\">BatchNormalizatio…</span> │ <span style=\"color: #00af00; text-decoration-color: #00af00\">576</span>)              │            │                   │\n",
              "├─────────────────────┼───────────────────┼────────────┼───────────────────┤\n",
              "│ block_12_depthwise… │ (<span style=\"color: #00d7ff; text-decoration-color: #00d7ff\">None</span>, <span style=\"color: #00af00; text-decoration-color: #00af00\">14</span>, <span style=\"color: #00af00; text-decoration-color: #00af00\">14</span>,    │          <span style=\"color: #00af00; text-decoration-color: #00af00\">0</span> │ block_12_depthwi… │\n",
              "│ (<span style=\"color: #0087ff; text-decoration-color: #0087ff\">ReLU</span>)              │ <span style=\"color: #00af00; text-decoration-color: #00af00\">576</span>)              │            │                   │\n",
              "├─────────────────────┼───────────────────┼────────────┼───────────────────┤\n",
              "│ block_12_project    │ (<span style=\"color: #00d7ff; text-decoration-color: #00d7ff\">None</span>, <span style=\"color: #00af00; text-decoration-color: #00af00\">14</span>, <span style=\"color: #00af00; text-decoration-color: #00af00\">14</span>,    │     <span style=\"color: #00af00; text-decoration-color: #00af00\">55,296</span> │ block_12_depthwi… │\n",
              "│ (<span style=\"color: #0087ff; text-decoration-color: #0087ff\">Conv2D</span>)            │ <span style=\"color: #00af00; text-decoration-color: #00af00\">96</span>)               │            │                   │\n",
              "├─────────────────────┼───────────────────┼────────────┼───────────────────┤\n",
              "│ block_12_project_BN │ (<span style=\"color: #00d7ff; text-decoration-color: #00d7ff\">None</span>, <span style=\"color: #00af00; text-decoration-color: #00af00\">14</span>, <span style=\"color: #00af00; text-decoration-color: #00af00\">14</span>,    │        <span style=\"color: #00af00; text-decoration-color: #00af00\">384</span> │ block_12_project… │\n",
              "│ (<span style=\"color: #0087ff; text-decoration-color: #0087ff\">BatchNormalizatio…</span> │ <span style=\"color: #00af00; text-decoration-color: #00af00\">96</span>)               │            │                   │\n",
              "├─────────────────────┼───────────────────┼────────────┼───────────────────┤\n",
              "│ block_12_add (<span style=\"color: #0087ff; text-decoration-color: #0087ff\">Add</span>)  │ (<span style=\"color: #00d7ff; text-decoration-color: #00d7ff\">None</span>, <span style=\"color: #00af00; text-decoration-color: #00af00\">14</span>, <span style=\"color: #00af00; text-decoration-color: #00af00\">14</span>,    │          <span style=\"color: #00af00; text-decoration-color: #00af00\">0</span> │ block_11_add[<span style=\"color: #00af00; text-decoration-color: #00af00\">0</span>][<span style=\"color: #00af00; text-decoration-color: #00af00\">…</span> │\n",
              "│                     │ <span style=\"color: #00af00; text-decoration-color: #00af00\">96</span>)               │            │ block_12_project… │\n",
              "├─────────────────────┼───────────────────┼────────────┼───────────────────┤\n",
              "│ block_13_expand     │ (<span style=\"color: #00d7ff; text-decoration-color: #00d7ff\">None</span>, <span style=\"color: #00af00; text-decoration-color: #00af00\">14</span>, <span style=\"color: #00af00; text-decoration-color: #00af00\">14</span>,    │     <span style=\"color: #00af00; text-decoration-color: #00af00\">55,296</span> │ block_12_add[<span style=\"color: #00af00; text-decoration-color: #00af00\">0</span>][<span style=\"color: #00af00; text-decoration-color: #00af00\">…</span> │\n",
              "│ (<span style=\"color: #0087ff; text-decoration-color: #0087ff\">Conv2D</span>)            │ <span style=\"color: #00af00; text-decoration-color: #00af00\">576</span>)              │            │                   │\n",
              "├─────────────────────┼───────────────────┼────────────┼───────────────────┤\n",
              "│ block_13_expand_BN  │ (<span style=\"color: #00d7ff; text-decoration-color: #00d7ff\">None</span>, <span style=\"color: #00af00; text-decoration-color: #00af00\">14</span>, <span style=\"color: #00af00; text-decoration-color: #00af00\">14</span>,    │      <span style=\"color: #00af00; text-decoration-color: #00af00\">2,304</span> │ block_13_expand[<span style=\"color: #00af00; text-decoration-color: #00af00\">…</span> │\n",
              "│ (<span style=\"color: #0087ff; text-decoration-color: #0087ff\">BatchNormalizatio…</span> │ <span style=\"color: #00af00; text-decoration-color: #00af00\">576</span>)              │            │                   │\n",
              "├─────────────────────┼───────────────────┼────────────┼───────────────────┤\n",
              "│ block_13_expand_re… │ (<span style=\"color: #00d7ff; text-decoration-color: #00d7ff\">None</span>, <span style=\"color: #00af00; text-decoration-color: #00af00\">14</span>, <span style=\"color: #00af00; text-decoration-color: #00af00\">14</span>,    │          <span style=\"color: #00af00; text-decoration-color: #00af00\">0</span> │ block_13_expand_… │\n",
              "│ (<span style=\"color: #0087ff; text-decoration-color: #0087ff\">ReLU</span>)              │ <span style=\"color: #00af00; text-decoration-color: #00af00\">576</span>)              │            │                   │\n",
              "├─────────────────────┼───────────────────┼────────────┼───────────────────┤\n",
              "│ block_13_pad        │ (<span style=\"color: #00d7ff; text-decoration-color: #00d7ff\">None</span>, <span style=\"color: #00af00; text-decoration-color: #00af00\">15</span>, <span style=\"color: #00af00; text-decoration-color: #00af00\">15</span>,    │          <span style=\"color: #00af00; text-decoration-color: #00af00\">0</span> │ block_13_expand_… │\n",
              "│ (<span style=\"color: #0087ff; text-decoration-color: #0087ff\">ZeroPadding2D</span>)     │ <span style=\"color: #00af00; text-decoration-color: #00af00\">576</span>)              │            │                   │\n",
              "├─────────────────────┼───────────────────┼────────────┼───────────────────┤\n",
              "│ block_13_depthwise  │ (<span style=\"color: #00d7ff; text-decoration-color: #00d7ff\">None</span>, <span style=\"color: #00af00; text-decoration-color: #00af00\">7</span>, <span style=\"color: #00af00; text-decoration-color: #00af00\">7</span>, <span style=\"color: #00af00; text-decoration-color: #00af00\">576</span>) │      <span style=\"color: #00af00; text-decoration-color: #00af00\">5,184</span> │ block_13_pad[<span style=\"color: #00af00; text-decoration-color: #00af00\">0</span>][<span style=\"color: #00af00; text-decoration-color: #00af00\">…</span> │\n",
              "│ (<span style=\"color: #0087ff; text-decoration-color: #0087ff\">DepthwiseConv2D</span>)   │                   │            │                   │\n",
              "├─────────────────────┼───────────────────┼────────────┼───────────────────┤\n",
              "│ block_13_depthwise… │ (<span style=\"color: #00d7ff; text-decoration-color: #00d7ff\">None</span>, <span style=\"color: #00af00; text-decoration-color: #00af00\">7</span>, <span style=\"color: #00af00; text-decoration-color: #00af00\">7</span>, <span style=\"color: #00af00; text-decoration-color: #00af00\">576</span>) │      <span style=\"color: #00af00; text-decoration-color: #00af00\">2,304</span> │ block_13_depthwi… │\n",
              "│ (<span style=\"color: #0087ff; text-decoration-color: #0087ff\">BatchNormalizatio…</span> │                   │            │                   │\n",
              "├─────────────────────┼───────────────────┼────────────┼───────────────────┤\n",
              "│ block_13_depthwise… │ (<span style=\"color: #00d7ff; text-decoration-color: #00d7ff\">None</span>, <span style=\"color: #00af00; text-decoration-color: #00af00\">7</span>, <span style=\"color: #00af00; text-decoration-color: #00af00\">7</span>, <span style=\"color: #00af00; text-decoration-color: #00af00\">576</span>) │          <span style=\"color: #00af00; text-decoration-color: #00af00\">0</span> │ block_13_depthwi… │\n",
              "│ (<span style=\"color: #0087ff; text-decoration-color: #0087ff\">ReLU</span>)              │                   │            │                   │\n",
              "├─────────────────────┼───────────────────┼────────────┼───────────────────┤\n",
              "│ block_13_project    │ (<span style=\"color: #00d7ff; text-decoration-color: #00d7ff\">None</span>, <span style=\"color: #00af00; text-decoration-color: #00af00\">7</span>, <span style=\"color: #00af00; text-decoration-color: #00af00\">7</span>, <span style=\"color: #00af00; text-decoration-color: #00af00\">160</span>) │     <span style=\"color: #00af00; text-decoration-color: #00af00\">92,160</span> │ block_13_depthwi… │\n",
              "│ (<span style=\"color: #0087ff; text-decoration-color: #0087ff\">Conv2D</span>)            │                   │            │                   │\n",
              "├─────────────────────┼───────────────────┼────────────┼───────────────────┤\n",
              "│ block_13_project_BN │ (<span style=\"color: #00d7ff; text-decoration-color: #00d7ff\">None</span>, <span style=\"color: #00af00; text-decoration-color: #00af00\">7</span>, <span style=\"color: #00af00; text-decoration-color: #00af00\">7</span>, <span style=\"color: #00af00; text-decoration-color: #00af00\">160</span>) │        <span style=\"color: #00af00; text-decoration-color: #00af00\">640</span> │ block_13_project… │\n",
              "│ (<span style=\"color: #0087ff; text-decoration-color: #0087ff\">BatchNormalizatio…</span> │                   │            │                   │\n",
              "├─────────────────────┼───────────────────┼────────────┼───────────────────┤\n",
              "│ block_14_expand     │ (<span style=\"color: #00d7ff; text-decoration-color: #00d7ff\">None</span>, <span style=\"color: #00af00; text-decoration-color: #00af00\">7</span>, <span style=\"color: #00af00; text-decoration-color: #00af00\">7</span>, <span style=\"color: #00af00; text-decoration-color: #00af00\">960</span>) │    <span style=\"color: #00af00; text-decoration-color: #00af00\">153,600</span> │ block_13_project… │\n",
              "│ (<span style=\"color: #0087ff; text-decoration-color: #0087ff\">Conv2D</span>)            │                   │            │                   │\n",
              "├─────────────────────┼───────────────────┼────────────┼───────────────────┤\n",
              "│ block_14_expand_BN  │ (<span style=\"color: #00d7ff; text-decoration-color: #00d7ff\">None</span>, <span style=\"color: #00af00; text-decoration-color: #00af00\">7</span>, <span style=\"color: #00af00; text-decoration-color: #00af00\">7</span>, <span style=\"color: #00af00; text-decoration-color: #00af00\">960</span>) │      <span style=\"color: #00af00; text-decoration-color: #00af00\">3,840</span> │ block_14_expand[<span style=\"color: #00af00; text-decoration-color: #00af00\">…</span> │\n",
              "│ (<span style=\"color: #0087ff; text-decoration-color: #0087ff\">BatchNormalizatio…</span> │                   │            │                   │\n",
              "├─────────────────────┼───────────────────┼────────────┼───────────────────┤\n",
              "│ block_14_expand_re… │ (<span style=\"color: #00d7ff; text-decoration-color: #00d7ff\">None</span>, <span style=\"color: #00af00; text-decoration-color: #00af00\">7</span>, <span style=\"color: #00af00; text-decoration-color: #00af00\">7</span>, <span style=\"color: #00af00; text-decoration-color: #00af00\">960</span>) │          <span style=\"color: #00af00; text-decoration-color: #00af00\">0</span> │ block_14_expand_… │\n",
              "│ (<span style=\"color: #0087ff; text-decoration-color: #0087ff\">ReLU</span>)              │                   │            │                   │\n",
              "├─────────────────────┼───────────────────┼────────────┼───────────────────┤\n",
              "│ block_14_depthwise  │ (<span style=\"color: #00d7ff; text-decoration-color: #00d7ff\">None</span>, <span style=\"color: #00af00; text-decoration-color: #00af00\">7</span>, <span style=\"color: #00af00; text-decoration-color: #00af00\">7</span>, <span style=\"color: #00af00; text-decoration-color: #00af00\">960</span>) │      <span style=\"color: #00af00; text-decoration-color: #00af00\">8,640</span> │ block_14_expand_… │\n",
              "│ (<span style=\"color: #0087ff; text-decoration-color: #0087ff\">DepthwiseConv2D</span>)   │                   │            │                   │\n",
              "├─────────────────────┼───────────────────┼────────────┼───────────────────┤\n",
              "│ block_14_depthwise… │ (<span style=\"color: #00d7ff; text-decoration-color: #00d7ff\">None</span>, <span style=\"color: #00af00; text-decoration-color: #00af00\">7</span>, <span style=\"color: #00af00; text-decoration-color: #00af00\">7</span>, <span style=\"color: #00af00; text-decoration-color: #00af00\">960</span>) │      <span style=\"color: #00af00; text-decoration-color: #00af00\">3,840</span> │ block_14_depthwi… │\n",
              "│ (<span style=\"color: #0087ff; text-decoration-color: #0087ff\">BatchNormalizatio…</span> │                   │            │                   │\n",
              "├─────────────────────┼───────────────────┼────────────┼───────────────────┤\n",
              "│ block_14_depthwise… │ (<span style=\"color: #00d7ff; text-decoration-color: #00d7ff\">None</span>, <span style=\"color: #00af00; text-decoration-color: #00af00\">7</span>, <span style=\"color: #00af00; text-decoration-color: #00af00\">7</span>, <span style=\"color: #00af00; text-decoration-color: #00af00\">960</span>) │          <span style=\"color: #00af00; text-decoration-color: #00af00\">0</span> │ block_14_depthwi… │\n",
              "│ (<span style=\"color: #0087ff; text-decoration-color: #0087ff\">ReLU</span>)              │                   │            │                   │\n",
              "├─────────────────────┼───────────────────┼────────────┼───────────────────┤\n",
              "│ block_14_project    │ (<span style=\"color: #00d7ff; text-decoration-color: #00d7ff\">None</span>, <span style=\"color: #00af00; text-decoration-color: #00af00\">7</span>, <span style=\"color: #00af00; text-decoration-color: #00af00\">7</span>, <span style=\"color: #00af00; text-decoration-color: #00af00\">160</span>) │    <span style=\"color: #00af00; text-decoration-color: #00af00\">153,600</span> │ block_14_depthwi… │\n",
              "│ (<span style=\"color: #0087ff; text-decoration-color: #0087ff\">Conv2D</span>)            │                   │            │                   │\n",
              "├─────────────────────┼───────────────────┼────────────┼───────────────────┤\n",
              "│ block_14_project_BN │ (<span style=\"color: #00d7ff; text-decoration-color: #00d7ff\">None</span>, <span style=\"color: #00af00; text-decoration-color: #00af00\">7</span>, <span style=\"color: #00af00; text-decoration-color: #00af00\">7</span>, <span style=\"color: #00af00; text-decoration-color: #00af00\">160</span>) │        <span style=\"color: #00af00; text-decoration-color: #00af00\">640</span> │ block_14_project… │\n",
              "│ (<span style=\"color: #0087ff; text-decoration-color: #0087ff\">BatchNormalizatio…</span> │                   │            │                   │\n",
              "├─────────────────────┼───────────────────┼────────────┼───────────────────┤\n",
              "│ block_14_add (<span style=\"color: #0087ff; text-decoration-color: #0087ff\">Add</span>)  │ (<span style=\"color: #00d7ff; text-decoration-color: #00d7ff\">None</span>, <span style=\"color: #00af00; text-decoration-color: #00af00\">7</span>, <span style=\"color: #00af00; text-decoration-color: #00af00\">7</span>, <span style=\"color: #00af00; text-decoration-color: #00af00\">160</span>) │          <span style=\"color: #00af00; text-decoration-color: #00af00\">0</span> │ block_13_project… │\n",
              "│                     │                   │            │ block_14_project… │\n",
              "├─────────────────────┼───────────────────┼────────────┼───────────────────┤\n",
              "│ block_15_expand     │ (<span style=\"color: #00d7ff; text-decoration-color: #00d7ff\">None</span>, <span style=\"color: #00af00; text-decoration-color: #00af00\">7</span>, <span style=\"color: #00af00; text-decoration-color: #00af00\">7</span>, <span style=\"color: #00af00; text-decoration-color: #00af00\">960</span>) │    <span style=\"color: #00af00; text-decoration-color: #00af00\">153,600</span> │ block_14_add[<span style=\"color: #00af00; text-decoration-color: #00af00\">0</span>][<span style=\"color: #00af00; text-decoration-color: #00af00\">…</span> │\n",
              "│ (<span style=\"color: #0087ff; text-decoration-color: #0087ff\">Conv2D</span>)            │                   │            │                   │\n",
              "├─────────────────────┼───────────────────┼────────────┼───────────────────┤\n",
              "│ block_15_expand_BN  │ (<span style=\"color: #00d7ff; text-decoration-color: #00d7ff\">None</span>, <span style=\"color: #00af00; text-decoration-color: #00af00\">7</span>, <span style=\"color: #00af00; text-decoration-color: #00af00\">7</span>, <span style=\"color: #00af00; text-decoration-color: #00af00\">960</span>) │      <span style=\"color: #00af00; text-decoration-color: #00af00\">3,840</span> │ block_15_expand[<span style=\"color: #00af00; text-decoration-color: #00af00\">…</span> │\n",
              "│ (<span style=\"color: #0087ff; text-decoration-color: #0087ff\">BatchNormalizatio…</span> │                   │            │                   │\n",
              "├─────────────────────┼───────────────────┼────────────┼───────────────────┤\n",
              "│ block_15_expand_re… │ (<span style=\"color: #00d7ff; text-decoration-color: #00d7ff\">None</span>, <span style=\"color: #00af00; text-decoration-color: #00af00\">7</span>, <span style=\"color: #00af00; text-decoration-color: #00af00\">7</span>, <span style=\"color: #00af00; text-decoration-color: #00af00\">960</span>) │          <span style=\"color: #00af00; text-decoration-color: #00af00\">0</span> │ block_15_expand_… │\n",
              "│ (<span style=\"color: #0087ff; text-decoration-color: #0087ff\">ReLU</span>)              │                   │            │                   │\n",
              "├─────────────────────┼───────────────────┼────────────┼───────────────────┤\n",
              "│ block_15_depthwise  │ (<span style=\"color: #00d7ff; text-decoration-color: #00d7ff\">None</span>, <span style=\"color: #00af00; text-decoration-color: #00af00\">7</span>, <span style=\"color: #00af00; text-decoration-color: #00af00\">7</span>, <span style=\"color: #00af00; text-decoration-color: #00af00\">960</span>) │      <span style=\"color: #00af00; text-decoration-color: #00af00\">8,640</span> │ block_15_expand_… │\n",
              "│ (<span style=\"color: #0087ff; text-decoration-color: #0087ff\">DepthwiseConv2D</span>)   │                   │            │                   │\n",
              "├─────────────────────┼───────────────────┼────────────┼───────────────────┤\n",
              "│ block_15_depthwise… │ (<span style=\"color: #00d7ff; text-decoration-color: #00d7ff\">None</span>, <span style=\"color: #00af00; text-decoration-color: #00af00\">7</span>, <span style=\"color: #00af00; text-decoration-color: #00af00\">7</span>, <span style=\"color: #00af00; text-decoration-color: #00af00\">960</span>) │      <span style=\"color: #00af00; text-decoration-color: #00af00\">3,840</span> │ block_15_depthwi… │\n",
              "│ (<span style=\"color: #0087ff; text-decoration-color: #0087ff\">BatchNormalizatio…</span> │                   │            │                   │\n",
              "├─────────────────────┼───────────────────┼────────────┼───────────────────┤\n",
              "│ block_15_depthwise… │ (<span style=\"color: #00d7ff; text-decoration-color: #00d7ff\">None</span>, <span style=\"color: #00af00; text-decoration-color: #00af00\">7</span>, <span style=\"color: #00af00; text-decoration-color: #00af00\">7</span>, <span style=\"color: #00af00; text-decoration-color: #00af00\">960</span>) │          <span style=\"color: #00af00; text-decoration-color: #00af00\">0</span> │ block_15_depthwi… │\n",
              "│ (<span style=\"color: #0087ff; text-decoration-color: #0087ff\">ReLU</span>)              │                   │            │                   │\n",
              "├─────────────────────┼───────────────────┼────────────┼───────────────────┤\n",
              "│ block_15_project    │ (<span style=\"color: #00d7ff; text-decoration-color: #00d7ff\">None</span>, <span style=\"color: #00af00; text-decoration-color: #00af00\">7</span>, <span style=\"color: #00af00; text-decoration-color: #00af00\">7</span>, <span style=\"color: #00af00; text-decoration-color: #00af00\">160</span>) │    <span style=\"color: #00af00; text-decoration-color: #00af00\">153,600</span> │ block_15_depthwi… │\n",
              "│ (<span style=\"color: #0087ff; text-decoration-color: #0087ff\">Conv2D</span>)            │                   │            │                   │\n",
              "├─────────────────────┼───────────────────┼────────────┼───────────────────┤\n",
              "│ block_15_project_BN │ (<span style=\"color: #00d7ff; text-decoration-color: #00d7ff\">None</span>, <span style=\"color: #00af00; text-decoration-color: #00af00\">7</span>, <span style=\"color: #00af00; text-decoration-color: #00af00\">7</span>, <span style=\"color: #00af00; text-decoration-color: #00af00\">160</span>) │        <span style=\"color: #00af00; text-decoration-color: #00af00\">640</span> │ block_15_project… │\n",
              "│ (<span style=\"color: #0087ff; text-decoration-color: #0087ff\">BatchNormalizatio…</span> │                   │            │                   │\n",
              "├─────────────────────┼───────────────────┼────────────┼───────────────────┤\n",
              "│ block_15_add (<span style=\"color: #0087ff; text-decoration-color: #0087ff\">Add</span>)  │ (<span style=\"color: #00d7ff; text-decoration-color: #00d7ff\">None</span>, <span style=\"color: #00af00; text-decoration-color: #00af00\">7</span>, <span style=\"color: #00af00; text-decoration-color: #00af00\">7</span>, <span style=\"color: #00af00; text-decoration-color: #00af00\">160</span>) │          <span style=\"color: #00af00; text-decoration-color: #00af00\">0</span> │ block_14_add[<span style=\"color: #00af00; text-decoration-color: #00af00\">0</span>][<span style=\"color: #00af00; text-decoration-color: #00af00\">…</span> │\n",
              "│                     │                   │            │ block_15_project… │\n",
              "├─────────────────────┼───────────────────┼────────────┼───────────────────┤\n",
              "│ block_16_expand     │ (<span style=\"color: #00d7ff; text-decoration-color: #00d7ff\">None</span>, <span style=\"color: #00af00; text-decoration-color: #00af00\">7</span>, <span style=\"color: #00af00; text-decoration-color: #00af00\">7</span>, <span style=\"color: #00af00; text-decoration-color: #00af00\">960</span>) │    <span style=\"color: #00af00; text-decoration-color: #00af00\">153,600</span> │ block_15_add[<span style=\"color: #00af00; text-decoration-color: #00af00\">0</span>][<span style=\"color: #00af00; text-decoration-color: #00af00\">…</span> │\n",
              "│ (<span style=\"color: #0087ff; text-decoration-color: #0087ff\">Conv2D</span>)            │                   │            │                   │\n",
              "├─────────────────────┼───────────────────┼────────────┼───────────────────┤\n",
              "│ block_16_expand_BN  │ (<span style=\"color: #00d7ff; text-decoration-color: #00d7ff\">None</span>, <span style=\"color: #00af00; text-decoration-color: #00af00\">7</span>, <span style=\"color: #00af00; text-decoration-color: #00af00\">7</span>, <span style=\"color: #00af00; text-decoration-color: #00af00\">960</span>) │      <span style=\"color: #00af00; text-decoration-color: #00af00\">3,840</span> │ block_16_expand[<span style=\"color: #00af00; text-decoration-color: #00af00\">…</span> │\n",
              "│ (<span style=\"color: #0087ff; text-decoration-color: #0087ff\">BatchNormalizatio…</span> │                   │            │                   │\n",
              "├─────────────────────┼───────────────────┼────────────┼───────────────────┤\n",
              "│ block_16_expand_re… │ (<span style=\"color: #00d7ff; text-decoration-color: #00d7ff\">None</span>, <span style=\"color: #00af00; text-decoration-color: #00af00\">7</span>, <span style=\"color: #00af00; text-decoration-color: #00af00\">7</span>, <span style=\"color: #00af00; text-decoration-color: #00af00\">960</span>) │          <span style=\"color: #00af00; text-decoration-color: #00af00\">0</span> │ block_16_expand_… │\n",
              "│ (<span style=\"color: #0087ff; text-decoration-color: #0087ff\">ReLU</span>)              │                   │            │                   │\n",
              "├─────────────────────┼───────────────────┼────────────┼───────────────────┤\n",
              "│ block_16_depthwise  │ (<span style=\"color: #00d7ff; text-decoration-color: #00d7ff\">None</span>, <span style=\"color: #00af00; text-decoration-color: #00af00\">7</span>, <span style=\"color: #00af00; text-decoration-color: #00af00\">7</span>, <span style=\"color: #00af00; text-decoration-color: #00af00\">960</span>) │      <span style=\"color: #00af00; text-decoration-color: #00af00\">8,640</span> │ block_16_expand_… │\n",
              "│ (<span style=\"color: #0087ff; text-decoration-color: #0087ff\">DepthwiseConv2D</span>)   │                   │            │                   │\n",
              "├─────────────────────┼───────────────────┼────────────┼───────────────────┤\n",
              "│ block_16_depthwise… │ (<span style=\"color: #00d7ff; text-decoration-color: #00d7ff\">None</span>, <span style=\"color: #00af00; text-decoration-color: #00af00\">7</span>, <span style=\"color: #00af00; text-decoration-color: #00af00\">7</span>, <span style=\"color: #00af00; text-decoration-color: #00af00\">960</span>) │      <span style=\"color: #00af00; text-decoration-color: #00af00\">3,840</span> │ block_16_depthwi… │\n",
              "│ (<span style=\"color: #0087ff; text-decoration-color: #0087ff\">BatchNormalizatio…</span> │                   │            │                   │\n",
              "├─────────────────────┼───────────────────┼────────────┼───────────────────┤\n",
              "│ block_16_depthwise… │ (<span style=\"color: #00d7ff; text-decoration-color: #00d7ff\">None</span>, <span style=\"color: #00af00; text-decoration-color: #00af00\">7</span>, <span style=\"color: #00af00; text-decoration-color: #00af00\">7</span>, <span style=\"color: #00af00; text-decoration-color: #00af00\">960</span>) │          <span style=\"color: #00af00; text-decoration-color: #00af00\">0</span> │ block_16_depthwi… │\n",
              "│ (<span style=\"color: #0087ff; text-decoration-color: #0087ff\">ReLU</span>)              │                   │            │                   │\n",
              "├─────────────────────┼───────────────────┼────────────┼───────────────────┤\n",
              "│ block_16_project    │ (<span style=\"color: #00d7ff; text-decoration-color: #00d7ff\">None</span>, <span style=\"color: #00af00; text-decoration-color: #00af00\">7</span>, <span style=\"color: #00af00; text-decoration-color: #00af00\">7</span>, <span style=\"color: #00af00; text-decoration-color: #00af00\">320</span>) │    <span style=\"color: #00af00; text-decoration-color: #00af00\">307,200</span> │ block_16_depthwi… │\n",
              "│ (<span style=\"color: #0087ff; text-decoration-color: #0087ff\">Conv2D</span>)            │                   │            │                   │\n",
              "├─────────────────────┼───────────────────┼────────────┼───────────────────┤\n",
              "│ block_16_project_BN │ (<span style=\"color: #00d7ff; text-decoration-color: #00d7ff\">None</span>, <span style=\"color: #00af00; text-decoration-color: #00af00\">7</span>, <span style=\"color: #00af00; text-decoration-color: #00af00\">7</span>, <span style=\"color: #00af00; text-decoration-color: #00af00\">320</span>) │      <span style=\"color: #00af00; text-decoration-color: #00af00\">1,280</span> │ block_16_project… │\n",
              "│ (<span style=\"color: #0087ff; text-decoration-color: #0087ff\">BatchNormalizatio…</span> │                   │            │                   │\n",
              "├─────────────────────┼───────────────────┼────────────┼───────────────────┤\n",
              "│ Conv_1 (<span style=\"color: #0087ff; text-decoration-color: #0087ff\">Conv2D</span>)     │ (<span style=\"color: #00d7ff; text-decoration-color: #00d7ff\">None</span>, <span style=\"color: #00af00; text-decoration-color: #00af00\">7</span>, <span style=\"color: #00af00; text-decoration-color: #00af00\">7</span>,      │    <span style=\"color: #00af00; text-decoration-color: #00af00\">409,600</span> │ block_16_project… │\n",
              "│                     │ <span style=\"color: #00af00; text-decoration-color: #00af00\">1280</span>)             │            │                   │\n",
              "├─────────────────────┼───────────────────┼────────────┼───────────────────┤\n",
              "│ Conv_1_bn           │ (<span style=\"color: #00d7ff; text-decoration-color: #00d7ff\">None</span>, <span style=\"color: #00af00; text-decoration-color: #00af00\">7</span>, <span style=\"color: #00af00; text-decoration-color: #00af00\">7</span>,      │      <span style=\"color: #00af00; text-decoration-color: #00af00\">5,120</span> │ Conv_1[<span style=\"color: #00af00; text-decoration-color: #00af00\">0</span>][<span style=\"color: #00af00; text-decoration-color: #00af00\">0</span>]      │\n",
              "│ (<span style=\"color: #0087ff; text-decoration-color: #0087ff\">BatchNormalizatio…</span> │ <span style=\"color: #00af00; text-decoration-color: #00af00\">1280</span>)             │            │                   │\n",
              "├─────────────────────┼───────────────────┼────────────┼───────────────────┤\n",
              "│ out_relu (<span style=\"color: #0087ff; text-decoration-color: #0087ff\">ReLU</span>)     │ (<span style=\"color: #00d7ff; text-decoration-color: #00d7ff\">None</span>, <span style=\"color: #00af00; text-decoration-color: #00af00\">7</span>, <span style=\"color: #00af00; text-decoration-color: #00af00\">7</span>,      │          <span style=\"color: #00af00; text-decoration-color: #00af00\">0</span> │ Conv_1_bn[<span style=\"color: #00af00; text-decoration-color: #00af00\">0</span>][<span style=\"color: #00af00; text-decoration-color: #00af00\">0</span>]   │\n",
              "│                     │ <span style=\"color: #00af00; text-decoration-color: #00af00\">1280</span>)             │            │                   │\n",
              "├─────────────────────┼───────────────────┼────────────┼───────────────────┤\n",
              "│ global_average_poo… │ (<span style=\"color: #00d7ff; text-decoration-color: #00d7ff\">None</span>, <span style=\"color: #00af00; text-decoration-color: #00af00\">1280</span>)      │          <span style=\"color: #00af00; text-decoration-color: #00af00\">0</span> │ out_relu[<span style=\"color: #00af00; text-decoration-color: #00af00\">0</span>][<span style=\"color: #00af00; text-decoration-color: #00af00\">0</span>]    │\n",
              "│ (<span style=\"color: #0087ff; text-decoration-color: #0087ff\">GlobalAveragePool…</span> │                   │            │                   │\n",
              "├─────────────────────┼───────────────────┼────────────┼───────────────────┤\n",
              "│ dropout_2 (<span style=\"color: #0087ff; text-decoration-color: #0087ff\">Dropout</span>) │ (<span style=\"color: #00d7ff; text-decoration-color: #00d7ff\">None</span>, <span style=\"color: #00af00; text-decoration-color: #00af00\">1280</span>)      │          <span style=\"color: #00af00; text-decoration-color: #00af00\">0</span> │ global_average_p… │\n",
              "├─────────────────────┼───────────────────┼────────────┼───────────────────┤\n",
              "│ dense_4 (<span style=\"color: #0087ff; text-decoration-color: #0087ff\">Dense</span>)     │ (<span style=\"color: #00d7ff; text-decoration-color: #00d7ff\">None</span>, <span style=\"color: #00af00; text-decoration-color: #00af00\">4</span>)         │      <span style=\"color: #00af00; text-decoration-color: #00af00\">5,124</span> │ dropout_2[<span style=\"color: #00af00; text-decoration-color: #00af00\">0</span>][<span style=\"color: #00af00; text-decoration-color: #00af00\">0</span>]   │\n",
              "└─────────────────────┴───────────────────┴────────────┴───────────────────┘\n",
              "</pre>\n"
            ]
          },
          "metadata": {}
        },
        {
          "output_type": "display_data",
          "data": {
            "text/plain": [
              "\u001b[1m Total params: \u001b[0m\u001b[38;5;34m2,263,108\u001b[0m (8.63 MB)\n"
            ],
            "text/html": [
              "<pre style=\"white-space:pre;overflow-x:auto;line-height:normal;font-family:Menlo,'DejaVu Sans Mono',consolas,'Courier New',monospace\"><span style=\"font-weight: bold\"> Total params: </span><span style=\"color: #00af00; text-decoration-color: #00af00\">2,263,108</span> (8.63 MB)\n",
              "</pre>\n"
            ]
          },
          "metadata": {}
        },
        {
          "output_type": "display_data",
          "data": {
            "text/plain": [
              "\u001b[1m Trainable params: \u001b[0m\u001b[38;5;34m5,124\u001b[0m (20.02 KB)\n"
            ],
            "text/html": [
              "<pre style=\"white-space:pre;overflow-x:auto;line-height:normal;font-family:Menlo,'DejaVu Sans Mono',consolas,'Courier New',monospace\"><span style=\"font-weight: bold\"> Trainable params: </span><span style=\"color: #00af00; text-decoration-color: #00af00\">5,124</span> (20.02 KB)\n",
              "</pre>\n"
            ]
          },
          "metadata": {}
        },
        {
          "output_type": "display_data",
          "data": {
            "text/plain": [
              "\u001b[1m Non-trainable params: \u001b[0m\u001b[38;5;34m2,257,984\u001b[0m (8.61 MB)\n"
            ],
            "text/html": [
              "<pre style=\"white-space:pre;overflow-x:auto;line-height:normal;font-family:Menlo,'DejaVu Sans Mono',consolas,'Courier New',monospace\"><span style=\"font-weight: bold\"> Non-trainable params: </span><span style=\"color: #00af00; text-decoration-color: #00af00\">2,257,984</span> (8.61 MB)\n",
              "</pre>\n"
            ]
          },
          "metadata": {}
        }
      ]
    },
    {
      "cell_type": "code",
      "source": [
        "from tensorflow.keras.callbacks import EarlyStopping, ModelCheckpoint\n",
        "\n",
        "callbacks = [\n",
        "    EarlyStopping(patience=3, restore_best_weights=True),\n",
        "    ModelCheckpoint('best_custom_cnn.h5', save_best_only=True)\n",
        "]\n",
        "\n",
        "cnn_history = cnn_model.fit(\n",
        "    train_generator,\n",
        "    validation_data=test_generator,\n",
        "    epochs=10,\n",
        "    callbacks=callbacks\n",
        ")\n",
        "\n",
        "callbacks_transfer = [\n",
        "    EarlyStopping(patience=3, restore_best_weights=True),\n",
        "    ModelCheckpoint('best_transfer_model.h5', save_best_only=True)\n",
        "]\n",
        "\n",
        "transfer_history = transfer_model.fit(\n",
        "    train_generator,\n",
        "    validation_data=test_generator,\n",
        "    epochs=10,\n",
        "    callbacks=callbacks_transfer\n",
        ")\n"
      ],
      "metadata": {
        "colab": {
          "base_uri": "https://localhost:8080/"
        },
        "id": "01M3KRSH6YoB",
        "outputId": "3a79087a-54ee-4bc6-eca0-f3e22b8dee1a"
      },
      "execution_count": 18,
      "outputs": [
        {
          "output_type": "stream",
          "name": "stdout",
          "text": [
            "Epoch 1/10\n",
            "\u001b[1m179/179\u001b[0m \u001b[32m━━━━━━━━━━━━━━━━━━━━\u001b[0m\u001b[37m\u001b[0m \u001b[1m0s\u001b[0m 5s/step - accuracy: 0.5657 - loss: 0.9954"
          ]
        },
        {
          "output_type": "stream",
          "name": "stderr",
          "text": [
            "WARNING:absl:You are saving your model as an HDF5 file via `model.save()` or `keras.saving.save_model(model)`. This file format is considered legacy. We recommend using instead the native Keras format, e.g. `model.save('my_model.keras')` or `keras.saving.save_model(model, 'my_model.keras')`. \n"
          ]
        },
        {
          "output_type": "stream",
          "name": "stdout",
          "text": [
            "\b\b\b\b\b\b\b\b\b\b\b\b\b\b\b\b\b\b\b\b\b\b\b\b\b\b\b\b\b\b\b\b\b\b\b\b\b\b\b\b\b\b\b\b\b\b\b\b\b\b\b\b\b\b\b\b\b\b\b\b\b\b\b\b\b\b\b\b\b\b\b\b\b\r\u001b[1m179/179\u001b[0m \u001b[32m━━━━━━━━━━━━━━━━━━━━\u001b[0m\u001b[37m\u001b[0m \u001b[1m880s\u001b[0m 5s/step - accuracy: 0.5657 - loss: 0.9953 - val_accuracy: 0.7269 - val_loss: 0.7430\n",
            "Epoch 2/10\n",
            "\u001b[1m179/179\u001b[0m \u001b[32m━━━━━━━━━━━━━━━━━━━━\u001b[0m\u001b[37m\u001b[0m \u001b[1m870s\u001b[0m 5s/step - accuracy: 0.5637 - loss: 1.0671 - val_accuracy: 0.6651 - val_loss: 0.8222\n",
            "Epoch 3/10\n",
            "\u001b[1m179/179\u001b[0m \u001b[32m━━━━━━━━━━━━━━━━━━━━\u001b[0m\u001b[37m\u001b[0m \u001b[1m876s\u001b[0m 5s/step - accuracy: 0.5753 - loss: 0.9295 - val_accuracy: 0.7018 - val_loss: 0.8491\n",
            "Epoch 4/10\n",
            "\u001b[1m179/179\u001b[0m \u001b[32m━━━━━━━━━━━━━━━━━━━━\u001b[0m\u001b[37m\u001b[0m \u001b[1m901s\u001b[0m 5s/step - accuracy: 0.6042 - loss: 0.9822 - val_accuracy: 0.7201 - val_loss: 0.7918\n",
            "Epoch 1/10\n",
            "\u001b[1m179/179\u001b[0m \u001b[32m━━━━━━━━━━━━━━━━━━━━\u001b[0m\u001b[37m\u001b[0m \u001b[1m0s\u001b[0m 2s/step - accuracy: 0.8538 - loss: 0.3847"
          ]
        },
        {
          "output_type": "stream",
          "name": "stderr",
          "text": [
            "WARNING:absl:You are saving your model as an HDF5 file via `model.save()` or `keras.saving.save_model(model)`. This file format is considered legacy. We recommend using instead the native Keras format, e.g. `model.save('my_model.keras')` or `keras.saving.save_model(model, 'my_model.keras')`. \n"
          ]
        },
        {
          "output_type": "stream",
          "name": "stdout",
          "text": [
            "\b\b\b\b\b\b\b\b\b\b\b\b\b\b\b\b\b\b\b\b\b\b\b\b\b\b\b\b\b\b\b\b\b\b\b\b\b\b\b\b\b\b\b\b\b\b\b\b\b\b\b\b\b\b\b\b\b\b\b\b\b\b\b\b\b\b\b\b\b\b\b\b\b\r\u001b[1m179/179\u001b[0m \u001b[32m━━━━━━━━━━━━━━━━━━━━\u001b[0m\u001b[37m\u001b[0m \u001b[1m395s\u001b[0m 2s/step - accuracy: 0.8538 - loss: 0.3847 - val_accuracy: 0.8291 - val_loss: 0.4455\n",
            "Epoch 2/10\n",
            "\u001b[1m179/179\u001b[0m \u001b[32m━━━━━━━━━━━━━━━━━━━━\u001b[0m\u001b[37m\u001b[0m \u001b[1m386s\u001b[0m 2s/step - accuracy: 0.8783 - loss: 0.3313 - val_accuracy: 0.8276 - val_loss: 0.4533\n",
            "Epoch 3/10\n",
            "\u001b[1m179/179\u001b[0m \u001b[32m━━━━━━━━━━━━━━━━━━━━\u001b[0m\u001b[37m\u001b[0m \u001b[1m0s\u001b[0m 2s/step - accuracy: 0.8834 - loss: 0.3164"
          ]
        },
        {
          "output_type": "stream",
          "name": "stderr",
          "text": [
            "WARNING:absl:You are saving your model as an HDF5 file via `model.save()` or `keras.saving.save_model(model)`. This file format is considered legacy. We recommend using instead the native Keras format, e.g. `model.save('my_model.keras')` or `keras.saving.save_model(model, 'my_model.keras')`. \n"
          ]
        },
        {
          "output_type": "stream",
          "name": "stdout",
          "text": [
            "\b\b\b\b\b\b\b\b\b\b\b\b\b\b\b\b\b\b\b\b\b\b\b\b\b\b\b\b\b\b\b\b\b\b\b\b\b\b\b\b\b\b\b\b\b\b\b\b\b\b\b\b\b\b\b\b\b\b\b\b\b\b\b\b\b\b\b\b\b\b\b\b\b\r\u001b[1m179/179\u001b[0m \u001b[32m━━━━━━━━━━━━━━━━━━━━\u001b[0m\u001b[37m\u001b[0m \u001b[1m400s\u001b[0m 2s/step - accuracy: 0.8834 - loss: 0.3164 - val_accuracy: 0.8421 - val_loss: 0.4212\n",
            "Epoch 4/10\n",
            "\u001b[1m179/179\u001b[0m \u001b[32m━━━━━━━━━━━━━━━━━━━━\u001b[0m\u001b[37m\u001b[0m \u001b[1m0s\u001b[0m 2s/step - accuracy: 0.8932 - loss: 0.2932"
          ]
        },
        {
          "output_type": "stream",
          "name": "stderr",
          "text": [
            "WARNING:absl:You are saving your model as an HDF5 file via `model.save()` or `keras.saving.save_model(model)`. This file format is considered legacy. We recommend using instead the native Keras format, e.g. `model.save('my_model.keras')` or `keras.saving.save_model(model, 'my_model.keras')`. \n"
          ]
        },
        {
          "output_type": "stream",
          "name": "stdout",
          "text": [
            "\b\b\b\b\b\b\b\b\b\b\b\b\b\b\b\b\b\b\b\b\b\b\b\b\b\b\b\b\b\b\b\b\b\b\b\b\b\b\b\b\b\b\b\b\b\b\b\b\b\b\b\b\b\b\b\b\b\b\b\b\b\b\b\b\b\b\b\b\b\b\b\b\b\r\u001b[1m179/179\u001b[0m \u001b[32m━━━━━━━━━━━━━━━━━━━━\u001b[0m\u001b[37m\u001b[0m \u001b[1m394s\u001b[0m 2s/step - accuracy: 0.8932 - loss: 0.2932 - val_accuracy: 0.8543 - val_loss: 0.3878\n",
            "Epoch 5/10\n",
            "\u001b[1m179/179\u001b[0m \u001b[32m━━━━━━━━━━━━━━━━━━━━\u001b[0m\u001b[37m\u001b[0m \u001b[1m390s\u001b[0m 2s/step - accuracy: 0.8889 - loss: 0.2909 - val_accuracy: 0.8520 - val_loss: 0.3998\n",
            "Epoch 6/10\n",
            "\u001b[1m179/179\u001b[0m \u001b[32m━━━━━━━━━━━━━━━━━━━━\u001b[0m\u001b[37m\u001b[0m \u001b[1m0s\u001b[0m 2s/step - accuracy: 0.9043 - loss: 0.2686"
          ]
        },
        {
          "output_type": "stream",
          "name": "stderr",
          "text": [
            "WARNING:absl:You are saving your model as an HDF5 file via `model.save()` or `keras.saving.save_model(model)`. This file format is considered legacy. We recommend using instead the native Keras format, e.g. `model.save('my_model.keras')` or `keras.saving.save_model(model, 'my_model.keras')`. \n"
          ]
        },
        {
          "output_type": "stream",
          "name": "stdout",
          "text": [
            "\b\b\b\b\b\b\b\b\b\b\b\b\b\b\b\b\b\b\b\b\b\b\b\b\b\b\b\b\b\b\b\b\b\b\b\b\b\b\b\b\b\b\b\b\b\b\b\b\b\b\b\b\b\b\b\b\b\b\b\b\b\b\b\b\b\b\b\b\b\b\b\b\b\r\u001b[1m179/179\u001b[0m \u001b[32m━━━━━━━━━━━━━━━━━━━━\u001b[0m\u001b[37m\u001b[0m \u001b[1m403s\u001b[0m 2s/step - accuracy: 0.9043 - loss: 0.2686 - val_accuracy: 0.8604 - val_loss: 0.3580\n",
            "Epoch 7/10\n",
            "\u001b[1m179/179\u001b[0m \u001b[32m━━━━━━━━━━━━━━━━━━━━\u001b[0m\u001b[37m\u001b[0m \u001b[1m401s\u001b[0m 2s/step - accuracy: 0.8917 - loss: 0.2941 - val_accuracy: 0.8604 - val_loss: 0.3777\n",
            "Epoch 8/10\n",
            "\u001b[1m179/179\u001b[0m \u001b[32m━━━━━━━━━━━━━━━━━━━━\u001b[0m\u001b[37m\u001b[0m \u001b[1m389s\u001b[0m 2s/step - accuracy: 0.9068 - loss: 0.2582 - val_accuracy: 0.8467 - val_loss: 0.4147\n",
            "Epoch 9/10\n",
            "\u001b[1m179/179\u001b[0m \u001b[32m━━━━━━━━━━━━━━━━━━━━\u001b[0m\u001b[37m\u001b[0m \u001b[1m0s\u001b[0m 2s/step - accuracy: 0.9028 - loss: 0.2535"
          ]
        },
        {
          "output_type": "stream",
          "name": "stderr",
          "text": [
            "WARNING:absl:You are saving your model as an HDF5 file via `model.save()` or `keras.saving.save_model(model)`. This file format is considered legacy. We recommend using instead the native Keras format, e.g. `model.save('my_model.keras')` or `keras.saving.save_model(model, 'my_model.keras')`. \n"
          ]
        },
        {
          "output_type": "stream",
          "name": "stdout",
          "text": [
            "\b\b\b\b\b\b\b\b\b\b\b\b\b\b\b\b\b\b\b\b\b\b\b\b\b\b\b\b\b\b\b\b\b\b\b\b\b\b\b\b\b\b\b\b\b\b\b\b\b\b\b\b\b\b\b\b\b\b\b\b\b\b\b\b\b\b\b\b\b\b\b\b\b\r\u001b[1m179/179\u001b[0m \u001b[32m━━━━━━━━━━━━━━━━━━━━\u001b[0m\u001b[37m\u001b[0m \u001b[1m416s\u001b[0m 2s/step - accuracy: 0.9028 - loss: 0.2536 - val_accuracy: 0.8871 - val_loss: 0.3097\n",
            "Epoch 10/10\n",
            "\u001b[1m179/179\u001b[0m \u001b[32m━━━━━━━━━━━━━━━━━━━━\u001b[0m\u001b[37m\u001b[0m \u001b[1m398s\u001b[0m 2s/step - accuracy: 0.9032 - loss: 0.2645 - val_accuracy: 0.8581 - val_loss: 0.3918\n"
          ]
        }
      ]
    },
    {
      "cell_type": "code",
      "source": [
        "cnn_loss, cnn_acc = cnn_model.evaluate(test_generator)\n",
        "print(f\"Custom CNN Accuracy: {cnn_acc:.2f}\")\n",
        "\n",
        "transfer_loss, transfer_acc = transfer_model.evaluate(test_generator)\n",
        "print(f\"Transfer Model Accuracy: {transfer_acc:.2f}\")\n"
      ],
      "metadata": {
        "colab": {
          "base_uri": "https://localhost:8080/"
        },
        "id": "bbI2apcE7AbI",
        "outputId": "7fd6768f-2c1e-437e-b6d2-3d4710d1346f"
      },
      "execution_count": 19,
      "outputs": [
        {
          "output_type": "stream",
          "name": "stdout",
          "text": [
            "\u001b[1m41/41\u001b[0m \u001b[32m━━━━━━━━━━━━━━━━━━━━\u001b[0m\u001b[37m\u001b[0m \u001b[1m46s\u001b[0m 1s/step - accuracy: 0.7408 - loss: 0.7273\n",
            "Custom CNN Accuracy: 0.73\n",
            "\u001b[1m41/41\u001b[0m \u001b[32m━━━━━━━━━━━━━━━━━━━━\u001b[0m\u001b[37m\u001b[0m \u001b[1m63s\u001b[0m 2s/step - accuracy: 0.8972 - loss: 0.2821\n",
            "Transfer Model Accuracy: 0.89\n"
          ]
        }
      ]
    },
    {
      "cell_type": "code",
      "source": [
        "import matplotlib.pyplot as plt\n",
        "\n",
        "def plot_history(history, title):\n",
        "    plt.figure(figsize=(10, 4))\n",
        "\n",
        "    # Accuracy\n",
        "    plt.subplot(1, 2, 1)\n",
        "    plt.plot(history.history['accuracy'], label='Train')\n",
        "    plt.plot(history.history['val_accuracy'], label='Val')\n",
        "    plt.title(f'{title} Accuracy')\n",
        "    plt.legend()\n",
        "\n",
        "    # Loss\n",
        "    plt.subplot(1, 2, 2)\n",
        "    plt.plot(history.history['loss'], label='Train')\n",
        "    plt.plot(history.history['val_loss'], label='Val')\n",
        "    plt.title(f'{title} Loss')\n",
        "    plt.legend()\n",
        "\n",
        "    plt.tight_layout()\n",
        "    plt.show()\n",
        "\n",
        "plot_history(cnn_history, \"Custom CNN\")\n",
        "plot_history(transfer_history, \"Transfer Learning\")\n"
      ],
      "metadata": {
        "colab": {
          "base_uri": "https://localhost:8080/",
          "height": 797
        },
        "id": "jNh9tGP633Bs",
        "outputId": "bb2a3bea-23bf-47a8-ae20-7226a5dce8f5"
      },
      "execution_count": 20,
      "outputs": [
        {
          "output_type": "display_data",
          "data": {
            "text/plain": [
              "<Figure size 1000x400 with 2 Axes>"
            ],
            "image/png": "[encoded data removed]"
          },
          "metadata": {}
        },
        {
          "output_type": "display_data",
          "data": {
            "text/plain": [
              "<Figure size 1000x400 with 2 Axes>"
            ],
            "image/png": "[encoded data removed]"
          },
          "metadata": {}
        }
      ]
    },
    {
      "cell_type": "code",
      "source": [
        "# Save this in a file named `app.py`\n",
        "\n",
        "import streamlit as st\n",
        "import numpy as np\n",
        "from tensorflow.keras.models import load_model\n",
        "from tensorflow.keras.preprocessing import image\n",
        "\n",
        "model = load_model(\"best_transfer_model.h5\")\n",
        "\n",
        "classes = ['glioma', 'meningioma', 'notumor', 'pituitary']\n",
        "\n",
        "st.title(\"🧠 Brain Tumor MRI Classifier\")\n",
        "uploaded = st.file_uploader(\"Upload an MRI image\", type=[\"jpg\", \"jpeg\", \"png\"])\n",
        "\n",
        "if uploaded:\n",
        "    img = image.load_img(uploaded, target_size=(224, 224))\n",
        "    st.image(img, caption=\"Uploaded Image\", use_column_width=True)\n",
        "\n",
        "    x = image.img_to_array(img)\n",
        "    x = np.expand_dims(x, axis=0) / 255.0\n",
        "\n",
        "    pred = model.predict(x)\n",
        "    index = np.argmax(pred)\n",
        "    confidence = pred[0][index]\n",
        "\n",
        "    st.markdown(f\"### 🩺 Prediction: **{classes[index]}**\")\n",
        "    st.markdown(f\"Confidence: **{confidence:.2f}**\")\n"
      ],
      "metadata": {
        "colab": {
          "base_uri": "https://localhost:8080/"
        },
        "id": "xcdSXqFMwsKS",
        "outputId": "9a9b3a4b-bd28-4cea-b5b7-c56c8bb4b8fc"
      },
      "execution_count": 23,
      "outputs": [
        {
          "output_type": "stream",
          "name": "stderr",
          "text": [
            "WARNING:absl:Compiled the loaded model, but the compiled metrics have yet to be built. `model.compile_metrics` will be empty until you train or evaluate the model.\n",
            "2025-07-24 10:16:27.206 WARNING streamlit.runtime.scriptrunner_utils.script_run_context: Thread 'MainThread': missing ScriptRunContext! This warning can be ignored when running in bare mode.\n",
            "2025-07-24 10:16:27.683 \n",
            "  \u001b[33m\u001b[1mWarning:\u001b[0m to view this Streamlit app on a browser, run it with the following\n",
            "  command:\n",
            "\n",
            "    streamlit run /usr/local/lib/python3.11/dist-packages/colab_kernel_launcher.py [ARGUMENTS]\n",
            "2025-07-24 10:16:27.687 Thread 'MainThread': missing ScriptRunContext! This warning can be ignored when running in bare mode.\n",
            "2025-07-24 10:16:27.691 Thread 'MainThread': missing ScriptRunContext! This warning can be ignored when running in bare mode.\n",
            "2025-07-24 10:16:27.700 Thread 'MainThread': missing ScriptRunContext! This warning can be ignored when running in bare mode.\n",
            "2025-07-24 10:16:27.704 Thread 'MainThread': missing ScriptRunContext! This warning can be ignored when running in bare mode.\n",
            "2025-07-24 10:16:27.707 Thread 'MainThread': missing ScriptRunContext! This warning can be ignored when running in bare mode.\n",
            "2025-07-24 10:16:27.709 Thread 'MainThread': missing ScriptRunContext! This warning can be ignored when running in bare mode.\n",
            "2025-07-24 10:16:27.712 Thread 'MainThread': missing ScriptRunContext! This warning can be ignored when running in bare mode.\n",
            "2025-07-24 10:16:27.715 Thread 'MainThread': missing ScriptRunContext! This warning can be ignored when running in bare mode.\n"
          ]
        }
      ]
    },
    {
      "cell_type": "code",
      "source": [
        "import streamlit as st\n",
        "import tensorflow as tf\n",
        "from PIL import Image\n",
        "import numpy as np\n",
        "\n",
        "# Load the model (update filename as per your saved model)\n",
        "model = tf.keras.models.load_model(\"best_custom_cnn.h5\")\n",
        "\n",
        "# Define class names as per your training data folders\n",
        "class_names = ['glioma', 'meningioma', 'notumor', 'pituitary']\n",
        "\n",
        "# Set page config\n",
        "st.set_page_config(page_title=\"Brain Tumor Classifier\", layout=\"centered\")\n",
        "\n",
        "# Streamlit app header\n",
        "st.title(\"🧠 Brain Tumor MRI Image Classifier\")\n",
        "st.write(\"Upload an MRI scan image to predict tumor type.\")\n",
        "\n",
        "# Upload image\n",
        "uploaded_file = st.file_uploader(\"Choose an MRI image...\", type=[\"jpg\", \"jpeg\", \"png\"])\n",
        "\n",
        "if uploaded_file is not None:\n",
        "    image = Image.open(uploaded_file).convert('RGB')\n",
        "    st.image(image, caption=\"Uploaded MRI Image\", use_column_width=True)\n",
        "\n",
        "    # Preprocessing\n",
        "    image = image.resize((150, 150))  # use your training image size\n",
        "    img_array = np.array(image) / 255.0\n",
        "    img_array = np.expand_dims(img_array, axis=0)  # shape: (1, 150, 150, 3)\n",
        "\n",
        "    # Prediction\n",
        "    prediction = model.predict(img_array)\n",
        "    predicted_class = class_names[np.argmax(prediction)]\n",
        "\n",
        "    # Display result\n",
        "    st.success(f\"🧠 Predicted Tumor Type: **{predicted_class.capitalize()}**\")\n"
      ],
      "metadata": {
        "colab": {
          "base_uri": "https://localhost:8080/"
        },
        "id": "Pn9pFcnf9GMC",
        "outputId": "73a8a5b3-0108-43d6-e80f-ad75cb715632"
      },
      "execution_count": 31,
      "outputs": [
        {
          "output_type": "stream",
          "name": "stderr",
          "text": [
            "WARNING:absl:Compiled the loaded model, but the compiled metrics have yet to be built. `model.compile_metrics` will be empty until you train or evaluate the model.\n",
            "2025-07-24 10:22:58.503 Thread 'MainThread': missing ScriptRunContext! This warning can be ignored when running in bare mode.\n",
            "2025-07-24 10:22:58.504 Thread 'MainThread': missing ScriptRunContext! This warning can be ignored when running in bare mode.\n",
            "2025-07-24 10:22:58.506 Thread 'MainThread': missing ScriptRunContext! This warning can be ignored when running in bare mode.\n",
            "2025-07-24 10:22:58.508 Thread 'MainThread': missing ScriptRunContext! This warning can be ignored when running in bare mode.\n",
            "2025-07-24 10:22:58.509 Thread 'MainThread': missing ScriptRunContext! This warning can be ignored when running in bare mode.\n",
            "2025-07-24 10:22:58.511 Thread 'MainThread': missing ScriptRunContext! This warning can be ignored when running in bare mode.\n",
            "2025-07-24 10:22:58.513 Thread 'MainThread': missing ScriptRunContext! This warning can be ignored when running in bare mode.\n",
            "2025-07-24 10:22:58.514 Thread 'MainThread': missing ScriptRunContext! This warning can be ignored when running in bare mode.\n",
            "2025-07-24 10:22:58.516 Thread 'MainThread': missing ScriptRunContext! This warning can be ignored when running in bare mode.\n",
            "2025-07-24 10:22:58.517 Thread 'MainThread': missing ScriptRunContext! This warning can be ignored when running in bare mode.\n",
            "2025-07-24 10:22:58.518 Thread 'MainThread': missing ScriptRunContext! This warning can be ignored when running in bare mode.\n",
            "2025-07-24 10:22:58.521 Thread 'MainThread': missing ScriptRunContext! This warning can be ignored when running in bare mode.\n",
            "2025-07-24 10:22:58.524 Thread 'MainThread': missing ScriptRunContext! This warning can be ignored when running in bare mode.\n"
          ]
        }
      ]
    },
    {
      "cell_type": "code",
      "source": [
        "files.download('best_custom_cnn.h5')\n",
        "files.download('best_transfer_model.h5')\n"
      ],
      "metadata": {
        "colab": {
          "base_uri": "https://localhost:8080/",
          "height": 17
        },
        "id": "JxioyFrE952J",
        "outputId": "28107aa7-f5f8-4055-878a-fbae99420c15"
      },
      "execution_count": 33,
      "outputs": [
        {
          "output_type": "display_data",
          "data": {
            "text/plain": [
              "<IPython.core.display.Javascript object>"
            ],
            "application/javascript": [
              "\n",
              "    async function download(id, filename, size) {\n",
              "      if (!google.colab.kernel.accessAllowed) {\n",
              "        return;\n",
              "      }\n",
              "      const div = document.createElement('div');\n",
              "      const label = document.createElement('label');\n",
              "      label.textContent = `Downloading \"${filename}\": `;\n",
              "      div.appendChild(label);\n",
              "      const progress = document.createElement('progress');\n",
              "      progress.max = size;\n",
              "      div.appendChild(progress);\n",
              "      document.body.appendChild(div);\n",
              "\n",
              "      const buffers = [];\n",
              "      let downloaded = 0;\n",
              "\n",
              "      const channel = await google.colab.kernel.comms.open(id);\n",
              "      // Send a message to notify the kernel that we're ready.\n",
              "      channel.send({})\n",
              "\n",
              "      for await (const message of channel.messages) {\n",
              "        // Send a message to notify the kernel that we're ready.\n",
              "        channel.send({})\n",
              "        if (message.buffers) {\n",
              "          for (const buffer of message.buffers) {\n",
              "            buffers.push(buffer);\n",
              "            downloaded += buffer.byteLength;\n",
              "            progress.value = downloaded;\n",
              "          }\n",
              "        }\n",
              "      }\n",
              "      const blob = new Blob(buffers, {type: 'application/binary'});\n",
              "      const a = document.createElement('a');\n",
              "      a.href = window.URL.createObjectURL(blob);\n",
              "      a.download = filename;\n",
              "      div.appendChild(a);\n",
              "      a.click();\n",
              "      div.remove();\n",
              "    }\n",
              "  "
            ]
          },
          "metadata": {}
        },
        {
          "output_type": "display_data",
          "data": {
            "text/plain": [
              "<IPython.core.display.Javascript object>"
            ],
            "application/javascript": [
              "download(\"download_34ab6f26-1fdd-4c4a-9a51-d766cc267af4\", \"best_custom_cnn.h5\", 134117160)"
            ]
          },
          "metadata": {}
        },
        {
          "output_type": "display_data",
          "data": {
            "text/plain": [
              "<IPython.core.display.Javascript object>"
            ],
            "application/javascript": [
              "\n",
              "    async function download(id, filename, size) {\n",
              "      if (!google.colab.kernel.accessAllowed) {\n",
              "        return;\n",
              "      }\n",
              "      const div = document.createElement('div');\n",
              "      const label = document.createElement('label');\n",
              "      label.textContent = `Downloading \"${filename}\": `;\n",
              "      div.appendChild(label);\n",
              "      const progress = document.createElement('progress');\n",
              "      progress.max = size;\n",
              "      div.appendChild(progress);\n",
              "      document.body.appendChild(div);\n",
              "\n",
              "      const buffers = [];\n",
              "      let downloaded = 0;\n",
              "\n",
              "      const channel = await google.colab.kernel.comms.open(id);\n",
              "      // Send a message to notify the kernel that we're ready.\n",
              "      channel.send({})\n",
              "\n",
              "      for await (const message of channel.messages) {\n",
              "        // Send a message to notify the kernel that we're ready.\n",
              "        channel.send({})\n",
              "        if (message.buffers) {\n",
              "          for (const buffer of message.buffers) {\n",
              "            buffers.push(buffer);\n",
              "            downloaded += buffer.byteLength;\n",
              "            progress.value = downloaded;\n",
              "          }\n",
              "        }\n",
              "      }\n",
              "      const blob = new Blob(buffers, {type: 'application/binary'});\n",
              "      const a = document.createElement('a');\n",
              "      a.href = window.URL.createObjectURL(blob);\n",
              "      a.download = filename;\n",
              "      div.appendChild(a);\n",
              "      a.click();\n",
              "      div.remove();\n",
              "    }\n",
              "  "
            ]
          },
          "metadata": {}
        },
        {
          "output_type": "display_data",
          "data": {
            "text/plain": [
              "<IPython.core.display.Javascript object>"
            ],
            "application/javascript": [
              "download(\"download_068cc735-fb0d-4670-9619-4288aaa8bb8a\", \"best_transfer_model.h5\", 9631440)"
            ]
          },
          "metadata": {}
        }
      ]
    },
    {
      "cell_type": "code",
      "source": [
        "requirements = \"\"\"\n",
        "streamlit\n",
        "tensorflow\n",
        "keras\n",
        "Pillow\n",
        "numpy\n",
        "matplotlib\n",
        "opencv-python\n",
        "\"\"\"\n",
        "\n",
        "with open(\"requirements.txt\", \"w\") as f:\n",
        "    f.write(requirements)\n",
        "\n"
      ],
      "metadata": {
        "id": "59wupQAI8iQX"
      },
      "execution_count": 34,
      "outputs": []
    },
    {
      "cell_type": "code",
      "source": [
        "files.download(\"requirements.txt\")\n"
      ],
      "metadata": {
        "colab": {
          "base_uri": "https://localhost:8080/",
          "height": 17
        },
        "id": "albM9nu2-_Ac",
        "outputId": "b056bc3e-82aa-4cf2-986e-ddef6d5bc707"
      },
      "execution_count": 35,
      "outputs": [
        {
          "output_type": "display_data",
          "data": {
            "text/plain": [
              "<IPython.core.display.Javascript object>"
            ],
            "application/javascript": [
              "\n",
              "    async function download(id, filename, size) {\n",
              "      if (!google.colab.kernel.accessAllowed) {\n",
              "        return;\n",
              "      }\n",
              "      const div = document.createElement('div');\n",
              "      const label = document.createElement('label');\n",
              "      label.textContent = `Downloading \"${filename}\": `;\n",
              "      div.appendChild(label);\n",
              "      const progress = document.createElement('progress');\n",
              "      progress.max = size;\n",
              "      div.appendChild(progress);\n",
              "      document.body.appendChild(div);\n",
              "\n",
              "      const buffers = [];\n",
              "      let downloaded = 0;\n",
              "\n",
              "      const channel = await google.colab.kernel.comms.open(id);\n",
              "      // Send a message to notify the kernel that we're ready.\n",
              "      channel.send({})\n",
              "\n",
              "      for await (const message of channel.messages) {\n",
              "        // Send a message to notify the kernel that we're ready.\n",
              "        channel.send({})\n",
              "        if (message.buffers) {\n",
              "          for (const buffer of message.buffers) {\n",
              "            buffers.push(buffer);\n",
              "            downloaded += buffer.byteLength;\n",
              "            progress.value = downloaded;\n",
              "          }\n",
              "        }\n",
              "      }\n",
              "      const blob = new Blob(buffers, {type: 'application/binary'});\n",
              "      const a = document.createElement('a');\n",
              "      a.href = window.URL.createObjectURL(blob);\n",
              "      a.download = filename;\n",
              "      div.appendChild(a);\n",
              "      a.click();\n",
              "      div.remove();\n",
              "    }\n",
              "  "
            ]
          },
          "metadata": {}
        },
        {
          "output_type": "display_data",
          "data": {
            "text/plain": [
              "<IPython.core.display.Javascript object>"
            ],
            "application/javascript": [
              "download(\"download_b2239308-3491-4224-9a96-6e712aa53b88\", \"requirements.txt\", 66)"
            ]
          },
          "metadata": {}
        }
      ]
    },
    {
      "cell_type": "code",
      "source": [
        "code = \"\"\"<# app.py\n",
        "\n",
        "import streamlit as st\n",
        "import tensorflow as tf\n",
        "from PIL import Image\n",
        "import numpy as np\n",
        "\n",
        "# Page settings\n",
        "st.set_page_config(page_title=\"Brain Tumor Classifier\", layout=\"centered\")\n",
        "\n",
        "# Title\n",
        "st.title(\"🧠 Brain Tumor MRI Image Classifier\")\n",
        "st.markdown(\"Upload a brain MRI image, and this app will classify it into one of the four tumor types.\")\n",
        "\n",
        "# Load the trained model\n",
        "@st.cache_resource\n",
        "def load_model():\n",
        "    model = tf.keras.models.load_model(\"best_custom_cnn.h5\")  # or \"best_transfer_model.h5\"\n",
        "    return model\n",
        "\n",
        "model = load_model()\n",
        "\n",
        "# Define class names\n",
        "class_names = ['Glioma', 'Meningioma', 'No Tumor', 'Pituitary']\n",
        "\n",
        "# Upload image\n",
        "uploaded_file = st.file_uploader(\"📁 Upload Brain MRI Image\", type=[\"jpg\", \"jpeg\", \"png\"])\n",
        "\n",
        "if uploaded_file is not None:\n",
        "    # Display uploaded image\n",
        "    image = Image.open(uploaded_file).convert(\"RGB\")\n",
        "    st.image(image, caption=\"🖼️ Uploaded Image\", use_column_width=True)\n",
        "\n",
        "    # Preprocess the image\n",
        "    image = image.resize((150, 150))\n",
        "    img_array = np.array(image) / 255.0\n",
        "    img_array = np.expand_dims(img_array, axis=0)\n",
        "\n",
        "    # Make prediction\n",
        "    prediction = model.predict(img_array)\n",
        "    predicted_class = class_names[np.argmax(prediction)]\n",
        "    confidence = np.max(prediction) * 100\n",
        "\n",
        "    # Display prediction\n",
        "    st.success(f\"🎯 Predicted Tumor Type: **{predicted_class.upper()}**\")\n",
        "    st.info(f\"🔬 Confidence: **{confidence:.2f}%**\")\n",
        "\n",
        "else:\n",
        "    st.warning(\"⚠️ st.warning(\"📂 Please upload a brain MRI image (JPG or PNG) to get started.\")\n",
        ".\")\n",
        ">\"\"\""
      ],
      "metadata": {
        "id": "A8Flt8FEA5hu"
      },
      "execution_count": 43,
      "outputs": []
    },
    {
      "cell_type": "code",
      "source": [
        "%%writefile app.py\n",
        "import streamlit as st\n",
        "import numpy as np\n",
        "from PIL import Image\n",
        "import tensorflow as tf\n",
        "\n",
        "# Load the model\n",
        "model = tf.keras.models.load_model('best_custom_cnn.h5')\n",
        "\n",
        "# Class labels\n",
        "class_names = ['glioma', 'meningioma', 'no_tumor', 'pituitary']\n",
        "\n",
        "st.title(\"🧠 Brain Tumor MRI Classification\")\n",
        "st.write(\"Upload a brain MRI image to classify the tumor type.\")\n",
        "\n",
        "# Upload image\n",
        "uploaded_file = st.file_uploader(\"Choose a brain MRI image\", type=[\"jpg\", \"jpeg\", \"png\"])\n",
        "\n",
        "if uploaded_file is not None:\n",
        "    try:\n",
        "        image = Image.open(uploaded_file).convert('RGB')\n",
        "        st.image(image, caption='🖼️ Uploaded Image', use_column_width=True)\n",
        "\n",
        "        image = image.resize((150, 150))\n",
        "        img_array = np.array(image) / 255.0\n",
        "        img_array = np.expand_dims(img_array, axis=0)\n",
        "\n",
        "        prediction = model.predict(img_array)\n",
        "        predicted_class = class_names[np.argmax(prediction)]\n",
        "        confidence = np.max(prediction) * 100\n",
        "\n",
        "        st.success(f\"🎯 Predicted Tumor Type: **{predicted_class.upper()}**\")\n",
        "        st.info(f\"🧪 Confidence: {confidence:.2f}%\")\n",
        "    except:\n",
        "        st.warning(\"⚠️ Please upload a valid brain MRI image file.\")\n",
        "else:\n",
        "    st.info(\"⬆️ Please upload an image file above.\")\n"
      ],
      "metadata": {
        "colab": {
          "base_uri": "https://localhost:8080/"
        },
        "id": "Upi433gcDA82",
        "outputId": "c1481ad2-8327-4c07-e7dd-0dbd49268772"
      },
      "execution_count": 44,
      "outputs": [
        {
          "output_type": "stream",
          "name": "stdout",
          "text": [
            "Overwriting app.py\n"
          ]
        }
      ]
    },
    {
      "cell_type": "code",
      "source": [],
      "metadata": {
        "id": "yKaVWB4tDJEC"
      },
      "execution_count": null,
      "outputs": []
    },
    {
      "cell_type": "code",
      "source": [
        "code = '''\n",
        "import streamlit as st\n",
        "import tensorflow as tf\n",
        "from PIL import Image\n",
        "import numpy as np\n",
        "\n",
        "# Set Streamlit page config\n",
        "st.set_page_config(page_title=\"Brain Tumor Classifier\", layout=\"centered\")\n",
        "\n",
        "# Title and description\n",
        "st.title(\"🧠 Brain Tumor MRI Classifier\")\n",
        "st.write(\"Upload an MRI image to detect the type of brain tumor using a trained deep learning model.\")\n",
        "\n",
        "# Load the model (change the filename if using transfer model)\n",
        "@st.cache_resource\n",
        "def load_model():\n",
        "    model = tf.keras.models.load_model(\"best_custom_cnn.h5\")  # or best_transfer_model.h5\n",
        "    return model\n",
        "\n",
        "model = load_model()\n",
        "\n",
        "# Define class labels (based on your training folders)\n",
        "class_names = ['glioma', 'meningioma', 'notumor', 'pituitary']\n",
        "\n",
        "# Upload image\n",
        "uploaded_file = st.file_uploader(\"📤 Upload an MRI scan\", type=[\"jpg\", \"jpeg\", \"png\"])\n",
        "\n",
        "if uploaded_file is not None:\n",
        "    # Display the uploaded image\n",
        "    image = Image.open(uploaded_file).convert('RGB')\n",
        "    st.image(image, caption='🖼️ Uploaded Image', use_column_width=True)\n",
        "\n",
        "    # Preprocess the image\n",
        "    image = image.resize((150, 150))  # Resize to match model input\n",
        "    img_array = np.array(image) / 255.0\n",
        "    img_array = np.expand_dims(img_array, axis=0)  # Shape: (1, 150, 150, 3)\n",
        "\n",
        "    # Predict\n",
        "    prediction = model.predict(img_array)\n",
        "    predicted_class = class_names[np.argmax(prediction)]\n",
        "    confidence = np.max(prediction) * 100\n",
        "\n",
        "    # Show prediction\n",
        "    st.success(f\"🎯 Predicted Tumor Type: **{predicted_class.upper()}**\")\n",
        "    st.info(f\"🧪 Confidence: {confidence:.2f}%\")\n",
        "else:\n",
        "    st.warning(\"Please upload a brain MRI image to classify.\")\n",
        "'''\n"
      ],
      "metadata": {
        "id": "8vkVmyeH_gvt"
      },
      "execution_count": 37,
      "outputs": []
    },
    {
      "cell_type": "code",
      "source": [
        "# Save it as app.py\n",
        "with open(\"app.py\", \"w\") as f:\n",
        "    f.write(code)"
      ],
      "metadata": {
        "id": "-LYmmWVi_2ZR"
      },
      "execution_count": 48,
      "outputs": []
    },
    {
      "cell_type": "code",
      "source": [
        "# Download the file\n",
        "from google.colab import files\n",
        "files.download(\"app.py\")"
      ],
      "metadata": {
        "colab": {
          "base_uri": "https://localhost:8080/",
          "height": 17
        },
        "id": "GWgdBUqH_z2-",
        "outputId": "9b254c82-944c-4d57-9d19-b3de514f737b"
      },
      "execution_count": 49,
      "outputs": [
        {
          "output_type": "display_data",
          "data": {
            "text/plain": [
              "<IPython.core.display.Javascript object>"
            ],
            "application/javascript": [
              "\n",
              "    async function download(id, filename, size) {\n",
              "      if (!google.colab.kernel.accessAllowed) {\n",
              "        return;\n",
              "      }\n",
              "      const div = document.createElement('div');\n",
              "      const label = document.createElement('label');\n",
              "      label.textContent = `Downloading \"${filename}\": `;\n",
              "      div.appendChild(label);\n",
              "      const progress = document.createElement('progress');\n",
              "      progress.max = size;\n",
              "      div.appendChild(progress);\n",
              "      document.body.appendChild(div);\n",
              "\n",
              "      const buffers = [];\n",
              "      let downloaded = 0;\n",
              "\n",
              "      const channel = await google.colab.kernel.comms.open(id);\n",
              "      // Send a message to notify the kernel that we're ready.\n",
              "      channel.send({})\n",
              "\n",
              "      for await (const message of channel.messages) {\n",
              "        // Send a message to notify the kernel that we're ready.\n",
              "        channel.send({})\n",
              "        if (message.buffers) {\n",
              "          for (const buffer of message.buffers) {\n",
              "            buffers.push(buffer);\n",
              "            downloaded += buffer.byteLength;\n",
              "            progress.value = downloaded;\n",
              "          }\n",
              "        }\n",
              "      }\n",
              "      const blob = new Blob(buffers, {type: 'application/binary'});\n",
              "      const a = document.createElement('a');\n",
              "      a.href = window.URL.createObjectURL(blob);\n",
              "      a.download = filename;\n",
              "      div.appendChild(a);\n",
              "      a.click();\n",
              "      div.remove();\n",
              "    }\n",
              "  "
            ]
          },
          "metadata": {}
        },
        {
          "output_type": "display_data",
          "data": {
            "text/plain": [
              "<IPython.core.display.Javascript object>"
            ],
            "application/javascript": [
              "download(\"download_f95b1772-7ef2-4784-a08c-59e6e80e4506\", \"app.py\", 1525)"
            ]
          },
          "metadata": {}
        }
      ]
    },
    {
      "cell_type": "code",
      "source": [
        "import os\n",
        "import shutil\n",
        "\n",
        "# Create folders\n",
        "os.makedirs(\"brain_tumor_project/models\", exist_ok=True)\n",
        "\n",
        "# Move files into the right locations\n",
        "shutil.move(\"best_custom_cnn.h5\", \"brain_tumor_project/models/best_custom_cnn.h5\")\n",
        "shutil.move(\"app.py\", \"brain_tumor_project/app.py\")\n",
        "shutil.move(\"requirements.txt\", \"brain_tumor_project/requirements.txt\")\n"
      ],
      "metadata": {
        "colab": {
          "base_uri": "https://localhost:8080/",
          "height": 36
        },
        "id": "JV9Ixe5nRMGj",
        "outputId": "ce4aeefc-014b-4312-c753-c6958f87720b"
      },
      "execution_count": 50,
      "outputs": [
        {
          "output_type": "execute_result",
          "data": {
            "text/plain": [
              "'brain_tumor_project/requirements.txt'"
            ],
            "application/vnd.google.colaboratory.intrinsic+json": {
              "type": "string"
            }
          },
          "metadata": {},
          "execution_count": 50
        }
      ]
    },
    {
      "cell_type": "code",
      "source": [
        "code_files = {\n",
        "    \"data_processing.py\": \"# Code for loading and preprocessing the dataset\\n\\n# TODO: Add normalization, resizing, augmentation, etc.\",\n",
        "    \"train_custom_cnn.py\": \"# Code for training your custom CNN model\\n\\n# TODO: Build model, compile, fit, save as best_custom_cnn.h5\",\n",
        "    \"train_transfer.py\": \"# Code for training with Transfer Learning\\n\\n# TODO: Load pretrained model, fine-tune, save as best_transfer_model.h5\",\n",
        "    \"evaluate.py\": \"# Code to evaluate models on test set\\n\\n# TODO: Evaluate using accuracy, confusion matrix, plots etc.\"\n",
        "}\n",
        "\n",
        "for filename, content in code_files.items():\n",
        "    with open(f\"brain_tumor_project/{filename}\", \"w\") as f:\n",
        "        f.write(content)\n"
      ],
      "metadata": {
        "id": "GUlk_IXWRSUW"
      },
      "execution_count": 51,
      "outputs": []
    },
    {
      "cell_type": "code",
      "source": [
        "# Install necessary libraries (if not already installed)\n",
        "!pip install tensorflow keras opencv-python matplotlib seaborn\n",
        "\n"
      ],
      "metadata": {
        "colab": {
          "base_uri": "https://localhost:8080/"
        },
        "id": "RKQrwjlYRWnr",
        "outputId": "f8cc02ec-1cd6-4f7a-dcc8-18e2e173ad83"
      },
      "execution_count": 52,
      "outputs": [
        {
          "output_type": "stream",
          "name": "stdout",
          "text": [
            "Requirement already satisfied: tensorflow in /usr/local/lib/python3.11/dist-packages (2.18.0)\n",
            "Requirement already satisfied: keras in /usr/local/lib/python3.11/dist-packages (3.8.0)\n",
            "Requirement already satisfied: opencv-python in /usr/local/lib/python3.11/dist-packages (4.12.0.88)\n",
            "Requirement already satisfied: matplotlib in /usr/local/lib/python3.11/dist-packages (3.10.0)\n",
            "Requirement already satisfied: seaborn in /usr/local/lib/python3.11/dist-packages (0.13.2)\n",
            "Requirement already satisfied: absl-py>=1.0.0 in /usr/local/lib/python3.11/dist-packages (from tensorflow) (1.4.0)\n",
            "Requirement already satisfied: astunparse>=1.6.0 in /usr/local/lib/python3.11/dist-packages (from tensorflow) (1.6.3)\n",
            "Requirement already satisfied: flatbuffers>=24.3.25 in /usr/local/lib/python3.11/dist-packages (from tensorflow) (25.2.10)\n",
            "Requirement already satisfied: gast!=0.5.0,!=0.5.1,!=0.5.2,>=0.2.1 in /usr/local/lib/python3.11/dist-packages (from tensorflow) (0.6.0)\n",
            "Requirement already satisfied: google-pasta>=0.1.1 in /usr/local/lib/python3.11/dist-packages (from tensorflow) (0.2.0)\n",
            "Requirement already satisfied: libclang>=13.0.0 in /usr/local/lib/python3.11/dist-packages (from tensorflow) (18.1.1)\n",
            "Requirement already satisfied: opt-einsum>=2.3.2 in /usr/local/lib/python3.11/dist-packages (from tensorflow) (3.4.0)\n",
            "Requirement already satisfied: packaging in /usr/local/lib/python3.11/dist-packages (from tensorflow) (25.0)\n",
            "Requirement already satisfied: protobuf!=4.21.0,!=4.21.1,!=4.21.2,!=4.21.3,!=4.21.4,!=4.21.5,<6.0.0dev,>=3.20.3 in /usr/local/lib/python3.11/dist-packages (from tensorflow) (5.29.5)\n",
            "Requirement already satisfied: requests<3,>=2.21.0 in /usr/local/lib/python3.11/dist-packages (from tensorflow) (2.32.3)\n",
            "Requirement already satisfied: setuptools in /usr/local/lib/python3.11/dist-packages (from tensorflow) (75.2.0)\n",
            "Requirement already satisfied: six>=1.12.0 in /usr/local/lib/python3.11/dist-packages (from tensorflow) (1.17.0)\n",
            "Requirement already satisfied: termcolor>=1.1.0 in /usr/local/lib/python3.11/dist-packages (from tensorflow) (3.1.0)\n",
            "Requirement already satisfied: typing-extensions>=3.6.6 in /usr/local/lib/python3.11/dist-packages (from tensorflow) (4.14.1)\n",
            "Requirement already satisfied: wrapt>=1.11.0 in /usr/local/lib/python3.11/dist-packages (from tensorflow) (1.17.2)\n",
            "Requirement already satisfied: grpcio<2.0,>=1.24.3 in /usr/local/lib/python3.11/dist-packages (from tensorflow) (1.73.1)\n",
            "Requirement already satisfied: tensorboard<2.19,>=2.18 in /usr/local/lib/python3.11/dist-packages (from tensorflow) (2.18.0)\n",
            "Requirement already satisfied: numpy<2.1.0,>=1.26.0 in /usr/local/lib/python3.11/dist-packages (from tensorflow) (2.0.2)\n",
            "Requirement already satisfied: h5py>=3.11.0 in /usr/local/lib/python3.11/dist-packages (from tensorflow) (3.14.0)\n",
            "Requirement already satisfied: ml-dtypes<0.5.0,>=0.4.0 in /usr/local/lib/python3.11/dist-packages (from tensorflow) (0.4.1)\n",
            "Requirement already satisfied: tensorflow-io-gcs-filesystem>=0.23.1 in /usr/local/lib/python3.11/dist-packages (from tensorflow) (0.37.1)\n",
            "Requirement already satisfied: rich in /usr/local/lib/python3.11/dist-packages (from keras) (13.9.4)\n",
            "Requirement already satisfied: namex in /usr/local/lib/python3.11/dist-packages (from keras) (0.1.0)\n",
            "Requirement already satisfied: optree in /usr/local/lib/python3.11/dist-packages (from keras) (0.16.0)\n",
            "Requirement already satisfied: contourpy>=1.0.1 in /usr/local/lib/python3.11/dist-packages (from matplotlib) (1.3.2)\n",
            "Requirement already satisfied: cycler>=0.10 in /usr/local/lib/python3.11/dist-packages (from matplotlib) (0.12.1)\n",
            "Requirement already satisfied: fonttools>=4.22.0 in /usr/local/lib/python3.11/dist-packages (from matplotlib) (4.59.0)\n",
            "Requirement already satisfied: kiwisolver>=1.3.1 in /usr/local/lib/python3.11/dist-packages (from matplotlib) (1.4.8)\n",
            "Requirement already satisfied: pillow>=8 in /usr/local/lib/python3.11/dist-packages (from matplotlib) (11.3.0)\n",
            "Requirement already satisfied: pyparsing>=2.3.1 in /usr/local/lib/python3.11/dist-packages (from matplotlib) (3.2.3)\n",
            "Requirement already satisfied: python-dateutil>=2.7 in /usr/local/lib/python3.11/dist-packages (from matplotlib) (2.9.0.post0)\n",
            "Requirement already satisfied: pandas>=1.2 in /usr/local/lib/python3.11/dist-packages (from seaborn) (2.2.2)\n",
            "Requirement already satisfied: wheel<1.0,>=0.23.0 in /usr/local/lib/python3.11/dist-packages (from astunparse>=1.6.0->tensorflow) (0.45.1)\n",
            "Requirement already satisfied: pytz>=2020.1 in /usr/local/lib/python3.11/dist-packages (from pandas>=1.2->seaborn) (2025.2)\n",
            "Requirement already satisfied: tzdata>=2022.7 in /usr/local/lib/python3.11/dist-packages (from pandas>=1.2->seaborn) (2025.2)\n",
            "Requirement already satisfied: charset-normalizer<4,>=2 in /usr/local/lib/python3.11/dist-packages (from requests<3,>=2.21.0->tensorflow) (3.4.2)\n",
            "Requirement already satisfied: idna<4,>=2.5 in /usr/local/lib/python3.11/dist-packages (from requests<3,>=2.21.0->tensorflow) (3.10)\n",
            "Requirement already satisfied: urllib3<3,>=1.21.1 in /usr/local/lib/python3.11/dist-packages (from requests<3,>=2.21.0->tensorflow) (2.5.0)\n",
            "Requirement already satisfied: certifi>=2017.4.17 in /usr/local/lib/python3.11/dist-packages (from requests<3,>=2.21.0->tensorflow) (2025.7.14)\n",
            "Requirement already satisfied: markdown>=2.6.8 in /usr/local/lib/python3.11/dist-packages (from tensorboard<2.19,>=2.18->tensorflow) (3.8.2)\n",
            "Requirement already satisfied: tensorboard-data-server<0.8.0,>=0.7.0 in /usr/local/lib/python3.11/dist-packages (from tensorboard<2.19,>=2.18->tensorflow) (0.7.2)\n",
            "Requirement already satisfied: werkzeug>=1.0.1 in /usr/local/lib/python3.11/dist-packages (from tensorboard<2.19,>=2.18->tensorflow) (3.1.3)\n",
            "Requirement already satisfied: markdown-it-py>=2.2.0 in /usr/local/lib/python3.11/dist-packages (from rich->keras) (3.0.0)\n",
            "Requirement already satisfied: pygments<3.0.0,>=2.13.0 in /usr/local/lib/python3.11/dist-packages (from rich->keras) (2.19.2)\n",
            "Requirement already satisfied: mdurl~=0.1 in /usr/local/lib/python3.11/dist-packages (from markdown-it-py>=2.2.0->rich->keras) (0.1.2)\n",
            "Requirement already satisfied: MarkupSafe>=2.1.1 in /usr/local/lib/python3.11/dist-packages (from werkzeug>=1.0.1->tensorboard<2.19,>=2.18->tensorflow) (3.0.2)\n"
          ]
        }
      ]
    },
    {
      "cell_type": "code",
      "source": [
        "import os\n",
        "import numpy as np\n",
        "import pandas as pd\n",
        "import matplotlib.pyplot as plt\n",
        "import seaborn as sns\n",
        "import cv2\n",
        "import tensorflow as tf\n",
        "from tensorflow.keras.preprocessing.image import ImageDataGenerator\n",
        "from tensorflow.keras.models import Sequential, Model\n",
        "from tensorflow.keras.layers import Conv2D, MaxPooling2D, Flatten, Dense, Dropout, BatchNormalization\n",
        "from tensorflow.keras.applications import ResNet50\n",
        "from tensorflow.keras.applications.resnet50 import preprocess_input\n",
        "from tensorflow.keras.callbacks import EarlyStopping, ModelCheckpoint\n",
        "from sklearn.metrics import classification_report, confusion_matrix\n"
      ],
      "metadata": {
        "id": "gn8FvjFITieX"
      },
      "execution_count": 53,
      "outputs": []
    },
    {
      "cell_type": "code",
      "source": [
        "data_dir = \"//content/brain_tumor_project\"\n",
        "categories = os.listdir(data_dir)\n",
        "print(\"Classes:\", categories)\n"
      ],
      "metadata": {
        "colab": {
          "base_uri": "https://localhost:8080/"
        },
        "id": "rKKzaveET_Wq",
        "outputId": "711499ec-c0fa-4a17-b9ab-e956c034f6af"
      },
      "execution_count": 55,
      "outputs": [
        {
          "output_type": "stream",
          "name": "stdout",
          "text": [
            "Classes: ['train_custom_cnn.py', 'data_processing.py', 'app.py', 'evaluate.py', 'train_transfer.py', 'requirements.txt', 'models']\n"
          ]
        }
      ]
    },
    {
      "cell_type": "code",
      "source": [
        "print(\"Image path:\", img_path)\n",
        "print(\"Files in folder:\", os.listdir(img_path))\n"
      ],
      "metadata": {
        "colab": {
          "base_uri": "https://localhost:8080/"
        },
        "id": "2NjRmSHnVhyJ",
        "outputId": "8c73a68d-f511-41b8-96da-43fbd4ca810f"
      },
      "execution_count": 57,
      "outputs": [
        {
          "output_type": "stream",
          "name": "stdout",
          "text": [
            "Image path: //content/brain_tumor_project/models\n",
            "Files in folder: ['best_custom_cnn.h5']\n"
          ]
        }
      ]
    },
    {
      "cell_type": "code",
      "source": [
        "img_path = \"//content/brain_tumor_project/yes\"\n"
      ],
      "metadata": {
        "id": "Bcyt2JXyVlUH"
      },
      "execution_count": 60,
      "outputs": []
    },
    {
      "cell_type": "code",
      "source": [
        "import os\n",
        "print(os.listdir('/content'))\n",
        "\n",
        "\n"
      ],
      "metadata": {
        "colab": {
          "base_uri": "https://localhost:8080/"
        },
        "id": "8i1al-bqVtUu",
        "outputId": "9e306fc3-6b5f-4cb7-93bc-1718a9b89fbf"
      },
      "execution_count": 63,
      "outputs": [
        {
          "output_type": "stream",
          "name": "stdout",
          "text": [
            "['.config', 'dataset', 'brain_tumor_project', 'best_transfer_model.h5', 'archive.zip', 'sample_data']\n"
          ]
        }
      ]
    },
    {
      "cell_type": "code",
      "source": [
        "print(os.listdir('/content/dataset'))\n"
      ],
      "metadata": {
        "colab": {
          "base_uri": "https://localhost:8080/"
        },
        "id": "Bl9obqjXXDRC",
        "outputId": "e2d2ba52-6e40-41c5-852d-e713082bacbe"
      },
      "execution_count": 64,
      "outputs": [
        {
          "output_type": "stream",
          "name": "stdout",
          "text": [
            "['Testing', 'Training']\n"
          ]
        }
      ]
    },
    {
      "cell_type": "code",
      "source": [
        "import os\n",
        "\n",
        "for root, dirs, files in os.walk('/content/dataset'):\n",
        "    print(f\"\\n📁 Folder: {root}\")\n",
        "    print(f\"📂 Subfolders: {dirs}\")\n",
        "    print(f\"🖼️ Files: {files}\")\n"
      ],
      "metadata": {
        "colab": {
          "base_uri": "https://localhost:8080/"
        },
        "id": "duM7GHq_X7hc",
        "outputId": "907326a1-7338-4218-b71b-4db4518e6854"
      },
      "execution_count": 69,
      "outputs": [
        {
          "output_type": "stream",
          "name": "stdout",
          "text": [
            "\n",
            "📁 Folder: /content/dataset\n",
            "📂 Subfolders: ['Testing', 'Training']\n",
            "🖼️ Files: []\n",
            "\n",
            "📁 Folder: /content/dataset/Testing\n",
            "📂 Subfolders: ['notumor', 'pituitary', 'meningioma', 'glioma']\n",
            "🖼️ Files: []\n",
            "\n",
            "📁 Folder: /content/dataset/Testing/notumor\n",
            "📂 Subfolders: []\n",
            "🖼️ Files: ['Te-no_0230.jpg', 'Te-no_0166.jpg', 'Te-no_0344.jpg', 'Te-no_0294.jpg', 'Te-no_0058.jpg', 'Te-no_0285.jpg', 'Te-no_0124.jpg', 'Te-no_0119.jpg', 'Te-no_0205.jpg', 'Te-no_0226.jpg', 'Te-no_0258.jpg', 'Te-no_0117.jpg', 'Te-no_0374.jpg', 'Te-no_0277.jpg', 'Te-no_0335.jpg', 'Te-no_0101.jpg', 'Te-no_0068.jpg', 'Te-no_0133.jpg', 'Te-no_0185.jpg', 'Te-no_0238.jpg', 'Te-no_0089.jpg', 'Te-no_0284.jpg', 'Te-no_0011.jpg', 'Te-no_0126.jpg', 'Te-no_0240.jpg', 'Te-no_0399.jpg', 'Te-no_0323.jpg', 'Te-no_0118.jpg', 'Te-no_0102.jpg', 'Te-no_0053.jpg', 'Te-no_0329.jpg', 'Te-no_0174.jpg', 'Te-no_0346.jpg', 'Te-no_0404.jpg', 'Te-no_0273.jpg', 'Te-no_0022.jpg', 'Te-no_0282.jpg', 'Te-no_0304.jpg', 'Te-no_0287.jpg', 'Te-no_0010.jpg', 'Te-no_0227.jpg', 'Te-no_0142.jpg', 'Te-no_0308.jpg', 'Te-noTr_0003.jpg', 'Te-no_0390.jpg', 'Te-no_0162.jpg', 'Te-no_0141.jpg', 'Te-no_0265.jpg', 'Te-no_0072.jpg', 'Te-no_0172.jpg', 'Te-no_0376.jpg', 'Te-no_0320.jpg', 'Te-no_0239.jpg', 'Te-no_0081.jpg', 'Te-no_0325.jpg', 'Te-no_0290.jpg', 'Te-no_0300.jpg', 'Te-no_0019.jpg', 'Te-no_0169.jpg', 'Te-no_0097.jpg', 'Te-no_0223.jpg', 'Te-no_0371.jpg', 'Te-no_0229.jpg', 'Te-no_0092.jpg', 'Te-no_0024.jpg', 'Te-no_0020.jpg', 'Te-no_0157.jpg', 'Te-no_0025.jpg', 'Te-no_0356.jpg', 'Te-no_0083.jpg', 'Te-no_0339.jpg', 'Te-no_0046.jpg', 'Te-no_0206.jpg', 'Te-no_0311.jpg', 'Te-no_0184.jpg', 'Te-no_0110.jpg', 'Te-no_0051.jpg', 'Te-no_0148.jpg', 'Te-no_0189.jpg', 'Te-no_0048.jpg', 'Te-no_0271.jpg', 'Te-no_0153.jpg', 'Te-no_0021.jpg', 'Te-no_0385.jpg', 'Te-no_0158.jpg', 'Te-no_0170.jpg', 'Te-no_0207.jpg', 'Te-no_0186.jpg', 'Te-no_0044.jpg', 'Te-no_0080.jpg', 'Te-no_0171.jpg', 'Te-no_0034.jpg', 'Te-no_0213.jpg', 'Te-no_0393.jpg', 'Te-no_0061.jpg', 'Te-no_0254.jpg', 'Te-no_0266.jpg', 'Te-no_0135.jpg', 'Te-no_0312.jpg', 'Te-no_0248.jpg', 'Te-no_0079.jpg', 'Te-no_0176.jpg', 'Te-no_0132.jpg', 'Te-no_0341.jpg', 'Te-no_0057.jpg', 'Te-no_0091.jpg', 'Te-no_0143.jpg', 'Te-no_0340.jpg', 'Te-no_0040.jpg', 'Te-no_0307.jpg', 'Te-no_0134.jpg', 'Te-no_0152.jpg', 'Te-no_0241.jpg', 'Te-no_0033.jpg', 'Te-no_0301.jpg', 'Te-no_0087.jpg', 'Te-no_0379.jpg', 'Te-no_0330.jpg', 'Te-no_0109.jpg', 'Te-no_0244.jpg', 'Te-no_0310.jpg', 'Te-no_0086.jpg', 'Te-no_0242.jpg', 'Te-no_0179.jpg', 'Te-no_0194.jpg', 'Te-no_0208.jpg', 'Te-noTr_0009.jpg', 'Te-no_0059.jpg', 'Te-no_0321.jpg', 'Te-no_0360.jpg', 'Te-no_0128.jpg', 'Te-no_0095.jpg', 'Te-no_0054.jpg', 'Te-no_0026.jpg', 'Te-no_0365.jpg', 'Te-no_0259.jpg', 'Te-no_0100.jpg', 'Te-no_0035.jpg', 'Te-no_0193.jpg', 'Te-no_0245.jpg', 'Te-no_0263.jpg', 'Te-no_0315.jpg', 'Te-noTr_0005.jpg', 'Te-no_0322.jpg', 'Te-no_0031.jpg', 'Te-no_0359.jpg', 'Te-no_0066.jpg', 'Te-no_0331.jpg', 'Te-no_0261.jpg', 'Te-no_0055.jpg', 'Te-no_0370.jpg', 'Te-no_0195.jpg', 'Te-no_0336.jpg', 'Te-no_0333.jpg', 'Te-no_0116.jpg', 'Te-no_0291.jpg', 'Te-no_0140.jpg', 'Te-no_0190.jpg', 'Te-no_0138.jpg', 'Te-no_0395.jpg', 'Te-no_0288.jpg', 'Te-no_0183.jpg', 'Te-no_0276.jpg', 'Te-no_0114.jpg', 'Te-no_0212.jpg', 'Te-no_0131.jpg', 'Te-no_0246.jpg', 'Te-no_0202.jpg', 'Te-no_0228.jpg', 'Te-no_0391.jpg', 'Te-no_0236.jpg', 'Te-no_0201.jpg', 'Te-no_0111.jpg', 'Te-no_0160.jpg', 'Te-no_0401.jpg', 'Te-no_0270.jpg', 'Te-no_0056.jpg', 'Te-no_0388.jpg', 'Te-no_0334.jpg', 'Te-no_0369.jpg', 'Te-no_0163.jpg', 'Te-no_0257.jpg', 'Te-no_0015.jpg', 'Te-no_0214.jpg', 'Te-no_0267.jpg', 'Te-no_0381.jpg', 'Te-no_0120.jpg', 'Te-no_0268.jpg', 'Te-no_0074.jpg', 'Te-no_0093.jpg', 'Te-no_0353.jpg', 'Te-no_0139.jpg', 'Te-no_0041.jpg', 'Te-no_0122.jpg', 'Te-no_0108.jpg', 'Te-no_0049.jpg', 'Te-no_0318.jpg', 'Te-no_0349.jpg', 'Te-no_0279.jpg', 'Te-no_0292.jpg', 'Te-no_0136.jpg', 'Te-no_0129.jpg', 'Te-no_0200.jpg', 'Te-no_0364.jpg', 'Te-no_0278.jpg', 'Te-no_0064.jpg', 'Te-no_0145.jpg', 'Te-no_0197.jpg', 'Te-no_0175.jpg', 'Te-no_0088.jpg', 'Te-no_0324.jpg', 'Te-no_0375.jpg', 'Te-no_0296.jpg', 'Te-no_0045.jpg', 'Te-no_0262.jpg', 'Te-no_0154.jpg', 'Te-no_0386.jpg', 'Te-no_0366.jpg', 'Te-no_0038.jpg', 'Te-no_0082.jpg', 'Te-no_0144.jpg', 'Te-no_0032.jpg', 'Te-no_0159.jpg', 'Te-no_0042.jpg', 'Te-no_0077.jpg', 'Te-no_0362.jpg', 'Te-no_0275.jpg', 'Te-no_0125.jpg', 'Te-no_0286.jpg', 'Te-no_0063.jpg', 'Te-no_0028.jpg', 'Te-no_0105.jpg', 'Te-no_0303.jpg', 'Te-no_0016.jpg', 'Te-no_0350.jpg', 'Te-no_0127.jpg', 'Te-no_0233.jpg', 'Te-no_0017.jpg', 'Te-no_0293.jpg', 'Te-no_0209.jpg', 'Te-no_0355.jpg', 'Te-no_0165.jpg', 'Te-no_0383.jpg', 'Te-no_0070.jpg', 'Te-no_0253.jpg', 'Te-no_0073.jpg', 'Te-no_0018.jpg', 'Te-no_0260.jpg', 'Te-no_0337.jpg', 'Te-no_0281.jpg', 'Te-no_0397.jpg', 'Te-no_0067.jpg', 'Te-no_0251.jpg', 'Te-no_0389.jpg', 'Te-no_0137.jpg', 'Te-no_0255.jpg', 'Te-no_0289.jpg', 'Te-no_0396.jpg', 'Te-no_0204.jpg', 'Te-no_0043.jpg', 'Te-no_0237.jpg', 'Te-no_0215.jpg', 'Te-no_0358.jpg', 'Te-no_0224.jpg', 'Te-no_0094.jpg', 'Te-no_0252.jpg', 'Te-no_0151.jpg', 'Te-noTr_0001.jpg', 'Te-no_0232.jpg', 'Te-no_0182.jpg', 'Te-no_0368.jpg', 'Te-no_0071.jpg', 'Te-no_0199.jpg', 'Te-noTr_0008.jpg', 'Te-no_0361.jpg', 'Te-no_0113.jpg', 'Te-no_0029.jpg', 'Te-noTr_0000.jpg', 'Te-no_0317.jpg', 'Te-no_0398.jpg', 'Te-no_0196.jpg', 'Te-no_0050.jpg', 'Te-no_0377.jpg', 'Te-no_0167.jpg', 'Te-no_0014.jpg', 'Te-no_0168.jpg', 'Te-no_0090.jpg', 'Te-no_0225.jpg', 'Te-no_0231.jpg', 'Te-no_0247.jpg', 'Te-no_0217.jpg', 'Te-no_0106.jpg', 'Te-no_0178.jpg', 'Te-no_0198.jpg', 'Te-no_0363.jpg', 'Te-no_0146.jpg', 'Te-no_0188.jpg', 'Te-no_0115.jpg', 'Te-no_0357.jpg', 'Te-no_0342.jpg', 'Te-no_0272.jpg', 'Te-no_0219.jpg', 'Te-no_0096.jpg', 'Te-no_0298.jpg', 'Te-no_0380.jpg', 'Te-no_0062.jpg', 'Te-no_0076.jpg', 'Te-no_0037.jpg', 'Te-no_0394.jpg', 'Te-no_0177.jpg', 'Te-no_0023.jpg', 'Te-no_0222.jpg', 'Te-no_0218.jpg', 'Te-noTr_0004.jpg', 'Te-no_0078.jpg', 'Te-no_0012.jpg', 'Te-no_0104.jpg', 'Te-no_0309.jpg', 'Te-no_0235.jpg', 'Te-no_0313.jpg', 'Te-no_0392.jpg', 'Te-no_0316.jpg', 'Te-no_0047.jpg', 'Te-no_0243.jpg', 'Te-no_0149.jpg', 'Te-no_0280.jpg', 'Te-no_0030.jpg', 'Te-no_0060.jpg', 'Te-no_0150.jpg', 'Te-no_0052.jpg', 'Te-no_0250.jpg', 'Te-no_0211.jpg', 'Te-no_0203.jpg', 'Te-no_0234.jpg', 'Te-no_0274.jpg', 'Te-no_0180.jpg', 'Te-no_0302.jpg', 'Te-no_0192.jpg', 'Te-no_0343.jpg', 'Te-no_0348.jpg', 'Te-no_0319.jpg', 'Te-no_0103.jpg', 'Te-noTr_0007.jpg', 'Te-no_0378.jpg', 'Te-no_0221.jpg', 'Te-no_0373.jpg', 'Te-no_0332.jpg', 'Te-no_0147.jpg', 'Te-no_0384.jpg', 'Te-no_0161.jpg', 'Te-no_0027.jpg', 'Te-no_0220.jpg', 'Te-no_0191.jpg', 'Te-no_0345.jpg', 'Te-no_0112.jpg', 'Te-no_0367.jpg', 'Te-no_0249.jpg', 'Te-no_0295.jpg', 'Te-no_0084.jpg', 'Te-noTr_0002.jpg', 'Te-no_0387.jpg', 'Te-no_0013.jpg', 'Te-no_0382.jpg', 'Te-no_0039.jpg', 'Te-no_0299.jpg', 'Te-no_0351.jpg', 'Te-no_0314.jpg', 'Te-no_0164.jpg', 'Te-no_0216.jpg', 'Te-no_0328.jpg', 'Te-no_0264.jpg', 'Te-no_0155.jpg', 'Te-no_0099.jpg', 'Te-no_0069.jpg', 'Te-no_0210.jpg', 'Te-no_0107.jpg', 'Te-no_0352.jpg', 'Te-no_0327.jpg', 'Te-no_0156.jpg', 'Te-noTr_0006.jpg', 'Te-no_0305.jpg', 'Te-no_0065.jpg', 'Te-no_0098.jpg', 'Te-no_0123.jpg', 'Te-no_0354.jpg', 'Te-no_0372.jpg', 'Te-no_0297.jpg', 'Te-no_0283.jpg', 'Te-no_0121.jpg', 'Te-no_0338.jpg', 'Te-no_0173.jpg', 'Te-no_0075.jpg', 'Te-no_0036.jpg', 'Te-no_0256.jpg', 'Te-no_0130.jpg', 'Te-no_0306.jpg', 'Te-no_0400.jpg', 'Te-no_0326.jpg', 'Te-no_0269.jpg', 'Te-no_0187.jpg', 'Te-no_0181.jpg', 'Te-no_0403.jpg', 'Te-no_0085.jpg', 'Te-no_0402.jpg', 'Te-no_0347.jpg']\n",
            "\n",
            "📁 Folder: /content/dataset/Testing/pituitary\n",
            "📂 Subfolders: []\n",
            "🖼️ Files: ['Te-pi_0095.jpg', 'Te-pi_0243.jpg', 'Te-pi_0108.jpg', 'Te-pi_0201.jpg', 'Te-pi_0206.jpg', 'Te-pi_0111.jpg', 'Te-pi_0184.jpg', 'Te-pi_0283.jpg', 'Te-pi_0162.jpg', 'Te-pi_0275.jpg', 'Te-pi_0156.jpg', 'Te-pi_0147.jpg', 'Te-pi_0038.jpg', 'Te-pi_0012.jpg', 'Te-pi_0228.jpg', 'Te-pi_0149.jpg', 'Te-pi_0266.jpg', 'Te-pi_0269.jpg', 'Te-pi_0226.jpg', 'Te-pi_0042.jpg', 'Te-pi_0191.jpg', 'Te-pi_0279.jpg', 'Te-pi_0080.jpg', 'Te-pi_0215.jpg', 'Te-pi_0040.jpg', 'Te-pi_0023.jpg', 'Te-pi_0294.jpg', 'Te-pi_0218.jpg', 'Te-pi_0267.jpg', 'Te-pi_0029.jpg', 'Te-pi_0172.jpg', 'Te-pi_0031.jpg', 'Te-pi_0278.jpg', 'Te-pi_0103.jpg', 'Te-pi_0178.jpg', 'Te-pi_0260.jpg', 'Te-pi_0114.jpg', 'Te-pi_0176.jpg', 'Te-pi_0170.jpg', 'Te-pi_0087.jpg', 'Te-pi_0099.jpg', 'Te-pi_0159.jpg', 'Te-pi_0139.jpg', 'Te-pi_0291.jpg', 'Te-pi_0227.jpg', 'Te-pi_0030.jpg', 'Te-pi_0024.jpg', 'Te-pi_0195.jpg', 'Te-pi_0152.jpg', 'Te-pi_0054.jpg', 'Te-pi_0205.jpg', 'Te-pi_0106.jpg', 'Te-pi_0027.jpg', 'Te-pi_0289.jpg', 'Te-pi_0063.jpg', 'Te-pi_0070.jpg', 'Te-pi_0171.jpg', 'Te-pi_0236.jpg', 'Te-pi_0129.jpg', 'Te-pi_0137.jpg', 'Te-pi_0190.jpg', 'Te-pi_0050.jpg', 'Te-pi_0082.jpg', 'Te-pi_0240.jpg', 'Te-pi_0270.jpg', 'Te-pi_0261.jpg', 'Te-pi_0064.jpg', 'Te-pi_0239.jpg', 'Te-pi_0230.jpg', 'Te-pi_0120.jpg', 'Te-pi_0131.jpg', 'Te-pi_0083.jpg', 'Te-pi_0296.jpg', 'Te-pi_0086.jpg', 'Te-pi_0214.jpg', 'Te-pi_0241.jpg', 'Te-pi_0062.jpg', 'Te-pi_0123.jpg', 'Te-pi_0209.jpg', 'Te-pi_0244.jpg', 'Te-pi_0229.jpg', 'Te-pi_0233.jpg', 'Te-pi_0145.jpg', 'Te-pi_0018.jpg', 'Te-pi_0035.jpg', 'Te-piTr_0001.jpg', 'Te-pi_0134.jpg', 'Te-pi_0079.jpg', 'Te-pi_0116.jpg', 'Te-pi_0113.jpg', 'Te-pi_0036.jpg', 'Te-pi_0011.jpg', 'Te-pi_0124.jpg', 'Te-pi_0143.jpg', 'Te-pi_0238.jpg', 'Te-pi_0044.jpg', 'Te-pi_0077.jpg', 'Te-pi_0020.jpg', 'Te-pi_0203.jpg', 'Te-pi_0110.jpg', 'Te-pi_0158.jpg', 'Te-pi_0098.jpg', 'Te-pi_0045.jpg', 'Te-pi_0107.jpg', 'Te-pi_0251.jpg', 'Te-pi_0153.jpg', 'Te-pi_0194.jpg', 'Te-pi_0028.jpg', 'Te-pi_0066.jpg', 'Te-pi_0132.jpg', 'Te-pi_0130.jpg', 'Te-pi_0061.jpg', 'Te-piTr_0002.jpg', 'Te-pi_0133.jpg', 'Te-pi_0169.jpg', 'Te-pi_0234.jpg', 'Te-pi_0056.jpg', 'Te-pi_0254.jpg', 'Te-pi_0119.jpg', 'Te-pi_0097.jpg', 'Te-pi_0193.jpg', 'Te-pi_0200.jpg', 'Te-pi_0041.jpg', 'Te-pi_0223.jpg', 'Te-pi_0192.jpg', 'Te-pi_0253.jpg', 'Te-pi_0231.jpg', 'Te-pi_0237.jpg', 'Te-pi_0151.jpg', 'Te-pi_0142.jpg', 'Te-pi_0252.jpg', 'Te-pi_0021.jpg', 'Te-pi_0085.jpg', 'Te-pi_0211.jpg', 'Te-pi_0128.jpg', 'Te-pi_0188.jpg', 'Te-pi_0016.jpg', 'Te-pi_0049.jpg', 'Te-pi_0057.jpg', 'Te-pi_0013.jpg', 'Te-pi_0068.jpg', 'Te-pi_0225.jpg', 'Te-pi_0164.jpg', 'Te-pi_0219.jpg', 'Te-piTr_0000.jpg', 'Te-pi_0185.jpg', 'Te-pi_0189.jpg', 'Te-pi_0220.jpg', 'Te-pi_0043.jpg', 'Te-pi_0125.jpg', 'Te-pi_0136.jpg', 'Te-pi_0135.jpg', 'Te-pi_0258.jpg', 'Te-pi_0150.jpg', 'Te-pi_0180.jpg', 'Te-pi_0210.jpg', 'Te-pi_0246.jpg', 'Te-pi_0273.jpg', 'Te-pi_0282.jpg', 'Te-pi_0276.jpg', 'Te-pi_0163.jpg', 'Te-pi_0138.jpg', 'Te-pi_0285.jpg', 'Te-pi_0032.jpg', 'Te-pi_0122.jpg', 'Te-pi_0217.jpg', 'Te-pi_0290.jpg', 'Te-pi_0277.jpg', 'Te-piTr_0006.jpg', 'Te-pi_0154.jpg', 'Te-pi_0055.jpg', 'Te-pi_0048.jpg', 'Te-pi_0065.jpg', 'Te-pi_0295.jpg', 'Te-pi_0207.jpg', 'Te-pi_0025.jpg', 'Te-pi_0102.jpg', 'Te-pi_0213.jpg', 'Te-pi_0126.jpg', 'Te-pi_0014.jpg', 'Te-pi_0017.jpg', 'Te-pi_0175.jpg', 'Te-pi_0058.jpg', 'Te-piTr_0005.jpg', 'Te-pi_0292.jpg', 'Te-pi_0060.jpg', 'Te-pi_0019.jpg', 'Te-pi_0094.jpg', 'Te-pi_0059.jpg', 'Te-pi_0069.jpg', 'Te-pi_0034.jpg', 'Te-pi_0247.jpg', 'Te-piTr_0008.jpg', 'Te-pi_0245.jpg', 'Te-pi_0255.jpg', 'Te-pi_0074.jpg', 'Te-pi_0144.jpg', 'Te-piTr_0009.jpg', 'Te-pi_0155.jpg', 'Te-pi_0141.jpg', 'Te-pi_0280.jpg', 'Te-pi_0177.jpg', 'Te-pi_0039.jpg', 'Te-pi_0165.jpg', 'Te-pi_0250.jpg', 'Te-pi_0242.jpg', 'Te-pi_0022.jpg', 'Te-pi_0281.jpg', 'Te-pi_0105.jpg', 'Te-pi_0037.jpg', 'Te-pi_0204.jpg', 'Te-pi_0287.jpg', 'Te-pi_0297.jpg', 'Te-pi_0127.jpg', 'Te-pi_0117.jpg', 'Te-pi_0071.jpg', 'Te-pi_0010.jpg', 'Te-pi_0157.jpg', 'Te-pi_0092.jpg', 'Te-pi_0121.jpg', 'Te-pi_0272.jpg', 'Te-pi_0051.jpg', 'Te-pi_0053.jpg', 'Te-pi_0093.jpg', 'Te-pi_0181.jpg', 'Te-pi_0199.jpg', 'Te-piTr_0007.jpg', 'Te-pi_0109.jpg', 'Te-pi_0115.jpg', 'Te-pi_0248.jpg', 'Te-pi_0140.jpg', 'Te-pi_0148.jpg', 'Te-pi_0235.jpg', 'Te-pi_0262.jpg', 'Te-pi_0173.jpg', 'Te-pi_0033.jpg', 'Te-pi_0299.jpg', 'Te-pi_0026.jpg', 'Te-piTr_0003.jpg', 'Te-pi_0146.jpg', 'Te-pi_0084.jpg', 'Te-pi_0224.jpg', 'Te-pi_0286.jpg', 'Te-pi_0166.jpg', 'Te-pi_0298.jpg', 'Te-pi_0187.jpg', 'Te-pi_0081.jpg', 'Te-pi_0072.jpg', 'Te-pi_0263.jpg', 'Te-pi_0183.jpg', 'Te-pi_0046.jpg', 'Te-pi_0047.jpg', 'Te-pi_0067.jpg', 'Te-pi_0208.jpg', 'Te-pi_0096.jpg', 'Te-pi_0101.jpg', 'Te-pi_0186.jpg', 'Te-pi_0222.jpg', 'Te-pi_0197.jpg', 'Te-pi_0249.jpg', 'Te-pi_0196.jpg', 'Te-pi_0118.jpg', 'Te-pi_0089.jpg', 'Te-pi_0259.jpg', 'Te-pi_0268.jpg', 'Te-pi_0174.jpg', 'Te-pi_0075.jpg', 'Te-pi_0212.jpg', 'Te-pi_0112.jpg', 'Te-pi_0202.jpg', 'Te-pi_0182.jpg', 'Te-pi_0167.jpg', 'Te-pi_0284.jpg', 'Te-pi_0216.jpg', 'Te-pi_0090.jpg', 'Te-pi_0198.jpg', 'Te-pi_0257.jpg', 'Te-pi_0078.jpg', 'Te-pi_0052.jpg', 'Te-pi_0293.jpg', 'Te-pi_0274.jpg', 'Te-pi_0288.jpg', 'Te-pi_0100.jpg', 'Te-pi_0232.jpg', 'Te-pi_0271.jpg', 'Te-piTr_0004.jpg', 'Te-pi_0091.jpg', 'Te-pi_0104.jpg', 'Te-pi_0015.jpg', 'Te-pi_0179.jpg', 'Te-pi_0168.jpg', 'Te-pi_0264.jpg', 'Te-pi_0256.jpg', 'Te-pi_0161.jpg', 'Te-pi_0073.jpg', 'Te-pi_0221.jpg', 'Te-pi_0076.jpg', 'Te-pi_0160.jpg', 'Te-pi_0265.jpg', 'Te-pi_0088.jpg']\n",
            "\n",
            "📁 Folder: /content/dataset/Testing/meningioma\n",
            "📂 Subfolders: []\n",
            "🖼️ Files: ['Te-me_0254.jpg', 'Te-me_0233.jpg', 'Te-me_0164.jpg', 'Te-me_0118.jpg', 'Te-me_0156.jpg', 'Te-me_0042.jpg', 'Te-me_0115.jpg', 'Te-me_0258.jpg', 'Te-me_0293.jpg', 'Te-me_0049.jpg', 'Te-me_0206.jpg', 'Te-me_0043.jpg', 'Te-me_0104.jpg', 'Te-me_0239.jpg', 'Te-me_0067.jpg', 'Te-me_0299.jpg', 'Te-me_0093.jpg', 'Te-me_0026.jpg', 'Te-me_0272.jpg', 'Te-me_0166.jpg', 'Te-me_0280.jpg', 'Te-me_0038.jpg', 'Te-me_0020.jpg', 'Te-me_0270.jpg', 'Te-me_0261.jpg', 'Te-me_0046.jpg', 'Te-me_0066.jpg', 'Te-me_0143.jpg', 'Te-me_0229.jpg', 'Te-me_0132.jpg', 'Te-me_0054.jpg', 'Te-me_0168.jpg', 'Te-me_0011.jpg', 'Te-me_0304.jpg', 'Te-me_0112.jpg', 'Te-me_0113.jpg', 'Te-me_0121.jpg', 'Te-me_0056.jpg', 'Te-me_0086.jpg', 'Te-me_0109.jpg', 'Te-me_0226.jpg', 'Te-me_0157.jpg', 'Te-me_0158.jpg', 'Te-me_0148.jpg', 'Te-me_0219.jpg', 'Te-me_0291.jpg', 'Te-me_0063.jpg', 'Te-me_0145.jpg', 'Te-me_0135.jpg', 'Te-me_0193.jpg', 'Te-me_0183.jpg', 'Te-me_0010.jpg', 'Te-me_0209.jpg', 'Te-me_0032.jpg', 'Te-me_0216.jpg', 'Te-me_0297.jpg', 'Te-me_0107.jpg', 'Te-me_0294.jpg', 'Te-me_0024.jpg', 'Te-me_0085.jpg', 'Te-me_0076.jpg', 'Te-me_0068.jpg', 'Te-me_0167.jpg', 'Te-me_0033.jpg', 'Te-me_0029.jpg', 'Te-me_0075.jpg', 'Te-me_0235.jpg', 'Te-me_0196.jpg', 'Te-me_0022.jpg', 'Te-me_0187.jpg', 'Te-me_0200.jpg', 'Te-me_0182.jpg', 'Te-me_0301.jpg', 'Te-me_0105.jpg', 'Te-me_0237.jpg', 'Te-me_0127.jpg', 'Te-me_0224.jpg', 'Te-me_0147.jpg', 'Te-me_0267.jpg', 'Te-me_0269.jpg', 'Te-me_0274.jpg', 'Te-me_0060.jpg', 'Te-me_0134.jpg', 'Te-me_0051.jpg', 'Te-me_0071.jpg', 'Te-me_0248.jpg', 'Te-me_0271.jpg', 'Te-meTr_0005.jpg', 'Te-me_0025.jpg', 'Te-me_0284.jpg', 'Te-me_0243.jpg', 'Te-me_0287.jpg', 'Te-me_0247.jpg', 'Te-me_0204.jpg', 'Te-me_0276.jpg', 'Te-me_0189.jpg', 'Te-me_0300.jpg', 'Te-me_0137.jpg', 'Te-me_0125.jpg', 'Te-me_0180.jpg', 'Te-me_0012.jpg', 'Te-me_0116.jpg', 'Te-me_0151.jpg', 'Te-me_0251.jpg', 'Te-me_0296.jpg', 'Te-me_0101.jpg', 'Te-me_0172.jpg', 'Te-me_0014.jpg', 'Te-me_0099.jpg', 'Te-me_0053.jpg', 'Te-me_0202.jpg', 'Te-me_0281.jpg', 'Te-me_0139.jpg', 'Te-me_0084.jpg', 'Te-meTr_0007.jpg', 'Te-me_0305.jpg', 'Te-me_0213.jpg', 'Te-me_0100.jpg', 'Te-me_0214.jpg', 'Te-me_0110.jpg', 'Te-me_0244.jpg', 'Te-me_0227.jpg', 'Te-me_0111.jpg', 'Te-me_0095.jpg', 'Te-me_0295.jpg', 'Te-meTr_0004.jpg', 'Te-me_0154.jpg', 'Te-me_0170.jpg', 'Te-me_0031.jpg', 'Te-me_0241.jpg', 'Te-me_0162.jpg', 'Te-me_0208.jpg', 'Te-me_0169.jpg', 'Te-me_0138.jpg', 'Te-me_0220.jpg', 'Te-me_0073.jpg', 'Te-me_0165.jpg', 'Te-me_0149.jpg', 'Te-me_0039.jpg', 'Te-meTr_0006.jpg', 'Te-me_0277.jpg', 'Te-me_0050.jpg', 'Te-me_0292.jpg', 'Te-me_0150.jpg', 'Te-me_0186.jpg', 'Te-me_0074.jpg', 'Te-me_0231.jpg', 'Te-me_0211.jpg', 'Te-me_0079.jpg', 'Te-me_0236.jpg', 'Te-me_0203.jpg', 'Te-me_0288.jpg', 'Te-me_0052.jpg', 'Te-me_0282.jpg', 'Te-me_0279.jpg', 'Te-me_0119.jpg', 'Te-me_0057.jpg', 'Te-me_0083.jpg', 'Te-me_0016.jpg', 'Te-me_0250.jpg', 'Te-me_0146.jpg', 'Te-me_0019.jpg', 'Te-me_0088.jpg', 'Te-me_0171.jpg', 'Te-me_0249.jpg', 'Te-me_0194.jpg', 'Te-me_0087.jpg', 'Te-me_0242.jpg', 'Te-me_0059.jpg', 'Te-me_0048.jpg', 'Te-me_0070.jpg', 'Te-me_0092.jpg', 'Te-me_0015.jpg', 'Te-me_0017.jpg', 'Te-me_0273.jpg', 'Te-me_0097.jpg', 'Te-me_0028.jpg', 'Te-me_0221.jpg', 'Te-me_0064.jpg', 'Te-me_0181.jpg', 'Te-me_0188.jpg', 'Te-me_0023.jpg', 'Te-me_0129.jpg', 'Te-me_0185.jpg', 'Te-me_0155.jpg', 'Te-me_0173.jpg', 'Te-me_0036.jpg', 'Te-me_0144.jpg', 'Te-me_0174.jpg', 'Te-me_0047.jpg', 'Te-me_0210.jpg', 'Te-meTr_0000.jpg', 'Te-me_0195.jpg', 'Te-me_0252.jpg', 'Te-me_0217.jpg', 'Te-me_0130.jpg', 'Te-me_0040.jpg', 'Te-me_0080.jpg', 'Te-me_0176.jpg', 'Te-me_0103.jpg', 'Te-me_0128.jpg', 'Te-me_0177.jpg', 'Te-me_0094.jpg', 'Te-me_0201.jpg', 'Te-me_0198.jpg', 'Te-me_0228.jpg', 'Te-me_0303.jpg', 'Te-me_0234.jpg', 'Te-me_0197.jpg', 'Te-me_0283.jpg', 'Te-me_0037.jpg', 'Te-me_0114.jpg', 'Te-me_0152.jpg', 'Te-me_0117.jpg', 'Te-me_0192.jpg', 'Te-me_0120.jpg', 'Te-me_0082.jpg', 'Te-me_0240.jpg', 'Te-me_0159.jpg', 'Te-me_0218.jpg', 'Te-me_0091.jpg', 'Te-me_0030.jpg', 'Te-me_0163.jpg', 'Te-me_0078.jpg', 'Te-me_0275.jpg', 'Te-me_0205.jpg', 'Te-me_0131.jpg', 'Te-me_0245.jpg', 'Te-meTr_0001.jpg', 'Te-me_0253.jpg', 'Te-me_0081.jpg', 'Te-meTr_0003.jpg', 'Te-me_0126.jpg', 'Te-me_0055.jpg', 'Te-me_0122.jpg', 'Te-me_0286.jpg', 'Te-me_0061.jpg', 'Te-me_0298.jpg', 'Te-me_0062.jpg', 'Te-me_0265.jpg', 'Te-me_0278.jpg', 'Te-me_0161.jpg', 'Te-meTr_0002.jpg', 'Te-me_0246.jpg', 'Te-me_0077.jpg', 'Te-me_0021.jpg', 'Te-me_0230.jpg', 'Te-me_0266.jpg', 'Te-me_0035.jpg', 'Te-me_0179.jpg', 'Te-me_0268.jpg', 'Te-me_0044.jpg', 'Te-me_0207.jpg', 'Te-me_0238.jpg', 'Te-me_0133.jpg', 'Te-me_0027.jpg', 'Te-me_0175.jpg', 'Te-me_0098.jpg', 'Te-me_0263.jpg', 'Te-me_0260.jpg', 'Te-me_0013.jpg', 'Te-me_0153.jpg', 'Te-me_0215.jpg', 'Te-me_0259.jpg', 'Te-me_0141.jpg', 'Te-me_0045.jpg', 'Te-me_0290.jpg', 'Te-me_0302.jpg', 'Te-me_0212.jpg', 'Te-me_0199.jpg', 'Te-me_0142.jpg', 'Te-me_0232.jpg', 'Te-me_0108.jpg', 'Te-me_0140.jpg', 'Te-me_0018.jpg', 'Te-me_0124.jpg', 'Te-meTr_0008.jpg', 'Te-me_0034.jpg', 'Te-me_0289.jpg', 'Te-me_0102.jpg', 'Te-me_0065.jpg', 'Te-me_0225.jpg', 'Te-me_0136.jpg', 'Te-me_0256.jpg', 'Te-me_0058.jpg', 'Te-me_0089.jpg', 'Te-meTr_0009.jpg', 'Te-me_0160.jpg', 'Te-me_0096.jpg', 'Te-me_0222.jpg', 'Te-me_0106.jpg', 'Te-me_0178.jpg', 'Te-me_0191.jpg', 'Te-me_0072.jpg', 'Te-me_0184.jpg', 'Te-me_0285.jpg', 'Te-me_0223.jpg', 'Te-me_0090.jpg', 'Te-me_0069.jpg', 'Te-me_0190.jpg', 'Te-me_0123.jpg', 'Te-me_0262.jpg', 'Te-me_0041.jpg', 'Te-me_0257.jpg', 'Te-me_0255.jpg', 'Te-me_0264.jpg']\n",
            "\n",
            "📁 Folder: /content/dataset/Testing/glioma\n",
            "📂 Subfolders: []\n",
            "🖼️ Files: ['Te-gl_0144.jpg', 'Te-gl_0119.jpg', 'Te-gl_0035.jpg', 'Te-gl_0164.jpg', 'Te-gl_0233.jpg', 'Te-gl_0215.jpg', 'Te-gl_0174.jpg', 'Te-gl_0201.jpg', 'Te-gl_0236.jpg', 'Te-glTr_0005.jpg', 'Te-gl_0261.jpg', 'Te-gl_0095.jpg', 'Te-gl_0251.jpg', 'Te-glTr_0000.jpg', 'Te-gl_0020.jpg', 'Te-gl_0104.jpg', 'Te-gl_0133.jpg', 'Te-gl_0053.jpg', 'Te-glTr_0009.jpg', 'Te-gl_0069.jpg', 'Te-gl_0141.jpg', 'Te-gl_0023.jpg', 'Te-gl_0268.jpg', 'Te-gl_0234.jpg', 'Te-gl_0013.jpg', 'Te-gl_0011.jpg', 'Te-gl_0171.jpg', 'Te-gl_0086.jpg', 'Te-gl_0218.jpg', 'Te-gl_0014.jpg', 'Te-gl_0024.jpg', 'Te-gl_0048.jpg', 'Te-gl_0081.jpg', 'Te-gl_0135.jpg', 'Te-gl_0187.jpg', 'Te-gl_0060.jpg', 'Te-gl_0178.jpg', 'Te-gl_0088.jpg', 'Te-gl_0255.jpg', 'Te-gl_0057.jpg', 'Te-gl_0186.jpg', 'Te-gl_0224.jpg', 'Te-gl_0214.jpg', 'Te-gl_0292.jpg', 'Te-gl_0147.jpg', 'Te-gl_0132.jpg', 'Te-gl_0297.jpg', 'Te-gl_0278.jpg', 'Te-gl_0021.jpg', 'Te-gl_0271.jpg', 'Te-gl_0232.jpg', 'Te-gl_0267.jpg', 'Te-gl_0285.jpg', 'Te-gl_0235.jpg', 'Te-gl_0044.jpg', 'Te-gl_0019.jpg', 'Te-gl_0099.jpg', 'Te-gl_0173.jpg', 'Te-gl_0123.jpg', 'Te-gl_0189.jpg', 'Te-gl_0032.jpg', 'Te-gl_0029.jpg', 'Te-gl_0070.jpg', 'Te-gl_0263.jpg', 'Te-gl_0172.jpg', 'Te-gl_0156.jpg', 'Te-gl_0212.jpg', 'Te-gl_0181.jpg', 'Te-gl_0298.jpg', 'Te-gl_0073.jpg', 'Te-gl_0206.jpg', 'Te-gl_0276.jpg', 'Te-gl_0281.jpg', 'Te-gl_0182.jpg', 'Te-gl_0165.jpg', 'Te-gl_0197.jpg', 'Te-gl_0101.jpg', 'Te-gl_0097.jpg', 'Te-gl_0225.jpg', 'Te-gl_0047.jpg', 'Te-gl_0064.jpg', 'Te-gl_0190.jpg', 'Te-gl_0175.jpg', 'Te-gl_0272.jpg', 'Te-gl_0121.jpg', 'Te-gl_0192.jpg', 'Te-gl_0273.jpg', 'Te-gl_0050.jpg', 'Te-gl_0227.jpg', 'Te-gl_0163.jpg', 'Te-gl_0110.jpg', 'Te-gl_0176.jpg', 'Te-gl_0170.jpg', 'Te-gl_0248.jpg', 'Te-gl_0049.jpg', 'Te-gl_0118.jpg', 'Te-gl_0210.jpg', 'Te-gl_0162.jpg', 'Te-gl_0098.jpg', 'Te-gl_0139.jpg', 'Te-gl_0289.jpg', 'Te-gl_0093.jpg', 'Te-gl_0116.jpg', 'Te-gl_0252.jpg', 'Te-gl_0231.jpg', 'Te-gl_0254.jpg', 'Te-gl_0115.jpg', 'Te-gl_0010.jpg', 'Te-gl_0090.jpg', 'Te-gl_0283.jpg', 'Te-gl_0179.jpg', 'Te-gl_0131.jpg', 'Te-glTr_0008.jpg', 'Te-gl_0262.jpg', 'Te-gl_0085.jpg', 'Te-gl_0211.jpg', 'Te-gl_0072.jpg', 'Te-gl_0193.jpg', 'Te-gl_0042.jpg', 'Te-gl_0105.jpg', 'Te-gl_0109.jpg', 'Te-gl_0043.jpg', 'Te-gl_0250.jpg', 'Te-gl_0288.jpg', 'Te-gl_0221.jpg', 'Te-gl_0154.jpg', 'Te-gl_0202.jpg', 'Te-gl_0142.jpg', 'Te-gl_0015.jpg', 'Te-glTr_0002.jpg', 'Te-gl_0228.jpg', 'Te-gl_0266.jpg', 'Te-gl_0107.jpg', 'Te-gl_0240.jpg', 'Te-gl_0256.jpg', 'Te-gl_0253.jpg', 'Te-gl_0100.jpg', 'Te-gl_0274.jpg', 'Te-gl_0155.jpg', 'Te-gl_0242.jpg', 'Te-glTr_0006.jpg', 'Te-gl_0136.jpg', 'Te-gl_0018.jpg', 'Te-gl_0243.jpg', 'Te-gl_0183.jpg', 'Te-gl_0082.jpg', 'Te-gl_0045.jpg', 'Te-gl_0146.jpg', 'Te-gl_0071.jpg', 'Te-gl_0213.jpg', 'Te-gl_0167.jpg', 'Te-gl_0264.jpg', 'Te-gl_0150.jpg', 'Te-gl_0196.jpg', 'Te-gl_0030.jpg', 'Te-gl_0244.jpg', 'Te-gl_0294.jpg', 'Te-gl_0075.jpg', 'Te-gl_0219.jpg', 'Te-gl_0246.jpg', 'Te-gl_0160.jpg', 'Te-gl_0037.jpg', 'Te-gl_0279.jpg', 'Te-gl_0027.jpg', 'Te-gl_0153.jpg', 'Te-gl_0012.jpg', 'Te-gl_0238.jpg', 'Te-gl_0223.jpg', 'Te-gl_0184.jpg', 'Te-gl_0026.jpg', 'Te-gl_0143.jpg', 'Te-gl_0188.jpg', 'Te-gl_0138.jpg', 'Te-gl_0291.jpg', 'Te-gl_0216.jpg', 'Te-gl_0122.jpg', 'Te-gl_0066.jpg', 'Te-gl_0076.jpg', 'Te-gl_0198.jpg', 'Te-gl_0083.jpg', 'Te-gl_0158.jpg', 'Te-gl_0017.jpg', 'Te-gl_0140.jpg', 'Te-gl_0127.jpg', 'Te-gl_0091.jpg', 'Te-gl_0152.jpg', 'Te-gl_0151.jpg', 'Te-gl_0062.jpg', 'Te-gl_0056.jpg', 'Te-gl_0103.jpg', 'Te-gl_0270.jpg', 'Te-gl_0229.jpg', 'Te-gl_0033.jpg', 'Te-gl_0237.jpg', 'Te-gl_0208.jpg', 'Te-gl_0299.jpg', 'Te-gl_0217.jpg', 'Te-gl_0089.jpg', 'Te-gl_0096.jpg', 'Te-gl_0205.jpg', 'Te-gl_0226.jpg', 'Te-gl_0203.jpg', 'Te-gl_0185.jpg', 'Te-gl_0177.jpg', 'Te-gl_0077.jpg', 'Te-gl_0157.jpg', 'Te-gl_0036.jpg', 'Te-gl_0125.jpg', 'Te-gl_0113.jpg', 'Te-gl_0204.jpg', 'Te-gl_0092.jpg', 'Te-gl_0129.jpg', 'Te-gl_0209.jpg', 'Te-gl_0259.jpg', 'Te-gl_0148.jpg', 'Te-gl_0280.jpg', 'Te-gl_0067.jpg', 'Te-gl_0168.jpg', 'Te-gl_0079.jpg', 'Te-gl_0260.jpg', 'Te-gl_0258.jpg', 'Te-gl_0245.jpg', 'Te-gl_0065.jpg', 'Te-gl_0074.jpg', 'Te-glTr_0007.jpg', 'Te-gl_0265.jpg', 'Te-gl_0102.jpg', 'Te-gl_0108.jpg', 'Te-gl_0025.jpg', 'Te-gl_0051.jpg', 'Te-gl_0282.jpg', 'Te-gl_0084.jpg', 'Te-gl_0022.jpg', 'Te-gl_0031.jpg', 'Te-gl_0078.jpg', 'Te-gl_0106.jpg', 'Te-gl_0284.jpg', 'Te-gl_0130.jpg', 'Te-glTr_0004.jpg', 'Te-gl_0016.jpg', 'Te-gl_0269.jpg', 'Te-gl_0080.jpg', 'Te-gl_0111.jpg', 'Te-gl_0195.jpg', 'Te-gl_0055.jpg', 'Te-gl_0120.jpg', 'Te-gl_0145.jpg', 'Te-gl_0287.jpg', 'Te-gl_0128.jpg', 'Te-gl_0249.jpg', 'Te-gl_0230.jpg', 'Te-gl_0117.jpg', 'Te-gl_0169.jpg', 'Te-gl_0061.jpg', 'Te-gl_0068.jpg', 'Te-gl_0034.jpg', 'Te-gl_0220.jpg', 'Te-gl_0241.jpg', 'Te-gl_0239.jpg', 'Te-gl_0087.jpg', 'Te-gl_0275.jpg', 'Te-gl_0293.jpg', 'Te-gl_0166.jpg', 'Te-glTr_0003.jpg', 'Te-gl_0028.jpg', 'Te-gl_0046.jpg', 'Te-gl_0159.jpg', 'Te-gl_0180.jpg', 'Te-gl_0296.jpg', 'Te-gl_0038.jpg', 'Te-gl_0114.jpg', 'Te-gl_0126.jpg', 'Te-gl_0222.jpg', 'Te-gl_0052.jpg', 'Te-gl_0161.jpg', 'Te-gl_0277.jpg', 'Te-glTr_0001.jpg', 'Te-gl_0059.jpg', 'Te-gl_0199.jpg', 'Te-gl_0054.jpg', 'Te-gl_0200.jpg', 'Te-gl_0137.jpg', 'Te-gl_0149.jpg', 'Te-gl_0295.jpg', 'Te-gl_0134.jpg', 'Te-gl_0194.jpg', 'Te-gl_0112.jpg', 'Te-gl_0257.jpg', 'Te-gl_0058.jpg', 'Te-gl_0290.jpg', 'Te-gl_0039.jpg', 'Te-gl_0063.jpg', 'Te-gl_0207.jpg', 'Te-gl_0094.jpg', 'Te-gl_0040.jpg', 'Te-gl_0191.jpg', 'Te-gl_0124.jpg', 'Te-gl_0041.jpg', 'Te-gl_0247.jpg', 'Te-gl_0286.jpg']\n",
            "\n",
            "📁 Folder: /content/dataset/Training\n",
            "📂 Subfolders: ['notumor', 'pituitary', 'meningioma', 'glioma']\n",
            "🖼️ Files: []\n",
            "\n",
            "📁 Folder: /content/dataset/Training/notumor\n",
            "📂 Subfolders: []\n",
            "🖼️ Files: ['Tr-no_1009.jpg', 'Tr-no_0380.jpg', 'Tr-no_1305.jpg', 'Tr-no_0882.jpg', 'Tr-no_0458.jpg', 'Tr-no_1214.jpg', 'Tr-no_0810.jpg', 'Tr-no_0842.jpg', 'Tr-no_1380.jpg', 'Tr-no_1473.jpg', 'Tr-no_0087.jpg', 'Tr-no_1413.jpg', 'Tr-no_1064.jpg', 'Tr-no_0193.jpg', 'Tr-no_0828.jpg', 'Tr-no_1551.jpg', 'Tr-no_0734.jpg', 'Tr-no_1169.jpg', 'Tr-no_1442.jpg', 'Tr-no_0964.jpg', 'Tr-no_0551.jpg', 'Tr-no_1490.jpg', 'Tr-no_1161.jpg', 'Tr-no_1150.jpg', 'Tr-no_0699.jpg', 'Tr-no_0984.jpg', 'Tr-no_1234.jpg', 'Tr-no_0307.jpg', 'Tr-no_0986.jpg', 'Tr-no_1422.jpg', 'Tr-no_1124.jpg', 'Tr-no_0316.jpg', 'Tr-no_0277.jpg', 'Tr-no_0081.jpg', 'Tr-no_0505.jpg', 'Tr-no_0513.jpg', 'Tr-no_0362.jpg', 'Tr-no_0422.jpg', 'Tr-no_0474.jpg', 'Tr-no_0675.jpg', 'Tr-no_0069.jpg', 'Tr-no_0618.jpg', 'Tr-no_0815.jpg', 'Tr-no_1483.jpg', 'Tr-no_0240.jpg', 'Tr-no_1500.jpg', 'Tr-no_0825.jpg', 'Tr-no_0603.jpg', 'Tr-no_1554.jpg', 'Tr-no_0386.jpg', 'Tr-no_0357.jpg', 'Tr-no_0638.jpg', 'Tr-no_0127.jpg', 'Tr-no_0029.jpg', 'Tr-no_0083.jpg', 'Tr-no_1180.jpg', 'Tr-no_0750.jpg', 'Tr-no_0991.jpg', 'Tr-no_0203.jpg', 'Tr-no_0291.jpg', 'Tr-no_0427.jpg', 'Tr-no_0700.jpg', 'Tr-no_1304.jpg', 'Tr-no_1195.jpg', 'Tr-no_0219.jpg', 'Tr-no_1256.jpg', 'Tr-no_1198.jpg', 'Tr-no_0561.jpg', 'Tr-no_0759.jpg', 'Tr-no_0200.jpg', 'Tr-no_0514.jpg', 'Tr-no_0563.jpg', 'Tr-no_0157.jpg', 'Tr-no_0849.jpg', 'Tr-no_0764.jpg', 'Tr-no_1081.jpg', 'Tr-no_1518.jpg', 'Tr-no_0801.jpg', 'Tr-no_0600.jpg', 'Tr-no_1136.jpg', 'Tr-no_0911.jpg', 'Tr-no_1252.jpg', 'Tr-no_0181.jpg', 'Tr-no_0637.jpg', 'Tr-no_0173.jpg', 'Tr-no_1294.jpg', 'Tr-no_0611.jpg', 'Tr-no_1268.jpg', 'Tr-no_0599.jpg', 'Tr-no_0715.jpg', 'Tr-no_0635.jpg', 'Tr-no_0304.jpg', 'Tr-no_1478.jpg', 'Tr-no_0574.jpg', 'Tr-no_0671.jpg', 'Tr-no_0499.jpg', 'Tr-no_1238.jpg', 'Tr-no_0713.jpg', 'Tr-no_1580.jpg', 'Tr-no_0802.jpg', 'Tr-no_0652.jpg', 'Tr-no_0468.jpg', 'Tr-no_1537.jpg', 'Tr-no_0932.jpg', 'Tr-no_0040.jpg', 'Tr-no_1352.jpg', 'Tr-no_0420.jpg', 'Tr-no_0183.jpg', 'Tr-no_1163.jpg', 'Tr-no_0544.jpg', 'Tr-no_0790.jpg', 'Tr-no_0265.jpg', 'Tr-no_0994.jpg', 'Tr-no_1001.jpg', 'Tr-no_0744.jpg', 'Tr-no_1200.jpg', 'Tr-no_1589.jpg', 'Tr-no_0480.jpg', 'Tr-no_0441.jpg', 'Tr-no_0195.jpg', 'Tr-no_0533.jpg', 'Tr-no_1187.jpg', 'Tr-no_0204.jpg', 'Tr-no_0075.jpg', 'Tr-no_1486.jpg', 'Tr-no_0612.jpg', 'Tr-no_0056.jpg', 'Tr-no_1435.jpg', 'Tr-no_0450.jpg', 'Tr-no_0337.jpg', 'Tr-no_1461.jpg', 'Tr-no_0811.jpg', 'Tr-no_1421.jpg', 'Tr-no_0244.jpg', 'Tr-no_0659.jpg', 'Tr-no_0109.jpg', 'Tr-no_0712.jpg', 'Tr-no_0776.jpg', 'Tr-no_0285.jpg', 'Tr-no_1120.jpg', 'Tr-no_0130.jpg', 'Tr-no_1409.jpg', 'Tr-no_0086.jpg', 'Tr-no_0351.jpg', 'Tr-no_0255.jpg', 'Tr-no_0342.jpg', 'Tr-no_1492.jpg', 'Tr-no_0756.jpg', 'Tr-no_0413.jpg', 'Tr-no_0568.jpg', 'Tr-no_0487.jpg', 'Tr-no_1428.jpg', 'Tr-no_0369.jpg', 'Tr-no_1171.jpg', 'Tr-no_0990.jpg', 'Tr-no_1441.jpg', 'Tr-no_0172.jpg', 'Tr-no_1460.jpg', 'Tr-no_1132.jpg', 'Tr-no_0834.jpg', 'Tr-no_0592.jpg', 'Tr-no_0831.jpg', 'Tr-no_0143.jpg', 'Tr-no_1385.jpg', 'Tr-no_0839.jpg', 'Tr-no_0163.jpg', 'Tr-no_0032.jpg', 'Tr-no_1564.jpg', 'Tr-no_0090.jpg', 'Tr-no_0569.jpg', 'Tr-no_0302.jpg', 'Tr-no_1552.jpg', 'Tr-no_1325.jpg', 'Tr-no_0116.jpg', 'Tr-no_1260.jpg', 'Tr-no_0688.jpg', 'Tr-no_1594.jpg', 'Tr-no_1419.jpg', 'Tr-no_1131.jpg', 'Tr-no_1221.jpg', 'Tr-no_1373.jpg', 'Tr-no_0088.jpg', 'Tr-no_0242.jpg', 'Tr-no_1127.jpg', 'Tr-no_1488.jpg', 'Tr-no_0486.jpg', 'Tr-no_1482.jpg', 'Tr-no_0754.jpg', 'Tr-no_1113.jpg', 'Tr-no_1381.jpg', 'Tr-no_0438.jpg', 'Tr-no_0751.jpg', 'Tr-no_1143.jpg', 'Tr-no_0321.jpg', 'Tr-no_1197.jpg', 'Tr-no_0601.jpg', 'Tr-no_1213.jpg', 'Tr-no_0091.jpg', 'Tr-no_0549.jpg', 'Tr-no_0887.jpg', 'Tr-no_0235.jpg', 'Tr-no_1226.jpg', 'Tr-no_0837.jpg', 'Tr-no_0384.jpg', 'Tr-no_0870.jpg', 'Tr-no_0045.jpg', 'Tr-no_0465.jpg', 'Tr-no_0910.jpg', 'Tr-no_1012.jpg', 'Tr-no_0485.jpg', 'Tr-no_0062.jpg', 'Tr-no_0448.jpg', 'Tr-no_0878.jpg', 'Tr-no_0616.jpg', 'Tr-no_0470.jpg', 'Tr-no_0787.jpg', 'Tr-no_1321.jpg', 'Tr-no_1431.jpg', 'Tr-no_0540.jpg', 'Tr-no_0953.jpg', 'Tr-no_1324.jpg', 'Tr-no_0938.jpg', 'Tr-no_1166.jpg', 'Tr-no_1312.jpg', 'Tr-no_0646.jpg', 'Tr-no_0361.jpg', 'Tr-no_1096.jpg', 'Tr-no_0033.jpg', 'Tr-no_1395.jpg', 'Tr-no_0605.jpg', 'Tr-no_1533.jpg', 'Tr-no_0446.jpg', 'Tr-no_0385.jpg', 'Tr-no_1126.jpg', 'Tr-no_1114.jpg', 'Tr-no_0674.jpg', 'Tr-no_1137.jpg', 'Tr-no_1091.jpg', 'Tr-no_1327.jpg', 'Tr-no_0344.jpg', 'Tr-no_0641.jpg', 'Tr-no_0585.jpg', 'Tr-no_1239.jpg', 'Tr-no_0806.jpg', 'Tr-no_1350.jpg', 'Tr-no_1061.jpg', 'Tr-no_0654.jpg', 'Tr-no_0270.jpg', 'Tr-no_0332.jpg', 'Tr-no_1498.jpg', 'Tr-no_0577.jpg', 'Tr-no_0622.jpg', 'Tr-no_1217.jpg', 'Tr-no_0232.jpg', 'Tr-no_0354.jpg', 'Tr-no_1227.jpg', 'Tr-no_0206.jpg', 'Tr-no_0078.jpg', 'Tr-no_0196.jpg', 'Tr-no_0827.jpg', 'Tr-no_0093.jpg', 'Tr-no_1111.jpg', 'Tr-no_1070.jpg', 'Tr-no_0410.jpg', 'Tr-no_0805.jpg', 'Tr-no_1311.jpg', 'Tr-no_0647.jpg', 'Tr-no_1316.jpg', 'Tr-no_0456.jpg', 'Tr-no_1167.jpg', 'Tr-no_1337.jpg', 'Tr-no_0266.jpg', 'Tr-no_0653.jpg', 'Tr-no_0955.jpg', 'Tr-no_0779.jpg', 'Tr-no_0998.jpg', 'Tr-no_1194.jpg', 'Tr-no_0138.jpg', 'Tr-no_0297.jpg', 'Tr-no_0036.jpg', 'Tr-no_0543.jpg', 'Tr-no_0023.jpg', 'Tr-no_1309.jpg', 'Tr-no_0064.jpg', 'Tr-no_1257.jpg', 'Tr-no_0630.jpg', 'Tr-no_1420.jpg', 'Tr-no_0550.jpg', 'Tr-no_0437.jpg', 'Tr-no_1037.jpg', 'Tr-no_1590.jpg', 'Tr-no_0292.jpg', 'Tr-no_0658.jpg', 'Tr-no_0662.jpg', 'Tr-no_1481.jpg', 'Tr-no_0965.jpg', 'Tr-no_1154.jpg', 'Tr-no_0335.jpg', 'Tr-no_1365.jpg', 'Tr-no_0567.jpg', 'Tr-no_0749.jpg', 'Tr-no_1485.jpg', 'Tr-no_0397.jpg', 'Tr-no_1249.jpg', 'Tr-no_1220.jpg', 'Tr-no_1369.jpg', 'Tr-no_0650.jpg', 'Tr-no_0189.jpg', 'Tr-no_0885.jpg', 'Tr-no_1505.jpg', 'Tr-no_0118.jpg', 'Tr-no_1553.jpg', 'Tr-no_1550.jpg', 'Tr-no_0212.jpg', 'Tr-no_1456.jpg', 'Tr-no_0290.jpg', 'Tr-no_1345.jpg', 'Tr-no_0355.jpg', 'Tr-no_0283.jpg', 'Tr-no_0682.jpg', 'Tr-no_0707.jpg', 'Tr-no_0418.jpg', 'Tr-no_1202.jpg', 'Tr-no_0123.jpg', 'Tr-no_0743.jpg', 'Tr-no_0728.jpg', 'Tr-no_0914.jpg', 'Tr-no_1411.jpg', 'Tr-no_0375.jpg', 'Tr-no_1562.jpg', 'Tr-no_0311.jpg', 'Tr-no_1105.jpg', 'Tr-no_0289.jpg', 'Tr-no_1086.jpg', 'Tr-no_1439.jpg', 'Tr-no_1567.jpg', 'Tr-no_1215.jpg', 'Tr-no_1108.jpg', 'Tr-no_1544.jpg', 'Tr-no_0396.jpg', 'Tr-no_1451.jpg', 'Tr-no_0631.jpg', 'Tr-no_0028.jpg', 'Tr-no_1398.jpg', 'Tr-no_1010.jpg', 'Tr-no_0818.jpg', 'Tr-no_0401.jpg', 'Tr-no_0795.jpg', 'Tr-no_0174.jpg', 'Tr-no_0433.jpg', 'Tr-no_0443.jpg', 'Tr-no_1387.jpg', 'Tr-no_0100.jpg', 'Tr-no_0952.jpg', 'Tr-no_1036.jpg', 'Tr-no_0269.jpg', 'Tr-no_0702.jpg', 'Tr-no_0089.jpg', 'Tr-no_0459.jpg', 'Tr-no_0224.jpg', 'Tr-no_0649.jpg', 'Tr-no_1297.jpg', 'Tr-no_0253.jpg', 'Tr-no_1047.jpg', 'Tr-no_1098.jpg', 'Tr-no_0340.jpg', 'Tr-no_0832.jpg', 'Tr-no_1452.jpg', 'Tr-no_0959.jpg', 'Tr-no_1240.jpg', 'Tr-noTr_0007.jpg', 'Tr-no_0445.jpg', 'Tr-noTr_0003.jpg', 'Tr-no_1219.jpg', 'Tr-no_1271.jpg', 'Tr-no_0343.jpg', 'Tr-no_0905.jpg', 'Tr-no_1282.jpg', 'Tr-no_1130.jpg', 'Tr-no_0013.jpg', 'Tr-no_1155.jpg', 'Tr-no_0014.jpg', 'Tr-no_1110.jpg', 'Tr-no_0447.jpg', 'Tr-no_0280.jpg', 'Tr-no_1176.jpg', 'Tr-no_1022.jpg', 'Tr-no_0546.jpg', 'Tr-no_0799.jpg', 'Tr-no_0628.jpg', 'Tr-no_0168.jpg', 'Tr-no_0619.jpg', 'Tr-no_0156.jpg', 'Tr-no_0171.jpg', 'Tr-no_1286.jpg', 'Tr-no_0071.jpg', 'Tr-no_1320.jpg', 'Tr-no_0435.jpg', 'Tr-no_1390.jpg', 'Tr-no_1450.jpg', 'Tr-no_0124.jpg', 'Tr-no_0604.jpg', 'Tr-no_0310.jpg', 'Tr-no_1382.jpg', 'Tr-no_0371.jpg', 'Tr-no_1122.jpg', 'Tr-no_0358.jpg', 'Tr-no_0796.jpg', 'Tr-no_1051.jpg', 'Tr-no_0436.jpg', 'Tr-no_1522.jpg', 'Tr-no_1016.jpg', 'Tr-no_0414.jpg', 'Tr-no_1299.jpg', 'Tr-no_1080.jpg', 'Tr-no_1328.jpg', 'Tr-no_0113.jpg', 'Tr-no_0402.jpg', 'Tr-no_1546.jpg', 'Tr-no_0141.jpg', 'Tr-no_0258.jpg', 'Tr-no_0954.jpg', 'Tr-no_1071.jpg', 'Tr-no_1565.jpg', 'Tr-no_1497.jpg', 'Tr-no_0698.jpg', 'Tr-no_0246.jpg', 'Tr-no_0962.jpg', 'Tr-no_1209.jpg', 'Tr-no_0442.jpg', 'Tr-no_1319.jpg', 'Tr-no_1418.jpg', 'Tr-no_1315.jpg', 'Tr-no_0491.jpg', 'Tr-no_1222.jpg', 'Tr-no_0209.jpg', 'Tr-no_0862.jpg', 'Tr-no_0274.jpg', 'Tr-no_1055.jpg', 'Tr-no_0201.jpg', 'Tr-no_0072.jpg', 'Tr-no_1008.jpg', 'Tr-no_0873.jpg', 'Tr-no_1156.jpg', 'Tr-no_0823.jpg', 'Tr-no_1288.jpg', 'Tr-no_0021.jpg', 'Tr-no_0137.jpg', 'Tr-no_1357.jpg', 'Tr-no_0439.jpg', 'Tr-no_1034.jpg', 'Tr-no_0053.jpg', 'Tr-no_0531.jpg', 'Tr-no_1342.jpg', 'Tr-no_1526.jpg', 'Tr-no_1030.jpg', 'Tr-no_0170.jpg', 'Tr-no_1272.jpg', 'Tr-no_1574.jpg', 'Tr-no_1410.jpg', 'Tr-no_0085.jpg', 'Tr-no_1330.jpg', 'Tr-no_0535.jpg', 'Tr-no_1318.jpg', 'Tr-no_0908.jpg', 'Tr-no_0431.jpg', 'Tr-no_1433.jpg', 'Tr-no_1190.jpg', 'Tr-no_0262.jpg', 'Tr-no_1149.jpg', 'Tr-no_0677.jpg', 'Tr-no_0589.jpg', 'Tr-no_1397.jpg', 'Tr-no_0055.jpg', 'Tr-no_0315.jpg', 'Tr-no_0238.jpg', 'Tr-no_1287.jpg', 'Tr-no_1401.jpg', 'Tr-no_0329.jpg', 'Tr-no_1025.jpg', 'Tr-no_0957.jpg', 'Tr-no_0395.jpg', 'Tr-no_1507.jpg', 'Tr-no_1516.jpg', 'Tr-no_0732.jpg', 'Tr-no_0640.jpg', 'Tr-no_0663.jpg', 'Tr-no_0276.jpg', 'Tr-no_0142.jpg', 'Tr-no_0048.jpg', 'Tr-no_0669.jpg', 'Tr-no_0598.jpg', 'Tr-no_0979.jpg', 'Tr-no_0107.jpg', 'Tr-no_0112.jpg', 'Tr-no_0833.jpg', 'Tr-no_1246.jpg', 'Tr-no_0294.jpg', 'Tr-no_1469.jpg', 'Tr-no_0406.jpg', 'Tr-no_0026.jpg', 'Tr-no_1250.jpg', 'Tr-no_0666.jpg', 'Tr-no_0552.jpg', 'Tr-no_1578.jpg', 'Tr-no_0027.jpg', 'Tr-no_0891.jpg', 'Tr-no_0476.jpg', 'Tr-no_1542.jpg', 'Tr-no_1457.jpg', 'Tr-no_0800.jpg', 'Tr-no_0144.jpg', 'Tr-no_1579.jpg', 'Tr-no_0927.jpg', 'Tr-no_1002.jpg', 'Tr-no_0147.jpg', 'Tr-no_0405.jpg', 'Tr-no_0947.jpg', 'Tr-no_0207.jpg', 'Tr-no_1514.jpg', 'Tr-no_1403.jpg', 'Tr-no_1269.jpg', 'Tr-no_0011.jpg', 'Tr-no_0353.jpg', 'Tr-no_0018.jpg', 'Tr-no_0594.jpg', 'Tr-no_1276.jpg', 'Tr-no_0948.jpg', 'Tr-no_0632.jpg', 'Tr-no_1366.jpg', 'Tr-no_0325.jpg', 'Tr-no_1231.jpg', 'Tr-no_1303.jpg', 'Tr-no_1192.jpg', 'Tr-no_1162.jpg', 'Tr-no_0858.jpg', 'Tr-no_0526.jpg', 'Tr-no_0693.jpg', 'Tr-no_0859.jpg', 'Tr-no_0909.jpg', 'Tr-no_0943.jpg', 'Tr-no_0419.jpg', 'Tr-no_0313.jpg', 'Tr-no_1445.jpg', 'Tr-no_1054.jpg', 'Tr-no_0449.jpg', 'Tr-noTr_0001.jpg', 'Tr-no_0913.jpg', 'Tr-no_1360.jpg', 'Tr-no_0444.jpg', 'Tr-no_0557.jpg', 'Tr-no_1097.jpg', 'Tr-no_0626.jpg', 'Tr-no_1119.jpg', 'Tr-no_0115.jpg', 'Tr-no_1340.jpg', 'Tr-no_1349.jpg', 'Tr-no_1405.jpg', 'Tr-no_0126.jpg', 'Tr-no_1563.jpg', 'Tr-no_1261.jpg', 'Tr-no_1391.jpg', 'Tr-no_1298.jpg', 'Tr-no_0925.jpg', 'Tr-no_1100.jpg', 'Tr-no_0969.jpg', 'Tr-no_0424.jpg', 'Tr-no_1477.jpg', 'Tr-no_0696.jpg', 'Tr-no_0475.jpg', 'Tr-no_1223.jpg', 'Tr-no_1172.jpg', 'Tr-no_1101.jpg', 'Tr-no_0680.jpg', 'Tr-no_1168.jpg', 'Tr-no_0545.jpg', 'Tr-no_0999.jpg', 'Tr-no_1510.jpg', 'Tr-no_1569.jpg', 'Tr-no_0323.jpg', 'Tr-no_0997.jpg', 'Tr-no_0762.jpg', 'Tr-no_1014.jpg', 'Tr-no_0824.jpg', 'Tr-no_0992.jpg', 'Tr-no_1519.jpg', 'Tr-no_1232.jpg', 'Tr-no_1436.jpg', 'Tr-no_0521.jpg', 'Tr-no_0473.jpg', 'Tr-no_0411.jpg', 'Tr-no_1559.jpg', 'Tr-no_0501.jpg', 'Tr-no_0352.jpg', 'Tr-no_1535.jpg', 'Tr-no_0656.jpg', 'Tr-no_1139.jpg', 'Tr-no_0591.jpg', 'Tr-no_1415.jpg', 'Tr-no_0623.jpg', 'Tr-no_1147.jpg', 'Tr-no_0852.jpg', 'Tr-no_1218.jpg', 'Tr-no_0298.jpg', 'Tr-no_1032.jpg', 'Tr-no_0063.jpg', 'Tr-no_0320.jpg', 'Tr-no_0752.jpg', 'Tr-no_1280.jpg', 'Tr-no_0080.jpg', 'Tr-no_1548.jpg', 'Tr-no_1140.jpg', 'Tr-no_0020.jpg', 'Tr-no_1523.jpg', 'Tr-no_0648.jpg', 'Tr-no_0966.jpg', 'Tr-no_0613.jpg', 'Tr-no_0785.jpg', 'Tr-no_0229.jpg', 'Tr-no_0215.jpg', 'Tr-no_0678.jpg', 'Tr-no_0231.jpg', 'Tr-no_1265.jpg', 'Tr-no_1426.jpg', 'Tr-no_0583.jpg', 'Tr-no_0528.jpg', 'Tr-no_1528.jpg', 'Tr-no_0403.jpg', 'Tr-no_0673.jpg', 'Tr-no_1160.jpg', 'Tr-no_0151.jpg', 'Tr-no_0259.jpg', 'Tr-no_1151.jpg', 'Tr-no_1011.jpg', 'Tr-no_0263.jpg', 'Tr-no_0025.jpg', 'Tr-no_0609.jpg', 'Tr-no_1560.jpg', 'Tr-noTr_0000.jpg', 'Tr-no_0370.jpg', 'Tr-no_0213.jpg', 'Tr-no_1430.jpg', 'Tr-no_0508.jpg', 'Tr-no_0874.jpg', 'Tr-no_0272.jpg', 'Tr-no_0840.jpg', 'Tr-no_1095.jpg', 'Tr-no_0268.jpg', 'Tr-no_1023.jpg', 'Tr-no_0483.jpg', 'Tr-no_0721.jpg', 'Tr-no_0845.jpg', 'Tr-no_0110.jpg', 'Tr-no_1417.jpg', 'Tr-no_0044.jpg', 'Tr-no_0565.jpg', 'Tr-no_0993.jpg', 'Tr-no_0197.jpg', 'Tr-no_0691.jpg', 'Tr-no_0509.jpg', 'Tr-no_0489.jpg', 'Tr-no_0388.jpg', 'Tr-no_1206.jpg', 'Tr-no_0755.jpg', 'Tr-no_1425.jpg', 'Tr-no_0334.jpg', 'Tr-no_0946.jpg', 'Tr-no_0761.jpg', 'Tr-no_1225.jpg', 'Tr-no_1142.jpg', 'Tr-no_0555.jpg', 'Tr-no_0930.jpg', 'Tr-no_1393.jpg', 'Tr-no_0847.jpg', 'Tr-no_0226.jpg', 'Tr-no_1525.jpg', 'Tr-no_0467.jpg', 'Tr-no_0421.jpg', 'Tr-no_0493.jpg', 'Tr-no_1183.jpg', 'Tr-no_1347.jpg', 'Tr-no_0050.jpg', 'Tr-no_0685.jpg', 'Tr-no_0108.jpg', 'Tr-no_1549.jpg', 'Tr-no_0727.jpg', 'Tr-no_0488.jpg', 'Tr-no_1566.jpg', 'Tr-no_0864.jpg', 'Tr-no_0980.jpg', 'Tr-no_1466.jpg', 'Tr-no_1267.jpg', 'Tr-no_0843.jpg', 'Tr-no_0945.jpg', 'Tr-no_0872.jpg', 'Tr-no_0657.jpg', 'Tr-no_1060.jpg', 'Tr-no_0529.jpg', 'Tr-no_1039.jpg', 'Tr-no_0035.jpg', 'Tr-no_1278.jpg', 'Tr-no_0478.jpg', 'Tr-no_0073.jpg', 'Tr-no_0430.jpg', 'Tr-no_1245.jpg', 'Tr-no_0773.jpg', 'Tr-no_1513.jpg', 'Tr-no_0504.jpg', 'Tr-no_0515.jpg', 'Tr-no_0464.jpg', 'Tr-no_0697.jpg', 'Tr-no_1571.jpg', 'Tr-no_1072.jpg', 'Tr-no_0326.jpg', 'Tr-no_1383.jpg', 'Tr-no_0983.jpg', 'Tr-no_1129.jpg', 'Tr-no_0982.jpg', 'Tr-no_0664.jpg', 'Tr-no_0264.jpg', 'Tr-no_1374.jpg', 'Tr-no_0058.jpg', 'Tr-no_0079.jpg', 'Tr-no_0723.jpg', 'Tr-no_0816.jpg', 'Tr-no_0875.jpg', 'Tr-no_0248.jpg', 'Tr-no_1292.jpg', 'Tr-no_0772.jpg', 'Tr-no_1148.jpg', 'Tr-no_1389.jpg', 'Tr-no_0498.jpg', 'Tr-no_0642.jpg', 'Tr-no_0129.jpg', 'Tr-no_0017.jpg', 'Tr-no_0230.jpg', 'Tr-no_0217.jpg', 'Tr-no_1314.jpg', 'Tr-no_1146.jpg', 'Tr-no_0131.jpg', 'Tr-no_0434.jpg', 'Tr-no_0159.jpg', 'Tr-no_0763.jpg', 'Tr-no_0963.jpg', 'Tr-no_0426.jpg', 'Tr-no_1511.jpg', 'Tr-no_0606.jpg', 'Tr-no_1322.jpg', 'Tr-no_1289.jpg', 'Tr-no_1593.jpg', 'Tr-no_0182.jpg', 'Tr-no_1210.jpg', 'Tr-no_0306.jpg', 'Tr-no_0937.jpg', 'Tr-no_0788.jpg', 'Tr-no_0868.jpg', 'Tr-no_0694.jpg', 'Tr-no_0684.jpg', 'Tr-no_0461.jpg', 'Tr-no_1496.jpg', 'Tr-no_1088.jpg', 'Tr-no_0114.jpg', 'Tr-no_1082.jpg', 'Tr-no_0391.jpg', 'Tr-no_1283.jpg', 'Tr-no_1378.jpg', 'Tr-no_1117.jpg', 'Tr-no_1029.jpg', 'Tr-no_0308.jpg', 'Tr-no_0573.jpg', 'Tr-no_1344.jpg', 'Tr-no_0582.jpg', 'Tr-no_0851.jpg', 'Tr-no_0695.jpg', 'Tr-no_0122.jpg', 'Tr-no_0104.jpg', 'Tr-no_1416.jpg', 'Tr-no_0394.jpg', 'Tr-no_1372.jpg', 'Tr-no_0716.jpg', 'Tr-no_0690.jpg', 'Tr-no_0333.jpg', 'Tr-no_1135.jpg', 'Tr-no_0977.jpg', 'Tr-no_0975.jpg', 'Tr-no_1423.jpg', 'Tr-no_0625.jpg', 'Tr-no_1358.jpg', 'Tr-no_1253.jpg', 'Tr-no_0052.jpg', 'Tr-no_0579.jpg', 'Tr-no_0803.jpg', 'Tr-no_0817.jpg', 'Tr-no_1474.jpg', 'Tr-no_1207.jpg', 'Tr-no_0039.jpg', 'Tr-no_0714.jpg', 'Tr-no_1432.jpg', 'Tr-no_0995.jpg', 'Tr-no_1521.jpg', 'Tr-no_1212.jpg', 'Tr-no_0250.jpg', 'Tr-no_1368.jpg', 'Tr-no_1069.jpg', 'Tr-no_0725.jpg', 'Tr-no_1152.jpg', 'Tr-no_0367.jpg', 'Tr-no_0770.jpg', 'Tr-no_0510.jpg', 'Tr-no_1529.jpg', 'Tr-no_0745.jpg', 'Tr-no_1306.jpg', 'Tr-no_0101.jpg', 'Tr-no_0686.jpg', 'Tr-no_0522.jpg', 'Tr-no_1042.jpg', 'Tr-no_0853.jpg', 'Tr-no_0639.jpg', 'Tr-no_0624.jpg', 'Tr-no_1118.jpg', 'Tr-no_0348.jpg', 'Tr-no_0379.jpg', 'Tr-no_1077.jpg', 'Tr-no_1557.jpg', 'Tr-no_0527.jpg', 'Tr-no_0287.jpg', 'Tr-no_0808.jpg', 'Tr-no_0841.jpg', 'Tr-no_1244.jpg', 'Tr-no_0822.jpg', 'Tr-no_0928.jpg', 'Tr-no_1087.jpg', 'Tr-no_1248.jpg', 'Tr-no_1310.jpg', 'Tr-no_0378.jpg', 'Tr-no_1467.jpg', 'Tr-no_0507.jpg', 'Tr-no_1470.jpg', 'Tr-no_0996.jpg', 'Tr-no_1400.jpg', 'Tr-no_1508.jpg', 'Tr-no_0893.jpg', 'Tr-no_1066.jpg', 'Tr-no_0377.jpg', 'Tr-no_0208.jpg', 'Tr-no_0098.jpg', 'Tr-no_0898.jpg', 'Tr-no_0602.jpg', 'Tr-no_0904.jpg', 'Tr-no_1515.jpg', 'Tr-no_1242.jpg', 'Tr-no_1116.jpg', 'Tr-no_1284.jpg', 'Tr-no_1536.jpg', 'Tr-no_0813.jpg', 'Tr-no_1065.jpg', 'Tr-no_1502.jpg', 'Tr-no_0161.jpg', 'Tr-no_0584.jpg', 'Tr-no_1182.jpg', 'Tr-no_1021.jpg', 'Tr-no_1274.jpg', 'Tr-no_1103.jpg', 'Tr-no_0054.jpg', 'Tr-no_0820.jpg', 'Tr-no_1388.jpg', 'Tr-no_0404.jpg', 'Tr-no_0942.jpg', 'Tr-no_1138.jpg', 'Tr-no_0070.jpg', 'Tr-no_1125.jpg', 'Tr-no_0339.jpg', 'Tr-no_0737.jpg', 'Tr-no_0920.jpg', 'Tr-no_0783.jpg', 'Tr-no_1006.jpg', 'Tr-no_1093.jpg', 'Tr-no_0318.jpg', 'Tr-no_0257.jpg', 'Tr-no_1089.jpg', 'Tr-no_1480.jpg', 'Tr-no_1254.jpg', 'Tr-no_0234.jpg', 'Tr-no_1024.jpg', 'Tr-no_0519.jpg', 'Tr-no_1175.jpg', 'Tr-no_0951.jpg', 'Tr-no_0267.jpg', 'Tr-no_0496.jpg', 'Tr-no_0133.jpg', 'Tr-no_0363.jpg', 'Tr-no_0205.jpg', 'Tr-no_1501.jpg', 'Tr-no_1475.jpg', 'Tr-no_0360.jpg', 'Tr-no_0452.jpg', 'Tr-no_0184.jpg', 'Tr-no_0627.jpg', 'Tr-no_1364.jpg', 'Tr-no_0139.jpg', 'Tr-no_0809.jpg', 'Tr-no_0146.jpg', 'Tr-no_1586.jpg', 'Tr-no_0096.jpg', 'Tr-no_0186.jpg', 'Tr-no_0854.jpg', 'Tr-no_0936.jpg', 'Tr-noTr_0005.jpg', 'Tr-no_0542.jpg', 'Tr-no_1262.jpg', 'Tr-no_0797.jpg', 'Tr-no_1463.jpg', 'Tr-no_0187.jpg', 'Tr-no_0295.jpg', 'Tr-no_0922.jpg', 'Tr-no_0423.jpg', 'Tr-no_1335.jpg', 'Tr-no_1090.jpg', 'Tr-no_0880.jpg', 'Tr-no_0974.jpg', 'Tr-noTr_0009.jpg', 'Tr-no_1053.jpg', 'Tr-no_1068.jpg', 'Tr-no_1144.jpg', 'Tr-no_1300.jpg', 'Tr-no_1104.jpg', 'Tr-no_0786.jpg', 'Tr-no_0247.jpg', 'Tr-no_0214.jpg', 'Tr-no_1458.jpg', 'Tr-no_0389.jpg', 'Tr-no_1028.jpg', 'Tr-no_1178.jpg', 'Tr-no_0225.jpg', 'Tr-no_0850.jpg', 'Tr-no_1204.jpg', 'Tr-no_0451.jpg', 'Tr-no_1371.jpg', 'Tr-no_1503.jpg', 'Tr-no_0484.jpg', 'Tr-no_0140.jpg', 'Tr-no_0117.jpg', 'Tr-no_0185.jpg', 'Tr-no_0030.jpg', 'Tr-no_1041.jpg', 'Tr-no_0132.jpg', 'Tr-no_0275.jpg', 'Tr-no_0010.jpg', 'Tr-no_0094.jpg', 'Tr-no_1301.jpg', 'Tr-no_0556.jpg', 'Tr-no_0709.jpg', 'Tr-no_0466.jpg', 'Tr-no_0322.jpg', 'Tr-no_1133.jpg', 'Tr-no_0398.jpg', 'Tr-no_0784.jpg', 'Tr-no_0620.jpg', 'Tr-no_1189.jpg', 'Tr-no_1264.jpg', 'Tr-no_0877.jpg', 'Tr-no_0720.jpg', 'Tr-no_0724.jpg', 'Tr-no_1573.jpg', 'Tr-no_1285.jpg', 'Tr-no_0463.jpg', 'Tr-no_1128.jpg', 'Tr-no_1592.jpg', 'Tr-no_1584.jpg', 'Tr-no_1045.jpg', 'Tr-no_1307.jpg', 'Tr-no_0643.jpg', 'Tr-no_0222.jpg', 'Tr-no_0336.jpg', 'Tr-no_0705.jpg', 'Tr-no_0251.jpg', 'Tr-no_1329.jpg', 'Tr-no_0162.jpg', 'Tr-no_0865.jpg', 'Tr-no_0523.jpg', 'Tr-no_0689.jpg', 'Tr-no_0829.jpg', 'Tr-no_0407.jpg', 'Tr-no_0300.jpg', 'Tr-no_0518.jpg', 'Tr-no_0736.jpg', 'Tr-no_0835.jpg', 'Tr-no_0780.jpg', 'Tr-no_1157.jpg', 'Tr-no_1241.jpg', 'Tr-no_0739.jpg', 'Tr-no_1455.jpg', 'Tr-no_1341.jpg', 'Tr-no_0194.jpg', 'Tr-no_0651.jpg', 'Tr-no_0775.jpg', 'Tr-no_0735.jpg', 'Tr-no_0860.jpg', 'Tr-no_0726.jpg', 'Tr-no_1587.jpg', 'Tr-no_1046.jpg', 'Tr-no_1396.jpg', 'Tr-no_0067.jpg', 'Tr-no_0288.jpg', 'Tr-no_1079.jpg', 'Tr-no_0314.jpg', 'Tr-no_0703.jpg', 'Tr-no_0869.jpg', 'Tr-no_0792.jpg', 'Tr-no_1059.jpg', 'Tr-no_0111.jpg', 'Tr-no_1099.jpg', 'Tr-no_0057.jpg', 'Tr-no_1063.jpg', 'Tr-no_1585.jpg', 'Tr-no_1188.jpg', 'Tr-no_0621.jpg', 'Tr-no_1334.jpg', 'Tr-no_0082.jpg', 'Tr-no_1524.jpg', 'Tr-no_0038.jpg', 'Tr-no_0708.jpg', 'Tr-no_0303.jpg', 'Tr-no_0731.jpg', 'Tr-no_0041.jpg', 'Tr-no_1468.jpg', 'Tr-no_1013.jpg', 'Tr-no_0216.jpg', 'Tr-no_0769.jpg', 'Tr-no_0520.jpg', 'Tr-no_0668.jpg', 'Tr-no_1394.jpg', 'Tr-no_1027.jpg', 'Tr-no_0861.jpg', 'Tr-no_1581.jpg', 'Tr-no_0570.jpg', 'Tr-no_0393.jpg', 'Tr-no_0366.jpg', 'Tr-no_1296.jpg', 'Tr-no_0218.jpg', 'Tr-no_0958.jpg', 'Tr-no_1362.jpg', 'Tr-no_0241.jpg', 'Tr-no_0536.jpg', 'Tr-no_0562.jpg', 'Tr-no_1017.jpg', 'Tr-no_0578.jpg', 'Tr-no_1404.jpg', 'Tr-no_0753.jpg', 'Tr-no_0454.jpg', 'Tr-no_1464.jpg', 'Tr-no_0987.jpg', 'Tr-no_0347.jpg', 'Tr-no_0867.jpg', 'Tr-no_0931.jpg', 'Tr-no_0084.jpg', 'Tr-no_1459.jpg', 'Tr-no_0319.jpg', 'Tr-no_0566.jpg', 'Tr-no_1504.jpg', 'Tr-no_1000.jpg', 'Tr-no_0572.jpg', 'Tr-no_1165.jpg', 'Tr-no_0672.jpg', 'Tr-no_0876.jpg', 'Tr-no_0155.jpg', 'Tr-no_0392.jpg', 'Tr-no_1107.jpg', 'Tr-no_1281.jpg', 'Tr-no_1333.jpg', 'Tr-no_0279.jpg', 'Tr-no_1191.jpg', 'Tr-no_0349.jpg', 'Tr-no_0940.jpg', 'Tr-no_0408.jpg', 'Tr-no_1115.jpg', 'Tr-no_1444.jpg', 'Tr-no_0575.jpg', 'Tr-no_0237.jpg', 'Tr-no_0681.jpg', 'Tr-no_1472.jpg', 'Tr-no_0607.jpg', 'Tr-no_1121.jpg', 'Tr-no_0571.jpg', 'Tr-no_0120.jpg', 'Tr-no_1270.jpg', 'Tr-no_1331.jpg', 'Tr-no_0676.jpg', 'Tr-no_0102.jpg', 'Tr-no_1437.jpg', 'Tr-no_0278.jpg', 'Tr-no_0554.jpg', 'Tr-no_0425.jpg', 'Tr-no_0730.jpg', 'Tr-no_1343.jpg', 'Tr-no_0558.jpg', 'Tr-no_0359.jpg', 'Tr-no_1083.jpg', 'Tr-no_0517.jpg', 'Tr-no_1583.jpg', 'Tr-no_0871.jpg', 'Tr-no_0364.jpg', 'Tr-no_0167.jpg', 'Tr-no_0924.jpg', 'Tr-no_0879.jpg', 'Tr-no_0169.jpg', 'Tr-no_1052.jpg', 'Tr-no_0223.jpg', 'Tr-no_1067.jpg', 'Tr-no_1377.jpg', 'Tr-no_0317.jpg', 'Tr-no_0701.jpg', 'Tr-no_1141.jpg', 'Tr-no_0160.jpg', 'Tr-no_1543.jpg', 'Tr-no_1576.jpg', 'Tr-no_0793.jpg', 'Tr-no_1588.jpg', 'Tr-no_0886.jpg', 'Tr-no_0634.jpg', 'Tr-no_0199.jpg', 'Tr-no_0836.jpg', 'Tr-no_0273.jpg', 'Tr-no_0949.jpg', 'Tr-no_1493.jpg', 'Tr-no_1538.jpg', 'Tr-no_1429.jpg', 'Tr-no_0798.jpg', 'Tr-no_0066.jpg', 'Tr-no_1499.jpg', 'Tr-no_0645.jpg', 'Tr-no_0741.jpg', 'Tr-no_0595.jpg', 'Tr-no_1495.jpg', 'Tr-no_0923.jpg', 'Tr-no_1313.jpg', 'Tr-no_1448.jpg', 'Tr-no_0895.jpg', 'Tr-no_1449.jpg', 'Tr-no_0383.jpg', 'Tr-no_0902.jpg', 'Tr-no_0148.jpg', 'Tr-no_0338.jpg', 'Tr-no_0106.jpg', 'Tr-no_0933.jpg', 'Tr-no_1201.jpg', 'Tr-no_0970.jpg', 'Tr-no_1361.jpg', 'Tr-no_0758.jpg', 'Tr-no_0894.jpg', 'Tr-no_1179.jpg', 'Tr-no_0211.jpg', 'Tr-no_0198.jpg', 'Tr-no_1547.jpg', 'Tr-no_1479.jpg', 'Tr-no_1229.jpg', 'Tr-no_0532.jpg', 'Tr-no_0471.jpg', 'Tr-no_0178.jpg', 'Tr-noTr_0008.jpg', 'Tr-no_0236.jpg', 'Tr-no_0838.jpg', 'Tr-no_0077.jpg', 'Tr-no_0944.jpg', 'Tr-no_1203.jpg', 'Tr-no_0900.jpg', 'Tr-no_0855.jpg', 'Tr-no_1279.jpg', 'Tr-no_0972.jpg', 'Tr-no_1230.jpg', 'Tr-no_1348.jpg', 'Tr-no_0934.jpg', 'Tr-no_0956.jpg', 'Tr-no_1356.jpg', 'Tr-no_0490.jpg', 'Tr-no_0164.jpg', 'Tr-no_1015.jpg', 'Tr-no_0564.jpg', 'Tr-no_1186.jpg', 'Tr-no_0921.jpg', 'Tr-no_0365.jpg', 'Tr-no_1355.jpg', 'Tr-no_0099.jpg', 'Tr-no_0926.jpg', 'Tr-no_0777.jpg', 'Tr-no_0261.jpg', 'Tr-no_0506.jpg', 'Tr-no_0950.jpg', 'Tr-no_0227.jpg', 'Tr-no_1489.jpg', 'Tr-no_0103.jpg', 'Tr-no_0049.jpg', 'Tr-no_0249.jpg', 'Tr-no_0548.jpg', 'Tr-no_1447.jpg', 'Tr-no_0046.jpg', 'Tr-no_1266.jpg', 'Tr-no_0016.jpg', 'Tr-no_0428.jpg', 'Tr-no_1539.jpg', 'Tr-no_1561.jpg', 'Tr-no_1370.jpg', 'Tr-no_1177.jpg', 'Tr-no_0821.jpg', 'Tr-no_0747.jpg', 'Tr-no_0409.jpg', 'Tr-no_0917.jpg', 'Tr-no_1035.jpg', 'Tr-no_0883.jpg', 'Tr-no_1558.jpg', 'Tr-no_0760.jpg', 'Tr-no_1243.jpg', 'Tr-no_0863.jpg', 'Tr-no_0191.jpg', 'Tr-no_0469.jpg', 'Tr-no_0781.jpg', 'Tr-no_1471.jpg', 'Tr-no_0309.jpg', 'Tr-no_0299.jpg', 'Tr-no_0149.jpg', 'Tr-no_1019.jpg', 'Tr-no_0068.jpg', 'Tr-no_0177.jpg', 'Tr-no_0746.jpg', 'Tr-no_0767.jpg', 'Tr-no_1462.jpg', 'Tr-no_0537.jpg', 'Tr-no_0794.jpg', 'Tr-no_0899.jpg', 'Tr-no_1109.jpg', 'Tr-no_0176.jpg', 'Tr-no_0857.jpg', 'Tr-no_0345.jpg', 'Tr-no_0553.jpg', 'Tr-no_1173.jpg', 'Tr-no_0015.jpg', 'Tr-no_0692.jpg', 'Tr-no_0534.jpg', 'Tr-no_0012.jpg', 'Tr-no_0889.jpg', 'Tr-noTr_0004.jpg', 'Tr-no_0778.jpg', 'Tr-no_1196.jpg', 'Tr-no_1123.jpg', 'Tr-no_0687.jpg', 'Tr-no_1102.jpg', 'Tr-no_1568.jpg', 'Tr-no_1555.jpg', 'Tr-no_0166.jpg', 'Tr-no_0967.jpg', 'Tr-no_0271.jpg', 'Tr-no_0660.jpg', 'Tr-no_1353.jpg', 'Tr-no_1048.jpg', 'Tr-no_0175.jpg', 'Tr-no_1443.jpg', 'Tr-no_0330.jpg', 'Tr-no_0125.jpg', 'Tr-no_0243.jpg', 'Tr-no_0525.jpg', 'Tr-no_0331.jpg', 'Tr-no_1434.jpg', 'Tr-no_0791.jpg', 'Tr-no_0500.jpg', 'Tr-no_0559.jpg', 'Tr-no_1043.jpg', 'Tr-no_0019.jpg', 'Tr-no_0492.jpg', 'Tr-no_0935.jpg', 'Tr-no_0814.jpg', 'Tr-no_1158.jpg', 'Tr-no_0524.jpg', 'Tr-no_1302.jpg', 'Tr-no_0593.jpg', 'Tr-no_0192.jpg', 'Tr-no_0221.jpg', 'Tr-no_0305.jpg', 'Tr-no_1506.jpg', 'Tr-no_1216.jpg', 'Tr-no_0382.jpg', 'Tr-no_0097.jpg', 'Tr-no_0037.jpg', 'Tr-no_0907.jpg', 'Tr-no_0610.jpg', 'Tr-no_0165.jpg', 'Tr-no_1181.jpg', 'Tr-no_1185.jpg', 'Tr-no_0455.jpg', 'Tr-no_1532.jpg', 'Tr-no_1582.jpg', 'Tr-no_0154.jpg', 'Tr-no_0095.jpg', 'Tr-no_0282.jpg', 'Tr-no_0719.jpg', 'Tr-no_1153.jpg', 'Tr-no_0462.jpg', 'Tr-no_0024.jpg', 'Tr-no_0399.jpg', 'Tr-no_0985.jpg', 'Tr-no_0884.jpg', 'Tr-no_0060.jpg', 'Tr-no_1351.jpg', 'Tr-no_0356.jpg', 'Tr-no_0341.jpg', 'Tr-no_0541.jpg', 'Tr-no_0043.jpg', 'Tr-no_0390.jpg', 'Tr-no_0494.jpg', 'Tr-no_0918.jpg', 'Tr-no_1541.jpg', 'Tr-no_1247.jpg', 'Tr-no_1170.jpg', 'Tr-no_0903.jpg', 'Tr-no_0477.jpg', 'Tr-no_0615.jpg', 'Tr-no_1159.jpg', 'Tr-no_0453.jpg', 'Tr-no_0376.jpg', 'Tr-no_1414.jpg', 'Tr-no_0022.jpg', 'Tr-no_0846.jpg', 'Tr-no_0134.jpg', 'Tr-no_0665.jpg', 'Tr-no_1424.jpg', 'Tr-no_0293.jpg', 'Tr-no_0960.jpg', 'Tr-no_1295.jpg', 'Tr-no_0031.jpg', 'Tr-no_1572.jpg', 'Tr-no_0655.jpg', 'Tr-no_1112.jpg', 'Tr-no_0239.jpg', 'Tr-no_0374.jpg', 'Tr-no_1084.jpg', 'Tr-no_1412.jpg', 'Tr-no_1258.jpg', 'Tr-no_1237.jpg', 'Tr-no_0740.jpg', 'Tr-no_0281.jpg', 'Tr-no_0939.jpg', 'Tr-no_0092.jpg', 'Tr-no_0661.jpg', 'Tr-no_0789.jpg', 'Tr-no_0679.jpg', 'Tr-no_0596.jpg', 'Tr-no_0576.jpg', 'Tr-no_1339.jpg', 'Tr-no_1255.jpg', 'Tr-no_1531.jpg', 'Tr-no_0042.jpg', 'Tr-no_1545.jpg', 'Tr-no_0190.jpg', 'Tr-no_1512.jpg', 'Tr-no_0819.jpg', 'Tr-no_1407.jpg', 'Tr-no_0440.jpg', 'Tr-no_0710.jpg', 'Tr-no_0034.jpg', 'Tr-no_0590.jpg', 'Tr-no_0415.jpg', 'Tr-no_1074.jpg', 'Tr-no_1354.jpg', 'Tr-no_0989.jpg', 'Tr-no_1031.jpg', 'Tr-no_0718.jpg', 'Tr-no_1263.jpg', 'Tr-no_1007.jpg', 'Tr-no_0587.jpg', 'Tr-no_1275.jpg', 'Tr-no_1078.jpg', 'Tr-no_0301.jpg', 'Tr-no_1454.jpg', 'Tr-no_0460.jpg', 'Tr-no_0890.jpg', 'Tr-no_0220.jpg', 'Tr-no_0804.jpg', 'Tr-no_0346.jpg', 'Tr-no_0774.jpg', 'Tr-no_1106.jpg', 'Tr-no_0888.jpg', 'Tr-no_0350.jpg', 'Tr-noTr_0002.jpg', 'Tr-no_1384.jpg', 'Tr-no_1591.jpg', 'Tr-no_1236.jpg', 'Tr-no_0807.jpg', 'Tr-no_1509.jpg', 'Tr-no_0233.jpg', 'Tr-no_0381.jpg', 'Tr-no_1092.jpg', 'Tr-no_0916.jpg', 'Tr-no_0179.jpg', 'Tr-no_0704.jpg', 'Tr-no_0065.jpg', 'Tr-no_0074.jpg', 'Tr-no_1251.jpg', 'Tr-no_0539.jpg', 'Tr-no_1453.jpg', 'Tr-no_0152.jpg', 'Tr-no_0976.jpg', 'Tr-no_1540.jpg', 'Tr-no_0372.jpg', 'Tr-no_1494.jpg', 'Tr-no_0738.jpg', 'Tr-no_0076.jpg', 'Tr-no_0128.jpg', 'Tr-no_1446.jpg', 'Tr-no_1367.jpg', 'Tr-no_0844.jpg', 'Tr-no_1003.jpg', 'Tr-no_0586.jpg', 'Tr-no_0929.jpg', 'Tr-no_0202.jpg', 'Tr-no_0901.jpg', 'Tr-no_0387.jpg', 'Tr-no_0897.jpg', 'Tr-no_0457.jpg', 'Tr-no_0614.jpg', 'Tr-no_1530.jpg', 'Tr-no_1359.jpg', 'Tr-no_0228.jpg', 'Tr-no_0327.jpg', 'Tr-no_0866.jpg', 'Tr-no_0059.jpg', 'Tr-no_0766.jpg', 'Tr-no_1346.jpg', 'Tr-no_1164.jpg', 'Tr-no_0256.jpg', 'Tr-no_1193.jpg', 'Tr-no_0597.jpg', 'Tr-no_1058.jpg', 'Tr-no_1004.jpg', 'Tr-no_1338.jpg', 'Tr-no_0717.jpg', 'Tr-no_1323.jpg', 'Tr-no_1336.jpg', 'Tr-no_1402.jpg', 'Tr-no_0047.jpg', 'Tr-no_1363.jpg', 'Tr-no_0432.jpg', 'Tr-no_1484.jpg', 'Tr-no_1224.jpg', 'Tr-no_1520.jpg', 'Tr-no_0667.jpg', 'Tr-no_1075.jpg', 'Tr-no_0848.jpg', 'Tr-no_1233.jpg', 'Tr-no_0644.jpg', 'Tr-no_1076.jpg', 'Tr-no_0617.jpg', 'Tr-no_0180.jpg', 'Tr-no_1291.jpg', 'Tr-no_0971.jpg', 'Tr-no_0941.jpg', 'Tr-no_1375.jpg', 'Tr-no_0481.jpg', 'Tr-noTr_0006.jpg', 'Tr-no_0711.jpg', 'Tr-no_1293.jpg', 'Tr-no_0912.jpg', 'Tr-no_0670.jpg', 'Tr-no_0768.jpg', 'Tr-no_1392.jpg', 'Tr-no_0503.jpg', 'Tr-no_0286.jpg', 'Tr-no_0511.jpg', 'Tr-no_0417.jpg', 'Tr-no_0812.jpg', 'Tr-no_1040.jpg', 'Tr-no_0416.jpg', 'Tr-no_1273.jpg', 'Tr-no_0830.jpg', 'Tr-no_1235.jpg', 'Tr-no_1020.jpg', 'Tr-no_0981.jpg', 'Tr-no_0479.jpg', 'Tr-no_0495.jpg', 'Tr-no_0961.jpg', 'Tr-no_1406.jpg', 'Tr-no_0188.jpg', 'Tr-no_1208.jpg', 'Tr-no_0915.jpg', 'Tr-no_0856.jpg', 'Tr-no_0429.jpg', 'Tr-no_1326.jpg', 'Tr-no_0312.jpg', 'Tr-no_1399.jpg', 'Tr-no_0580.jpg', 'Tr-no_0782.jpg', 'Tr-no_1465.jpg', 'Tr-no_0765.jpg', 'Tr-no_0497.jpg', 'Tr-no_0683.jpg', 'Tr-no_0119.jpg', 'Tr-no_0757.jpg', 'Tr-no_0158.jpg', 'Tr-no_0135.jpg', 'Tr-no_1033.jpg', 'Tr-no_1018.jpg', 'Tr-no_0296.jpg', 'Tr-no_1174.jpg', 'Tr-no_1049.jpg', 'Tr-no_0324.jpg', 'Tr-no_0516.jpg', 'Tr-no_1332.jpg', 'Tr-no_1057.jpg', 'Tr-no_0136.jpg', 'Tr-no_0588.jpg', 'Tr-no_1038.jpg', 'Tr-no_0978.jpg', 'Tr-no_1556.jpg', 'Tr-no_1205.jpg', 'Tr-no_0633.jpg', 'Tr-no_0502.jpg', 'Tr-no_1376.jpg', 'Tr-no_1085.jpg', 'Tr-no_0373.jpg', 'Tr-no_0729.jpg', 'Tr-no_1427.jpg', 'Tr-no_1317.jpg', 'Tr-no_0919.jpg', 'Tr-no_0881.jpg', 'Tr-no_0733.jpg', 'Tr-no_1199.jpg', 'Tr-no_0284.jpg', 'Tr-no_1277.jpg', 'Tr-no_0560.jpg', 'Tr-no_0722.jpg', 'Tr-no_0245.jpg', 'Tr-no_0210.jpg', 'Tr-no_0412.jpg', 'Tr-no_1386.jpg', 'Tr-no_1476.jpg', 'Tr-no_0538.jpg', 'Tr-no_0254.jpg', 'Tr-no_0061.jpg', 'Tr-no_0988.jpg', 'Tr-no_1308.jpg', 'Tr-no_1577.jpg', 'Tr-no_0051.jpg', 'Tr-no_0968.jpg', 'Tr-no_0636.jpg', 'Tr-no_1517.jpg', 'Tr-no_0748.jpg', 'Tr-no_0547.jpg', 'Tr-no_0973.jpg', 'Tr-no_0368.jpg', 'Tr-no_0400.jpg', 'Tr-no_0252.jpg', 'Tr-no_0742.jpg', 'Tr-no_0629.jpg', 'Tr-no_1073.jpg', 'Tr-no_0145.jpg', 'Tr-no_1145.jpg', 'Tr-no_1094.jpg', 'Tr-no_1440.jpg', 'Tr-no_1575.jpg', 'Tr-no_1026.jpg', 'Tr-no_1062.jpg', 'Tr-no_0906.jpg', 'Tr-no_0530.jpg', 'Tr-no_0608.jpg', 'Tr-no_0581.jpg', 'Tr-no_1005.jpg', 'Tr-no_1379.jpg', 'Tr-no_0105.jpg', 'Tr-no_0153.jpg', 'Tr-no_1570.jpg', 'Tr-no_0706.jpg', 'Tr-no_0896.jpg', 'Tr-no_1211.jpg', 'Tr-no_1044.jpg', 'Tr-no_1527.jpg', 'Tr-no_1134.jpg', 'Tr-no_1534.jpg', 'Tr-no_0150.jpg', 'Tr-no_1259.jpg', 'Tr-no_0482.jpg', 'Tr-no_1408.jpg', 'Tr-no_1487.jpg', 'Tr-no_1184.jpg', 'Tr-no_0771.jpg', 'Tr-no_0260.jpg', 'Tr-no_1050.jpg', 'Tr-no_0826.jpg', 'Tr-no_1491.jpg', 'Tr-no_0892.jpg', 'Tr-no_0512.jpg', 'Tr-no_1056.jpg', 'Tr-no_1290.jpg', 'Tr-no_1438.jpg', 'Tr-no_0121.jpg', 'Tr-no_0472.jpg', 'Tr-no_1228.jpg', 'Tr-no_0328.jpg']\n",
            "\n",
            "📁 Folder: /content/dataset/Training/pituitary\n",
            "📂 Subfolders: []\n",
            "🖼️ Files: ['Tr-pi_1298.jpg', 'Tr-pi_1427.jpg', 'Tr-pi_0379.jpg', 'Tr-pi_0616.jpg', 'Tr-pi_0784.jpg', 'Tr-pi_1029.jpg', 'Tr-pi_1209.jpg', 'Tr-pi_1303.jpg', 'Tr-pi_0153.jpg', 'Tr-pi_1343.jpg', 'Tr-pi_0613.jpg', 'Tr-pi_0078.jpg', 'Tr-pi_0505.jpg', 'Tr-pi_0409.jpg', 'Tr-pi_0971.jpg', 'Tr-pi_0783.jpg', 'Tr-pi_1195.jpg', 'Tr-pi_0793.jpg', 'Tr-pi_0085.jpg', 'Tr-pi_0399.jpg', 'Tr-pi_1228.jpg', 'Tr-pi_1000.jpg', 'Tr-pi_0348.jpg', 'Tr-pi_0809.jpg', 'Tr-pi_0044.jpg', 'Tr-pi_0099.jpg', 'Tr-pi_0899.jpg', 'Tr-pi_1018.jpg', 'Tr-pi_1108.jpg', 'Tr-pi_1243.jpg', 'Tr-pi_0994.jpg', 'Tr-pi_1155.jpg', 'Tr-pi_1073.jpg', 'Tr-pi_0386.jpg', 'Tr-pi_0317.jpg', 'Tr-pi_0963.jpg', 'Tr-pi_0480.jpg', 'Tr-pi_1332.jpg', 'Tr-pi_0189.jpg', 'Tr-pi_1428.jpg', 'Tr-pi_0152.jpg', 'Tr-pi_0548.jpg', 'Tr-pi_0260.jpg', 'Tr-pi_1360.jpg', 'Tr-pi_1392.jpg', 'Tr-pi_1355.jpg', 'Tr-pi_0782.jpg', 'Tr-pi_0845.jpg', 'Tr-pi_0434.jpg', 'Tr-pi_0920.jpg', 'Tr-pi_0640.jpg', 'Tr-pi_1230.jpg', 'Tr-pi_0264.jpg', 'Tr-pi_0090.jpg', 'Tr-pi_0896.jpg', 'Tr-pi_1168.jpg', 'Tr-pi_0512.jpg', 'Tr-pi_0982.jpg', 'Tr-pi_1211.jpg', 'Tr-pi_0836.jpg', 'Tr-pi_1346.jpg', 'Tr-pi_0334.jpg', 'Tr-pi_1276.jpg', 'Tr-pi_0440.jpg', 'Tr-pi_0313.jpg', 'Tr-pi_0123.jpg', 'Tr-pi_1170.jpg', 'Tr-pi_1252.jpg', 'Tr-pi_0481.jpg', 'Tr-pi_0587.jpg', 'Tr-pi_0672.jpg', 'Tr-pi_1235.jpg', 'Tr-pi_1122.jpg', 'Tr-pi_0637.jpg', 'Tr-pi_0673.jpg', 'Tr-piTr_0000.jpg', 'Tr-pi_1115.jpg', 'Tr-pi_0828.jpg', 'Tr-pi_1107.jpg', 'Tr-pi_0856.jpg', 'Tr-pi_0465.jpg', 'Tr-pi_0046.jpg', 'Tr-pi_0723.jpg', 'Tr-pi_1033.jpg', 'Tr-pi_0217.jpg', 'Tr-pi_1114.jpg', 'Tr-pi_1322.jpg', 'Tr-pi_0658.jpg', 'Tr-pi_0363.jpg', 'Tr-pi_1047.jpg', 'Tr-pi_1020.jpg', 'Tr-pi_1245.jpg', 'Tr-pi_0269.jpg', 'Tr-pi_0838.jpg', 'Tr-pi_0653.jpg', 'Tr-pi_0381.jpg', 'Tr-pi_0290.jpg', 'Tr-pi_1218.jpg', 'Tr-pi_1069.jpg', 'Tr-pi_0612.jpg', 'Tr-pi_0312.jpg', 'Tr-pi_0105.jpg', 'Tr-pi_0725.jpg', 'Tr-pi_0714.jpg', 'Tr-pi_1279.jpg', 'Tr-pi_0214.jpg', 'Tr-pi_1176.jpg', 'Tr-pi_0298.jpg', 'Tr-pi_1419.jpg', 'Tr-pi_1159.jpg', 'Tr-pi_0646.jpg', 'Tr-pi_0230.jpg', 'Tr-pi_0456.jpg', 'Tr-pi_1222.jpg', 'Tr-pi_0077.jpg', 'Tr-pi_0608.jpg', 'Tr-pi_0175.jpg', 'Tr-pi_0967.jpg', 'Tr-pi_0372.jpg', 'Tr-pi_0818.jpg', 'Tr-pi_0095.jpg', 'Tr-pi_1444.jpg', 'Tr-pi_1210.jpg', 'Tr-pi_0080.jpg', 'Tr-piTr_0001.jpg', 'Tr-pi_1223.jpg', 'Tr-pi_0989.jpg', 'Tr-pi_1288.jpg', 'Tr-pi_0115.jpg', 'Tr-pi_0272.jpg', 'Tr-pi_1226.jpg', 'Tr-pi_1257.jpg', 'Tr-pi_1265.jpg', 'Tr-pi_0169.jpg', 'Tr-pi_1127.jpg', 'Tr-pi_0088.jpg', 'Tr-pi_1290.jpg', 'Tr-pi_0931.jpg', 'Tr-pi_0403.jpg', 'Tr-pi_0248.jpg', 'Tr-pi_0200.jpg', 'Tr-pi_0418.jpg', 'Tr-pi_0500.jpg', 'Tr-pi_0854.jpg', 'Tr-pi_0868.jpg', 'Tr-pi_0965.jpg', 'Tr-pi_1381.jpg', 'Tr-pi_1090.jpg', 'Tr-pi_0596.jpg', 'Tr-pi_0693.jpg', 'Tr-pi_0614.jpg', 'Tr-pi_0894.jpg', 'Tr-pi_1038.jpg', 'Tr-pi_0645.jpg', 'Tr-pi_1154.jpg', 'Tr-pi_0299.jpg', 'Tr-pi_1386.jpg', 'Tr-pi_0292.jpg', 'Tr-pi_0416.jpg', 'Tr-pi_1171.jpg', 'Tr-pi_1420.jpg', 'Tr-pi_1333.jpg', 'Tr-pi_0768.jpg', 'Tr-pi_1387.jpg', 'Tr-pi_0371.jpg', 'Tr-pi_0194.jpg', 'Tr-pi_0556.jpg', 'Tr-pi_0220.jpg', 'Tr-pi_0960.jpg', 'Tr-pi_1405.jpg', 'Tr-pi_0968.jpg', 'Tr-pi_0407.jpg', 'Tr-pi_0977.jpg', 'Tr-pi_1052.jpg', 'Tr-pi_1304.jpg', 'Tr-pi_0275.jpg', 'Tr-pi_0288.jpg', 'Tr-piTr_0004.jpg', 'Tr-pi_1278.jpg', 'Tr-pi_1025.jpg', 'Tr-pi_0335.jpg', 'Tr-pi_1439.jpg', 'Tr-pi_0863.jpg', 'Tr-pi_1240.jpg', 'Tr-pi_0141.jpg', 'Tr-pi_1079.jpg', 'Tr-pi_0122.jpg', 'Tr-pi_0378.jpg', 'Tr-pi_0833.jpg', 'Tr-pi_1175.jpg', 'Tr-pi_0218.jpg', 'Tr-pi_0671.jpg', 'Tr-pi_0022.jpg', 'Tr-pi_0985.jpg', 'Tr-pi_0911.jpg', 'Tr-pi_0528.jpg', 'Tr-pi_1149.jpg', 'Tr-pi_0400.jpg', 'Tr-pi_0278.jpg', 'Tr-pi_1100.jpg', 'Tr-pi_0423.jpg', 'Tr-pi_1342.jpg', 'Tr-pi_0732.jpg', 'Tr-pi_1062.jpg', 'Tr-pi_0391.jpg', 'Tr-pi_0654.jpg', 'Tr-pi_0173.jpg', 'Tr-pi_0376.jpg', 'Tr-pi_0483.jpg', 'Tr-pi_0642.jpg', 'Tr-pi_1106.jpg', 'Tr-pi_1145.jpg', 'Tr-pi_1205.jpg', 'Tr-pi_1040.jpg', 'Tr-pi_0791.jpg', 'Tr-pi_1309.jpg', 'Tr-pi_1138.jpg', 'Tr-pi_0893.jpg', 'Tr-pi_0177.jpg', 'Tr-pi_1208.jpg', 'Tr-pi_0525.jpg', 'Tr-pi_0916.jpg', 'Tr-pi_1312.jpg', 'Tr-pi_0798.jpg', 'Tr-pi_0498.jpg', 'Tr-pi_0912.jpg', 'Tr-pi_1104.jpg', 'Tr-pi_0263.jpg', 'Tr-pi_0694.jpg', 'Tr-pi_0093.jpg', 'Tr-pi_0804.jpg', 'Tr-pi_1158.jpg', 'Tr-pi_0517.jpg', 'Tr-pi_0951.jpg', 'Tr-pi_0353.jpg', 'Tr-pi_1361.jpg', 'Tr-pi_0734.jpg', 'Tr-pi_0684.jpg', 'Tr-pi_0396.jpg', 'Tr-pi_0958.jpg', 'Tr-pi_1014.jpg', 'Tr-pi_0602.jpg', 'Tr-pi_0564.jpg', 'Tr-pi_1192.jpg', 'Tr-pi_1383.jpg', 'Tr-pi_0460.jpg', 'Tr-pi_1011.jpg', 'Tr-pi_0452.jpg', 'Tr-pi_0198.jpg', 'Tr-pi_1454.jpg', 'Tr-pi_0906.jpg', 'Tr-pi_0638.jpg', 'Tr-pi_0932.jpg', 'Tr-pi_0034.jpg', 'Tr-pi_0162.jpg', 'Tr-pi_0417.jpg', 'Tr-pi_1317.jpg', 'Tr-pi_0568.jpg', 'Tr-pi_1391.jpg', 'Tr-pi_0991.jpg', 'Tr-pi_0848.jpg', 'Tr-pi_1027.jpg', 'Tr-pi_0923.jpg', 'Tr-pi_0873.jpg', 'Tr-pi_0431.jpg', 'Tr-pi_1206.jpg', 'Tr-pi_0412.jpg', 'Tr-pi_0946.jpg', 'Tr-pi_0843.jpg', 'Tr-pi_0851.jpg', 'Tr-pi_1402.jpg', 'Tr-pi_0799.jpg', 'Tr-pi_0029.jpg', 'Tr-pi_0900.jpg', 'Tr-pi_0448.jpg', 'Tr-pi_1300.jpg', 'Tr-pi_0980.jpg', 'Tr-pi_1214.jpg', 'Tr-pi_0947.jpg', 'Tr-pi_1297.jpg', 'Tr-pi_0470.jpg', 'Tr-pi_0570.jpg', 'Tr-pi_1077.jpg', 'Tr-pi_0331.jpg', 'Tr-pi_0297.jpg', 'Tr-pi_0795.jpg', 'Tr-pi_0437.jpg', 'Tr-pi_1449.jpg', 'Tr-pi_0285.jpg', 'Tr-pi_1244.jpg', 'Tr-pi_0026.jpg', 'Tr-pi_0825.jpg', 'Tr-pi_0618.jpg', 'Tr-pi_1236.jpg', 'Tr-pi_0487.jpg', 'Tr-pi_0668.jpg', 'Tr-pi_1184.jpg', 'Tr-pi_1183.jpg', 'Tr-pi_0076.jpg', 'Tr-pi_0746.jpg', 'Tr-pi_0355.jpg', 'Tr-pi_1204.jpg', 'Tr-pi_1017.jpg', 'Tr-pi_0344.jpg', 'Tr-pi_0446.jpg', 'Tr-pi_0519.jpg', 'Tr-pi_1417.jpg', 'Tr-pi_1057.jpg', 'Tr-pi_0183.jpg', 'Tr-pi_0098.jpg', 'Tr-pi_1371.jpg', 'Tr-pi_0242.jpg', 'Tr-pi_0878.jpg', 'Tr-pi_0760.jpg', 'Tr-pi_0110.jpg', 'Tr-pi_1413.jpg', 'Tr-pi_1082.jpg', 'Tr-pi_0562.jpg', 'Tr-pi_0571.jpg', 'Tr-pi_0744.jpg', 'Tr-pi_1347.jpg', 'Tr-pi_1242.jpg', 'Tr-pi_0332.jpg', 'Tr-pi_0702.jpg', 'Tr-pi_0180.jpg', 'Tr-pi_1233.jpg', 'Tr-pi_1411.jpg', 'Tr-pi_0626.jpg', 'Tr-pi_0992.jpg', 'Tr-pi_0134.jpg', 'Tr-pi_0870.jpg', 'Tr-pi_0769.jpg', 'Tr-pi_0253.jpg', 'Tr-pi_0495.jpg', 'Tr-pi_1198.jpg', 'Tr-pi_0936.jpg', 'Tr-pi_1157.jpg', 'Tr-pi_1094.jpg', 'Tr-pi_1238.jpg', 'Tr-pi_0111.jpg', 'Tr-pi_0703.jpg', 'Tr-pi_0039.jpg', 'Tr-pi_1374.jpg', 'Tr-pi_0531.jpg', 'Tr-pi_0062.jpg', 'Tr-pi_0891.jpg', 'Tr-pi_0755.jpg', 'Tr-pi_0550.jpg', 'Tr-pi_0622.jpg', 'Tr-pi_0731.jpg', 'Tr-pi_1019.jpg', 'Tr-pi_0385.jpg', 'Tr-pi_0119.jpg', 'Tr-pi_0847.jpg', 'Tr-pi_0365.jpg', 'Tr-pi_1007.jpg', 'Tr-pi_0553.jpg', 'Tr-pi_0258.jpg', 'Tr-pi_1292.jpg', 'Tr-pi_0516.jpg', 'Tr-pi_1354.jpg', 'Tr-pi_0918.jpg', 'Tr-pi_0428.jpg', 'Tr-pi_0461.jpg', 'Tr-pi_0247.jpg', 'Tr-pi_0466.jpg', 'Tr-pi_0691.jpg', 'Tr-pi_0837.jpg', 'Tr-pi_1076.jpg', 'Tr-pi_1189.jpg', 'Tr-pi_1295.jpg', 'Tr-pi_0819.jpg', 'Tr-pi_0380.jpg', 'Tr-pi_0089.jpg', 'Tr-pi_1003.jpg', 'Tr-pi_0913.jpg', 'Tr-pi_1241.jpg', 'Tr-pi_0581.jpg', 'Tr-pi_0620.jpg', 'Tr-pi_0188.jpg', 'Tr-pi_0494.jpg', 'Tr-pi_0552.jpg', 'Tr-pi_0999.jpg', 'Tr-pi_0827.jpg', 'Tr-pi_0054.jpg', 'Tr-pi_0145.jpg', 'Tr-pi_0669.jpg', 'Tr-pi_0219.jpg', 'Tr-pi_0624.jpg', 'Tr-pi_1006.jpg', 'Tr-pi_0493.jpg', 'Tr-pi_0695.jpg', 'Tr-pi_1264.jpg', 'Tr-pi_0438.jpg', 'Tr-pi_0722.jpg', 'Tr-pi_0406.jpg', 'Tr-pi_1440.jpg', 'Tr-pi_1438.jpg', 'Tr-pi_1151.jpg', 'Tr-pi_0051.jpg', 'Tr-pi_0830.jpg', 'Tr-pi_1220.jpg', 'Tr-pi_1325.jpg', 'Tr-pi_0206.jpg', 'Tr-pi_1044.jpg', 'Tr-pi_1246.jpg', 'Tr-pi_1250.jpg', 'Tr-pi_0454.jpg', 'Tr-pi_0520.jpg', 'Tr-pi_1091.jpg', 'Tr-pi_0049.jpg', 'Tr-pi_1327.jpg', 'Tr-pi_1341.jpg', 'Tr-pi_0323.jpg', 'Tr-pi_1002.jpg', 'Tr-pi_0147.jpg', 'Tr-pi_0067.jpg', 'Tr-pi_0168.jpg', 'Tr-pi_1384.jpg', 'Tr-pi_1140.jpg', 'Tr-pi_0273.jpg', 'Tr-pi_1194.jpg', 'Tr-pi_0841.jpg', 'Tr-pi_0322.jpg', 'Tr-pi_1364.jpg', 'Tr-pi_0576.jpg', 'Tr-pi_0069.jpg', 'Tr-pi_0424.jpg', 'Tr-pi_0410.jpg', 'Tr-pi_1308.jpg', 'Tr-pi_0354.jpg', 'Tr-pi_1234.jpg', 'Tr-pi_0998.jpg', 'Tr-pi_0236.jpg', 'Tr-pi_0084.jpg', 'Tr-pi_1054.jpg', 'Tr-pi_0735.jpg', 'Tr-pi_0373.jpg', 'Tr-pi_0651.jpg', 'Tr-pi_0609.jpg', 'Tr-pi_0874.jpg', 'Tr-pi_0377.jpg', 'Tr-pi_1046.jpg', 'Tr-pi_1396.jpg', 'Tr-pi_0309.jpg', 'Tr-pi_0165.jpg', 'Tr-pi_0176.jpg', 'Tr-pi_0223.jpg', 'Tr-pi_0708.jpg', 'Tr-pi_1377.jpg', 'Tr-pi_0346.jpg', 'Tr-pi_1393.jpg', 'Tr-pi_0710.jpg', 'Tr-pi_0179.jpg', 'Tr-pi_0326.jpg', 'Tr-pi_0772.jpg', 'Tr-pi_0682.jpg', 'Tr-pi_1148.jpg', 'Tr-pi_0983.jpg', 'Tr-pi_1203.jpg', 'Tr-pi_1016.jpg', 'Tr-pi_0420.jpg', 'Tr-pi_0599.jpg', 'Tr-pi_1215.jpg', 'Tr-pi_0427.jpg', 'Tr-pi_0973.jpg', 'Tr-pi_0282.jpg', 'Tr-pi_0942.jpg', 'Tr-pi_0683.jpg', 'Tr-pi_0888.jpg', 'Tr-pi_0148.jpg', 'Tr-pi_0488.jpg', 'Tr-pi_0867.jpg', 'Tr-pi_0117.jpg', 'Tr-pi_0124.jpg', 'Tr-pi_0254.jpg', 'Tr-pi_1412.jpg', 'Tr-pi_0986.jpg', 'Tr-pi_0910.jpg', 'Tr-pi_1451.jpg', 'Tr-pi_1099.jpg', 'Tr-pi_1321.jpg', 'Tr-pi_1164.jpg', 'Tr-pi_1441.jpg', 'Tr-pi_0933.jpg', 'Tr-pi_1182.jpg', 'Tr-pi_0103.jpg', 'Tr-pi_0527.jpg', 'Tr-pi_1365.jpg', 'Tr-pi_0369.jpg', 'Tr-pi_0167.jpg', 'Tr-pi_0817.jpg', 'Tr-pi_0056.jpg', 'Tr-pi_0221.jpg', 'Tr-pi_0139.jpg', 'Tr-pi_0781.jpg', 'Tr-pi_1443.jpg', 'Tr-pi_1180.jpg', 'Tr-pi_0532.jpg', 'Tr-pi_0831.jpg', 'Tr-pi_1200.jpg', 'Tr-pi_1034.jpg', 'Tr-pi_0490.jpg', 'Tr-pi_1117.jpg', 'Tr-pi_1437.jpg', 'Tr-pi_0327.jpg', 'Tr-pi_0727.jpg', 'Tr-pi_1318.jpg', 'Tr-pi_0502.jpg', 'Tr-pi_1385.jpg', 'Tr-pi_0557.jpg', 'Tr-pi_1083.jpg', 'Tr-pi_0405.jpg', 'Tr-pi_1116.jpg', 'Tr-pi_1249.jpg', 'Tr-pi_1272.jpg', 'Tr-pi_0279.jpg', 'Tr-pi_0826.jpg', 'Tr-pi_0265.jpg', 'Tr-pi_1446.jpg', 'Tr-pi_0419.jpg', 'Tr-pi_0546.jpg', 'Tr-pi_0497.jpg', 'Tr-pi_1125.jpg', 'Tr-piTr_0003.jpg', 'Tr-pi_0633.jpg', 'Tr-pi_0757.jpg', 'Tr-pi_0064.jpg', 'Tr-pi_0450.jpg', 'Tr-pi_0928.jpg', 'Tr-pi_0430.jpg', 'Tr-pi_0161.jpg', 'Tr-pi_0411.jpg', 'Tr-pi_0375.jpg', 'Tr-pi_0929.jpg', 'Tr-pi_0109.jpg', 'Tr-pi_0859.jpg', 'Tr-pi_0482.jpg', 'Tr-pi_0439.jpg', 'Tr-pi_0244.jpg', 'Tr-pi_0990.jpg', 'Tr-pi_1101.jpg', 'Tr-pi_0523.jpg', 'Tr-pi_1448.jpg', 'Tr-pi_0590.jpg', 'Tr-pi_1313.jpg', 'Tr-pi_0059.jpg', 'Tr-pi_1193.jpg', 'Tr-pi_0690.jpg', 'Tr-pi_1435.jpg', 'Tr-pi_0208.jpg', 'Tr-pi_1302.jpg', 'Tr-pi_0639.jpg', 'Tr-pi_1375.jpg', 'Tr-pi_0301.jpg', 'Tr-pi_1293.jpg', 'Tr-pi_0339.jpg', 'Tr-pi_0445.jpg', 'Tr-pi_0413.jpg', 'Tr-pi_1287.jpg', 'Tr-pi_1255.jpg', 'Tr-pi_0464.jpg', 'Tr-pi_1286.jpg', 'Tr-pi_1415.jpg', 'Tr-pi_0679.jpg', 'Tr-pi_1105.jpg', 'Tr-pi_0773.jpg', 'Tr-pi_0805.jpg', 'Tr-pi_0697.jpg', 'Tr-pi_0944.jpg', 'Tr-pi_0351.jpg', 'Tr-pi_0235.jpg', 'Tr-pi_0797.jpg', 'Tr-pi_0234.jpg', 'Tr-pi_0293.jpg', 'Tr-pi_0762.jpg', 'Tr-pi_0291.jpg', 'Tr-pi_1284.jpg', 'Tr-pi_1095.jpg', 'Tr-pi_0578.jpg', 'Tr-pi_0952.jpg', 'Tr-pi_0063.jpg', 'Tr-pi_1185.jpg', 'Tr-pi_1036.jpg', 'Tr-pi_0310.jpg', 'Tr-pi_0106.jpg', 'Tr-pi_0287.jpg', 'Tr-pi_0433.jpg', 'Tr-pi_0572.jpg', 'Tr-pi_1282.jpg', 'Tr-pi_0824.jpg', 'Tr-pi_0048.jpg', 'Tr-pi_1137.jpg', 'Tr-pi_1247.jpg', 'Tr-pi_0667.jpg', 'Tr-pi_1037.jpg', 'Tr-pi_0788.jpg', 'Tr-pi_1268.jpg', 'Tr-pi_0471.jpg', 'Tr-pi_0976.jpg', 'Tr-pi_0284.jpg', 'Tr-pi_0121.jpg', 'Tr-pi_0057.jpg', 'Tr-pi_0812.jpg', 'Tr-pi_0905.jpg', 'Tr-pi_0128.jpg', 'Tr-pi_0742.jpg', 'Tr-pi_0678.jpg', 'Tr-pi_0421.jpg', 'Tr-pi_0154.jpg', 'Tr-pi_0540.jpg', 'Tr-pi_1165.jpg', 'Tr-pi_0276.jpg', 'Tr-pi_0333.jpg', 'Tr-pi_0595.jpg', 'Tr-pi_1345.jpg', 'Tr-pi_0227.jpg', 'Tr-pi_0881.jpg', 'Tr-pi_0949.jpg', 'Tr-pi_0360.jpg', 'Tr-pi_1112.jpg', 'Tr-pi_0802.jpg', 'Tr-pi_0718.jpg', 'Tr-pi_1277.jpg', 'Tr-pi_0737.jpg', 'Tr-pi_1280.jpg', 'Tr-pi_1167.jpg', 'Tr-pi_0941.jpg', 'Tr-pi_0857.jpg', 'Tr-pi_0286.jpg', 'Tr-pi_0800.jpg', 'Tr-pi_0688.jpg', 'Tr-pi_0529.jpg', 'Tr-pi_1078.jpg', 'Tr-pi_1328.jpg', 'Tr-pi_0160.jpg', 'Tr-pi_0885.jpg', 'Tr-pi_1023.jpg', 'Tr-pi_1229.jpg', 'Tr-pi_0186.jpg', 'Tr-pi_0462.jpg', 'Tr-pi_1141.jpg', 'Tr-pi_0751.jpg', 'Tr-pi_0443.jpg', 'Tr-pi_0096.jpg', 'Tr-pi_1289.jpg', 'Tr-pi_1329.jpg', 'Tr-pi_1150.jpg', 'Tr-pi_0092.jpg', 'Tr-pi_0017.jpg', 'Tr-pi_0283.jpg', 'Tr-pi_0657.jpg', 'Tr-pi_0919.jpg', 'Tr-pi_1305.jpg', 'Tr-pi_1081.jpg', 'Tr-pi_1146.jpg', 'Tr-pi_1187.jpg', 'Tr-pi_1142.jpg', 'Tr-pi_1075.jpg', 'Tr-pi_1416.jpg', 'Tr-pi_0082.jpg', 'Tr-pi_0091.jpg', 'Tr-pi_0094.jpg', 'Tr-pi_1089.jpg', 'Tr-pi_1409.jpg', 'Tr-pi_1130.jpg', 'Tr-pi_0623.jpg', 'Tr-pi_1382.jpg', 'Tr-pi_0567.jpg', 'Tr-pi_0909.jpg', 'Tr-pi_0875.jpg', 'Tr-pi_0876.jpg', 'Tr-pi_0558.jpg', 'Tr-pi_0834.jpg', 'Tr-pi_0352.jpg', 'Tr-pi_0720.jpg', 'Tr-pi_0509.jpg', 'Tr-pi_1456.jpg', 'Tr-pi_0698.jpg', 'Tr-pi_0061.jpg', 'Tr-pi_1380.jpg', 'Tr-pi_0390.jpg', 'Tr-pi_1274.jpg', 'Tr-pi_0246.jpg', 'Tr-pi_1093.jpg', 'Tr-pi_0040.jpg', 'Tr-pi_1009.jpg', 'Tr-pi_1119.jpg', 'Tr-pi_1110.jpg', 'Tr-pi_1030.jpg', 'Tr-pi_0621.jpg', 'Tr-pi_0692.jpg', 'Tr-pi_0305.jpg', 'Tr-pi_0467.jpg', 'Tr-pi_0511.jpg', 'Tr-pi_0631.jpg', 'Tr-pi_0314.jpg', 'Tr-pi_0156.jpg', 'Tr-pi_0112.jpg', 'Tr-pi_0775.jpg', 'Tr-pi_0185.jpg', 'Tr-pi_0478.jpg', 'Tr-pi_1058.jpg', 'Tr-pi_0104.jpg', 'Tr-pi_0182.jpg', 'Tr-pi_0955.jpg', 'Tr-pi_0956.jpg', 'Tr-pi_1084.jpg', 'Tr-pi_0586.jpg', 'Tr-pi_1263.jpg', 'Tr-pi_0020.jpg', 'Tr-pi_0864.jpg', 'Tr-pi_0113.jpg', 'Tr-pi_0213.jpg', 'Tr-pi_1012.jpg', 'Tr-pi_0075.jpg', 'Tr-pi_0577.jpg', 'Tr-pi_0018.jpg', 'Tr-pi_0935.jpg', 'Tr-pi_0811.jpg', 'Tr-pi_0170.jpg', 'Tr-piTr_0006.jpg', 'Tr-pi_1358.jpg', 'Tr-piTr_0005.jpg', 'Tr-pi_1378.jpg', 'Tr-pi_0591.jpg', 'Tr-pi_1080.jpg', 'Tr-pi_0441.jpg', 'Tr-pi_0884.jpg', 'Tr-pi_0753.jpg', 'Tr-pi_0027.jpg', 'Tr-pi_0473.jpg', 'Tr-pi_1124.jpg', 'Tr-pi_1254.jpg', 'Tr-pi_0050.jpg', 'Tr-pi_0860.jpg', 'Tr-pi_1356.jpg', 'Tr-pi_0032.jpg', 'Tr-pi_1216.jpg', 'Tr-pi_0597.jpg', 'Tr-pi_0368.jpg', 'Tr-pi_0719.jpg', 'Tr-pi_0382.jpg', 'Tr-pi_1232.jpg', 'Tr-pi_0972.jpg', 'Tr-pi_0451.jpg', 'Tr-pi_1133.jpg', 'Tr-pi_0709.jpg', 'Tr-pi_0338.jpg', 'Tr-pi_0262.jpg', 'Tr-pi_0474.jpg', 'Tr-pi_1087.jpg', 'Tr-pi_1357.jpg', 'Tr-piTr_0002.jpg', 'Tr-pi_1004.jpg', 'Tr-pi_0699.jpg', 'Tr-pi_0087.jpg', 'Tr-pi_0055.jpg', 'Tr-pi_0045.jpg', 'Tr-pi_0350.jpg', 'Tr-pi_0588.jpg', 'Tr-pi_1330.jpg', 'Tr-pi_1010.jpg', 'Tr-pi_0796.jpg', 'Tr-pi_0114.jpg', 'Tr-pi_0711.jpg', 'Tr-pi_0524.jpg', 'Tr-pi_0459.jpg', 'Tr-pi_0362.jpg', 'Tr-pi_1172.jpg', 'Tr-pi_1320.jpg', 'Tr-pi_0940.jpg', 'Tr-pi_0585.jpg', 'Tr-pi_1197.jpg', 'Tr-pi_0052.jpg', 'Tr-pi_0174.jpg', 'Tr-pi_1136.jpg', 'Tr-pi_0143.jpg', 'Tr-pi_0661.jpg', 'Tr-pi_1045.jpg', 'Tr-pi_0457.jpg', 'Tr-pi_0065.jpg', 'Tr-pi_1221.jpg', 'Tr-pi_0606.jpg', 'Tr-pi_0508.jpg', 'Tr-pi_1132.jpg', 'Tr-pi_0565.jpg', 'Tr-pi_0780.jpg', 'Tr-pi_0649.jpg', 'Tr-pi_0425.jpg', 'Tr-pi_0969.jpg', 'Tr-pi_0832.jpg', 'Tr-pi_1294.jpg', 'Tr-pi_0738.jpg', 'Tr-pi_0289.jpg', 'Tr-pi_0808.jpg', 'Tr-pi_0172.jpg', 'Tr-pi_1307.jpg', 'Tr-pi_0561.jpg', 'Tr-pi_1048.jpg', 'Tr-pi_0630.jpg', 'Tr-pi_0662.jpg', 'Tr-pi_0981.jpg', 'Tr-pi_0534.jpg', 'Tr-pi_0764.jpg', 'Tr-pi_1134.jpg', 'Tr-pi_1331.jpg', 'Tr-pi_0927.jpg', 'Tr-pi_1088.jpg', 'Tr-pi_0892.jpg', 'Tr-pi_0634.jpg', 'Tr-pi_0485.jpg', 'Tr-pi_0196.jpg', 'Tr-pi_0306.jpg', 'Tr-pi_0712.jpg', 'Tr-pi_0184.jpg', 'Tr-pi_0696.jpg', 'Tr-pi_0752.jpg', 'Tr-pi_0042.jpg', 'Tr-pi_0575.jpg', 'Tr-pi_1426.jpg', 'Tr-pi_0749.jpg', 'Tr-pi_0345.jpg', 'Tr-pi_0388.jpg', 'Tr-pi_0877.jpg', 'Tr-pi_0763.jpg', 'Tr-pi_0961.jpg', 'Tr-pi_1225.jpg', 'Tr-pi_1248.jpg', 'Tr-pi_0239.jpg', 'Tr-pi_0721.jpg', 'Tr-pi_0387.jpg', 'Tr-pi_1447.jpg', 'Tr-pi_1436.jpg', 'Tr-pi_0901.jpg', 'Tr-pi_1253.jpg', 'Tr-pi_0544.jpg', 'Tr-pi_0600.jpg', 'Tr-pi_0882.jpg', 'Tr-pi_0210.jpg', 'Tr-pi_0687.jpg', 'Tr-pi_1422.jpg', 'Tr-pi_0619.jpg', 'Tr-pi_0397.jpg', 'Tr-pi_1063.jpg', 'Tr-pi_0996.jpg', 'Tr-pi_1260.jpg', 'Tr-pi_1186.jpg', 'Tr-pi_0701.jpg', 'Tr-pi_0389.jpg', 'Tr-pi_0140.jpg', 'Tr-pi_0890.jpg', 'Tr-pi_0821.jpg', 'Tr-pi_0518.jpg', 'Tr-pi_0728.jpg', 'Tr-pi_1344.jpg', 'Tr-pi_1269.jpg', 'Tr-pi_0252.jpg', 'Tr-pi_0159.jpg', 'Tr-pi_0449.jpg', 'Tr-pi_1022.jpg', 'Tr-pi_0187.jpg', 'Tr-pi_0324.jpg', 'Tr-pi_0822.jpg', 'Tr-pi_1397.jpg', 'Tr-pi_0677.jpg', 'Tr-pi_0741.jpg', 'Tr-pi_0774.jpg', 'Tr-pi_0908.jpg', 'Tr-pi_0582.jpg', 'Tr-pi_0395.jpg', 'Tr-pi_0347.jpg', 'Tr-pi_0358.jpg', 'Tr-pi_0303.jpg', 'Tr-pi_0853.jpg', 'Tr-pi_0492.jpg', 'Tr-pi_0632.jpg', 'Tr-pi_0790.jpg', 'Tr-pi_1359.jpg', 'Tr-pi_0081.jpg', 'Tr-pi_1334.jpg', 'Tr-pi_1423.jpg', 'Tr-pi_1217.jpg', 'Tr-pi_1372.jpg', 'Tr-pi_0164.jpg', 'Tr-pi_0030.jpg', 'Tr-pi_0740.jpg', 'Tr-pi_0300.jpg', 'Tr-pi_1190.jpg', 'Tr-pi_0060.jpg', 'Tr-pi_1035.jpg', 'Tr-pi_1291.jpg', 'Tr-pi_1262.jpg', 'Tr-pi_0212.jpg', 'Tr-pi_0392.jpg', 'Tr-pi_0904.jpg', 'Tr-pi_0559.jpg', 'Tr-pi_1296.jpg', 'Tr-pi_1335.jpg', 'Tr-pi_1068.jpg', 'Tr-pi_1042.jpg', 'Tr-pi_0370.jpg', 'Tr-pi_0953.jpg', 'Tr-pi_0865.jpg', 'Tr-pi_0858.jpg', 'Tr-pi_1395.jpg', 'Tr-pi_0926.jpg', 'Tr-pi_0580.jpg', 'Tr-pi_1026.jpg', 'Tr-pi_0995.jpg', 'Tr-pi_1056.jpg', 'Tr-pi_0945.jpg', 'Tr-pi_0402.jpg', 'Tr-pi_0617.jpg', 'Tr-pi_0560.jpg', 'Tr-pi_1366.jpg', 'Tr-pi_0383.jpg', 'Tr-pi_0329.jpg', 'Tr-pi_0579.jpg', 'Tr-pi_0151.jpg', 'Tr-pi_0988.jpg', 'Tr-pi_1431.jpg', 'Tr-pi_1113.jpg', 'Tr-pi_0583.jpg', 'Tr-pi_1445.jpg', 'Tr-pi_0304.jpg', 'Tr-pi_0181.jpg', 'Tr-pi_0507.jpg', 'Tr-pi_0116.jpg', 'Tr-pi_0922.jpg', 'Tr-pi_0855.jpg', 'Tr-pi_0861.jpg', 'Tr-pi_0401.jpg', 'Tr-pi_0997.jpg', 'Tr-pi_1139.jpg', 'Tr-pi_1340.jpg', 'Tr-pi_1161.jpg', 'Tr-pi_1266.jpg', 'Tr-pi_0897.jpg', 'Tr-pi_0158.jpg', 'Tr-pi_0023.jpg', 'Tr-pi_0743.jpg', 'Tr-pi_1410.jpg', 'Tr-pi_0472.jpg', 'Tr-pi_0686.jpg', 'Tr-pi_1128.jpg', 'Tr-pi_1401.jpg', 'Tr-pi_1118.jpg', 'Tr-pi_1049.jpg', 'Tr-pi_0750.jpg', 'Tr-pi_1031.jpg', 'Tr-pi_0555.jpg', 'Tr-pi_0993.jpg', 'Tr-pi_0203.jpg', 'Tr-pi_0157.jpg', 'Tr-pi_0569.jpg', 'Tr-pi_0914.jpg', 'Tr-pi_0384.jpg', 'Tr-piTr_0008.jpg', 'Tr-pi_1406.jpg', 'Tr-pi_1424.jpg', 'Tr-pi_0706.jpg', 'Tr-pi_1092.jpg', 'Tr-pi_1273.jpg', 'Tr-pi_0739.jpg', 'Tr-pi_1414.jpg', 'Tr-pi_0902.jpg', 'Tr-pi_1352.jpg', 'Tr-pi_0222.jpg', 'Tr-pi_0127.jpg', 'Tr-pi_1196.jpg', 'Tr-pi_1258.jpg', 'Tr-pi_0816.jpg', 'Tr-pi_0436.jpg', 'Tr-pi_0259.jpg', 'Tr-pi_0685.jpg', 'Tr-pi_0315.jpg', 'Tr-pi_1319.jpg', 'Tr-pi_0192.jpg', 'Tr-pi_0504.jpg', 'Tr-pi_0628.jpg', 'Tr-pi_0789.jpg', 'Tr-pi_0190.jpg', 'Tr-pi_0271.jpg', 'Tr-pi_1041.jpg', 'Tr-pi_0823.jpg', 'Tr-pi_1050.jpg', 'Tr-pi_0501.jpg', 'Tr-pi_0086.jpg', 'Tr-pi_0068.jpg', 'Tr-pi_0132.jpg', 'Tr-pi_1337.jpg', 'Tr-pi_0120.jpg', 'Tr-pi_0930.jpg', 'Tr-pi_1213.jpg', 'Tr-pi_0178.jpg', 'Tr-pi_0607.jpg', 'Tr-pi_0486.jpg', 'Tr-pi_0907.jpg', 'Tr-pi_0736.jpg', 'Tr-pi_0070.jpg', 'Tr-pi_0393.jpg', 'Tr-pi_0675.jpg', 'Tr-pi_1256.jpg', 'Tr-pi_0674.jpg', 'Tr-pi_0435.jpg', 'Tr-pi_0013.jpg', 'Tr-pi_0747.jpg', 'Tr-pi_0195.jpg', 'Tr-pi_0975.jpg', 'Tr-pi_0367.jpg', 'Tr-pi_0266.jpg', 'Tr-pi_1452.jpg', 'Tr-pi_0647.jpg', 'Tr-pi_0939.jpg', 'Tr-pi_0374.jpg', 'Tr-pi_0937.jpg', 'Tr-pi_0024.jpg', 'Tr-pi_1373.jpg', 'Tr-pi_0771.jpg', 'Tr-pi_0199.jpg', 'Tr-pi_0801.jpg', 'Tr-pi_1433.jpg', 'Tr-pi_0641.jpg', 'Tr-pi_1237.jpg', 'Tr-pi_0513.jpg', 'Tr-pi_0071.jpg', 'Tr-pi_0551.jpg', 'Tr-pi_1389.jpg', 'Tr-pi_1096.jpg', 'Tr-pi_0593.jpg', 'Tr-pi_0229.jpg', 'Tr-pi_1191.jpg', 'Tr-pi_0193.jpg', 'Tr-pi_0584.jpg', 'Tr-pi_0302.jpg', 'Tr-pi_0191.jpg', 'Tr-pi_0574.jpg', 'Tr-pi_1261.jpg', 'Tr-pi_0542.jpg', 'Tr-pi_1338.jpg', 'Tr-pi_0786.jpg', 'Tr-pi_1177.jpg', 'Tr-pi_0535.jpg', 'Tr-pi_1162.jpg', 'Tr-pi_0131.jpg', 'Tr-pi_1407.jpg', 'Tr-pi_0021.jpg', 'Tr-pi_0987.jpg', 'Tr-pi_0681.jpg', 'Tr-pi_0429.jpg', 'Tr-pi_0255.jpg', 'Tr-pi_0484.jpg', 'Tr-pi_0545.jpg', 'Tr-pi_0733.jpg', 'Tr-pi_1251.jpg', 'Tr-pi_0779.jpg', 'Tr-pi_1097.jpg', 'Tr-pi_0563.jpg', 'Tr-pi_1173.jpg', 'Tr-pi_0361.jpg', 'Tr-pi_0035.jpg', 'Tr-pi_0398.jpg', 'Tr-pi_1283.jpg', 'Tr-pi_1362.jpg', 'Tr-pi_0758.jpg', 'Tr-pi_0340.jpg', 'Tr-pi_0137.jpg', 'Tr-pi_0133.jpg', 'Tr-pi_0862.jpg', 'Tr-pi_0974.jpg', 'Tr-pi_1314.jpg', 'Tr-pi_0835.jpg', 'Tr-pi_0245.jpg', 'Tr-pi_0014.jpg', 'Tr-pi_1202.jpg', 'Tr-pi_0149.jpg', 'Tr-pi_0521.jpg', 'Tr-pi_0201.jpg', 'Tr-pi_1400.jpg', 'Tr-pi_0251.jpg', 'Tr-pi_0716.jpg', 'Tr-pi_0053.jpg', 'Tr-pi_0404.jpg', 'Tr-pi_0820.jpg', 'Tr-pi_0037.jpg', 'Tr-pi_1060.jpg', 'Tr-pi_1418.jpg', 'Tr-pi_0294.jpg', 'Tr-pi_0444.jpg', 'Tr-pi_0539.jpg', 'Tr-pi_0079.jpg', 'Tr-pi_0047.jpg', 'Tr-pi_0072.jpg', 'Tr-pi_0526.jpg', 'Tr-pi_1399.jpg', 'Tr-pi_0337.jpg', 'Tr-pi_0025.jpg', 'Tr-pi_0138.jpg', 'Tr-pi_1074.jpg', 'Tr-pi_0776.jpg', 'Tr-pi_0083.jpg', 'Tr-pi_0704.jpg', 'Tr-pi_0118.jpg', 'Tr-pi_0959.jpg', 'Tr-pi_0759.jpg', 'Tr-pi_0226.jpg', 'Tr-pi_0349.jpg', 'Tr-pi_1404.jpg', 'Tr-pi_0228.jpg', 'Tr-pi_0249.jpg', 'Tr-pi_1160.jpg', 'Tr-piTr_0009.jpg', 'Tr-pi_1339.jpg', 'Tr-pi_0432.jpg', 'Tr-pi_0469.jpg', 'Tr-pi_0636.jpg', 'Tr-pi_0108.jpg', 'Tr-pi_0807.jpg', 'Tr-pi_0541.jpg', 'Tr-pi_1239.jpg', 'Tr-pi_0107.jpg', 'Tr-pi_0713.jpg', 'Tr-pi_0700.jpg', 'Tr-pi_0547.jpg', 'Tr-pi_0130.jpg', 'Tr-pi_0886.jpg', 'Tr-pi_0296.jpg', 'Tr-pi_1370.jpg', 'Tr-pi_1398.jpg', 'Tr-pi_0250.jpg', 'Tr-pi_0938.jpg', 'Tr-pi_0903.jpg', 'Tr-pi_0394.jpg', 'Tr-pi_0204.jpg', 'Tr-pi_1126.jpg', 'Tr-pi_1348.jpg', 'Tr-pi_1403.jpg', 'Tr-pi_0357.jpg', 'Tr-pi_0316.jpg', 'Tr-pi_1224.jpg', 'Tr-pi_0515.jpg', 'Tr-pi_0257.jpg', 'Tr-pi_0724.jpg', 'Tr-pi_1072.jpg', 'Tr-pi_0984.jpg', 'Tr-pi_1201.jpg', 'Tr-pi_1453.jpg', 'Tr-pi_0295.jpg', 'Tr-pi_0100.jpg', 'Tr-pi_1267.jpg', 'Tr-pi_0767.jpg', 'Tr-pi_1336.jpg', 'Tr-pi_0041.jpg', 'Tr-pi_0664.jpg', 'Tr-pi_0514.jpg', 'Tr-pi_1013.jpg', 'Tr-pi_0125.jpg', 'Tr-pi_0605.jpg', 'Tr-pi_0074.jpg', 'Tr-pi_0342.jpg', 'Tr-pi_1028.jpg', 'Tr-pi_0644.jpg', 'Tr-pi_0777.jpg', 'Tr-pi_0458.jpg', 'Tr-pi_0966.jpg', 'Tr-pi_0447.jpg', 'Tr-pi_0850.jpg', 'Tr-pi_0852.jpg', 'Tr-pi_0635.jpg', 'Tr-pi_1179.jpg', 'Tr-pi_1143.jpg', 'Tr-pi_1285.jpg', 'Tr-pi_0652.jpg', 'Tr-pi_0770.jpg', 'Tr-pi_1311.jpg', 'Tr-pi_0135.jpg', 'Tr-pi_0879.jpg', 'Tr-pi_1350.jpg', 'Tr-pi_0506.jpg', 'Tr-pi_0566.jpg', 'Tr-pi_0756.jpg', 'Tr-pi_0129.jpg', 'Tr-pi_1379.jpg', 'Tr-pi_1174.jpg', 'Tr-pi_0660.jpg', 'Tr-pi_1390.jpg', 'Tr-pi_0680.jpg', 'Tr-pi_0415.jpg', 'Tr-pi_1388.jpg', 'Tr-pi_1353.jpg', 'Tr-pi_0211.jpg', 'Tr-pi_1131.jpg', 'Tr-pi_1326.jpg', 'Tr-pi_0328.jpg', 'Tr-pi_0943.jpg', 'Tr-pi_1450.jpg', 'Tr-pi_0243.jpg', 'Tr-pi_0073.jpg', 'Tr-pi_0491.jpg', 'Tr-pi_0307.jpg', 'Tr-pi_1103.jpg', 'Tr-pi_1120.jpg', 'Tr-pi_0479.jpg', 'Tr-pi_0453.jpg', 'Tr-pi_1199.jpg', 'Tr-pi_0730.jpg', 'Tr-pi_0366.jpg', 'Tr-pi_1055.jpg', 'Tr-pi_0043.jpg', 'Tr-pi_0015.jpg', 'Tr-pi_0163.jpg', 'Tr-pi_0915.jpg', 'Tr-pi_0625.jpg', 'Tr-pi_1207.jpg', 'Tr-pi_0476.jpg', 'Tr-pi_1111.jpg', 'Tr-pi_0031.jpg', 'Tr-pi_1071.jpg', 'Tr-pi_0924.jpg', 'Tr-pi_0058.jpg', 'Tr-pi_0655.jpg', 'Tr-pi_0533.jpg', 'Tr-pi_0815.jpg', 'Tr-pi_1376.jpg', 'Tr-pi_0794.jpg', 'Tr-pi_0318.jpg', 'Tr-pi_1070.jpg', 'Tr-pi_0962.jpg', 'Tr-pi_0364.jpg', 'Tr-pi_0979.jpg', 'Tr-pi_1123.jpg', 'Tr-pi_0012.jpg', 'Tr-pi_1259.jpg', 'Tr-pi_1066.jpg', 'Tr-pi_0261.jpg', 'Tr-pi_0101.jpg', 'Tr-pi_1043.jpg', 'Tr-pi_0954.jpg', 'Tr-pi_0715.jpg', 'Tr-pi_0066.jpg', 'Tr-pi_1053.jpg', 'Tr-pi_0241.jpg', 'Tr-pi_0281.jpg', 'Tr-pi_1442.jpg', 'Tr-pi_0232.jpg', 'Tr-pi_0844.jpg', 'Tr-pi_0659.jpg', 'Tr-pi_0603.jpg', 'Tr-pi_1061.jpg', 'Tr-pi_0510.jpg', 'Tr-pi_0102.jpg', 'Tr-pi_1129.jpg', 'Tr-pi_0538.jpg', 'Tr-pi_0231.jpg', 'Tr-pi_1231.jpg', 'Tr-pi_1310.jpg', 'Tr-pi_0028.jpg', 'Tr-pi_0754.jpg', 'Tr-pi_1281.jpg', 'Tr-pi_1169.jpg', 'Tr-pi_1032.jpg', 'Tr-pi_0155.jpg', 'Tr-pi_0717.jpg', 'Tr-pi_1015.jpg', 'Tr-pi_0761.jpg', 'Tr-pi_0880.jpg', 'Tr-pi_0766.jpg', 'Tr-pi_1085.jpg', 'Tr-pi_1408.jpg', 'Tr-pi_0787.jpg', 'Tr-pi_0765.jpg', 'Tr-pi_0839.jpg', 'Tr-pi_0325.jpg', 'Tr-pi_0810.jpg', 'Tr-pi_1102.jpg', 'Tr-pi_0146.jpg', 'Tr-pi_0496.jpg', 'Tr-pi_0144.jpg', 'Tr-pi_0330.jpg', 'Tr-pi_0883.jpg', 'Tr-pi_0463.jpg', 'Tr-pi_1181.jpg', 'Tr-pi_0321.jpg', 'Tr-pi_1121.jpg', 'Tr-pi_0225.jpg', 'Tr-pi_0537.jpg', 'Tr-pi_0455.jpg', 'Tr-pi_0150.jpg', 'Tr-pi_1324.jpg', 'Tr-pi_1212.jpg', 'Tr-pi_0477.jpg', 'Tr-pi_0270.jpg', 'Tr-pi_0950.jpg', 'Tr-pi_1429.jpg', 'Tr-pi_0964.jpg', 'Tr-pi_0503.jpg', 'Tr-pi_1275.jpg', 'Tr-pi_0813.jpg', 'Tr-pi_0171.jpg', 'Tr-pi_0705.jpg', 'Tr-pi_0408.jpg', 'Tr-pi_0256.jpg', 'Tr-pi_0643.jpg', 'Tr-pi_0707.jpg', 'Tr-pi_0097.jpg', 'Tr-pi_1152.jpg', 'Tr-pi_0489.jpg', 'Tr-pi_0277.jpg', 'Tr-pi_0240.jpg', 'Tr-pi_1432.jpg', 'Tr-pi_0422.jpg', 'Tr-pi_0308.jpg', 'Tr-pi_0592.jpg', 'Tr-pi_0748.jpg', 'Tr-pi_1039.jpg', 'Tr-pi_1001.jpg', 'Tr-pi_0629.jpg', 'Tr-pi_0207.jpg', 'Tr-pi_0594.jpg', 'Tr-pi_0036.jpg', 'Tr-pi_1219.jpg', 'Tr-pi_0726.jpg', 'Tr-pi_1135.jpg', 'Tr-pi_1024.jpg', 'Tr-pi_1098.jpg', 'Tr-pi_1065.jpg', 'Tr-pi_0871.jpg', 'Tr-pi_1227.jpg', 'Tr-pi_0274.jpg', 'Tr-pi_0934.jpg', 'Tr-pi_1323.jpg', 'Tr-pi_0530.jpg', 'Tr-pi_0611.jpg', 'Tr-pi_0842.jpg', 'Tr-pi_1008.jpg', 'Tr-pi_0814.jpg', 'Tr-pi_0359.jpg', 'Tr-pi_0197.jpg', 'Tr-pi_0610.jpg', 'Tr-pi_0978.jpg', 'Tr-pi_1434.jpg', 'Tr-pi_1351.jpg', 'Tr-pi_0615.jpg', 'Tr-pi_0205.jpg', 'Tr-pi_0343.jpg', 'Tr-pi_1299.jpg', 'Tr-pi_0676.jpg', 'Tr-pi_1455.jpg', 'Tr-pi_0866.jpg', 'Tr-pi_0202.jpg', 'Tr-pi_0589.jpg', 'Tr-pi_1059.jpg', 'Tr-pi_1301.jpg', 'Tr-pi_0267.jpg', 'Tr-pi_0311.jpg', 'Tr-pi_0778.jpg', 'Tr-pi_1316.jpg', 'Tr-pi_0948.jpg', 'Tr-pi_0268.jpg', 'Tr-pi_0627.jpg', 'Tr-pi_1109.jpg', 'Tr-pi_0648.jpg', 'Tr-pi_1306.jpg', 'Tr-pi_0869.jpg', 'Tr-pi_1021.jpg', 'Tr-pi_1369.jpg', 'Tr-pi_0604.jpg', 'Tr-pi_0499.jpg', 'Tr-pi_0522.jpg', 'Tr-pi_1144.jpg', 'Tr-pi_0689.jpg', 'Tr-pi_0665.jpg', 'Tr-pi_1067.jpg', 'Tr-pi_1005.jpg', 'Tr-pi_0666.jpg', 'Tr-pi_0414.jpg', 'Tr-pi_1156.jpg', 'Tr-pi_0468.jpg', 'Tr-pi_0957.jpg', 'Tr-pi_0019.jpg', 'Tr-pi_0341.jpg', 'Tr-pi_0925.jpg', 'Tr-pi_1178.jpg', 'Tr-pi_0033.jpg', 'Tr-pi_1367.jpg', 'Tr-pi_1153.jpg', 'Tr-pi_0792.jpg', 'Tr-pi_0336.jpg', 'Tr-pi_0233.jpg', 'Tr-pi_0238.jpg', 'Tr-pi_0442.jpg', 'Tr-pi_0237.jpg', 'Tr-pi_1188.jpg', 'Tr-pi_0010.jpg', 'Tr-pi_0670.jpg', 'Tr-pi_1270.jpg', 'Tr-pi_0319.jpg', 'Tr-pi_0543.jpg', 'Tr-pi_0898.jpg', 'Tr-pi_1363.jpg', 'Tr-pi_0849.jpg', 'Tr-pi_1166.jpg', 'Tr-pi_1430.jpg', 'Tr-pi_0829.jpg', 'Tr-pi_0224.jpg', 'Tr-pi_0215.jpg', 'Tr-pi_0745.jpg', 'Tr-pi_0549.jpg', 'Tr-pi_1086.jpg', 'Tr-pi_0656.jpg', 'Tr-pi_0917.jpg', 'Tr-pi_1394.jpg', 'Tr-pi_1349.jpg', 'Tr-pi_0921.jpg', 'Tr-pi_1368.jpg', 'Tr-pi_0650.jpg', 'Tr-pi_0872.jpg', 'Tr-pi_0846.jpg', 'Tr-pi_1421.jpg', 'Tr-pi_0970.jpg', 'Tr-pi_1425.jpg', 'Tr-pi_0663.jpg', 'Tr-pi_1315.jpg', 'Tr-pi_1051.jpg', 'Tr-pi_0573.jpg', 'Tr-pi_0016.jpg', 'Tr-pi_0356.jpg', 'Tr-pi_0729.jpg', 'Tr-pi_0280.jpg', 'Tr-pi_0142.jpg', 'Tr-pi_0475.jpg', 'Tr-pi_0601.jpg', 'Tr-pi_0426.jpg', 'Tr-pi_0598.jpg', 'Tr-pi_0887.jpg', 'Tr-pi_0216.jpg', 'Tr-pi_0166.jpg', 'Tr-pi_0840.jpg', 'Tr-pi_1064.jpg', 'Tr-pi_0895.jpg', 'Tr-pi_0806.jpg', 'Tr-pi_0320.jpg', 'Tr-pi_0038.jpg', 'Tr-pi_0803.jpg', 'Tr-pi_0554.jpg', 'Tr-pi_1271.jpg', 'Tr-pi_1163.jpg', 'Tr-pi_0136.jpg', 'Tr-pi_0785.jpg', 'Tr-pi_0011.jpg', 'Tr-pi_1147.jpg', 'Tr-pi_0126.jpg', 'Tr-pi_0536.jpg', 'Tr-pi_0209.jpg', 'Tr-piTr_0007.jpg', 'Tr-pi_0889.jpg']\n",
            "\n",
            "📁 Folder: /content/dataset/Training/meningioma\n",
            "📂 Subfolders: []\n",
            "🖼️ Files: ['Tr-me_0928.jpg', 'Tr-me_0914.jpg', 'Tr-me_0396.jpg', 'Tr-me_1331.jpg', 'Tr-me_0486.jpg', 'Tr-me_0636.jpg', 'Tr-me_0309.jpg', 'Tr-me_0369.jpg', 'Tr-me_1120.jpg', 'Tr-me_0721.jpg', 'Tr-me_0760.jpg', 'Tr-me_0561.jpg', 'Tr-me_0085.jpg', 'Tr-me_0860.jpg', 'Tr-me_0284.jpg', 'Tr-me_0641.jpg', 'Tr-me_0704.jpg', 'Tr-me_1197.jpg', 'Tr-me_1085.jpg', 'Tr-me_0167.jpg', 'Tr-me_0651.jpg', 'Tr-me_0765.jpg', 'Tr-me_1129.jpg', 'Tr-me_0054.jpg', 'Tr-me_1290.jpg', 'Tr-me_0370.jpg', 'Tr-me_0517.jpg', 'Tr-me_0445.jpg', 'Tr-me_1325.jpg', 'Tr-me_0460.jpg', 'Tr-me_1190.jpg', 'Tr-me_0848.jpg', 'Tr-me_1137.jpg', 'Tr-me_0313.jpg', 'Tr-me_1098.jpg', 'Tr-me_1279.jpg', 'Tr-me_0511.jpg', 'Tr-me_0282.jpg', 'Tr-me_0103.jpg', 'Tr-me_0956.jpg', 'Tr-me_1009.jpg', 'Tr-me_1069.jpg', 'Tr-me_1268.jpg', 'Tr-me_1253.jpg', 'Tr-me_1308.jpg', 'Tr-me_1309.jpg', 'Tr-me_0038.jpg', 'Tr-me_0482.jpg', 'Tr-me_0524.jpg', 'Tr-me_0242.jpg', 'Tr-me_0315.jpg', 'Tr-me_0590.jpg', 'Tr-me_0144.jpg', 'Tr-me_0096.jpg', 'Tr-me_0289.jpg', 'Tr-me_0490.jpg', 'Tr-me_0170.jpg', 'Tr-me_0454.jpg', 'Tr-me_0287.jpg', 'Tr-me_0159.jpg', 'Tr-me_0328.jpg', 'Tr-me_1127.jpg', 'Tr-me_1185.jpg', 'Tr-me_1186.jpg', 'Tr-me_0669.jpg', 'Tr-me_0371.jpg', 'Tr-me_0842.jpg', 'Tr-me_0215.jpg', 'Tr-me_1307.jpg', 'Tr-me_0750.jpg', 'Tr-me_0557.jpg', 'Tr-me_1170.jpg', 'Tr-me_0399.jpg', 'Tr-me_0478.jpg', 'Tr-me_0888.jpg', 'Tr-me_0107.jpg', 'Tr-me_0677.jpg', 'Tr-me_0199.jpg', 'Tr-me_1084.jpg', 'Tr-me_1004.jpg', 'Tr-me_0702.jpg', 'Tr-me_1257.jpg', 'Tr-me_0576.jpg', 'Tr-me_0481.jpg', 'Tr-me_0504.jpg', 'Tr-me_0332.jpg', 'Tr-me_0278.jpg', 'Tr-me_0327.jpg', 'Tr-me_0240.jpg', 'Tr-me_0949.jpg', 'Tr-me_0892.jpg', 'Tr-me_0713.jpg', 'Tr-me_0675.jpg', 'Tr-me_0152.jpg', 'Tr-me_0246.jpg', 'Tr-me_1275.jpg', 'Tr-me_0758.jpg', 'Tr-me_1039.jpg', 'Tr-me_0566.jpg', 'Tr-me_1041.jpg', 'Tr-me_0780.jpg', 'Tr-me_0277.jpg', 'Tr-me_0425.jpg', 'Tr-me_0829.jpg', 'Tr-me_0359.jpg', 'Tr-me_0890.jpg', 'Tr-me_1273.jpg', 'Tr-me_1080.jpg', 'Tr-me_0878.jpg', 'Tr-me_1061.jpg', 'Tr-me_0310.jpg', 'Tr-me_0334.jpg', 'Tr-me_0012.jpg', 'Tr-me_0483.jpg', 'Tr-me_1220.jpg', 'Tr-me_0158.jpg', 'Tr-me_1323.jpg', 'Tr-me_1227.jpg', 'Tr-me_0228.jpg', 'Tr-me_0809.jpg', 'Tr-me_0882.jpg', 'Tr-me_0403.jpg', 'Tr-me_0392.jpg', 'Tr-me_0580.jpg', 'Tr-me_0807.jpg', 'Tr-me_0421.jpg', 'Tr-me_0052.jpg', 'Tr-me_0998.jpg', 'Tr-me_1193.jpg', 'Tr-me_0736.jpg', 'Tr-me_0980.jpg', 'Tr-me_0435.jpg', 'Tr-me_0574.jpg', 'Tr-me_1110.jpg', 'Tr-me_0121.jpg', 'Tr-me_1033.jpg', 'Tr-me_0521.jpg', 'Tr-me_0024.jpg', 'Tr-me_1222.jpg', 'Tr-me_0404.jpg', 'Tr-me_0560.jpg', 'Tr-me_0625.jpg', 'Tr-me_0608.jpg', 'Tr-me_1243.jpg', 'Tr-me_1019.jpg', 'Tr-me_0317.jpg', 'Tr-me_1195.jpg', 'Tr-me_1048.jpg', 'Tr-me_0459.jpg', 'Tr-me_1241.jpg', 'Tr-me_1208.jpg', 'Tr-me_0418.jpg', 'Tr-me_1023.jpg', 'Tr-me_1131.jpg', 'Tr-me_1226.jpg', 'Tr-me_0058.jpg', 'Tr-me_0193.jpg', 'Tr-me_0987.jpg', 'Tr-me_0648.jpg', 'Tr-me_1198.jpg', 'Tr-me_1207.jpg', 'Tr-me_0541.jpg', 'Tr-me_0907.jpg', 'Tr-me_0673.jpg', 'Tr-me_1053.jpg', 'Tr-me_1297.jpg', 'Tr-me_0611.jpg', 'Tr-me_0883.jpg', 'Tr-me_0120.jpg', 'Tr-me_0326.jpg', 'Tr-me_0363.jpg', 'Tr-me_0439.jpg', 'Tr-me_0329.jpg', 'Tr-me_0201.jpg', 'Tr-meTr_0009.jpg', 'Tr-me_0186.jpg', 'Tr-me_0856.jpg', 'Tr-me_0788.jpg', 'Tr-me_1003.jpg', 'Tr-me_0802.jpg', 'Tr-me_0532.jpg', 'Tr-me_0426.jpg', 'Tr-me_0133.jpg', 'Tr-me_0744.jpg', 'Tr-me_0585.jpg', 'Tr-me_0815.jpg', 'Tr-me_1270.jpg', 'Tr-me_0335.jpg', 'Tr-me_0330.jpg', 'Tr-me_0674.jpg', 'Tr-me_0680.jpg', 'Tr-me_1164.jpg', 'Tr-me_0492.jpg', 'Tr-me_0146.jpg', 'Tr-me_0695.jpg', 'Tr-me_1130.jpg', 'Tr-me_1152.jpg', 'Tr-me_1135.jpg', 'Tr-me_0025.jpg', 'Tr-me_0469.jpg', 'Tr-me_1313.jpg', 'Tr-me_0794.jpg', 'Tr-me_1281.jpg', 'Tr-me_0114.jpg', 'Tr-me_0464.jpg', 'Tr-me_0763.jpg', 'Tr-me_0406.jpg', 'Tr-me_0247.jpg', 'Tr-me_1044.jpg', 'Tr-me_0192.jpg', 'Tr-me_0337.jpg', 'Tr-me_1058.jpg', 'Tr-me_0248.jpg', 'Tr-me_1221.jpg', 'Tr-me_0374.jpg', 'Tr-me_1054.jpg', 'Tr-me_0101.jpg', 'Tr-me_1018.jpg', 'Tr-me_1012.jpg', 'Tr-me_1035.jpg', 'Tr-me_0764.jpg', 'Tr-me_0506.jpg', 'Tr-me_0795.jpg', 'Tr-me_0871.jpg', 'Tr-me_0297.jpg', 'Tr-me_1247.jpg', 'Tr-me_1141.jpg', 'Tr-me_1166.jpg', 'Tr-me_1095.jpg', 'Tr-me_0281.jpg', 'Tr-me_0540.jpg', 'Tr-me_0923.jpg', 'Tr-me_0915.jpg', 'Tr-me_0206.jpg', 'Tr-me_0610.jpg', 'Tr-me_0632.jpg', 'Tr-me_0013.jpg', 'Tr-me_0779.jpg', 'Tr-me_0436.jpg', 'Tr-me_0293.jpg', 'Tr-me_0691.jpg', 'Tr-me_0879.jpg', 'Tr-me_1289.jpg', 'Tr-me_0643.jpg', 'Tr-me_1140.jpg', 'Tr-me_0515.jpg', 'Tr-me_0862.jpg', 'Tr-me_0851.jpg', 'Tr-me_0448.jpg', 'Tr-me_0562.jpg', 'Tr-me_0880.jpg', 'Tr-me_0266.jpg', 'Tr-me_0977.jpg', 'Tr-me_0222.jpg', 'Tr-me_0814.jpg', 'Tr-me_0413.jpg', 'Tr-me_0319.jpg', 'Tr-me_0286.jpg', 'Tr-me_1113.jpg', 'Tr-me_0079.jpg', 'Tr-me_0586.jpg', 'Tr-me_0782.jpg', 'Tr-me_0536.jpg', 'Tr-me_0805.jpg', 'Tr-me_1209.jpg', 'Tr-me_0397.jpg', 'Tr-me_0776.jpg', 'Tr-me_0618.jpg', 'Tr-me_0232.jpg', 'Tr-me_0097.jpg', 'Tr-meTr_0001.jpg', 'Tr-me_1071.jpg', 'Tr-me_0581.jpg', 'Tr-me_1114.jpg', 'Tr-me_1262.jpg', 'Tr-me_0304.jpg', 'Tr-me_1158.jpg', 'Tr-me_0983.jpg', 'Tr-me_0857.jpg', 'Tr-me_1329.jpg', 'Tr-me_0539.jpg', 'Tr-me_0671.jpg', 'Tr-me_0766.jpg', 'Tr-me_0991.jpg', 'Tr-me_0256.jpg', 'Tr-me_0026.jpg', 'Tr-me_0341.jpg', 'Tr-me_1021.jpg', 'Tr-me_0816.jpg', 'Tr-me_0072.jpg', 'Tr-me_0913.jpg', 'Tr-me_1165.jpg', 'Tr-me_0933.jpg', 'Tr-me_0924.jpg', 'Tr-me_1155.jpg', 'Tr-me_0602.jpg', 'Tr-me_0707.jpg', 'Tr-me_1043.jpg', 'Tr-me_0075.jpg', 'Tr-me_0937.jpg', 'Tr-me_1256.jpg', 'Tr-me_0028.jpg', 'Tr-me_0947.jpg', 'Tr-me_1315.jpg', 'Tr-me_0873.jpg', 'Tr-me_1073.jpg', 'Tr-me_0378.jpg', 'Tr-me_0198.jpg', 'Tr-me_0184.jpg', 'Tr-me_0300.jpg', 'Tr-me_0365.jpg', 'Tr-me_0432.jpg', 'Tr-me_1187.jpg', 'Tr-me_1174.jpg', 'Tr-me_0171.jpg', 'Tr-me_0276.jpg', 'Tr-me_0622.jpg', 'Tr-me_0595.jpg', 'Tr-me_0185.jpg', 'Tr-me_0826.jpg', 'Tr-me_0858.jpg', 'Tr-me_0646.jpg', 'Tr-me_0126.jpg', 'Tr-me_0533.jpg', 'Tr-me_0803.jpg', 'Tr-me_0797.jpg', 'Tr-me_0916.jpg', 'Tr-me_0665.jpg', 'Tr-me_1040.jpg', 'Tr-me_0153.jpg', 'Tr-me_0508.jpg', 'Tr-me_0491.jpg', 'Tr-me_1010.jpg', 'Tr-me_1231.jpg', 'Tr-me_0160.jpg', 'Tr-me_1306.jpg', 'Tr-me_1013.jpg', 'Tr-me_1089.jpg', 'Tr-me_0931.jpg', 'Tr-me_0992.jpg', 'Tr-me_0410.jpg', 'Tr-me_0041.jpg', 'Tr-me_0904.jpg', 'Tr-me_1072.jpg', 'Tr-me_1168.jpg', 'Tr-me_0254.jpg', 'Tr-me_1335.jpg', 'Tr-me_0592.jpg', 'Tr-me_0629.jpg', 'Tr-me_0786.jpg', 'Tr-me_0223.jpg', 'Tr-me_0516.jpg', 'Tr-me_0273.jpg', 'Tr-me_1101.jpg', 'Tr-me_0172.jpg', 'Tr-me_1217.jpg', 'Tr-me_0551.jpg', 'Tr-me_1234.jpg', 'Tr-me_0656.jpg', 'Tr-me_0182.jpg', 'Tr-me_0774.jpg', 'Tr-me_0999.jpg', 'Tr-me_0866.jpg', 'Tr-me_1184.jpg', 'Tr-me_1200.jpg', 'Tr-me_1233.jpg', 'Tr-me_1128.jpg', 'Tr-me_0681.jpg', 'Tr-me_0787.jpg', 'Tr-me_0181.jpg', 'Tr-me_0220.jpg', 'Tr-me_0650.jpg', 'Tr-me_0489.jpg', 'Tr-me_0955.jpg', 'Tr-me_0430.jpg', 'Tr-me_0918.jpg', 'Tr-me_1210.jpg', 'Tr-me_0306.jpg', 'Tr-me_0730.jpg', 'Tr-me_0748.jpg', 'Tr-me_0415.jpg', 'Tr-me_1203.jpg', 'Tr-me_0011.jpg', 'Tr-me_0364.jpg', 'Tr-me_1183.jpg', 'Tr-me_0260.jpg', 'Tr-me_0090.jpg', 'Tr-me_1082.jpg', 'Tr-me_0709.jpg', 'Tr-me_0163.jpg', 'Tr-me_1087.jpg', 'Tr-me_0554.jpg', 'Tr-me_0353.jpg', 'Tr-me_0143.jpg', 'Tr-me_1293.jpg', 'Tr-me_0603.jpg', 'Tr-me_1001.jpg', 'Tr-me_0550.jpg', 'Tr-me_0477.jpg', 'Tr-me_0414.jpg', 'Tr-me_0895.jpg', 'Tr-me_0200.jpg', 'Tr-me_0884.jpg', 'Tr-me_0701.jpg', 'Tr-me_0245.jpg', 'Tr-meTr_0000.jpg', 'Tr-me_1205.jpg', 'Tr-me_0822.jpg', 'Tr-meTr_0002.jpg', 'Tr-me_0565.jpg', 'Tr-me_0698.jpg', 'Tr-me_0476.jpg', 'Tr-me_0345.jpg', 'Tr-me_0267.jpg', 'Tr-me_0134.jpg', 'Tr-me_0940.jpg', 'Tr-me_1318.jpg', 'Tr-me_0366.jpg', 'Tr-me_0294.jpg', 'Tr-me_0741.jpg', 'Tr-me_0468.jpg', 'Tr-me_0466.jpg', 'Tr-me_0299.jpg', 'Tr-me_0379.jpg', 'Tr-me_0384.jpg', 'Tr-me_1236.jpg', 'Tr-me_1106.jpg', 'Tr-me_0903.jpg', 'Tr-me_0952.jpg', 'Tr-me_1188.jpg', 'Tr-me_0081.jpg', 'Tr-me_0661.jpg', 'Tr-me_0668.jpg', 'Tr-me_0118.jpg', 'Tr-me_0475.jpg', 'Tr-me_0728.jpg', 'Tr-me_0355.jpg', 'Tr-me_0218.jpg', 'Tr-me_0939.jpg', 'Tr-me_0746.jpg', 'Tr-me_0810.jpg', 'Tr-me_0073.jpg', 'Tr-me_0358.jpg', 'Tr-me_0305.jpg', 'Tr-me_0214.jpg', 'Tr-me_0465.jpg', 'Tr-me_1261.jpg', 'Tr-me_0095.jpg', 'Tr-me_0920.jpg', 'Tr-me_0480.jpg', 'Tr-me_1063.jpg', 'Tr-me_1154.jpg', 'Tr-me_0934.jpg', 'Tr-me_1303.jpg', 'Tr-me_1042.jpg', 'Tr-me_0420.jpg', 'Tr-me_0203.jpg', 'Tr-me_0347.jpg', 'Tr-me_1050.jpg', 'Tr-me_0280.jpg', 'Tr-me_1126.jpg', 'Tr-me_0897.jpg', 'Tr-me_0950.jpg', 'Tr-me_1327.jpg', 'Tr-me_0838.jpg', 'Tr-me_0122.jpg', 'Tr-me_1333.jpg', 'Tr-meTr_0005.jpg', 'Tr-me_1194.jpg', 'Tr-me_1086.jpg', 'Tr-me_1025.jpg', 'Tr-me_0249.jpg', 'Tr-me_0239.jpg', 'Tr-me_0127.jpg', 'Tr-me_0071.jpg', 'Tr-me_0995.jpg', 'Tr-me_0667.jpg', 'Tr-me_0583.jpg', 'Tr-me_0743.jpg', 'Tr-me_0067.jpg', 'Tr-me_0211.jpg', 'Tr-me_0488.jpg', 'Tr-me_0494.jpg', 'Tr-me_1180.jpg', 'Tr-me_0177.jpg', 'Tr-me_0350.jpg', 'Tr-me_0018.jpg', 'Tr-me_0124.jpg', 'Tr-me_0336.jpg', 'Tr-me_1121.jpg', 'Tr-me_0338.jpg', 'Tr-me_0547.jpg', 'Tr-me_0799.jpg', 'Tr-me_0676.jpg', 'Tr-me_0149.jpg', 'Tr-me_0180.jpg', 'Tr-me_0588.jpg', 'Tr-me_1215.jpg', 'Tr-me_1026.jpg', 'Tr-me_0678.jpg', 'Tr-me_0705.jpg', 'Tr-me_0261.jpg', 'Tr-me_0544.jpg', 'Tr-me_0572.jpg', 'Tr-me_1178.jpg', 'Tr-me_0301.jpg', 'Tr-me_0063.jpg', 'Tr-me_0093.jpg', 'Tr-me_1199.jpg', 'Tr-me_0412.jpg', 'Tr-me_0696.jpg', 'Tr-me_0593.jpg', 'Tr-me_0187.jpg', 'Tr-me_0377.jpg', 'Tr-me_0901.jpg', 'Tr-me_0043.jpg', 'Tr-me_1145.jpg', 'Tr-me_0155.jpg', 'Tr-me_0638.jpg', 'Tr-me_0116.jpg', 'Tr-me_1157.jpg', 'Tr-me_1269.jpg', 'Tr-me_1151.jpg', 'Tr-me_0849.jpg', 'Tr-me_1077.jpg', 'Tr-me_1029.jpg', 'Tr-me_0925.jpg', 'Tr-me_1150.jpg', 'Tr-me_0440.jpg', 'Tr-me_0970.jpg', 'Tr-me_1049.jpg', 'Tr-me_0847.jpg', 'Tr-me_0512.jpg', 'Tr-me_0806.jpg', 'Tr-me_0535.jpg', 'Tr-me_0737.jpg', 'Tr-me_1022.jpg', 'Tr-me_0988.jpg', 'Tr-me_0113.jpg', 'Tr-me_0264.jpg', 'Tr-me_1123.jpg', 'Tr-me_0640.jpg', 'Tr-me_0231.jpg', 'Tr-me_1070.jpg', 'Tr-me_1148.jpg', 'Tr-me_0169.jpg', 'Tr-me_1264.jpg', 'Tr-me_0962.jpg', 'Tr-me_0715.jpg', 'Tr-me_0624.jpg', 'Tr-me_0996.jpg', 'Tr-me_1196.jpg', 'Tr-me_0843.jpg', 'Tr-me_1302.jpg', 'Tr-me_0165.jpg', 'Tr-me_0936.jpg', 'Tr-me_1296.jpg', 'Tr-me_0050.jpg', 'Tr-me_1204.jpg', 'Tr-me_0217.jpg', 'Tr-me_0979.jpg', 'Tr-me_1055.jpg', 'Tr-me_0864.jpg', 'Tr-me_1122.jpg', 'Tr-me_0942.jpg', 'Tr-me_1276.jpg', 'Tr-me_0523.jpg', 'Tr-me_0191.jpg', 'Tr-me_0312.jpg', 'Tr-me_0098.jpg', 'Tr-me_0021.jpg', 'Tr-me_0733.jpg', 'Tr-me_1219.jpg', 'Tr-me_0308.jpg', 'Tr-me_0496.jpg', 'Tr-me_0876.jpg', 'Tr-me_0382.jpg', 'Tr-me_0700.jpg', 'Tr-me_0033.jpg', 'Tr-me_1283.jpg', 'Tr-me_1301.jpg', 'Tr-me_0484.jpg', 'Tr-me_0558.jpg', 'Tr-me_1189.jpg', 'Tr-me_0136.jpg', 'Tr-me_1277.jpg', 'Tr-me_0563.jpg', 'Tr-me_1255.jpg', 'Tr-me_0951.jpg', 'Tr-me_0016.jpg', 'Tr-me_0216.jpg', 'Tr-me_0905.jpg', 'Tr-me_0091.jpg', 'Tr-me_0582.jpg', 'Tr-me_0531.jpg', 'Tr-me_0944.jpg', 'Tr-me_0429.jpg', 'Tr-me_0630.jpg', 'Tr-me_1076.jpg', 'Tr-me_1182.jpg', 'Tr-me_0288.jpg', 'Tr-me_0751.jpg', 'Tr-me_0080.jpg', 'Tr-me_0596.jpg', 'Tr-me_0394.jpg', 'Tr-me_1057.jpg', 'Tr-me_0621.jpg', 'Tr-me_0400.jpg', 'Tr-me_1251.jpg', 'Tr-me_0102.jpg', 'Tr-me_0307.jpg', 'Tr-me_1285.jpg', 'Tr-me_0919.jpg', 'Tr-me_0601.jpg', 'Tr-me_0935.jpg', 'Tr-me_0244.jpg', 'Tr-me_0819.jpg', 'Tr-me_0467.jpg', 'Tr-me_0543.jpg', 'Tr-me_0065.jpg', 'Tr-me_0514.jpg', 'Tr-me_1133.jpg', 'Tr-me_0343.jpg', 'Tr-me_0290.jpg', 'Tr-me_0938.jpg', 'Tr-me_0729.jpg', 'Tr-me_1091.jpg', 'Tr-me_0292.jpg', 'Tr-me_0010.jpg', 'Tr-me_1036.jpg', 'Tr-me_0975.jpg', 'Tr-me_0111.jpg', 'Tr-me_1062.jpg', 'Tr-me_0981.jpg', 'Tr-me_0417.jpg', 'Tr-me_0208.jpg', 'Tr-me_0064.jpg', 'Tr-me_0659.jpg', 'Tr-me_0352.jpg', 'Tr-me_0635.jpg', 'Tr-me_0383.jpg', 'Tr-me_0283.jpg', 'Tr-me_0458.jpg', 'Tr-me_0832.jpg', 'Tr-me_0125.jpg', 'Tr-me_1258.jpg', 'Tr-me_0717.jpg', 'Tr-me_0720.jpg', 'Tr-me_0620.jpg', 'Tr-me_1067.jpg', 'Tr-me_0927.jpg', 'Tr-me_0142.jpg', 'Tr-me_1066.jpg', 'Tr-me_0164.jpg', 'Tr-me_0431.jpg', 'Tr-me_0634.jpg', 'Tr-me_0471.jpg', 'Tr-me_0612.jpg', 'Tr-me_0959.jpg', 'Tr-me_0672.jpg', 'Tr-me_1008.jpg', 'Tr-me_1175.jpg', 'Tr-me_0840.jpg', 'Tr-me_1132.jpg', 'Tr-me_1336.jpg', 'Tr-me_0154.jpg', 'Tr-me_0034.jpg', 'Tr-me_0599.jpg', 'Tr-me_0626.jpg', 'Tr-me_0141.jpg', 'Tr-me_0964.jpg', 'Tr-me_0772.jpg', 'Tr-me_0213.jpg', 'Tr-me_1015.jpg', 'Tr-me_0689.jpg', 'Tr-me_0549.jpg', 'Tr-me_0968.jpg', 'Tr-me_0207.jpg', 'Tr-me_0922.jpg', 'Tr-me_0518.jpg', 'Tr-me_0323.jpg', 'Tr-me_1107.jpg', 'Tr-me_0487.jpg', 'Tr-me_0957.jpg', 'Tr-me_0470.jpg', 'Tr-me_0917.jpg', 'Tr-me_0769.jpg', 'Tr-me_0068.jpg', 'Tr-me_1295.jpg', 'Tr-me_0542.jpg', 'Tr-me_1014.jpg', 'Tr-me_0032.jpg', 'Tr-me_0973.jpg', 'Tr-me_0230.jpg', 'Tr-me_0419.jpg', 'Tr-me_0614.jpg', 'Tr-me_0174.jpg', 'Tr-me_0314.jpg', 'Tr-me_1005.jpg', 'Tr-me_1176.jpg', 'Tr-me_0156.jpg', 'Tr-me_0793.jpg', 'Tr-me_1118.jpg', 'Tr-me_1046.jpg', 'Tr-me_0129.jpg', 'Tr-me_1060.jpg', 'Tr-me_0869.jpg', 'Tr-me_1097.jpg', 'Tr-me_1274.jpg', 'Tr-me_0577.jpg', 'Tr-me_0513.jpg', 'Tr-me_0255.jpg', 'Tr-me_0179.jpg', 'Tr-meTr_0006.jpg', 'Tr-me_0040.jpg', 'Tr-me_0687.jpg', 'Tr-me_1161.jpg', 'Tr-me_0578.jpg', 'Tr-me_1291.jpg', 'Tr-me_0202.jpg', 'Tr-me_1096.jpg', 'Tr-me_1230.jpg', 'Tr-me_0863.jpg', 'Tr-me_1249.jpg', 'Tr-me_0139.jpg', 'Tr-me_1104.jpg', 'Tr-me_0104.jpg', 'Tr-me_0108.jpg', 'Tr-me_1218.jpg', 'Tr-me_1260.jpg', 'Tr-me_0958.jpg', 'Tr-me_1224.jpg', 'Tr-me_0906.jpg', 'Tr-me_0993.jpg', 'Tr-me_0258.jpg', 'Tr-me_0726.jpg', 'Tr-me_1024.jpg', 'Tr-me_0657.jpg', 'Tr-me_0060.jpg', 'Tr-me_1201.jpg', 'Tr-me_0106.jpg', 'Tr-me_0943.jpg', 'Tr-me_0714.jpg', 'Tr-me_1294.jpg', 'Tr-me_1108.jpg', 'Tr-me_0526.jpg', 'Tr-me_0243.jpg', 'Tr-me_0157.jpg', 'Tr-me_1138.jpg', 'Tr-me_0623.jpg', 'Tr-me_0845.jpg', 'Tr-me_0519.jpg', 'Tr-me_0442.jpg', 'Tr-me_1052.jpg', 'Tr-me_0433.jpg', 'Tr-me_0402.jpg', 'Tr-me_1090.jpg', 'Tr-me_0501.jpg', 'Tr-me_0568.jpg', 'Tr-me_0138.jpg', 'Tr-me_0854.jpg', 'Tr-me_0670.jpg', 'Tr-me_0652.jpg', 'Tr-me_1056.jpg', 'Tr-me_0115.jpg', 'Tr-me_0616.jpg', 'Tr-me_0499.jpg', 'Tr-me_0173.jpg', 'Tr-me_0960.jpg', 'Tr-me_0069.jpg', 'Tr-me_0055.jpg', 'Tr-me_0321.jpg', 'Tr-me_1246.jpg', 'Tr-me_0783.jpg', 'Tr-me_0775.jpg', 'Tr-me_0178.jpg', 'Tr-me_0605.jpg', 'Tr-me_0761.jpg', 'Tr-me_0579.jpg', 'Tr-me_0502.jpg', 'Tr-me_0902.jpg', 'Tr-me_0966.jpg', 'Tr-me_1142.jpg', 'Tr-me_0852.jpg', 'Tr-me_1311.jpg', 'Tr-me_0886.jpg', 'Tr-me_0844.jpg', 'Tr-me_0268.jpg', 'Tr-me_0450.jpg', 'Tr-me_0821.jpg', 'Tr-me_1047.jpg', 'Tr-me_1081.jpg', 'Tr-me_1278.jpg', 'Tr-me_0407.jpg', 'Tr-me_0339.jpg', 'Tr-me_0708.jpg', 'Tr-me_0456.jpg', 'Tr-me_0663.jpg', 'Tr-me_0932.jpg', 'Tr-me_0946.jpg', 'Tr-me_0828.jpg', 'Tr-me_0386.jpg', 'Tr-me_0088.jpg', 'Tr-me_0982.jpg', 'Tr-me_0257.jpg', 'Tr-me_0493.jpg', 'Tr-me_0627.jpg', 'Tr-me_0784.jpg', 'Tr-me_0801.jpg', 'Tr-me_0613.jpg', 'Tr-me_1244.jpg', 'Tr-me_0393.jpg', 'Tr-me_0569.jpg', 'Tr-me_0575.jpg', 'Tr-me_0971.jpg', 'Tr-me_0237.jpg', 'Tr-me_0867.jpg', 'Tr-me_1160.jpg', 'Tr-me_0703.jpg', 'Tr-me_0757.jpg', 'Tr-me_0555.jpg', 'Tr-me_1172.jpg', 'Tr-me_1103.jpg', 'Tr-me_1310.jpg', 'Tr-me_0325.jpg', 'Tr-me_0926.jpg', 'Tr-me_0204.jpg', 'Tr-me_0269.jpg', 'Tr-me_0637.jpg', 'Tr-me_0693.jpg', 'Tr-me_1149.jpg', 'Tr-me_0086.jpg', 'Tr-me_0753.jpg', 'Tr-me_0099.jpg', 'Tr-me_0046.jpg', 'Tr-me_0354.jpg', 'Tr-me_0320.jpg', 'Tr-me_0479.jpg', 'Tr-me_0759.jpg', 'Tr-me_0631.jpg', 'Tr-me_0909.jpg', 'Tr-me_0712.jpg', 'Tr-me_0189.jpg', 'Tr-me_0035.jpg', 'Tr-me_1242.jpg', 'Tr-me_0019.jpg', 'Tr-me_1240.jpg', 'Tr-me_1078.jpg', 'Tr-me_0990.jpg', 'Tr-me_1328.jpg', 'Tr-me_1319.jpg', 'Tr-me_0398.jpg', 'Tr-me_1225.jpg', 'Tr-me_1143.jpg', 'Tr-me_1139.jpg', 'Tr-me_0148.jpg', 'Tr-me_0409.jpg', 'Tr-me_0716.jpg', 'Tr-me_1030.jpg', 'Tr-meTr_0003.jpg', 'Tr-me_0498.jpg', 'Tr-me_0401.jpg', 'Tr-me_0520.jpg', 'Tr-me_1321.jpg', 'Tr-me_0236.jpg', 'Tr-me_0059.jpg', 'Tr-me_0130.jpg', 'Tr-me_0688.jpg', 'Tr-me_0633.jpg', 'Tr-me_1032.jpg', 'Tr-me_0056.jpg', 'Tr-me_0658.jpg', 'Tr-me_0644.jpg', 'Tr-me_0664.jpg', 'Tr-me_0119.jpg', 'Tr-me_0553.jpg', 'Tr-me_0049.jpg', 'Tr-me_0872.jpg', 'Tr-me_0837.jpg', 'Tr-me_1034.jpg', 'Tr-me_0645.jpg', 'Tr-me_1338.jpg', 'Tr-me_0808.jpg', 'Tr-me_1124.jpg', 'Tr-me_0472.jpg', 'Tr-me_0679.jpg', 'Tr-me_1317.jpg', 'Tr-me_0416.jpg', 'Tr-me_1119.jpg', 'Tr-me_1213.jpg', 'Tr-me_0945.jpg', 'Tr-me_1115.jpg', 'Tr-me_0978.jpg', 'Tr-me_0226.jpg', 'Tr-me_0017.jpg', 'Tr-me_0505.jpg', 'Tr-me_0692.jpg', 'Tr-me_0597.jpg', 'Tr-me_0654.jpg', 'Tr-me_0462.jpg', 'Tr-me_0372.jpg', 'Tr-me_1051.jpg', 'Tr-me_0424.jpg', 'Tr-me_0373.jpg', 'Tr-me_0639.jpg', 'Tr-me_0929.jpg', 'Tr-me_0690.jpg', 'Tr-me_1159.jpg', 'Tr-me_0389.jpg', 'Tr-me_0770.jpg', 'Tr-me_0961.jpg', 'Tr-me_0910.jpg', 'Tr-me_0360.jpg', 'Tr-me_0877.jpg', 'Tr-me_0718.jpg', 'Tr-me_1286.jpg', 'Tr-me_0811.jpg', 'Tr-me_1287.jpg', 'Tr-me_1332.jpg', 'Tr-me_0196.jpg', 'Tr-me_1324.jpg', 'Tr-me_0342.jpg', 'Tr-me_1334.jpg', 'Tr-me_1214.jpg', 'Tr-me_1254.jpg', 'Tr-me_0598.jpg', 'Tr-me_0745.jpg', 'Tr-me_1075.jpg', 'Tr-me_0344.jpg', 'Tr-me_0042.jpg', 'Tr-me_0066.jpg', 'Tr-me_1252.jpg', 'Tr-me_0796.jpg', 'Tr-me_0057.jpg', 'Tr-me_0875.jpg', 'Tr-me_0841.jpg', 'Tr-me_0868.jpg', 'Tr-me_0252.jpg', 'Tr-me_0994.jpg', 'Tr-me_0318.jpg', 'Tr-me_0279.jpg', 'Tr-me_0194.jpg', 'Tr-me_0548.jpg', 'Tr-me_0151.jpg', 'Tr-me_1266.jpg', 'Tr-me_1284.jpg', 'Tr-me_0376.jpg', 'Tr-me_0395.jpg', 'Tr-me_0527.jpg', 'Tr-me_0921.jpg', 'Tr-me_0176.jpg', 'Tr-me_0874.jpg', 'Tr-me_1000.jpg', 'Tr-me_0023.jpg', 'Tr-me_1117.jpg', 'Tr-me_0800.jpg', 'Tr-me_1305.jpg', 'Tr-me_1326.jpg', 'Tr-me_0773.jpg', 'Tr-me_0740.jpg', 'Tr-me_0790.jpg', 'Tr-me_1038.jpg', 'Tr-me_0584.jpg', 'Tr-me_0552.jpg', 'Tr-me_0742.jpg', 'Tr-me_1280.jpg', 'Tr-me_0706.jpg', 'Tr-me_0649.jpg', 'Tr-me_1232.jpg', 'Tr-me_1105.jpg', 'Tr-me_0817.jpg', 'Tr-me_0438.jpg', 'Tr-me_1330.jpg', 'Tr-me_0474.jpg', 'Tr-me_0225.jpg', 'Tr-me_0302.jpg', 'Tr-me_0898.jpg', 'Tr-me_0666.jpg', 'Tr-me_0446.jpg', 'Tr-me_1100.jpg', 'Tr-me_1011.jpg', 'Tr-me_1074.jpg', 'Tr-me_0045.jpg', 'Tr-me_1316.jpg', 'Tr-me_0391.jpg', 'Tr-me_0734.jpg', 'Tr-me_0381.jpg', 'Tr-me_0411.jpg', 'Tr-me_0368.jpg', 'Tr-me_1272.jpg', 'Tr-me_0235.jpg', 'Tr-me_0948.jpg', 'Tr-me_0791.jpg', 'Tr-me_0683.jpg', 'Tr-me_0891.jpg', 'Tr-me_0014.jpg', 'Tr-me_0385.jpg', 'Tr-me_1006.jpg', 'Tr-me_0818.jpg', 'Tr-me_0062.jpg', 'Tr-me_0881.jpg', 'Tr-me_0997.jpg', 'Tr-me_0349.jpg', 'Tr-me_1282.jpg', 'Tr-me_0969.jpg', 'Tr-me_1027.jpg', 'Tr-me_0887.jpg', 'Tr-me_0356.jpg', 'Tr-me_0298.jpg', 'Tr-me_1102.jpg', 'Tr-me_1228.jpg', 'Tr-me_0210.jpg', 'Tr-me_0756.jpg', 'Tr-me_0609.jpg', 'Tr-me_0930.jpg', 'Tr-me_0296.jpg', 'Tr-me_0423.jpg', 'Tr-me_0839.jpg', 'Tr-me_0044.jpg', 'Tr-me_0749.jpg', 'Tr-me_0771.jpg', 'Tr-me_0084.jpg', 'Tr-me_0367.jpg', 'Tr-me_0697.jpg', 'Tr-me_0530.jpg', 'Tr-me_0316.jpg', 'Tr-me_0833.jpg', 'Tr-me_0212.jpg', 'Tr-me_0912.jpg', 'Tr-me_1088.jpg', 'Tr-me_0061.jpg', 'Tr-me_0457.jpg', 'Tr-me_0781.jpg', 'Tr-me_0855.jpg', 'Tr-me_0972.jpg', 'Tr-me_0870.jpg', 'Tr-me_0145.jpg', 'Tr-me_0188.jpg', 'Tr-me_0485.jpg', 'Tr-me_0100.jpg', 'Tr-me_1169.jpg', 'Tr-me_0686.jpg', 'Tr-me_0132.jpg', 'Tr-me_0825.jpg', 'Tr-me_0234.jpg', 'Tr-me_0027.jpg', 'Tr-me_0190.jpg', 'Tr-me_1031.jpg', 'Tr-me_0451.jpg', 'Tr-me_0813.jpg', 'Tr-me_0183.jpg', 'Tr-me_1125.jpg', 'Tr-meTr_0004.jpg', 'Tr-me_0449.jpg', 'Tr-me_0607.jpg', 'Tr-me_1171.jpg', 'Tr-me_0147.jpg', 'Tr-me_1239.jpg', 'Tr-me_0197.jpg', 'Tr-me_0694.jpg', 'Tr-me_1059.jpg', 'Tr-me_0812.jpg', 'Tr-me_0263.jpg', 'Tr-me_1111.jpg', 'Tr-me_0051.jpg', 'Tr-me_1112.jpg', 'Tr-me_0022.jpg', 'Tr-me_0110.jpg', 'Tr-me_1298.jpg', 'Tr-me_0205.jpg', 'Tr-me_1179.jpg', 'Tr-me_0020.jpg', 'Tr-me_0941.jpg', 'Tr-me_0719.jpg', 'Tr-me_0109.jpg', 'Tr-me_0452.jpg', 'Tr-me_0105.jpg', 'Tr-me_0885.jpg', 'Tr-me_0724.jpg', 'Tr-me_1238.jpg', 'Tr-me_0591.jpg', 'Tr-me_0444.jpg', 'Tr-me_0587.jpg', 'Tr-me_0357.jpg', 'Tr-me_1083.jpg', 'Tr-me_1136.jpg', 'Tr-me_1065.jpg', 'Tr-me_1020.jpg', 'Tr-me_0767.jpg', 'Tr-me_1288.jpg', 'Tr-me_0604.jpg', 'Tr-me_1002.jpg', 'Tr-me_1312.jpg', 'Tr-me_0545.jpg', 'Tr-me_1147.jpg', 'Tr-me_1109.jpg', 'Tr-me_0594.jpg', 'Tr-me_0762.jpg', 'Tr-me_1322.jpg', 'Tr-me_1007.jpg', 'Tr-me_0087.jpg', 'Tr-me_0447.jpg', 'Tr-me_0128.jpg', 'Tr-me_0831.jpg', 'Tr-me_0963.jpg', 'Tr-me_0510.jpg', 'Tr-me_1181.jpg', 'Tr-me_0820.jpg', 'Tr-me_0422.jpg', 'Tr-me_0322.jpg', 'Tr-me_1263.jpg', 'Tr-me_0262.jpg', 'Tr-me_0324.jpg', 'Tr-me_0428.jpg', 'Tr-me_0529.jpg', 'Tr-me_0123.jpg', 'Tr-me_0662.jpg', 'Tr-me_0053.jpg', 'Tr-me_1093.jpg', 'Tr-me_0768.jpg', 'Tr-me_0752.jpg', 'Tr-me_0233.jpg', 'Tr-me_1314.jpg', 'Tr-me_0859.jpg', 'Tr-me_1265.jpg', 'Tr-me_0495.jpg', 'Tr-me_1134.jpg', 'Tr-me_1163.jpg', 'Tr-me_0804.jpg', 'Tr-me_0522.jpg', 'Tr-me_0853.jpg', 'Tr-me_0660.jpg', 'Tr-me_1259.jpg', 'Tr-me_0722.jpg', 'Tr-me_0537.jpg', 'Tr-me_0441.jpg', 'Tr-me_0509.jpg', 'Tr-me_0348.jpg', 'Tr-me_0295.jpg', 'Tr-me_0894.jpg', 'Tr-me_0823.jpg', 'Tr-me_1116.jpg', 'Tr-me_0078.jpg', 'Tr-me_0112.jpg', 'Tr-me_0039.jpg', 'Tr-me_0380.jpg', 'Tr-me_0461.jpg', 'Tr-me_0388.jpg', 'Tr-me_0340.jpg', 'Tr-me_0434.jpg', 'Tr-me_0735.jpg', 'Tr-me_0836.jpg', 'Tr-me_0976.jpg', 'Tr-me_0070.jpg', 'Tr-me_0082.jpg', 'Tr-me_0850.jpg', 'Tr-me_0967.jpg', 'Tr-me_0077.jpg', 'Tr-me_1017.jpg', 'Tr-me_0896.jpg', 'Tr-me_0755.jpg', 'Tr-me_1237.jpg', 'Tr-me_0166.jpg', 'Tr-me_0037.jpg', 'Tr-me_0600.jpg', 'Tr-me_0175.jpg', 'Tr-me_0778.jpg', 'Tr-me_0893.jpg', 'Tr-me_0834.jpg', 'Tr-me_1248.jpg', 'Tr-me_0861.jpg', 'Tr-me_0117.jpg', 'Tr-me_0274.jpg', 'Tr-me_0682.jpg', 'Tr-me_0047.jpg', 'Tr-me_1337.jpg', 'Tr-me_0029.jpg', 'Tr-me_1016.jpg', 'Tr-me_0974.jpg', 'Tr-me_0094.jpg', 'Tr-me_0427.jpg', 'Tr-me_0589.jpg', 'Tr-me_0251.jpg', 'Tr-me_0684.jpg', 'Tr-me_0390.jpg', 'Tr-me_0408.jpg', 'Tr-me_0835.jpg', 'Tr-me_1292.jpg', 'Tr-me_0250.jpg', 'Tr-me_0259.jpg', 'Tr-me_0798.jpg', 'Tr-me_0615.jpg', 'Tr-me_0653.jpg', 'Tr-me_0900.jpg', 'Tr-me_0911.jpg', 'Tr-me_0048.jpg', 'Tr-me_0556.jpg', 'Tr-me_0792.jpg', 'Tr-me_0253.jpg', 'Tr-me_0785.jpg', 'Tr-me_1245.jpg', 'Tr-me_0899.jpg', 'Tr-me_0285.jpg', 'Tr-me_0789.jpg', 'Tr-me_0619.jpg', 'Tr-me_0908.jpg', 'Tr-me_0015.jpg', 'Tr-me_0739.jpg', 'Tr-me_0827.jpg', 'Tr-me_0150.jpg', 'Tr-me_1156.jpg', 'Tr-me_0710.jpg', 'Tr-me_0437.jpg', 'Tr-me_0270.jpg', 'Tr-me_0986.jpg', 'Tr-me_1079.jpg', 'Tr-me_0754.jpg', 'Tr-me_1177.jpg', 'Tr-me_0538.jpg', 'Tr-me_0265.jpg', 'Tr-me_0725.jpg', 'Tr-me_0346.jpg', 'Tr-me_1162.jpg', 'Tr-me_0195.jpg', 'Tr-me_1235.jpg', 'Tr-me_0507.jpg', 'Tr-me_0534.jpg', 'Tr-me_0865.jpg', 'Tr-me_1092.jpg', 'Tr-me_0031.jpg', 'Tr-me_1167.jpg', 'Tr-me_0463.jpg', 'Tr-me_0291.jpg', 'Tr-me_0573.jpg', 'Tr-me_0303.jpg', 'Tr-me_0076.jpg', 'Tr-me_1211.jpg', 'Tr-me_0570.jpg', 'Tr-me_0777.jpg', 'Tr-me_0443.jpg', 'Tr-me_0219.jpg', 'Tr-me_1173.jpg', 'Tr-me_1068.jpg', 'Tr-me_0209.jpg', 'Tr-me_0567.jpg', 'Tr-me_0965.jpg', 'Tr-me_0030.jpg', 'Tr-me_0732.jpg', 'Tr-me_0617.jpg', 'Tr-me_0830.jpg', 'Tr-me_0074.jpg', 'Tr-me_0272.jpg', 'Tr-me_1153.jpg', 'Tr-me_0221.jpg', 'Tr-me_0824.jpg', 'Tr-me_0699.jpg', 'Tr-me_0271.jpg', 'Tr-me_0455.jpg', 'Tr-me_0241.jpg', 'Tr-me_0131.jpg', 'Tr-me_0989.jpg', 'Tr-me_1191.jpg', 'Tr-me_0727.jpg', 'Tr-me_1144.jpg', 'Tr-me_0135.jpg', 'Tr-me_0606.jpg', 'Tr-me_0723.jpg', 'Tr-me_0137.jpg', 'Tr-me_1064.jpg', 'Tr-me_1216.jpg', 'Tr-me_1202.jpg', 'Tr-me_0229.jpg', 'Tr-me_0362.jpg', 'Tr-me_0036.jpg', 'Tr-me_1267.jpg', 'Tr-me_0275.jpg', 'Tr-me_0375.jpg', 'Tr-me_0083.jpg', 'Tr-me_0711.jpg', 'Tr-meTr_0007.jpg', 'Tr-me_0311.jpg', 'Tr-me_0168.jpg', 'Tr-me_0559.jpg', 'Tr-me_1300.jpg', 'Tr-me_1206.jpg', 'Tr-me_0747.jpg', 'Tr-me_0647.jpg', 'Tr-me_0642.jpg', 'Tr-me_0731.jpg', 'Tr-me_1028.jpg', 'Tr-me_1192.jpg', 'Tr-me_1099.jpg', 'Tr-me_0333.jpg', 'Tr-me_0685.jpg', 'Tr-me_0089.jpg', 'Tr-me_0846.jpg', 'Tr-me_0092.jpg', 'Tr-me_0564.jpg', 'Tr-me_0628.jpg', 'Tr-me_0889.jpg', 'Tr-me_0497.jpg', 'Tr-me_0571.jpg', 'Tr-me_1229.jpg', 'Tr-me_0351.jpg', 'Tr-me_1250.jpg', 'Tr-me_0500.jpg', 'Tr-me_0503.jpg', 'Tr-me_0238.jpg', 'Tr-me_0655.jpg', 'Tr-me_0738.jpg', 'Tr-me_0985.jpg', 'Tr-me_1094.jpg', 'Tr-me_0162.jpg', 'Tr-me_1299.jpg', 'Tr-me_1304.jpg', 'Tr-me_0140.jpg', 'Tr-meTr_0008.jpg', 'Tr-me_0227.jpg', 'Tr-me_1037.jpg', 'Tr-me_1045.jpg', 'Tr-me_0954.jpg', 'Tr-me_0546.jpg', 'Tr-me_0473.jpg', 'Tr-me_1212.jpg', 'Tr-me_0528.jpg', 'Tr-me_1320.jpg', 'Tr-me_1271.jpg', 'Tr-me_0953.jpg', 'Tr-me_0453.jpg', 'Tr-me_0525.jpg', 'Tr-me_0405.jpg', 'Tr-me_1146.jpg', 'Tr-me_0224.jpg', 'Tr-me_0387.jpg', 'Tr-me_0161.jpg', 'Tr-me_1223.jpg', 'Tr-me_0984.jpg', 'Tr-me_0331.jpg', 'Tr-me_0361.jpg']\n",
            "\n",
            "📁 Folder: /content/dataset/Training/glioma\n",
            "📂 Subfolders: []\n",
            "🖼️ Files: ['Tr-gl_1053.jpg', 'Tr-gl_0376.jpg', 'Tr-gl_1043.jpg', 'Tr-gl_0393.jpg', 'Tr-gl_0879.jpg', 'Tr-gl_0526.jpg', 'Tr-gl_0877.jpg', 'Tr-gl_0041.jpg', 'Tr-gl_1149.jpg', 'Tr-gl_1283.jpg', 'Tr-gl_1268.jpg', 'Tr-gl_0257.jpg', 'Tr-gl_0283.jpg', 'Tr-gl_0578.jpg', 'Tr-gl_0544.jpg', 'Tr-gl_1201.jpg', 'Tr-gl_0514.jpg', 'Tr-gl_0089.jpg', 'Tr-gl_1031.jpg', 'Tr-gl_1144.jpg', 'Tr-gl_0278.jpg', 'Tr-gl_0718.jpg', 'Tr-gl_0409.jpg', 'Tr-gl_0325.jpg', 'Tr-gl_0812.jpg', 'Tr-gl_0321.jpg', 'Tr-gl_0512.jpg', 'Tr-gl_0523.jpg', 'Tr-gl_0672.jpg', 'Tr-glTr_0000.jpg', 'Tr-gl_1234.jpg', 'Tr-gl_0925.jpg', 'Tr-gl_0915.jpg', 'Tr-gl_0712.jpg', 'Tr-gl_0713.jpg', 'Tr-gl_0991.jpg', 'Tr-gl_0464.jpg', 'Tr-gl_0174.jpg', 'Tr-gl_1167.jpg', 'Tr-gl_0679.jpg', 'Tr-gl_0655.jpg', 'Tr-gl_1226.jpg', 'Tr-gl_0745.jpg', 'Tr-gl_0969.jpg', 'Tr-gl_1293.jpg', 'Tr-gl_0615.jpg', 'Tr-gl_0413.jpg', 'Tr-gl_0859.jpg', 'Tr-gl_0751.jpg', 'Tr-gl_0131.jpg', 'Tr-gl_1088.jpg', 'Tr-gl_1139.jpg', 'Tr-gl_0790.jpg', 'Tr-gl_0988.jpg', 'Tr-gl_1074.jpg', 'Tr-gl_0734.jpg', 'Tr-gl_1010.jpg', 'Tr-gl_0059.jpg', 'Tr-gl_0808.jpg', 'Tr-gl_0821.jpg', 'Tr-gl_0994.jpg', 'Tr-gl_0624.jpg', 'Tr-gl_0168.jpg', 'Tr-gl_0942.jpg', 'Tr-gl_1178.jpg', 'Tr-gl_0224.jpg', 'Tr-gl_1313.jpg', 'Tr-gl_1118.jpg', 'Tr-gl_0211.jpg', 'Tr-gl_1066.jpg', 'Tr-gl_0536.jpg', 'Tr-gl_0207.jpg', 'Tr-gl_0212.jpg', 'Tr-gl_0081.jpg', 'Tr-gl_1214.jpg', 'Tr-gl_1263.jpg', 'Tr-gl_0314.jpg', 'Tr-gl_0188.jpg', 'Tr-gl_0594.jpg', 'Tr-gl_0375.jpg', 'Tr-gl_0073.jpg', 'Tr-gl_0177.jpg', 'Tr-gl_1308.jpg', 'Tr-gl_0752.jpg', 'Tr-gl_0906.jpg', 'Tr-gl_0689.jpg', 'Tr-gl_0391.jpg', 'Tr-gl_0999.jpg', 'Tr-gl_0550.jpg', 'Tr-gl_1279.jpg', 'Tr-gl_0440.jpg', 'Tr-gl_0028.jpg', 'Tr-gl_1077.jpg', 'Tr-gl_0115.jpg', 'Tr-gl_0097.jpg', 'Tr-gl_0176.jpg', 'Tr-gl_1069.jpg', 'Tr-gl_0068.jpg', 'Tr-gl_0140.jpg', 'Tr-gl_1037.jpg', 'Tr-gl_0911.jpg', 'Tr-gl_0519.jpg', 'Tr-gl_0916.jpg', 'Tr-gl_1085.jpg', 'Tr-gl_1086.jpg', 'Tr-gl_0315.jpg', 'Tr-gl_0293.jpg', 'Tr-gl_1158.jpg', 'Tr-gl_1249.jpg', 'Tr-gl_0294.jpg', 'Tr-gl_1170.jpg', 'Tr-gl_0528.jpg', 'Tr-gl_0015.jpg', 'Tr-gl_0157.jpg', 'Tr-gl_0048.jpg', 'Tr-gl_0345.jpg', 'Tr-gl_0491.jpg', 'Tr-gl_0266.jpg', 'Tr-gl_1050.jpg', 'Tr-gl_0762.jpg', 'Tr-gl_0539.jpg', 'Tr-gl_0638.jpg', 'Tr-gl_0444.jpg', 'Tr-gl_0722.jpg', 'Tr-gl_1116.jpg', 'Tr-gl_0166.jpg', 'Tr-gl_0841.jpg', 'Tr-gl_1211.jpg', 'Tr-gl_0032.jpg', 'Tr-gl_0736.jpg', 'Tr-gl_0506.jpg', 'Tr-gl_0263.jpg', 'Tr-gl_1289.jpg', 'Tr-gl_0109.jpg', 'Tr-gl_0850.jpg', 'Tr-gl_1205.jpg', 'Tr-gl_0417.jpg', 'Tr-gl_1185.jpg', 'Tr-gl_0775.jpg', 'Tr-gl_1076.jpg', 'Tr-gl_1121.jpg', 'Tr-gl_0306.jpg', 'Tr-gl_0433.jpg', 'Tr-gl_0738.jpg', 'Tr-gl_0829.jpg', 'Tr-gl_1179.jpg', 'Tr-gl_0040.jpg', 'Tr-gl_0981.jpg', 'Tr-gl_0757.jpg', 'Tr-gl_0759.jpg', 'Tr-gl_0160.jpg', 'Tr-gl_0670.jpg', 'Tr-gl_0235.jpg', 'Tr-gl_0905.jpg', 'Tr-gl_1223.jpg', 'Tr-gl_1005.jpg', 'Tr-gl_0013.jpg', 'Tr-gl_0239.jpg', 'Tr-gl_0088.jpg', 'Tr-gl_0642.jpg', 'Tr-gl_0502.jpg', 'Tr-gl_0462.jpg', 'Tr-gl_0572.jpg', 'Tr-gl_0435.jpg', 'Tr-gl_0029.jpg', 'Tr-gl_1072.jpg', 'Tr-gl_1146.jpg', 'Tr-gl_0955.jpg', 'Tr-gl_0047.jpg', 'Tr-gl_0319.jpg', 'Tr-gl_1273.jpg', 'Tr-gl_0667.jpg', 'Tr-gl_0423.jpg', 'Tr-gl_0447.jpg', 'Tr-gl_0251.jpg', 'Tr-gl_0364.jpg', 'Tr-gl_0092.jpg', 'Tr-gl_0599.jpg', 'Tr-gl_0329.jpg', 'Tr-gl_0607.jpg', 'Tr-gl_0780.jpg', 'Tr-gl_0438.jpg', 'Tr-gl_0627.jpg', 'Tr-gl_0399.jpg', 'Tr-gl_0347.jpg', 'Tr-gl_1198.jpg', 'Tr-gl_0156.jpg', 'Tr-gl_0643.jpg', 'Tr-gl_0885.jpg', 'Tr-gl_0646.jpg', 'Tr-gl_0058.jpg', 'Tr-gl_1102.jpg', 'Tr-gl_0730.jpg', 'Tr-gl_0362.jpg', 'Tr-glTr_0006.jpg', 'Tr-gl_0710.jpg', 'Tr-gl_1129.jpg', 'Tr-gl_1117.jpg', 'Tr-gl_0254.jpg', 'Tr-gl_0425.jpg', 'Tr-gl_1290.jpg', 'Tr-gl_0834.jpg', 'Tr-gl_0920.jpg', 'Tr-gl_1095.jpg', 'Tr-gl_0253.jpg', 'Tr-gl_1303.jpg', 'Tr-gl_0388.jpg', 'Tr-gl_0075.jpg', 'Tr-gl_1021.jpg', 'Tr-gl_1097.jpg', 'Tr-gl_0901.jpg', 'Tr-gl_0471.jpg', 'Tr-gl_1122.jpg', 'Tr-gl_0145.jpg', 'Tr-gl_1143.jpg', 'Tr-gl_0108.jpg', 'Tr-gl_0335.jpg', 'Tr-gl_0760.jpg', 'Tr-gl_0302.jpg', 'Tr-gl_0525.jpg', 'Tr-gl_0876.jpg', 'Tr-gl_0826.jpg', 'Tr-gl_0330.jpg', 'Tr-gl_0613.jpg', 'Tr-gl_0873.jpg', 'Tr-gl_0308.jpg', 'Tr-gl_0807.jpg', 'Tr-gl_0577.jpg', 'Tr-gl_1016.jpg', 'Tr-gl_0231.jpg', 'Tr-gl_1061.jpg', 'Tr-gl_0724.jpg', 'Tr-gl_1083.jpg', 'Tr-gl_0660.jpg', 'Tr-gl_0397.jpg', 'Tr-gl_1244.jpg', 'Tr-gl_1217.jpg', 'Tr-gl_0856.jpg', 'Tr-gl_1006.jpg', 'Tr-gl_0344.jpg', 'Tr-gl_0037.jpg', 'Tr-gl_0038.jpg', 'Tr-gl_1209.jpg', 'Tr-gl_1291.jpg', 'Tr-gl_0516.jpg', 'Tr-gl_1003.jpg', 'Tr-gl_1294.jpg', 'Tr-gl_0164.jpg', 'Tr-gl_0466.jpg', 'Tr-gl_0524.jpg', 'Tr-gl_0170.jpg', 'Tr-gl_0973.jpg', 'Tr-gl_0256.jpg', 'Tr-gl_0467.jpg', 'Tr-gl_0298.jpg', 'Tr-gl_1311.jpg', 'Tr-gl_0961.jpg', 'Tr-gl_0799.jpg', 'Tr-gl_1213.jpg', 'Tr-gl_0389.jpg', 'Tr-gl_0437.jpg', 'Tr-gl_0697.jpg', 'Tr-gl_0588.jpg', 'Tr-gl_0772.jpg', 'Tr-gl_1206.jpg', 'Tr-gl_0147.jpg', 'Tr-gl_0756.jpg', 'Tr-gl_0332.jpg', 'Tr-gl_1073.jpg', 'Tr-gl_1110.jpg', 'Tr-gl_0172.jpg', 'Tr-gl_1250.jpg', 'Tr-gl_1169.jpg', 'Tr-gl_0339.jpg', 'Tr-gl_0553.jpg', 'Tr-gl_1204.jpg', 'Tr-glTr_0001.jpg', 'Tr-gl_0012.jpg', 'Tr-gl_1013.jpg', 'Tr-gl_0549.jpg', 'Tr-gl_0192.jpg', 'Tr-gl_0960.jpg', 'Tr-gl_0653.jpg', 'Tr-gl_0326.jpg', 'Tr-gl_0571.jpg', 'Tr-gl_0729.jpg', 'Tr-gl_0507.jpg', 'Tr-gl_0924.jpg', 'Tr-gl_0428.jpg', 'Tr-gl_0197.jpg', 'Tr-gl_0267.jpg', 'Tr-gl_0840.jpg', 'Tr-gl_0794.jpg', 'Tr-glTr_0005.jpg', 'Tr-gl_0185.jpg', 'Tr-gl_0477.jpg', 'Tr-gl_0716.jpg', 'Tr-gl_0497.jpg', 'Tr-gl_0190.jpg', 'Tr-gl_0774.jpg', 'Tr-gl_0299.jpg', 'Tr-gl_0836.jpg', 'Tr-gl_0228.jpg', 'Tr-gl_0452.jpg', 'Tr-gl_0483.jpg', 'Tr-gl_1155.jpg', 'Tr-gl_0018.jpg', 'Tr-gl_0451.jpg', 'Tr-gl_0120.jpg', 'Tr-gl_0626.jpg', 'Tr-gl_0313.jpg', 'Tr-gl_0868.jpg', 'Tr-gl_0614.jpg', 'Tr-gl_0086.jpg', 'Tr-gl_0517.jpg', 'Tr-gl_1190.jpg', 'Tr-gl_0034.jpg', 'Tr-gl_0486.jpg', 'Tr-gl_0118.jpg', 'Tr-gl_0044.jpg', 'Tr-gl_0328.jpg', 'Tr-gl_1059.jpg', 'Tr-gl_0082.jpg', 'Tr-gl_1154.jpg', 'Tr-gl_1094.jpg', 'Tr-gl_0469.jpg', 'Tr-gl_0221.jpg', 'Tr-gl_0453.jpg', 'Tr-gl_1314.jpg', 'Tr-gl_0531.jpg', 'Tr-gl_0786.jpg', 'Tr-gl_0776.jpg', 'Tr-gl_0527.jpg', 'Tr-gl_0064.jpg', 'Tr-gl_0346.jpg', 'Tr-gl_0134.jpg', 'Tr-gl_0570.jpg', 'Tr-gl_0184.jpg', 'Tr-gl_1195.jpg', 'Tr-gl_0171.jpg', 'Tr-gl_0348.jpg', 'Tr-gl_0681.jpg', 'Tr-gl_0066.jpg', 'Tr-gl_0022.jpg', 'Tr-gl_0522.jpg', 'Tr-gl_1183.jpg', 'Tr-gl_0079.jpg', 'Tr-gl_1215.jpg', 'Tr-gl_0246.jpg', 'Tr-gl_0855.jpg', 'Tr-gl_1032.jpg', 'Tr-gl_0383.jpg', 'Tr-gl_0415.jpg', 'Tr-gl_1194.jpg', 'Tr-gl_1099.jpg', 'Tr-gl_0913.jpg', 'Tr-gl_0296.jpg', 'Tr-gl_0559.jpg', 'Tr-gl_1177.jpg', 'Tr-gl_0324.jpg', 'Tr-gl_0809.jpg', 'Tr-gl_0356.jpg', 'Tr-gl_0847.jpg', 'Tr-gl_1054.jpg', 'Tr-gl_0202.jpg', 'Tr-gl_0017.jpg', 'Tr-gl_0138.jpg', 'Tr-gl_0465.jpg', 'Tr-gl_0629.jpg', 'Tr-gl_0971.jpg', 'Tr-gl_0456.jpg', 'Tr-gl_1017.jpg', 'Tr-gl_0777.jpg', 'Tr-gl_0727.jpg', 'Tr-gl_1001.jpg', 'Tr-gl_0864.jpg', 'Tr-gl_0584.jpg', 'Tr-gl_1278.jpg', 'Tr-gl_1048.jpg', 'Tr-gl_0800.jpg', 'Tr-glTr_0008.jpg', 'Tr-gl_0203.jpg', 'Tr-gl_0818.jpg', 'Tr-gl_1312.jpg', 'Tr-gl_0603.jpg', 'Tr-gl_0890.jpg', 'Tr-gl_0933.jpg', 'Tr-gl_0951.jpg', 'Tr-gl_0337.jpg', 'Tr-gl_0635.jpg', 'Tr-gl_0204.jpg', 'Tr-gl_1315.jpg', 'Tr-gl_0789.jpg', 'Tr-gl_1255.jpg', 'Tr-gl_1128.jpg', 'Tr-gl_0579.jpg', 'Tr-gl_0861.jpg', 'Tr-gl_0863.jpg', 'Tr-gl_0867.jpg', 'Tr-gl_0411.jpg', 'Tr-gl_1295.jpg', 'Tr-gl_0962.jpg', 'Tr-gl_0503.jpg', 'Tr-gl_0806.jpg', 'Tr-gl_0379.jpg', 'Tr-gl_0616.jpg', 'Tr-gl_1133.jpg', 'Tr-gl_0566.jpg', 'Tr-gl_0084.jpg', 'Tr-gl_1150.jpg', 'Tr-gl_1186.jpg', 'Tr-gl_0668.jpg', 'Tr-gl_0448.jpg', 'Tr-gl_0402.jpg', 'Tr-gl_0371.jpg', 'Tr-gl_1285.jpg', 'Tr-gl_0967.jpg', 'Tr-gl_0621.jpg', 'Tr-gl_0208.jpg', 'Tr-gl_0723.jpg', 'Tr-gl_0222.jpg', 'Tr-gl_0611.jpg', 'Tr-gl_0236.jpg', 'Tr-gl_1075.jpg', 'Tr-gl_0737.jpg', 'Tr-gl_1152.jpg', 'Tr-gl_1126.jpg', 'Tr-gl_0634.jpg', 'Tr-gl_1207.jpg', 'Tr-gl_0703.jpg', 'Tr-gl_0585.jpg', 'Tr-gl_1269.jpg', 'Tr-gl_1056.jpg', 'Tr-gl_0055.jpg', 'Tr-gl_1306.jpg', 'Tr-gl_0521.jpg', 'Tr-gl_1271.jpg', 'Tr-gl_1084.jpg', 'Tr-gl_0699.jpg', 'Tr-gl_0352.jpg', 'Tr-gl_0857.jpg', 'Tr-gl_0167.jpg', 'Tr-gl_0709.jpg', 'Tr-gl_0398.jpg', 'Tr-gl_0593.jpg', 'Tr-gl_0165.jpg', 'Tr-gl_0112.jpg', 'Tr-gl_0289.jpg', 'Tr-gl_0711.jpg', 'Tr-gl_1284.jpg', 'Tr-gl_0422.jpg', 'Tr-gl_1242.jpg', 'Tr-gl_0077.jpg', 'Tr-gl_0421.jpg', 'Tr-gl_0087.jpg', 'Tr-gl_0731.jpg', 'Tr-gl_1282.jpg', 'Tr-gl_0511.jpg', 'Tr-gl_0373.jpg', 'Tr-gl_0380.jpg', 'Tr-gl_1164.jpg', 'Tr-gl_1231.jpg', 'Tr-gl_1276.jpg', 'Tr-gl_1068.jpg', 'Tr-gl_0119.jpg', 'Tr-gl_0102.jpg', 'Tr-gl_0742.jpg', 'Tr-gl_0917.jpg', 'Tr-gl_0828.jpg', 'Tr-gl_0178.jpg', 'Tr-gl_1058.jpg', 'Tr-gl_0721.jpg', 'Tr-gl_0353.jpg', 'Tr-gl_1147.jpg', 'Tr-gl_1025.jpg', 'Tr-gl_0952.jpg', 'Tr-gl_0286.jpg', 'Tr-gl_0285.jpg', 'Tr-gl_1274.jpg', 'Tr-gl_1227.jpg', 'Tr-gl_0732.jpg', 'Tr-gl_1132.jpg', 'Tr-gl_1131.jpg', 'Tr-gl_0513.jpg', 'Tr-gl_0458.jpg', 'Tr-gl_1033.jpg', 'Tr-gl_0434.jpg', 'Tr-gl_0771.jpg', 'Tr-gl_1049.jpg', 'Tr-gl_0754.jpg', 'Tr-gl_0769.jpg', 'Tr-gl_1224.jpg', 'Tr-gl_0538.jpg', 'Tr-gl_0560.jpg', 'Tr-gl_0301.jpg', 'Tr-gl_0883.jpg', 'Tr-gl_0418.jpg', 'Tr-gl_0420.jpg', 'Tr-gl_0766.jpg', 'Tr-gl_0551.jpg', 'Tr-gl_1111.jpg', 'Tr-gl_0898.jpg', 'Tr-gl_0071.jpg', 'Tr-gl_0887.jpg', 'Tr-gl_0654.jpg', 'Tr-gl_0023.jpg', 'Tr-gl_0510.jpg', 'Tr-gl_0232.jpg', 'Tr-gl_0249.jpg', 'Tr-gl_1254.jpg', 'Tr-gl_1253.jpg', 'Tr-gl_1024.jpg', 'Tr-gl_0069.jpg', 'Tr-gl_0564.jpg', 'Tr-gl_0979.jpg', 'Tr-gl_1138.jpg', 'Tr-gl_0595.jpg', 'Tr-gl_1064.jpg', 'Tr-gl_1264.jpg', 'Tr-gl_0936.jpg', 'Tr-gl_0500.jpg', 'Tr-gl_0030.jpg', 'Tr-gl_0470.jpg', 'Tr-gl_1082.jpg', 'Tr-gl_1019.jpg', 'Tr-gl_1065.jpg', 'Tr-gl_0148.jpg', 'Tr-gl_0557.jpg', 'Tr-gl_1092.jpg', 'Tr-gl_0974.jpg', 'Tr-gl_0360.jpg', 'Tr-gl_1026.jpg', 'Tr-gl_0206.jpg', 'Tr-gl_1302.jpg', 'Tr-gl_0019.jpg', 'Tr-gl_0784.jpg', 'Tr-gl_0530.jpg', 'Tr-gl_0366.jpg', 'Tr-gl_1078.jpg', 'Tr-gl_0853.jpg', 'Tr-gl_0311.jpg', 'Tr-gl_0532.jpg', 'Tr-gl_0617.jpg', 'Tr-gl_0562.jpg', 'Tr-gl_0085.jpg', 'Tr-gl_0149.jpg', 'Tr-gl_0633.jpg', 'Tr-gl_1007.jpg', 'Tr-gl_0252.jpg', 'Tr-gl_1030.jpg', 'Tr-gl_0797.jpg', 'Tr-gl_0908.jpg', 'Tr-gl_0419.jpg', 'Tr-gl_1218.jpg', 'Tr-gl_0842.jpg', 'Tr-gl_1130.jpg', 'Tr-gl_0849.jpg', 'Tr-gl_0218.jpg', 'Tr-gl_0943.jpg', 'Tr-gl_0180.jpg', 'Tr-gl_0245.jpg', 'Tr-gl_0369.jpg', 'Tr-gl_0881.jpg', 'Tr-gl_0540.jpg', 'Tr-gl_1246.jpg', 'Tr-gl_0781.jpg', 'Tr-gl_0845.jpg', 'Tr-gl_0210.jpg', 'Tr-gl_0269.jpg', 'Tr-gl_0159.jpg', 'Tr-gl_0498.jpg', 'Tr-gl_0686.jpg', 'Tr-gl_1161.jpg', 'Tr-gl_0136.jpg', 'Tr-gl_1157.jpg', 'Tr-gl_0316.jpg', 'Tr-gl_0996.jpg', 'Tr-gl_1023.jpg', 'Tr-gl_0691.jpg', 'Tr-gl_0295.jpg', 'Tr-gl_0953.jpg', 'Tr-gl_0405.jpg', 'Tr-gl_0865.jpg', 'Tr-gl_1142.jpg', 'Tr-gl_0894.jpg', 'Tr-gl_0783.jpg', 'Tr-gl_0446.jpg', 'Tr-gl_1020.jpg', 'Tr-gl_0574.jpg', 'Tr-gl_0484.jpg', 'Tr-gl_1301.jpg', 'Tr-gl_0978.jpg', 'Tr-gl_0949.jpg', 'Tr-gl_1070.jpg', 'Tr-gl_0361.jpg', 'Tr-gl_0758.jpg', 'Tr-gl_0919.jpg', 'Tr-gl_0175.jpg', 'Tr-gl_0272.jpg', 'Tr-gl_0795.jpg', 'Tr-gl_0442.jpg', 'Tr-gl_0233.jpg', 'Tr-gl_0343.jpg', 'Tr-gl_0091.jpg', 'Tr-gl_0031.jpg', 'Tr-gl_0796.jpg', 'Tr-gl_1192.jpg', 'Tr-gl_1109.jpg', 'Tr-gl_0100.jpg', 'Tr-gl_0529.jpg', 'Tr-gl_0199.jpg', 'Tr-gl_0810.jpg', 'Tr-gl_0128.jpg', 'Tr-gl_0542.jpg', 'Tr-gl_0816.jpg', 'Tr-gl_0903.jpg', 'Tr-gl_0625.jpg', 'Tr-gl_0494.jpg', 'Tr-gl_0342.jpg', 'Tr-gl_0814.jpg', 'Tr-gl_0875.jpg', 'Tr-gl_0866.jpg', 'Tr-gl_0692.jpg', 'Tr-gl_1125.jpg', 'Tr-gl_0641.jpg', 'Tr-gl_0390.jpg', 'Tr-gl_0645.jpg', 'Tr-gl_0297.jpg', 'Tr-gl_0568.jpg', 'Tr-gl_0173.jpg', 'Tr-gl_0581.jpg', 'Tr-gl_0354.jpg', 'Tr-gl_0907.jpg', 'Tr-glTr_0003.jpg', 'Tr-gl_0833.jpg', 'Tr-gl_0209.jpg', 'Tr-gl_0051.jpg', 'Tr-gl_0872.jpg', 'Tr-gl_0534.jpg', 'Tr-gl_0747.jpg', 'Tr-gl_0213.jpg', 'Tr-gl_0862.jpg', 'Tr-gl_0080.jpg', 'Tr-gl_0714.jpg', 'Tr-gl_0852.jpg', 'Tr-gl_0312.jpg', 'Tr-gl_0273.jpg', 'Tr-gl_1248.jpg', 'Tr-gl_0226.jpg', 'Tr-gl_0580.jpg', 'Tr-gl_0608.jpg', 'Tr-gl_0262.jpg', 'Tr-gl_0011.jpg', 'Tr-gl_0639.jpg', 'Tr-gl_0975.jpg', 'Tr-gl_0928.jpg', 'Tr-gl_0825.jpg', 'Tr-gl_0181.jpg', 'Tr-gl_0909.jpg', 'Tr-gl_1292.jpg', 'Tr-gl_0333.jpg', 'Tr-gl_0276.jpg', 'Tr-gl_0929.jpg', 'Tr-gl_0970.jpg', 'Tr-gl_1079.jpg', 'Tr-gl_1018.jpg', 'Tr-gl_1208.jpg', 'Tr-gl_0475.jpg', 'Tr-gl_0997.jpg', 'Tr-gl_1236.jpg', 'Tr-gl_0533.jpg', 'Tr-gl_0445.jpg', 'Tr-gl_0835.jpg', 'Tr-gl_0990.jpg', 'Tr-gl_1216.jpg', 'Tr-gl_0976.jpg', 'Tr-gl_0214.jpg', 'Tr-gl_0317.jpg', 'Tr-gl_0591.jpg', 'Tr-glTr_0007.jpg', 'Tr-gl_0372.jpg', 'Tr-gl_0489.jpg', 'Tr-gl_1101.jpg', 'Tr-gl_1247.jpg', 'Tr-gl_0067.jpg', 'Tr-gl_0663.jpg', 'Tr-gl_1221.jpg', 'Tr-gl_0592.jpg', 'Tr-gl_0801.jpg', 'Tr-gl_0395.jpg', 'Tr-gl_0848.jpg', 'Tr-gl_0959.jpg', 'Tr-gl_1160.jpg', 'Tr-gl_1135.jpg', 'Tr-gl_0374.jpg', 'Tr-gl_0630.jpg', 'Tr-gl_0381.jpg', 'Tr-gl_0416.jpg', 'Tr-gl_0661.jpg', 'Tr-gl_0963.jpg', 'Tr-gl_0146.jpg', 'Tr-gl_1105.jpg', 'Tr-gl_0763.jpg', 'Tr-gl_1261.jpg', 'Tr-gl_0558.jpg', 'Tr-gl_1100.jpg', 'Tr-gl_0429.jpg', 'Tr-gl_1304.jpg', 'Tr-gl_0899.jpg', 'Tr-gl_0844.jpg', 'Tr-gl_0966.jpg', 'Tr-gl_0096.jpg', 'Tr-gl_0619.jpg', 'Tr-gl_0227.jpg', 'Tr-gl_0940.jpg', 'Tr-gl_0496.jpg', 'Tr-gl_0459.jpg', 'Tr-gl_1222.jpg', 'Tr-gl_0481.jpg', 'Tr-gl_0546.jpg', 'Tr-gl_0072.jpg', 'Tr-gl_0715.jpg', 'Tr-gl_0186.jpg', 'Tr-gl_0725.jpg', 'Tr-gl_0365.jpg', 'Tr-gl_0248.jpg', 'Tr-gl_1014.jpg', 'Tr-gl_0618.jpg', 'Tr-gl_0696.jpg', 'Tr-gl_0135.jpg', 'Tr-gl_0957.jpg', 'Tr-gl_0142.jpg', 'Tr-gl_0741.jpg', 'Tr-gl_1080.jpg', 'Tr-gl_0674.jpg', 'Tr-gl_0555.jpg', 'Tr-gl_0827.jpg', 'Tr-gl_0401.jpg', 'Tr-gl_1091.jpg', 'Tr-gl_1136.jpg', 'Tr-gl_0678.jpg', 'Tr-gl_1124.jpg', 'Tr-gl_1220.jpg', 'Tr-gl_0600.jpg', 'Tr-gl_0823.jpg', 'Tr-gl_0547.jpg', 'Tr-gl_0042.jpg', 'Tr-gl_0243.jpg', 'Tr-gl_0127.jpg', 'Tr-gl_0062.jpg', 'Tr-gl_0363.jpg', 'Tr-gl_0065.jpg', 'Tr-gl_0179.jpg', 'Tr-gl_0014.jpg', 'Tr-gl_0609.jpg', 'Tr-gl_1298.jpg', 'Tr-gl_0277.jpg', 'Tr-gl_0412.jpg', 'Tr-gl_0026.jpg', 'Tr-gl_1176.jpg', 'Tr-gl_1137.jpg', 'Tr-gl_0684.jpg', 'Tr-gl_0687.jpg', 'Tr-gl_0622.jpg', 'Tr-gl_1067.jpg', 'Tr-gl_0839.jpg', 'Tr-gl_0935.jpg', 'Tr-gl_0804.jpg', 'Tr-gl_1141.jpg', 'Tr-gl_1120.jpg', 'Tr-gl_0968.jpg', 'Tr-gl_0410.jpg', 'Tr-gl_0858.jpg', 'Tr-gl_0095.jpg', 'Tr-gl_0947.jpg', 'Tr-gl_0750.jpg', 'Tr-gl_0900.jpg', 'Tr-gl_0805.jpg', 'Tr-gl_1045.jpg', 'Tr-gl_0318.jpg', 'Tr-gl_1093.jpg', 'Tr-gl_0989.jpg', 'Tr-gl_0404.jpg', 'Tr-gl_0923.jpg', 'Tr-gl_0378.jpg', 'Tr-gl_0336.jpg', 'Tr-gl_1034.jpg', 'Tr-gl_0090.jpg', 'Tr-gl_0200.jpg', 'Tr-gl_0535.jpg', 'Tr-gl_0414.jpg', 'Tr-gl_0802.jpg', 'Tr-gl_1191.jpg', 'Tr-gl_0665.jpg', 'Tr-gl_0846.jpg', 'Tr-gl_0778.jpg', 'Tr-gl_0508.jpg', 'Tr-gl_0556.jpg', 'Tr-gl_0520.jpg', 'Tr-gl_1000.jpg', 'Tr-gl_1267.jpg', 'Tr-gl_0472.jpg', 'Tr-gl_1230.jpg', 'Tr-gl_0945.jpg', 'Tr-gl_0386.jpg', 'Tr-gl_0813.jpg', 'Tr-gl_0076.jpg', 'Tr-gl_1145.jpg', 'Tr-gl_0046.jpg', 'Tr-gl_1188.jpg', 'Tr-gl_1168.jpg', 'Tr-gl_0569.jpg', 'Tr-gl_1320.jpg', 'Tr-gl_0370.jpg', 'Tr-gl_0275.jpg', 'Tr-gl_0632.jpg', 'Tr-gl_0271.jpg', 'Tr-gl_0099.jpg', 'Tr-gl_0493.jpg', 'Tr-gl_0662.jpg', 'Tr-gl_0240.jpg', 'Tr-gl_1063.jpg', 'Tr-gl_0244.jpg', 'Tr-gl_0944.jpg', 'Tr-gl_0740.jpg', 'Tr-gl_0567.jpg', 'Tr-gl_0123.jpg', 'Tr-gl_0552.jpg', 'Tr-gl_0596.jpg', 'Tr-gl_0217.jpg', 'Tr-gl_0215.jpg', 'Tr-gl_0972.jpg', 'Tr-gl_1040.jpg', 'Tr-gl_0782.jpg', 'Tr-gl_0620.jpg', 'Tr-gl_0563.jpg', 'Tr-gl_0144.jpg', 'Tr-gl_1134.jpg', 'Tr-gl_1042.jpg', 'Tr-gl_0480.jpg', 'Tr-gl_0788.jpg', 'Tr-gl_0565.jpg', 'Tr-gl_0658.jpg', 'Tr-gl_1275.jpg', 'Tr-gl_0274.jpg', 'Tr-gl_1173.jpg', 'Tr-gl_0499.jpg', 'Tr-gl_0910.jpg', 'Tr-gl_0926.jpg', 'Tr-gl_0798.jpg', 'Tr-gl_0441.jpg', 'Tr-gl_0749.jpg', 'Tr-gl_0238.jpg', 'Tr-gl_1156.jpg', 'Tr-gl_0110.jpg', 'Tr-gl_0676.jpg', 'Tr-gl_0830.jpg', 'Tr-gl_0755.jpg', 'Tr-gl_0424.jpg', 'Tr-gl_1288.jpg', 'Tr-gl_0357.jpg', 'Tr-gl_0049.jpg', 'Tr-gl_0982.jpg', 'Tr-gl_0035.jpg', 'Tr-gl_0443.jpg', 'Tr-gl_0602.jpg', 'Tr-gl_0351.jpg', 'Tr-gl_0461.jpg', 'Tr-gl_1096.jpg', 'Tr-gl_0482.jpg', 'Tr-gl_0468.jpg', 'Tr-gl_0258.jpg', 'Tr-gl_1203.jpg', 'Tr-gl_0169.jpg', 'Tr-gl_0052.jpg', 'Tr-gl_0931.jpg', 'Tr-gl_1272.jpg', 'Tr-gl_0104.jpg', 'Tr-gl_0914.jpg', 'Tr-gl_0290.jpg', 'Tr-gl_1029.jpg', 'Tr-gl_1107.jpg', 'Tr-gl_1245.jpg', 'Tr-gl_1307.jpg', 'Tr-gl_0152.jpg', 'Tr-gl_0702.jpg', 'Tr-gl_1281.jpg', 'Tr-gl_0505.jpg', 'Tr-gl_0284.jpg', 'Tr-gl_0300.jpg', 'Tr-gl_0282.jpg', 'Tr-gl_0039.jpg', 'Tr-gl_0895.jpg', 'Tr-gl_1256.jpg', 'Tr-gl_0882.jpg', 'Tr-gl_0255.jpg', 'Tr-gl_0161.jpg', 'Tr-gl_0921.jpg', 'Tr-gl_0837.jpg', 'Tr-gl_0426.jpg', 'Tr-gl_0187.jpg', 'Tr-gl_1035.jpg', 'Tr-gl_1002.jpg', 'Tr-gl_0501.jpg', 'Tr-gl_0606.jpg', 'Tr-gl_0543.jpg', 'Tr-gl_1317.jpg', 'Tr-gl_1180.jpg', 'Tr-gl_1127.jpg', 'Tr-gl_1277.jpg', 'Tr-gl_0537.jpg', 'Tr-gl_1316.jpg', 'Tr-gl_0509.jpg', 'Tr-gl_0888.jpg', 'Tr-gl_0355.jpg', 'Tr-gl_0728.jpg', 'Tr-gl_0650.jpg', 'Tr-gl_1098.jpg', 'Tr-gl_0476.jpg', 'Tr-gl_0216.jpg', 'Tr-gl_0460.jpg', 'Tr-gl_0279.jpg', 'Tr-gl_0350.jpg', 'Tr-gl_1270.jpg', 'Tr-gl_0331.jpg', 'Tr-gl_0487.jpg', 'Tr-gl_0431.jpg', 'Tr-gl_0132.jpg', 'Tr-gl_0264.jpg', 'Tr-gl_1038.jpg', 'Tr-gl_0490.jpg', 'Tr-gl_0657.jpg', 'Tr-gl_1300.jpg', 'Tr-gl_0705.jpg', 'Tr-gl_1172.jpg', 'Tr-gl_0932.jpg', 'Tr-gl_0934.jpg', 'Tr-gl_0694.jpg', 'Tr-gl_0025.jpg', 'Tr-gl_1162.jpg', 'Tr-gl_0701.jpg', 'Tr-gl_0652.jpg', 'Tr-gl_1174.jpg', 'Tr-gl_0242.jpg', 'Tr-gl_0322.jpg', 'Tr-gl_0610.jpg', 'Tr-gl_1210.jpg', 'Tr-gl_0478.jpg', 'Tr-gl_0950.jpg', 'Tr-gl_1240.jpg', 'Tr-gl_0061.jpg', 'Tr-gl_1104.jpg', 'Tr-gl_1108.jpg', 'Tr-gl_0939.jpg', 'Tr-gl_1051.jpg', 'Tr-gl_0045.jpg', 'Tr-gl_0644.jpg', 'Tr-gl_0677.jpg', 'Tr-gl_0651.jpg', 'Tr-gl_1228.jpg', 'Tr-gl_1015.jpg', 'Tr-gl_0121.jpg', 'Tr-gl_0455.jpg', 'Tr-gl_0250.jpg', 'Tr-gl_0977.jpg', 'Tr-gl_1310.jpg', 'Tr-gl_0430.jpg', 'Tr-gl_0450.jpg', 'Tr-gl_1140.jpg', 'Tr-glTr_0002.jpg', 'Tr-gl_0889.jpg', 'Tr-gl_0648.jpg', 'Tr-gl_0897.jpg', 'Tr-gl_0891.jpg', 'Tr-gl_1041.jpg', 'Tr-gl_0010.jpg', 'Tr-gl_0869.jpg', 'Tr-gl_0761.jpg', 'Tr-gl_0305.jpg', 'Tr-gl_0454.jpg', 'Tr-gl_0408.jpg', 'Tr-gl_0074.jpg', 'Tr-gl_0182.jpg', 'Tr-gl_0688.jpg', 'Tr-gl_0690.jpg', 'Tr-gl_0027.jpg', 'Tr-gl_0912.jpg', 'Tr-gl_0367.jpg', 'Tr-gl_0162.jpg', 'Tr-gl_1055.jpg', 'Tr-gl_0819.jpg', 'Tr-gl_0083.jpg', 'Tr-gl_1299.jpg', 'Tr-gl_0341.jpg', 'Tr-gl_0021.jpg', 'Tr-gl_1193.jpg', 'Tr-gl_0726.jpg', 'Tr-gl_0053.jpg', 'Tr-gl_0340.jpg', 'Tr-gl_0548.jpg', 'Tr-gl_0666.jpg', 'Tr-gl_0449.jpg', 'Tr-gl_0323.jpg', 'Tr-gl_0664.jpg', 'Tr-gl_1239.jpg', 'Tr-gl_1009.jpg', 'Tr-gl_0647.jpg', 'Tr-gl_0223.jpg', 'Tr-gl_0385.jpg', 'Tr-gl_0291.jpg', 'Tr-gl_0815.jpg', 'Tr-gl_0693.jpg', 'Tr-gl_0767.jpg', 'Tr-gl_0229.jpg', 'Tr-gl_0158.jpg', 'Tr-gl_0137.jpg', 'Tr-gl_0205.jpg', 'Tr-gl_0698.jpg', 'Tr-gl_0394.jpg', 'Tr-gl_0720.jpg', 'Tr-gl_0247.jpg', 'Tr-gl_1229.jpg', 'Tr-gl_1046.jpg', 'Tr-gl_1163.jpg', 'Tr-gl_0680.jpg', 'Tr-gl_1241.jpg', 'Tr-gl_1044.jpg', 'Tr-gl_0400.jpg', 'Tr-gl_0886.jpg', 'Tr-gl_1235.jpg', 'Tr-gl_1251.jpg', 'Tr-gl_1305.jpg', 'Tr-gl_0113.jpg', 'Tr-gl_1171.jpg', 'Tr-gl_1225.jpg', 'Tr-gl_0154.jpg', 'Tr-gl_1259.jpg', 'Tr-gl_0958.jpg', 'Tr-gl_0107.jpg', 'Tr-gl_0884.jpg', 'Tr-gl_0831.jpg', 'Tr-gl_0704.jpg', 'Tr-gl_0260.jpg', 'Tr-gl_0234.jpg', 'Tr-gl_0902.jpg', 'Tr-gl_0230.jpg', 'Tr-gl_0488.jpg', 'Tr-gl_0384.jpg', 'Tr-gl_1212.jpg', 'Tr-gl_1232.jpg', 'Tr-gl_1151.jpg', 'Tr-gl_0631.jpg', 'Tr-gl_0753.jpg', 'Tr-gl_0368.jpg', 'Tr-gl_0998.jpg', 'Tr-gl_1265.jpg', 'Tr-gl_0904.jpg', 'Tr-gl_1008.jpg', 'Tr-gl_0695.jpg', 'Tr-gl_0060.jpg', 'Tr-gl_0033.jpg', 'Tr-gl_0117.jpg', 'Tr-gl_0659.jpg', 'Tr-gl_0590.jpg', 'Tr-gl_0612.jpg', 'Tr-gl_1197.jpg', 'Tr-gl_1309.jpg', 'Tr-gl_1175.jpg', 'Tr-gl_1202.jpg', 'Tr-gl_0708.jpg', 'Tr-gl_0628.jpg', 'Tr-gl_0980.jpg', 'Tr-gl_1090.jpg', 'Tr-gl_0427.jpg', 'Tr-gl_0463.jpg', 'Tr-gl_1200.jpg', 'Tr-gl_0779.jpg', 'Tr-gl_0576.jpg', 'Tr-gl_0918.jpg', 'Tr-gl_1052.jpg', 'Tr-gl_0436.jpg', 'Tr-gl_0683.jpg', 'Tr-gl_1004.jpg', 'Tr-gl_0304.jpg', 'Tr-gl_0358.jpg', 'Tr-gl_0803.jpg', 'Tr-gl_0094.jpg', 'Tr-gl_0587.jpg', 'Tr-gl_0241.jpg', 'Tr-gl_0896.jpg', 'Tr-gl_0743.jpg', 'Tr-gl_0406.jpg', 'Tr-gl_0927.jpg', 'Tr-gl_0237.jpg', 'Tr-gl_0854.jpg', 'Tr-gl_0954.jpg', 'Tr-gl_1081.jpg', 'Tr-gl_0922.jpg', 'Tr-gl_0111.jpg', 'Tr-gl_0541.jpg', 'Tr-gl_0143.jpg', 'Tr-gl_0995.jpg', 'Tr-gl_0280.jpg', 'Tr-gl_0093.jpg', 'Tr-glTr_0004.jpg', 'Tr-gl_0261.jpg', 'Tr-gl_0965.jpg', 'Tr-gl_0930.jpg', 'Tr-gl_0078.jpg', 'Tr-gl_0106.jpg', 'Tr-gl_0817.jpg', 'Tr-gl_0270.jpg', 'Tr-gl_0124.jpg', 'Tr-gl_0589.jpg', 'Tr-gl_0198.jpg', 'Tr-gl_0605.jpg', 'Tr-gl_1257.jpg', 'Tr-gl_1286.jpg', 'Tr-gl_0303.jpg', 'Tr-gl_1012.jpg', 'Tr-gl_0070.jpg', 'Tr-gl_0700.jpg', 'Tr-gl_0860.jpg', 'Tr-gl_0281.jpg', 'Tr-gl_1123.jpg', 'Tr-gl_0287.jpg', 'Tr-gl_1184.jpg', 'Tr-gl_0193.jpg', 'Tr-gl_1262.jpg', 'Tr-gl_0656.jpg', 'Tr-gl_0150.jpg', 'Tr-gl_0392.jpg', 'Tr-gl_0195.jpg', 'Tr-gl_0739.jpg', 'Tr-gl_1187.jpg', 'Tr-gl_0586.jpg', 'Tr-gl_0098.jpg', 'Tr-gl_0871.jpg', 'Tr-gl_1106.jpg', 'Tr-gl_0155.jpg', 'Tr-gl_1318.jpg', 'Tr-gl_1199.jpg', 'Tr-gl_1062.jpg', 'Tr-gl_0473.jpg', 'Tr-gl_0377.jpg', 'Tr-gl_0349.jpg', 'Tr-gl_1319.jpg', 'Tr-gl_0992.jpg', 'Tr-gl_0151.jpg', 'Tr-gl_0735.jpg', 'Tr-gl_0382.jpg', 'Tr-gl_0719.jpg', 'Tr-gl_0043.jpg', 'Tr-gl_0518.jpg', 'Tr-gl_1103.jpg', 'Tr-gl_0492.jpg', 'Tr-gl_0843.jpg', 'Tr-gl_0964.jpg', 'Tr-gl_0310.jpg', 'Tr-gl_0020.jpg', 'Tr-gl_0870.jpg', 'Tr-gl_0744.jpg', 'Tr-gl_1112.jpg', 'Tr-gl_0101.jpg', 'Tr-gl_0773.jpg', 'Tr-gl_0554.jpg', 'Tr-gl_1266.jpg', 'Tr-gl_0183.jpg', 'Tr-gl_1296.jpg', 'Tr-gl_0822.jpg', 'Tr-gl_0114.jpg', 'Tr-gl_1280.jpg', 'Tr-gl_0673.jpg', 'Tr-gl_0832.jpg', 'Tr-gl_0768.jpg', 'Tr-gl_0309.jpg', 'Tr-gl_0770.jpg', 'Tr-gl_0201.jpg', 'Tr-gl_0685.jpg', 'Tr-gl_0225.jpg', 'Tr-gl_0811.jpg', 'Tr-gl_1258.jpg', 'Tr-gl_0938.jpg', 'Tr-gl_0983.jpg', 'Tr-gl_1260.jpg', 'Tr-gl_1182.jpg', 'Tr-gl_0479.jpg', 'Tr-gl_1047.jpg', 'Tr-gl_1219.jpg', 'Tr-gl_0196.jpg', 'Tr-gl_0495.jpg', 'Tr-gl_0103.jpg', 'Tr-gl_0582.jpg', 'Tr-gl_0139.jpg', 'Tr-gl_0220.jpg', 'Tr-gl_1027.jpg', 'Tr-gl_0941.jpg', 'Tr-gl_0036.jpg', 'Tr-gl_0623.jpg', 'Tr-gl_0765.jpg', 'Tr-gl_1233.jpg', 'Tr-gl_0787.jpg', 'Tr-gl_0153.jpg', 'Tr-gl_0636.jpg', 'Tr-gl_0334.jpg', 'Tr-gl_0265.jpg', 'Tr-gl_0105.jpg', 'Tr-gl_0057.jpg', 'Tr-gl_0359.jpg', 'Tr-gl_0056.jpg', 'Tr-gl_0987.jpg', 'Tr-gl_1196.jpg', 'Tr-gl_1089.jpg', 'Tr-glTr_0009.jpg', 'Tr-gl_1166.jpg', 'Tr-gl_0063.jpg', 'Tr-gl_0764.jpg', 'Tr-gl_0129.jpg', 'Tr-gl_0985.jpg', 'Tr-gl_1060.jpg', 'Tr-gl_0986.jpg', 'Tr-gl_0880.jpg', 'Tr-gl_0597.jpg', 'Tr-gl_0432.jpg', 'Tr-gl_0474.jpg', 'Tr-gl_0122.jpg', 'Tr-gl_1114.jpg', 'Tr-gl_0338.jpg', 'Tr-gl_1087.jpg', 'Tr-gl_0824.jpg', 'Tr-gl_0407.jpg', 'Tr-gl_1148.jpg', 'Tr-gl_0791.jpg', 'Tr-gl_0054.jpg', 'Tr-gl_1243.jpg', 'Tr-gl_0583.jpg', 'Tr-gl_0504.jpg', 'Tr-gl_0024.jpg', 'Tr-gl_0604.jpg', 'Tr-gl_0515.jpg', 'Tr-gl_0993.jpg', 'Tr-gl_0387.jpg', 'Tr-gl_0163.jpg', 'Tr-gl_1113.jpg', 'Tr-gl_0878.jpg', 'Tr-gl_0937.jpg', 'Tr-gl_1028.jpg', 'Tr-gl_0851.jpg', 'Tr-gl_0707.jpg', 'Tr-gl_0575.jpg', 'Tr-gl_1165.jpg', 'Tr-gl_0746.jpg', 'Tr-gl_0649.jpg', 'Tr-gl_0288.jpg', 'Tr-gl_0948.jpg', 'Tr-gl_0637.jpg', 'Tr-gl_0793.jpg', 'Tr-gl_0733.jpg', 'Tr-gl_1036.jpg', 'Tr-gl_1181.jpg', 'Tr-gl_0785.jpg', 'Tr-gl_0133.jpg', 'Tr-gl_0268.jpg', 'Tr-gl_0748.jpg', 'Tr-gl_0956.jpg', 'Tr-gl_0457.jpg', 'Tr-gl_0439.jpg', 'Tr-gl_1039.jpg', 'Tr-gl_0125.jpg', 'Tr-gl_1297.jpg', 'Tr-gl_0259.jpg', 'Tr-gl_0403.jpg', 'Tr-gl_0669.jpg', 'Tr-gl_0892.jpg', 'Tr-gl_1237.jpg', 'Tr-gl_0601.jpg', 'Tr-gl_0946.jpg', 'Tr-gl_0141.jpg', 'Tr-gl_1238.jpg', 'Tr-gl_0717.jpg', 'Tr-gl_0191.jpg', 'Tr-gl_1153.jpg', 'Tr-gl_0675.jpg', 'Tr-gl_0671.jpg', 'Tr-gl_0130.jpg', 'Tr-gl_0682.jpg', 'Tr-gl_0984.jpg', 'Tr-gl_1071.jpg', 'Tr-gl_0219.jpg', 'Tr-gl_0016.jpg', 'Tr-gl_0050.jpg', 'Tr-gl_1011.jpg', 'Tr-gl_1115.jpg', 'Tr-gl_0116.jpg', 'Tr-gl_0640.jpg', 'Tr-gl_0893.jpg', 'Tr-gl_0485.jpg', 'Tr-gl_0327.jpg', 'Tr-gl_0194.jpg', 'Tr-gl_0598.jpg', 'Tr-gl_0792.jpg', 'Tr-gl_0545.jpg', 'Tr-gl_0292.jpg', 'Tr-gl_0838.jpg', 'Tr-gl_1119.jpg', 'Tr-gl_0573.jpg', 'Tr-gl_0396.jpg', 'Tr-gl_0561.jpg', 'Tr-gl_0307.jpg', 'Tr-gl_1022.jpg', 'Tr-gl_0320.jpg', 'Tr-gl_1159.jpg', 'Tr-gl_0706.jpg', 'Tr-gl_0874.jpg', 'Tr-gl_1287.jpg', 'Tr-gl_1057.jpg', 'Tr-gl_0126.jpg', 'Tr-gl_1189.jpg', 'Tr-gl_0820.jpg', 'Tr-gl_0189.jpg', 'Tr-gl_1252.jpg']\n"
          ]
        }
      ]
    },
    {
      "cell_type": "code",
      "source": [
        "img_path = '/content/dataset/'\n"
      ],
      "metadata": {
        "id": "YB1s3jMZXI0K"
      },
      "execution_count": 72,
      "outputs": []
    },
    {
      "cell_type": "code",
      "source": [
        "img_path = '/content/dataset/'  # only if folder name is 'yes'\n",
        "images = [f for f in os.listdir(img_path) if f.endswith(('.jpg', '.jpeg', '.png'))]\n",
        "print(\"Images found:\", images)\n",
        "\n"
      ],
      "metadata": {
        "colab": {
          "base_uri": "https://localhost:8080/"
        },
        "id": "q3W-qy4TXLNf",
        "outputId": "a3b9f659-2d35-45e0-9057-4e98562f2ac3"
      },
      "execution_count": 73,
      "outputs": [
        {
          "output_type": "stream",
          "name": "stdout",
          "text": [
            "Images found: []\n"
          ]
        }
      ]
    },
    {
      "cell_type": "code",
      "source": [
        "images = [f for f in os.listdir(img_path) if f.lower().endswith(('.jpg', '.jpeg', '.png'))]\n"
      ],
      "metadata": {
        "id": "T7djREyPYMtn"
      },
      "execution_count": 74,
      "outputs": []
    },
    {
      "cell_type": "code",
      "source": [
        "st.title(\"🧠 Brain Tumor MRI Image Classifier\")\n"
      ],
      "metadata": {
        "colab": {
          "base_uri": "https://localhost:8080/"
        },
        "id": "2RqbPgukYeIc",
        "outputId": "0a243ae6-85dc-4938-b796-39a0b01b47fc"
      },
      "execution_count": 76,
      "outputs": [
        {
          "output_type": "stream",
          "name": "stderr",
          "text": [
            "2025-07-24 12:30:07.254 Thread 'MainThread': missing ScriptRunContext! This warning can be ignored when running in bare mode.\n",
            "2025-07-24 12:30:07.255 Thread 'MainThread': missing ScriptRunContext! This warning can be ignored when running in bare mode.\n",
            "2025-07-24 12:30:07.256 Thread 'MainThread': missing ScriptRunContext! This warning can be ignored when running in bare mode.\n"
          ]
        },
        {
          "output_type": "execute_result",
          "data": {
            "text/plain": [
              "DeltaGenerator()"
            ]
          },
          "metadata": {},
          "execution_count": 76
        }
      ]
    },
    {
      "cell_type": "code",
      "source": [
        "# app.py\n",
        "\n",
        "import streamlit as st\n",
        "import tensorflow as tf\n",
        "from PIL import Image\n",
        "import numpy as np\n",
        "\n",
        "# Page settings\n",
        "st.set_page_config(page_title=\"Brain Tumor Classifier\", layout=\"centered\")\n",
        "\n",
        "# Title\n",
        "st.title(\"🧠 Brain Tumor MRI Image Classifier\")\n",
        "st.markdown(\"Upload a brain MRI image, and this app will classify it into one of the four tumor types.\")\n",
        "\n",
        "# Load the trained model\n",
        "@st.cache_resource\n",
        "def load_model():\n",
        "    model = tf.keras.models.load_model(\"best_custom_cnn.h5\")  # or \"best_transfer_model.h5\"\n",
        "    return model\n",
        "\n",
        "model = load_model()\n",
        "\n",
        "# Define class names\n",
        "class_names = ['Glioma', 'Meningioma', 'No Tumor', 'Pituitary']\n",
        "\n",
        "# Upload image\n",
        "uploaded_file = st.file_uploader(\"📁 Upload Brain MRI Image\", type=[\"jpg\", \"jpeg\", \"png\"])\n",
        "\n",
        "if uploaded_file is not None:\n",
        "    # Display uploaded image\n",
        "    image = Image.open(uploaded_file).convert(\"RGB\")\n",
        "    st.image(image, caption=\"🖼️ Uploaded Image\", use_column_width=True)\n",
        "\n",
        "    # Preprocess the image\n",
        "    image = image.resize((150, 150))\n",
        "    img_array = np.array(image) / 255.0\n",
        "    img_array = np.expand_dims(img_array, axis=0)\n",
        "\n",
        "    # Make prediction\n",
        "    prediction = model.predict(img_array)\n",
        "    predicted_class = class_names[np.argmax(prediction)]\n",
        "    confidence = np.max(prediction) * 100\n",
        "\n",
        "    # Display prediction\n",
        "    st.success(f\"🎯 Predicted Tumor Type: **{predicted_class.upper()}**\")\n",
        "    st.info(f\"🔬 Confidence: **{confidence:.2f}%**\")\n",
        "\n",
        "else:\n",
        "    st.warning(\"⚠️ Please upload a brain MRI image (JPG or PNG) to get started.\")"
      ],
      "metadata": {
        "colab": {
          "base_uri": "https://localhost:8080/"
        },
        "id": "3DJjMaQHaq7p",
        "outputId": "ff7e5c2f-1856-4b6a-e68d-6309acf5bb6b"
      },
      "execution_count": 88,
      "outputs": [
        {
          "output_type": "stream",
          "name": "stderr",
          "text": [
            "2025-07-24 12:35:13.007 Thread 'MainThread': missing ScriptRunContext! This warning can be ignored when running in bare mode.\n",
            "2025-07-24 12:35:13.009 Thread 'MainThread': missing ScriptRunContext! This warning can be ignored when running in bare mode.\n",
            "2025-07-24 12:35:13.010 Thread 'MainThread': missing ScriptRunContext! This warning can be ignored when running in bare mode.\n",
            "2025-07-24 12:35:13.010 Thread 'MainThread': missing ScriptRunContext! This warning can be ignored when running in bare mode.\n",
            "2025-07-24 12:35:13.012 Thread 'MainThread': missing ScriptRunContext! This warning can be ignored when running in bare mode.\n",
            "2025-07-24 12:35:13.013 Thread 'MainThread': missing ScriptRunContext! This warning can be ignored when running in bare mode.\n",
            "2025-07-24 12:35:13.014 Thread 'MainThread': missing ScriptRunContext! This warning can be ignored when running in bare mode.\n",
            "2025-07-24 12:35:13.016 Thread 'MainThread': missing ScriptRunContext! This warning can be ignored when running in bare mode.\n",
            "2025-07-24 12:35:13.018 Thread 'MainThread': missing ScriptRunContext! This warning can be ignored when running in bare mode.\n",
            "2025-07-24 12:35:13.019 Thread 'MainThread': missing ScriptRunContext! This warning can be ignored when running in bare mode.\n",
            "2025-07-24 12:35:13.021 Thread 'MainThread': missing ScriptRunContext! This warning can be ignored when running in bare mode.\n",
            "WARNING:absl:Compiled the loaded model, but the compiled metrics have yet to be built. `model.compile_metrics` will be empty until you train or evaluate the model.\n",
            "2025-07-24 12:35:13.493 Thread 'MainThread': missing ScriptRunContext! This warning can be ignored when running in bare mode.\n",
            "2025-07-24 12:35:13.494 Thread 'MainThread': missing ScriptRunContext! This warning can be ignored when running in bare mode.\n",
            "2025-07-24 12:35:13.496 Thread 'MainThread': missing ScriptRunContext! This warning can be ignored when running in bare mode.\n",
            "2025-07-24 12:35:13.497 Thread 'MainThread': missing ScriptRunContext! This warning can be ignored when running in bare mode.\n",
            "2025-07-24 12:35:13.499 Thread 'MainThread': missing ScriptRunContext! This warning can be ignored when running in bare mode.\n",
            "2025-07-24 12:35:13.500 Thread 'MainThread': missing ScriptRunContext! This warning can be ignored when running in bare mode.\n",
            "2025-07-24 12:35:13.501 Thread 'MainThread': missing ScriptRunContext! This warning can be ignored when running in bare mode.\n",
            "2025-07-24 12:35:13.502 Thread 'MainThread': missing ScriptRunContext! This warning can be ignored when running in bare mode.\n",
            "2025-07-24 12:35:13.505 Thread 'MainThread': missing ScriptRunContext! This warning can be ignored when running in bare mode.\n",
            "2025-07-24 12:35:13.507 Thread 'MainThread': missing ScriptRunContext! This warning can be ignored when running in bare mode.\n",
            "2025-07-24 12:35:13.508 Thread 'MainThread': missing ScriptRunContext! This warning can be ignored when running in bare mode.\n",
            "2025-07-24 12:35:13.509 Thread 'MainThread': missing ScriptRunContext! This warning can be ignored when running in bare mode.\n"
          ]
        }
      ]
    },
    {
      "cell_type": "code",
      "source": [
        "app_code = \"\"\"\n",
        "import streamlit as st\n",
        "import tensorflow as tf\n",
        "from PIL import Image\n",
        "import numpy as np\n",
        "\n",
        "# Page settings\n",
        "st.set_page_config(page_title=\"Brain Tumor Classifier\", layout=\"centered\")\n",
        "\n",
        "# Title\n",
        "st.title(\"Brain Tumor MRI Image Classifier\")\n",
        "st.markdown(\"Upload a brain MRI image, and this app will classify it into one of the four tumor types.\")\n",
        "\n",
        "# Load the trained model\n",
        "@st.cache_resource\n",
        "def load_model():\n",
        "    model = tf.keras.models.load_model(\"best_custom_cnn.h5\")  # or \"best_transfer_model.h5\"\n",
        "    return model\n",
        "\n",
        "model = load_model()\n",
        "\n",
        "# Define class names\n",
        "class_names = ['Glioma', 'Meningioma', 'No Tumor', 'Pituitary']\n",
        "\n",
        "# Upload image\n",
        "uploaded_file = st.file_uploader(\"Upload Brain MRI Image\", type=[\"jpg\", \"jpeg\", \"png\"])\n",
        "\n",
        "if uploaded_file is not None:\n",
        "    # Display uploaded image\n",
        "    image = Image.open(uploaded_file).convert(\"RGB\")\n",
        "    st.image(image, caption=\"Uploaded Image\", use_column_width=True)\n",
        "\n",
        "    # Preprocess the image\n",
        "    image = image.resize((150, 150))\n",
        "    img_array = np.array(image) / 255.0\n",
        "    img_array = np.expand_dims(img_array, axis=0)\n",
        "\n",
        "    # Make prediction\n",
        "    prediction = model.predict(img_array)\n",
        "    predicted_class = class_names[np.argmax(prediction)]\n",
        "    confidence = np.max(prediction) * 100\n",
        "\n",
        "    # Display prediction\n",
        "    st.success(f\"Predicted Tumor Type: **{predicted_class.upper()}**\")\n",
        "    st.info(f\"Confidence: **{confidence:.2f}%**\")\n",
        "\n",
        "else:\n",
        "    st.warning(\"Please upload a brain MRI image (JPG or PNG) to get started.\")\n",
        "\"\"\"\n"
      ],
      "metadata": {
        "id": "f8CmOVVqcv9B"
      },
      "execution_count": 89,
      "outputs": []
    },
    {
      "cell_type": "code",
      "source": [
        "with open(\"app.py\", \"w\") as file:\n",
        "    file.write(app_code)\n"
      ],
      "metadata": {
        "id": "ANWiMaZGcyHw"
      },
      "execution_count": 90,
      "outputs": []
    },
    {
      "cell_type": "code",
      "source": [
        "from google.colab import files\n",
        "files.download(\"app.py\")\n"
      ],
      "metadata": {
        "colab": {
          "base_uri": "https://localhost:8080/",
          "height": 17
        },
        "id": "FrQd-IYec3oM",
        "outputId": "bca33e89-3772-4286-c7e2-fc982ce87964"
      },
      "execution_count": 91,
      "outputs": [
        {
          "output_type": "display_data",
          "data": {
            "text/plain": [
              "<IPython.core.display.Javascript object>"
            ],
            "application/javascript": [
              "\n",
              "    async function download(id, filename, size) {\n",
              "      if (!google.colab.kernel.accessAllowed) {\n",
              "        return;\n",
              "      }\n",
              "      const div = document.createElement('div');\n",
              "      const label = document.createElement('label');\n",
              "      label.textContent = `Downloading \"${filename}\": `;\n",
              "      div.appendChild(label);\n",
              "      const progress = document.createElement('progress');\n",
              "      progress.max = size;\n",
              "      div.appendChild(progress);\n",
              "      document.body.appendChild(div);\n",
              "\n",
              "      const buffers = [];\n",
              "      let downloaded = 0;\n",
              "\n",
              "      const channel = await google.colab.kernel.comms.open(id);\n",
              "      // Send a message to notify the kernel that we're ready.\n",
              "      channel.send({})\n",
              "\n",
              "      for await (const message of channel.messages) {\n",
              "        // Send a message to notify the kernel that we're ready.\n",
              "        channel.send({})\n",
              "        if (message.buffers) {\n",
              "          for (const buffer of message.buffers) {\n",
              "            buffers.push(buffer);\n",
              "            downloaded += buffer.byteLength;\n",
              "            progress.value = downloaded;\n",
              "          }\n",
              "        }\n",
              "      }\n",
              "      const blob = new Blob(buffers, {type: 'application/binary'});\n",
              "      const a = document.createElement('a');\n",
              "      a.href = window.URL.createObjectURL(blob);\n",
              "      a.download = filename;\n",
              "      div.appendChild(a);\n",
              "      a.click();\n",
              "      div.remove();\n",
              "    }\n",
              "  "
            ]
          },
          "metadata": {}
        },
        {
          "output_type": "display_data",
          "data": {
            "text/plain": [
              "<IPython.core.display.Javascript object>"
            ],
            "application/javascript": [
              "download(\"download_27b59cba-3e16-4bc2-91be-82a539bb6fc6\", \"app.py\", 1458)"
            ]
          },
          "metadata": {}
        }
      ]
    },
    {
      "cell_type": "code",
      "source": [
        "import os\n",
        "import numpy as np\n",
        "import matplotlib.pyplot as plt\n",
        "from sklearn.metrics import classification_report, confusion_matrix, ConfusionMatrixDisplay\n",
        "from tensorflow.keras.models import load_model\n",
        "from tensorflow.keras.preprocessing.image import ImageDataGenerator\n",
        "\n",
        "# Set paths\n",
        "test_dir = 'dataset/Testing'  # Corrected directory path\n",
        "model_path = 'best_transfer_model.h5'  # Or best_custom_cnn.h5\n",
        "\n",
        "# Load model\n",
        "model = load_model(model_path)\n",
        "\n",
        "# Image preprocessing\n",
        "IMG_SIZE = (224, 224) # Corrected image size to match training\n",
        "BATCH_SIZE = 32\n",
        "\n",
        "test_datagen = ImageDataGenerator(rescale=1./255)\n",
        "\n",
        "test_generator = test_datagen.flow_from_directory(\n",
        "    test_dir,\n",
        "    target_size=IMG_SIZE,\n",
        "    batch_size=BATCH_SIZE,\n",
        "    class_mode='categorical',\n",
        "    shuffle=False\n",
        ")\n",
        "\n",
        "# Evaluate model\n",
        "print(\"Evaluating model on test set...\")\n",
        "loss, accuracy = model.evaluate(test_generator)\n",
        "print(f\"\\nTest Accuracy: {accuracy*100:.2f}%\")\n",
        "\n",
        "# Predict on test set\n",
        "y_pred = model.predict(test_generator)\n",
        "y_pred_classes = np.argmax(y_pred, axis=1)\n",
        "y_true = test_generator.classes\n",
        "class_labels = list(test_generator.class_indices.keys())\n",
        "\n",
        "# Classification Report\n",
        "print(\"\\nClassification Report:\")\n",
        "print(classification_report(y_true, y_pred_classes, target_names=class_labels))\n",
        "\n",
        "# Confusion Matrix\n",
        "cm = confusion_matrix(y_true, y_pred_classes)\n",
        "disp = ConfusionMatrixDisplay(confusion_matrix=cm, display_labels=class_labels)\n",
        "disp.plot(cmap=plt.cm.Blues)\n",
        "plt.title(\"Confusion Matrix\")\n",
        "plt.show()"
      ],
      "metadata": {
        "colab": {
          "base_uri": "https://localhost:8080/",
          "height": 887
        },
        "id": "cpw9VXHPdh7G",
        "outputId": "8e18c8af-aee5-4ed9-9572-e7592244b34d"
      },
      "execution_count": 93,
      "outputs": [
        {
          "output_type": "stream",
          "name": "stderr",
          "text": [
            "WARNING:absl:Compiled the loaded model, but the compiled metrics have yet to be built. `model.compile_metrics` will be empty until you train or evaluate the model.\n"
          ]
        },
        {
          "output_type": "stream",
          "name": "stdout",
          "text": [
            "Found 1311 images belonging to 4 classes.\n"
          ]
        },
        {
          "output_type": "stream",
          "name": "stderr",
          "text": [
            "/usr/local/lib/python3.11/dist-packages/keras/src/trainers/data_adapters/py_dataset_adapter.py:121: UserWarning: Your `PyDataset` class should call `super().__init__(**kwargs)` in its constructor. `**kwargs` can include `workers`, `use_multiprocessing`, `max_queue_size`. Do not pass these arguments to `fit()`, as they will be ignored.\n",
            "  self._warn_if_super_not_called()\n"
          ]
        },
        {
          "output_type": "stream",
          "name": "stdout",
          "text": [
            "Evaluating model on test set...\n",
            "\u001b[1m41/41\u001b[0m \u001b[32m━━━━━━━━━━━━━━━━━━━━\u001b[0m\u001b[37m\u001b[0m \u001b[1m60s\u001b[0m 1s/step - accuracy: 0.8408 - loss: 0.4057\n",
            "\n",
            "Test Accuracy: 88.71%\n",
            "\u001b[1m41/41\u001b[0m \u001b[32m━━━━━━━━━━━━━━━━━━━━\u001b[0m\u001b[37m\u001b[0m \u001b[1m60s\u001b[0m 1s/step\n",
            "\n",
            "Classification Report:\n",
            "              precision    recall  f1-score   support\n",
            "\n",
            "      glioma       0.94      0.83      0.88       300\n",
            "  meningioma       0.81      0.74      0.77       306\n",
            "     notumor       0.95      0.96      0.95       405\n",
            "   pituitary       0.84      0.99      0.91       300\n",
            "\n",
            "    accuracy                           0.89      1311\n",
            "   macro avg       0.88      0.88      0.88      1311\n",
            "weighted avg       0.89      0.89      0.89      1311\n",
            "\n"
          ]
        },
        {
          "output_type": "display_data",
          "data": {
            "text/plain": [
              "<Figure size 640x480 with 2 Axes>"
            ],
            "image/png": "[encoded data removed]"
          },
          "metadata": {}
        }
      ]
    },
    {
      "cell_type": "code",
      "source": [
        "with open(\"app.py\", \"w\") as file:\n",
        "    file.write(app_code)\n",
        "\n"
      ],
      "metadata": {
        "id": "nb5RWI9EeRW8"
      },
      "execution_count": 100,
      "outputs": []
    },
    {
      "cell_type": "code",
      "source": [
        "from google.colab import files\n",
        "files.download(\"app.py\")\n"
      ],
      "metadata": {
        "colab": {
          "base_uri": "https://localhost:8080/",
          "height": 17
        },
        "id": "IY3szMxSfITr",
        "outputId": "fabb1fd9-7b08-4ec9-bcfa-03f8c20a9296"
      },
      "execution_count": 101,
      "outputs": [
        {
          "output_type": "display_data",
          "data": {
            "text/plain": [
              "<IPython.core.display.Javascript object>"
            ],
            "application/javascript": [
              "\n",
              "    async function download(id, filename, size) {\n",
              "      if (!google.colab.kernel.accessAllowed) {\n",
              "        return;\n",
              "      }\n",
              "      const div = document.createElement('div');\n",
              "      const label = document.createElement('label');\n",
              "      label.textContent = `Downloading \"${filename}\": `;\n",
              "      div.appendChild(label);\n",
              "      const progress = document.createElement('progress');\n",
              "      progress.max = size;\n",
              "      div.appendChild(progress);\n",
              "      document.body.appendChild(div);\n",
              "\n",
              "      const buffers = [];\n",
              "      let downloaded = 0;\n",
              "\n",
              "      const channel = await google.colab.kernel.comms.open(id);\n",
              "      // Send a message to notify the kernel that we're ready.\n",
              "      channel.send({})\n",
              "\n",
              "      for await (const message of channel.messages) {\n",
              "        // Send a message to notify the kernel that we're ready.\n",
              "        channel.send({})\n",
              "        if (message.buffers) {\n",
              "          for (const buffer of message.buffers) {\n",
              "            buffers.push(buffer);\n",
              "            downloaded += buffer.byteLength;\n",
              "            progress.value = downloaded;\n",
              "          }\n",
              "        }\n",
              "      }\n",
              "      const blob = new Blob(buffers, {type: 'application/binary'});\n",
              "      const a = document.createElement('a');\n",
              "      a.href = window.URL.createObjectURL(blob);\n",
              "      a.download = filename;\n",
              "      div.appendChild(a);\n",
              "      a.click();\n",
              "      div.remove();\n",
              "    }\n",
              "  "
            ]
          },
          "metadata": {}
        },
        {
          "output_type": "display_data",
          "data": {
            "text/plain": [
              "<IPython.core.display.Javascript object>"
            ],
            "application/javascript": [
              "download(\"download_3d2faca1-35df-4f3f-aa4e-96b103bb25ad\", \"app.py\", 1458)"
            ]
          },
          "metadata": {}
        }
      ]
    },
    {
      "cell_type": "code",
      "source": [
        "with open(\"evaluate.py\", \"w\") as f:\n",
        "    f.write(evaluate_code)\n"
      ],
      "metadata": {
        "id": "RDCVcLOdfdiv"
      },
      "execution_count": 98,
      "outputs": []
    },
    {
      "cell_type": "code",
      "source": [
        "from google.colab import files\n",
        "files.download(\"evaluate.py\")\n"
      ],
      "metadata": {
        "colab": {
          "base_uri": "https://localhost:8080/",
          "height": 17
        },
        "id": "uMbSORO8ffVv",
        "outputId": "02dd4df6-60f4-4bbb-a4ad-9ec775be9c1c"
      },
      "execution_count": 99,
      "outputs": [
        {
          "output_type": "display_data",
          "data": {
            "text/plain": [
              "<IPython.core.display.Javascript object>"
            ],
            "application/javascript": [
              "\n",
              "    async function download(id, filename, size) {\n",
              "      if (!google.colab.kernel.accessAllowed) {\n",
              "        return;\n",
              "      }\n",
              "      const div = document.createElement('div');\n",
              "      const label = document.createElement('label');\n",
              "      label.textContent = `Downloading \"${filename}\": `;\n",
              "      div.appendChild(label);\n",
              "      const progress = document.createElement('progress');\n",
              "      progress.max = size;\n",
              "      div.appendChild(progress);\n",
              "      document.body.appendChild(div);\n",
              "\n",
              "      const buffers = [];\n",
              "      let downloaded = 0;\n",
              "\n",
              "      const channel = await google.colab.kernel.comms.open(id);\n",
              "      // Send a message to notify the kernel that we're ready.\n",
              "      channel.send({})\n",
              "\n",
              "      for await (const message of channel.messages) {\n",
              "        // Send a message to notify the kernel that we're ready.\n",
              "        channel.send({})\n",
              "        if (message.buffers) {\n",
              "          for (const buffer of message.buffers) {\n",
              "            buffers.push(buffer);\n",
              "            downloaded += buffer.byteLength;\n",
              "            progress.value = downloaded;\n",
              "          }\n",
              "        }\n",
              "      }\n",
              "      const blob = new Blob(buffers, {type: 'application/binary'});\n",
              "      const a = document.createElement('a');\n",
              "      a.href = window.URL.createObjectURL(blob);\n",
              "      a.download = filename;\n",
              "      div.appendChild(a);\n",
              "      a.click();\n",
              "      div.remove();\n",
              "    }\n",
              "  "
            ]
          },
          "metadata": {}
        },
        {
          "output_type": "display_data",
          "data": {
            "text/plain": [
              "<IPython.core.display.Javascript object>"
            ],
            "application/javascript": [
              "download(\"download_d42987eb-6cc7-4dbe-9983-95df06bff333\", \"evaluate.py\", 1401)"
            ]
          },
          "metadata": {}
        }
      ]
    },
    {
      "cell_type": "code",
      "metadata": {
        "id": "f61557ea"
      },
      "source": [
        "evaluate_code = \"\"\"\n",
        "import os\n",
        "import numpy as np\n",
        "import matplotlib.pyplot as plt\n",
        "from sklearn.metrics import classification_report, confusion_matrix, ConfusionMatrixDisplay\n",
        "from tensorflow.keras.models import load_model\n",
        "from tensorflow.keras.preprocessing.image import ImageDataGenerator\n",
        "\n",
        "# Set paths\n",
        "test_dir = 'dataset/Testing'\n",
        "model_path = 'best_transfer_model.h5'  # Or best_custom_cnn.h5\n",
        "\n",
        "# Load model\n",
        "model = load_model(model_path)\n",
        "\n",
        "# Image preprocessing\n",
        "IMG_SIZE = (224, 224)\n",
        "BATCH_SIZE = 32\n",
        "\n",
        "test_datagen = ImageDataGenerator(rescale=1./255)\n",
        "\n",
        "test_generator = test_datagen.flow_from_directory(\n",
        "    test_dir,\n",
        "    target_size=IMG_SIZE,\n",
        "    batch_size=BATCH_SIZE,\n",
        "    class_mode='categorical',\n",
        "    shuffle=False\n",
        ")\n",
        "\n",
        "# Evaluate model\n",
        "print(\"Evaluating model on test set...\")\n",
        "loss, accuracy = model.evaluate(test_generator)\n",
        "print(f\"\\nTest Accuracy: {accuracy*100:.2f}%\")\n",
        "\n",
        "# Predict on test set\n",
        "y_pred = model.predict(test_generator)\n",
        "y_pred_classes = np.argmax(y_pred, axis=1)\n",
        "y_true = test_generator.classes\n",
        "class_labels = list(test_generator.class_indices.keys())\n",
        "\n",
        "# Classification Report\n",
        "print(\"\\nClassification Report:\")\n",
        "print(classification_report(y_true, y_pred_classes, target_names=class_labels))\n",
        "\n",
        "# Confusion Matrix\n",
        "cm = confusion_matrix(y_true, y_pred_classes)\n",
        "disp = ConfusionMatrixDisplay(confusion_matrix=cm, display_labels=class_labels)\n",
        "disp.plot(cmap=plt.cm.Blues)\n",
        "plt.title(\"Confusion Matrix\")\n",
        "plt.show()\n",
        "\"\"\""
      ],
      "execution_count": 95,
      "outputs": []
    },
    {
      "cell_type": "code",
      "source": [
        "data_processing_code = '''import os\n",
        "from tensorflow.keras.preprocessing.image import ImageDataGenerator\n",
        "\n",
        "def load_data(data_dir, img_size=(150, 150), batch_size=32):\n",
        "    train_dir = os.path.join(data_dir, 'train')\n",
        "    val_dir = os.path.join(data_dir, 'val')\n",
        "    test_dir = os.path.join(data_dir, 'test')\n",
        "\n",
        "    # Data augmentation for training set\n",
        "    train_datagen = ImageDataGenerator(\n",
        "        rescale=1./255,\n",
        "        rotation_range=20,\n",
        "        width_shift_range=0.1,\n",
        "        height_shift_range=0.1,\n",
        "        shear_range=0.1,\n",
        "        zoom_range=0.2,\n",
        "        horizontal_flip=True,\n",
        "        fill_mode='nearest'\n",
        "    )\n",
        "\n",
        "    # Rescaling only for validation and test\n",
        "    val_test_datagen = ImageDataGenerator(rescale=1./255)\n",
        "\n",
        "    # Data loaders\n",
        "    train_generator = train_datagen.flow_from_directory(\n",
        "        train_dir,\n",
        "        target_size=img_size,\n",
        "        batch_size=batch_size,\n",
        "        class_mode='categorical'\n",
        "    )\n",
        "\n",
        "    val_generator = val_test_datagen.flow_from_directory(\n",
        "        val_dir,\n",
        "        target_size=img_size,\n",
        "        batch_size=batch_size,\n",
        "        class_mode='categorical'\n",
        "    )\n",
        "\n",
        "    test_generator = val_test_datagen.flow_from_directory(\n",
        "        test_dir,\n",
        "        target_size=img_size,\n",
        "        batch_size=batch_size,\n",
        "        class_mode='categorical',\n",
        "        shuffle=False\n",
        "    )\n",
        "\n",
        "    return train_generator, val_generator, test_generator\n",
        "'''\n",
        "\n",
        "# Save the code into a Python file\n",
        "with open(\"dataprocessing.py\", \"w\") as f:\n",
        "    f.write(data_processing_code)\n"
      ],
      "metadata": {
        "id": "sLLrQz5Rg3K-"
      },
      "execution_count": 102,
      "outputs": []
    },
    {
      "cell_type": "code",
      "source": [
        "from google.colab import files\n",
        "files.download('dataprocessing.py')\n"
      ],
      "metadata": {
        "colab": {
          "base_uri": "https://localhost:8080/",
          "height": 17
        },
        "id": "hTnL8WhDhFUn",
        "outputId": "12229e2e-6cf0-4c12-b1a3-bc306af29c0f"
      },
      "execution_count": 103,
      "outputs": [
        {
          "output_type": "display_data",
          "data": {
            "text/plain": [
              "<IPython.core.display.Javascript object>"
            ],
            "application/javascript": [
              "\n",
              "    async function download(id, filename, size) {\n",
              "      if (!google.colab.kernel.accessAllowed) {\n",
              "        return;\n",
              "      }\n",
              "      const div = document.createElement('div');\n",
              "      const label = document.createElement('label');\n",
              "      label.textContent = `Downloading \"${filename}\": `;\n",
              "      div.appendChild(label);\n",
              "      const progress = document.createElement('progress');\n",
              "      progress.max = size;\n",
              "      div.appendChild(progress);\n",
              "      document.body.appendChild(div);\n",
              "\n",
              "      const buffers = [];\n",
              "      let downloaded = 0;\n",
              "\n",
              "      const channel = await google.colab.kernel.comms.open(id);\n",
              "      // Send a message to notify the kernel that we're ready.\n",
              "      channel.send({})\n",
              "\n",
              "      for await (const message of channel.messages) {\n",
              "        // Send a message to notify the kernel that we're ready.\n",
              "        channel.send({})\n",
              "        if (message.buffers) {\n",
              "          for (const buffer of message.buffers) {\n",
              "            buffers.push(buffer);\n",
              "            downloaded += buffer.byteLength;\n",
              "            progress.value = downloaded;\n",
              "          }\n",
              "        }\n",
              "      }\n",
              "      const blob = new Blob(buffers, {type: 'application/binary'});\n",
              "      const a = document.createElement('a');\n",
              "      a.href = window.URL.createObjectURL(blob);\n",
              "      a.download = filename;\n",
              "      div.appendChild(a);\n",
              "      a.click();\n",
              "      div.remove();\n",
              "    }\n",
              "  "
            ]
          },
          "metadata": {}
        },
        {
          "output_type": "display_data",
          "data": {
            "text/plain": [
              "<IPython.core.display.Javascript object>"
            ],
            "application/javascript": [
              "download(\"download_cb207c1a-7aea-4a94-873f-cc2f44ac4b15\", \"dataprocessing.py\", 1323)"
            ]
          },
          "metadata": {}
        }
      ]
    },
    {
      "cell_type": "code",
      "source": [
        "pip install -r requirements.txt\n"
      ],
      "metadata": {
        "colab": {
          "base_uri": "https://localhost:8080/"
        },
        "id": "Fff0jUPvjM05",
        "outputId": "19bd403f-f289-4578-b9a2-3b811d7102b2"
      },
      "execution_count": 106,
      "outputs": [
        {
          "output_type": "stream",
          "name": "stdout",
          "text": [
            "Requirement already satisfied: streamlit in /usr/local/lib/python3.11/dist-packages (from -r requirements.txt (line 1)) (1.47.0)\n",
            "Requirement already satisfied: tensorflow in /usr/local/lib/python3.11/dist-packages (from -r requirements.txt (line 2)) (2.18.0)\n",
            "Requirement already satisfied: numpy in /usr/local/lib/python3.11/dist-packages (from -r requirements.txt (line 3)) (2.0.2)\n",
            "Requirement already satisfied: pillow in /usr/local/lib/python3.11/dist-packages (from -r requirements.txt (line 4)) (11.3.0)\n",
            "Requirement already satisfied: scikit-learn in /usr/local/lib/python3.11/dist-packages (from -r requirements.txt (line 5)) (1.6.1)\n",
            "Requirement already satisfied: matplotlib in /usr/local/lib/python3.11/dist-packages (from -r requirements.txt (line 6)) (3.10.0)\n",
            "Requirement already satisfied: altair<6,>=4.0 in /usr/local/lib/python3.11/dist-packages (from streamlit->-r requirements.txt (line 1)) (5.5.0)\n",
            "Requirement already satisfied: blinker<2,>=1.5.0 in /usr/local/lib/python3.11/dist-packages (from streamlit->-r requirements.txt (line 1)) (1.9.0)\n",
            "Requirement already satisfied: cachetools<7,>=4.0 in /usr/local/lib/python3.11/dist-packages (from streamlit->-r requirements.txt (line 1)) (5.5.2)\n",
            "Requirement already satisfied: click<9,>=7.0 in /usr/local/lib/python3.11/dist-packages (from streamlit->-r requirements.txt (line 1)) (8.2.1)\n",
            "Requirement already satisfied: packaging<26,>=20 in /usr/local/lib/python3.11/dist-packages (from streamlit->-r requirements.txt (line 1)) (25.0)\n",
            "Requirement already satisfied: pandas<3,>=1.4.0 in /usr/local/lib/python3.11/dist-packages (from streamlit->-r requirements.txt (line 1)) (2.2.2)\n",
            "Requirement already satisfied: protobuf<7,>=3.20 in /usr/local/lib/python3.11/dist-packages (from streamlit->-r requirements.txt (line 1)) (5.29.5)\n",
            "Requirement already satisfied: pyarrow>=7.0 in /usr/local/lib/python3.11/dist-packages (from streamlit->-r requirements.txt (line 1)) (18.1.0)\n",
            "Requirement already satisfied: requests<3,>=2.27 in /usr/local/lib/python3.11/dist-packages (from streamlit->-r requirements.txt (line 1)) (2.32.3)\n",
            "Requirement already satisfied: tenacity<10,>=8.1.0 in /usr/local/lib/python3.11/dist-packages (from streamlit->-r requirements.txt (line 1)) (8.5.0)\n",
            "Requirement already satisfied: toml<2,>=0.10.1 in /usr/local/lib/python3.11/dist-packages (from streamlit->-r requirements.txt (line 1)) (0.10.2)\n",
            "Requirement already satisfied: typing-extensions<5,>=4.4.0 in /usr/local/lib/python3.11/dist-packages (from streamlit->-r requirements.txt (line 1)) (4.14.1)\n",
            "Requirement already satisfied: watchdog<7,>=2.1.5 in /usr/local/lib/python3.11/dist-packages (from streamlit->-r requirements.txt (line 1)) (6.0.0)\n",
            "Requirement already satisfied: gitpython!=3.1.19,<4,>=3.0.7 in /usr/local/lib/python3.11/dist-packages (from streamlit->-r requirements.txt (line 1)) (3.1.44)\n",
            "Requirement already satisfied: pydeck<1,>=0.8.0b4 in /usr/local/lib/python3.11/dist-packages (from streamlit->-r requirements.txt (line 1)) (0.9.1)\n",
            "Requirement already satisfied: tornado!=6.5.0,<7,>=6.0.3 in /usr/local/lib/python3.11/dist-packages (from streamlit->-r requirements.txt (line 1)) (6.4.2)\n",
            "Requirement already satisfied: absl-py>=1.0.0 in /usr/local/lib/python3.11/dist-packages (from tensorflow->-r requirements.txt (line 2)) (1.4.0)\n",
            "Requirement already satisfied: astunparse>=1.6.0 in /usr/local/lib/python3.11/dist-packages (from tensorflow->-r requirements.txt (line 2)) (1.6.3)\n",
            "Requirement already satisfied: flatbuffers>=24.3.25 in /usr/local/lib/python3.11/dist-packages (from tensorflow->-r requirements.txt (line 2)) (25.2.10)\n",
            "Requirement already satisfied: gast!=0.5.0,!=0.5.1,!=0.5.2,>=0.2.1 in /usr/local/lib/python3.11/dist-packages (from tensorflow->-r requirements.txt (line 2)) (0.6.0)\n",
            "Requirement already satisfied: google-pasta>=0.1.1 in /usr/local/lib/python3.11/dist-packages (from tensorflow->-r requirements.txt (line 2)) (0.2.0)\n",
            "Requirement already satisfied: libclang>=13.0.0 in /usr/local/lib/python3.11/dist-packages (from tensorflow->-r requirements.txt (line 2)) (18.1.1)\n",
            "Requirement already satisfied: opt-einsum>=2.3.2 in /usr/local/lib/python3.11/dist-packages (from tensorflow->-r requirements.txt (line 2)) (3.4.0)\n",
            "Requirement already satisfied: setuptools in /usr/local/lib/python3.11/dist-packages (from tensorflow->-r requirements.txt (line 2)) (75.2.0)\n",
            "Requirement already satisfied: six>=1.12.0 in /usr/local/lib/python3.11/dist-packages (from tensorflow->-r requirements.txt (line 2)) (1.17.0)\n",
            "Requirement already satisfied: termcolor>=1.1.0 in /usr/local/lib/python3.11/dist-packages (from tensorflow->-r requirements.txt (line 2)) (3.1.0)\n",
            "Requirement already satisfied: wrapt>=1.11.0 in /usr/local/lib/python3.11/dist-packages (from tensorflow->-r requirements.txt (line 2)) (1.17.2)\n",
            "Requirement already satisfied: grpcio<2.0,>=1.24.3 in /usr/local/lib/python3.11/dist-packages (from tensorflow->-r requirements.txt (line 2)) (1.73.1)\n",
            "Requirement already satisfied: tensorboard<2.19,>=2.18 in /usr/local/lib/python3.11/dist-packages (from tensorflow->-r requirements.txt (line 2)) (2.18.0)\n",
            "Requirement already satisfied: keras>=3.5.0 in /usr/local/lib/python3.11/dist-packages (from tensorflow->-r requirements.txt (line 2)) (3.8.0)\n",
            "Requirement already satisfied: h5py>=3.11.0 in /usr/local/lib/python3.11/dist-packages (from tensorflow->-r requirements.txt (line 2)) (3.14.0)\n",
            "Requirement already satisfied: ml-dtypes<0.5.0,>=0.4.0 in /usr/local/lib/python3.11/dist-packages (from tensorflow->-r requirements.txt (line 2)) (0.4.1)\n",
            "Requirement already satisfied: tensorflow-io-gcs-filesystem>=0.23.1 in /usr/local/lib/python3.11/dist-packages (from tensorflow->-r requirements.txt (line 2)) (0.37.1)\n",
            "Requirement already satisfied: scipy>=1.6.0 in /usr/local/lib/python3.11/dist-packages (from scikit-learn->-r requirements.txt (line 5)) (1.16.0)\n",
            "Requirement already satisfied: joblib>=1.2.0 in /usr/local/lib/python3.11/dist-packages (from scikit-learn->-r requirements.txt (line 5)) (1.5.1)\n",
            "Requirement already satisfied: threadpoolctl>=3.1.0 in /usr/local/lib/python3.11/dist-packages (from scikit-learn->-r requirements.txt (line 5)) (3.6.0)\n",
            "Requirement already satisfied: contourpy>=1.0.1 in /usr/local/lib/python3.11/dist-packages (from matplotlib->-r requirements.txt (line 6)) (1.3.2)\n",
            "Requirement already satisfied: cycler>=0.10 in /usr/local/lib/python3.11/dist-packages (from matplotlib->-r requirements.txt (line 6)) (0.12.1)\n",
            "Requirement already satisfied: fonttools>=4.22.0 in /usr/local/lib/python3.11/dist-packages (from matplotlib->-r requirements.txt (line 6)) (4.59.0)\n",
            "Requirement already satisfied: kiwisolver>=1.3.1 in /usr/local/lib/python3.11/dist-packages (from matplotlib->-r requirements.txt (line 6)) (1.4.8)\n",
            "Requirement already satisfied: pyparsing>=2.3.1 in /usr/local/lib/python3.11/dist-packages (from matplotlib->-r requirements.txt (line 6)) (3.2.3)\n",
            "Requirement already satisfied: python-dateutil>=2.7 in /usr/local/lib/python3.11/dist-packages (from matplotlib->-r requirements.txt (line 6)) (2.9.0.post0)\n",
            "Requirement already satisfied: jinja2 in /usr/local/lib/python3.11/dist-packages (from altair<6,>=4.0->streamlit->-r requirements.txt (line 1)) (3.1.6)\n",
            "Requirement already satisfied: jsonschema>=3.0 in /usr/local/lib/python3.11/dist-packages (from altair<6,>=4.0->streamlit->-r requirements.txt (line 1)) (4.25.0)\n",
            "Requirement already satisfied: narwhals>=1.14.2 in /usr/local/lib/python3.11/dist-packages (from altair<6,>=4.0->streamlit->-r requirements.txt (line 1)) (1.48.0)\n",
            "Requirement already satisfied: wheel<1.0,>=0.23.0 in /usr/local/lib/python3.11/dist-packages (from astunparse>=1.6.0->tensorflow->-r requirements.txt (line 2)) (0.45.1)\n",
            "Requirement already satisfied: gitdb<5,>=4.0.1 in /usr/local/lib/python3.11/dist-packages (from gitpython!=3.1.19,<4,>=3.0.7->streamlit->-r requirements.txt (line 1)) (4.0.12)\n",
            "Requirement already satisfied: rich in /usr/local/lib/python3.11/dist-packages (from keras>=3.5.0->tensorflow->-r requirements.txt (line 2)) (13.9.4)\n",
            "Requirement already satisfied: namex in /usr/local/lib/python3.11/dist-packages (from keras>=3.5.0->tensorflow->-r requirements.txt (line 2)) (0.1.0)\n",
            "Requirement already satisfied: optree in /usr/local/lib/python3.11/dist-packages (from keras>=3.5.0->tensorflow->-r requirements.txt (line 2)) (0.16.0)\n",
            "Requirement already satisfied: pytz>=2020.1 in /usr/local/lib/python3.11/dist-packages (from pandas<3,>=1.4.0->streamlit->-r requirements.txt (line 1)) (2025.2)\n",
            "Requirement already satisfied: tzdata>=2022.7 in /usr/local/lib/python3.11/dist-packages (from pandas<3,>=1.4.0->streamlit->-r requirements.txt (line 1)) (2025.2)\n",
            "Requirement already satisfied: charset-normalizer<4,>=2 in /usr/local/lib/python3.11/dist-packages (from requests<3,>=2.27->streamlit->-r requirements.txt (line 1)) (3.4.2)\n",
            "Requirement already satisfied: idna<4,>=2.5 in /usr/local/lib/python3.11/dist-packages (from requests<3,>=2.27->streamlit->-r requirements.txt (line 1)) (3.10)\n",
            "Requirement already satisfied: urllib3<3,>=1.21.1 in /usr/local/lib/python3.11/dist-packages (from requests<3,>=2.27->streamlit->-r requirements.txt (line 1)) (2.5.0)\n",
            "Requirement already satisfied: certifi>=2017.4.17 in /usr/local/lib/python3.11/dist-packages (from requests<3,>=2.27->streamlit->-r requirements.txt (line 1)) (2025.7.14)\n",
            "Requirement already satisfied: markdown>=2.6.8 in /usr/local/lib/python3.11/dist-packages (from tensorboard<2.19,>=2.18->tensorflow->-r requirements.txt (line 2)) (3.8.2)\n",
            "Requirement already satisfied: tensorboard-data-server<0.8.0,>=0.7.0 in /usr/local/lib/python3.11/dist-packages (from tensorboard<2.19,>=2.18->tensorflow->-r requirements.txt (line 2)) (0.7.2)\n",
            "Requirement already satisfied: werkzeug>=1.0.1 in /usr/local/lib/python3.11/dist-packages (from tensorboard<2.19,>=2.18->tensorflow->-r requirements.txt (line 2)) (3.1.3)\n",
            "Requirement already satisfied: smmap<6,>=3.0.1 in /usr/local/lib/python3.11/dist-packages (from gitdb<5,>=4.0.1->gitpython!=3.1.19,<4,>=3.0.7->streamlit->-r requirements.txt (line 1)) (5.0.2)\n",
            "Requirement already satisfied: MarkupSafe>=2.0 in /usr/local/lib/python3.11/dist-packages (from jinja2->altair<6,>=4.0->streamlit->-r requirements.txt (line 1)) (3.0.2)\n",
            "Requirement already satisfied: attrs>=22.2.0 in /usr/local/lib/python3.11/dist-packages (from jsonschema>=3.0->altair<6,>=4.0->streamlit->-r requirements.txt (line 1)) (25.3.0)\n",
            "Requirement already satisfied: jsonschema-specifications>=2023.03.6 in /usr/local/lib/python3.11/dist-packages (from jsonschema>=3.0->altair<6,>=4.0->streamlit->-r requirements.txt (line 1)) (2025.4.1)\n",
            "Requirement already satisfied: referencing>=0.28.4 in /usr/local/lib/python3.11/dist-packages (from jsonschema>=3.0->altair<6,>=4.0->streamlit->-r requirements.txt (line 1)) (0.36.2)\n",
            "Requirement already satisfied: rpds-py>=0.7.1 in /usr/local/lib/python3.11/dist-packages (from jsonschema>=3.0->altair<6,>=4.0->streamlit->-r requirements.txt (line 1)) (0.26.0)\n",
            "Requirement already satisfied: markdown-it-py>=2.2.0 in /usr/local/lib/python3.11/dist-packages (from rich->keras>=3.5.0->tensorflow->-r requirements.txt (line 2)) (3.0.0)\n",
            "Requirement already satisfied: pygments<3.0.0,>=2.13.0 in /usr/local/lib/python3.11/dist-packages (from rich->keras>=3.5.0->tensorflow->-r requirements.txt (line 2)) (2.19.2)\n",
            "Requirement already satisfied: mdurl~=0.1 in /usr/local/lib/python3.11/dist-packages (from markdown-it-py>=2.2.0->rich->keras>=3.5.0->tensorflow->-r requirements.txt (line 2)) (0.1.2)\n"
          ]
        }
      ]
    },
    {
      "cell_type": "code",
      "source": [
        "requirements = \"\"\"\n",
        "streamlit\n",
        "tensorflow\n",
        "numpy\n",
        "pillow\n",
        "scikit-learn\n",
        "matplotlib\n",
        "\"\"\"\n",
        "\n",
        "with open(\"requirements.txt\", \"w\") as f:\n",
        "    f.write(requirements.strip())\n"
      ],
      "metadata": {
        "id": "4u9_AFozkCwq"
      },
      "execution_count": 108,
      "outputs": []
    },
    {
      "cell_type": "code",
      "source": [
        "from google.colab import files\n",
        "files.download(\"requirements.txt\")\n"
      ],
      "metadata": {
        "colab": {
          "base_uri": "https://localhost:8080/",
          "height": 17
        },
        "id": "2sm1Didehzi8",
        "outputId": "b4424568-ba28-4d1d-964f-ee817b2b1613"
      },
      "execution_count": 109,
      "outputs": [
        {
          "output_type": "display_data",
          "data": {
            "text/plain": [
              "<IPython.core.display.Javascript object>"
            ],
            "application/javascript": [
              "\n",
              "    async function download(id, filename, size) {\n",
              "      if (!google.colab.kernel.accessAllowed) {\n",
              "        return;\n",
              "      }\n",
              "      const div = document.createElement('div');\n",
              "      const label = document.createElement('label');\n",
              "      label.textContent = `Downloading \"${filename}\": `;\n",
              "      div.appendChild(label);\n",
              "      const progress = document.createElement('progress');\n",
              "      progress.max = size;\n",
              "      div.appendChild(progress);\n",
              "      document.body.appendChild(div);\n",
              "\n",
              "      const buffers = [];\n",
              "      let downloaded = 0;\n",
              "\n",
              "      const channel = await google.colab.kernel.comms.open(id);\n",
              "      // Send a message to notify the kernel that we're ready.\n",
              "      channel.send({})\n",
              "\n",
              "      for await (const message of channel.messages) {\n",
              "        // Send a message to notify the kernel that we're ready.\n",
              "        channel.send({})\n",
              "        if (message.buffers) {\n",
              "          for (const buffer of message.buffers) {\n",
              "            buffers.push(buffer);\n",
              "            downloaded += buffer.byteLength;\n",
              "            progress.value = downloaded;\n",
              "          }\n",
              "        }\n",
              "      }\n",
              "      const blob = new Blob(buffers, {type: 'application/binary'});\n",
              "      const a = document.createElement('a');\n",
              "      a.href = window.URL.createObjectURL(blob);\n",
              "      a.download = filename;\n",
              "      div.appendChild(a);\n",
              "      a.click();\n",
              "      div.remove();\n",
              "    }\n",
              "  "
            ]
          },
          "metadata": {}
        },
        {
          "output_type": "display_data",
          "data": {
            "text/plain": [
              "<IPython.core.display.Javascript object>"
            ],
            "application/javascript": [
              "download(\"download_38d3eade-8291-4289-9675-194cc73dd481\", \"requirements.txt\", 57)"
            ]
          },
          "metadata": {}
        }
      ]
    },
    {
      "cell_type": "code",
      "source": [
        "files.download('//content/brain_tumor_project/models/best_custom_cnn.h5')\n",
        "\n"
      ],
      "metadata": {
        "colab": {
          "base_uri": "https://localhost:8080/",
          "height": 17
        },
        "id": "ncxOUEepljwU",
        "outputId": "a81b8711-0a0a-417c-d454-369ae32252b7"
      },
      "execution_count": 112,
      "outputs": [
        {
          "output_type": "display_data",
          "data": {
            "text/plain": [
              "<IPython.core.display.Javascript object>"
            ],
            "application/javascript": [
              "\n",
              "    async function download(id, filename, size) {\n",
              "      if (!google.colab.kernel.accessAllowed) {\n",
              "        return;\n",
              "      }\n",
              "      const div = document.createElement('div');\n",
              "      const label = document.createElement('label');\n",
              "      label.textContent = `Downloading \"${filename}\": `;\n",
              "      div.appendChild(label);\n",
              "      const progress = document.createElement('progress');\n",
              "      progress.max = size;\n",
              "      div.appendChild(progress);\n",
              "      document.body.appendChild(div);\n",
              "\n",
              "      const buffers = [];\n",
              "      let downloaded = 0;\n",
              "\n",
              "      const channel = await google.colab.kernel.comms.open(id);\n",
              "      // Send a message to notify the kernel that we're ready.\n",
              "      channel.send({})\n",
              "\n",
              "      for await (const message of channel.messages) {\n",
              "        // Send a message to notify the kernel that we're ready.\n",
              "        channel.send({})\n",
              "        if (message.buffers) {\n",
              "          for (const buffer of message.buffers) {\n",
              "            buffers.push(buffer);\n",
              "            downloaded += buffer.byteLength;\n",
              "            progress.value = downloaded;\n",
              "          }\n",
              "        }\n",
              "      }\n",
              "      const blob = new Blob(buffers, {type: 'application/binary'});\n",
              "      const a = document.createElement('a');\n",
              "      a.href = window.URL.createObjectURL(blob);\n",
              "      a.download = filename;\n",
              "      div.appendChild(a);\n",
              "      a.click();\n",
              "      div.remove();\n",
              "    }\n",
              "  "
            ]
          },
          "metadata": {}
        },
        {
          "output_type": "display_data",
          "data": {
            "text/plain": [
              "<IPython.core.display.Javascript object>"
            ],
            "application/javascript": [
              "download(\"download_07f20323-4b6d-46c9-80f9-f9e5269aee85\", \"best_custom_cnn.h5\", 134117160)"
            ]
          },
          "metadata": {}
        }
      ]
    },
    {
      "cell_type": "code",
      "source": [
        "model.save('best_custom_cnn.h5')\n"
      ],
      "metadata": {
        "colab": {
          "base_uri": "https://localhost:8080/"
        },
        "id": "sKIPjbQ5l_Y5",
        "outputId": "47c8a1f0-a787-482b-f8b8-d90339e3ad88"
      },
      "execution_count": 113,
      "outputs": [
        {
          "output_type": "stream",
          "name": "stderr",
          "text": [
            "WARNING:absl:You are saving your model as an HDF5 file via `model.save()` or `keras.saving.save_model(model)`. This file format is considered legacy. We recommend using instead the native Keras format, e.g. `model.save('my_model.keras')` or `keras.saving.save_model(model, 'my_model.keras')`. \n"
          ]
        }
      ]
    },
    {
      "cell_type": "code",
      "source": [
        "files.download('best_custom_cnn.h5')\n"
      ],
      "metadata": {
        "colab": {
          "base_uri": "https://localhost:8080/",
          "height": 17
        },
        "id": "CAwgcjNlmCUf",
        "outputId": "1619dd83-c454-41d1-fb90-04c9d9c787d9"
      },
      "execution_count": 114,
      "outputs": [
        {
          "output_type": "display_data",
          "data": {
            "text/plain": [
              "<IPython.core.display.Javascript object>"
            ],
            "application/javascript": [
              "\n",
              "    async function download(id, filename, size) {\n",
              "      if (!google.colab.kernel.accessAllowed) {\n",
              "        return;\n",
              "      }\n",
              "      const div = document.createElement('div');\n",
              "      const label = document.createElement('label');\n",
              "      label.textContent = `Downloading \"${filename}\": `;\n",
              "      div.appendChild(label);\n",
              "      const progress = document.createElement('progress');\n",
              "      progress.max = size;\n",
              "      div.appendChild(progress);\n",
              "      document.body.appendChild(div);\n",
              "\n",
              "      const buffers = [];\n",
              "      let downloaded = 0;\n",
              "\n",
              "      const channel = await google.colab.kernel.comms.open(id);\n",
              "      // Send a message to notify the kernel that we're ready.\n",
              "      channel.send({})\n",
              "\n",
              "      for await (const message of channel.messages) {\n",
              "        // Send a message to notify the kernel that we're ready.\n",
              "        channel.send({})\n",
              "        if (message.buffers) {\n",
              "          for (const buffer of message.buffers) {\n",
              "            buffers.push(buffer);\n",
              "            downloaded += buffer.byteLength;\n",
              "            progress.value = downloaded;\n",
              "          }\n",
              "        }\n",
              "      }\n",
              "      const blob = new Blob(buffers, {type: 'application/binary'});\n",
              "      const a = document.createElement('a');\n",
              "      a.href = window.URL.createObjectURL(blob);\n",
              "      a.download = filename;\n",
              "      div.appendChild(a);\n",
              "      a.click();\n",
              "      div.remove();\n",
              "    }\n",
              "  "
            ]
          },
          "metadata": {}
        },
        {
          "output_type": "display_data",
          "data": {
            "text/plain": [
              "<IPython.core.display.Javascript object>"
            ],
            "application/javascript": [
              "download(\"download_29692310-931c-4692-a18b-3ad12931fab9\", \"best_custom_cnn.h5\", 9588096)"
            ]
          },
          "metadata": {}
        }
      ]
    },
    {
      "cell_type": "code",
      "source": [
        "from tensorflow.keras.models import load_model\n",
        "\n",
        "model = load_model('best_custom_cnn.h5')\n"
      ],
      "metadata": {
        "colab": {
          "base_uri": "https://localhost:8080/"
        },
        "id": "GRpijliDnvsK",
        "outputId": "6d36b877-25b4-4858-b9c4-dda0808190e2"
      },
      "execution_count": 115,
      "outputs": [
        {
          "output_type": "stream",
          "name": "stderr",
          "text": [
            "WARNING:absl:Compiled the loaded model, but the compiled metrics have yet to be built. `model.compile_metrics` will be empty until you train or evaluate the model.\n"
          ]
        }
      ]
    }
  ]
}